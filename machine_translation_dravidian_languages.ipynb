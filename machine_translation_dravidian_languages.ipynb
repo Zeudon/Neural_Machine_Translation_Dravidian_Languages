{
  "cells": [
    {
      "cell_type": "markdown",
      "metadata": {
        "collapsed": true,
        "id": "cevHiTXA8mD5"
      },
      "source": [
        "\n",
        "## Neural Machine Translation Project\n"
      ]
    },
    {
      "cell_type": "code",
      "execution_count": null,
      "metadata": {
        "colab": {
          "base_uri": "https://localhost:8080/"
        },
        "id": "unZt43eS8mEG",
        "outputId": "d0289c12-7a5b-4791-b223-e66adb236025"
      },
      "outputs": [
        {
          "output_type": "stream",
          "name": "stdout",
          "text": [
            "Collecting indic-nlp-library\n",
            "  Downloading indic_nlp_library-0.81-py3-none-any.whl (40 kB)\n",
            "\u001b[?25l\r\u001b[K     |████████▏                       | 10 kB 26.4 MB/s eta 0:00:01\r\u001b[K     |████████████████▍               | 20 kB 30.8 MB/s eta 0:00:01\r\u001b[K     |████████████████████████▌       | 30 kB 36.1 MB/s eta 0:00:01\r\u001b[K     |████████████████████████████████| 40 kB 5.0 MB/s \n",
            "\u001b[?25hCollecting morfessor\n",
            "  Downloading Morfessor-2.0.6-py3-none-any.whl (35 kB)\n",
            "Requirement already satisfied: numpy in /usr/local/lib/python3.7/dist-packages (from indic-nlp-library) (1.19.5)\n",
            "Collecting sphinx-argparse\n",
            "  Downloading sphinx_argparse-0.3.1-py2.py3-none-any.whl (12 kB)\n",
            "Requirement already satisfied: pandas in /usr/local/lib/python3.7/dist-packages (from indic-nlp-library) (1.3.5)\n",
            "Collecting sphinx-rtd-theme\n",
            "  Downloading sphinx_rtd_theme-1.0.0-py2.py3-none-any.whl (2.8 MB)\n",
            "\u001b[K     |████████████████████████████████| 2.8 MB 55.9 MB/s \n",
            "\u001b[?25hRequirement already satisfied: python-dateutil>=2.7.3 in /usr/local/lib/python3.7/dist-packages (from pandas->indic-nlp-library) (2.8.2)\n",
            "Requirement already satisfied: pytz>=2017.3 in /usr/local/lib/python3.7/dist-packages (from pandas->indic-nlp-library) (2018.9)\n",
            "Requirement already satisfied: six>=1.5 in /usr/local/lib/python3.7/dist-packages (from python-dateutil>=2.7.3->pandas->indic-nlp-library) (1.15.0)\n",
            "Requirement already satisfied: sphinx>=1.2.0 in /usr/local/lib/python3.7/dist-packages (from sphinx-argparse->indic-nlp-library) (1.8.6)\n",
            "Requirement already satisfied: Jinja2>=2.3 in /usr/local/lib/python3.7/dist-packages (from sphinx>=1.2.0->sphinx-argparse->indic-nlp-library) (2.11.3)\n",
            "Requirement already satisfied: setuptools in /usr/local/lib/python3.7/dist-packages (from sphinx>=1.2.0->sphinx-argparse->indic-nlp-library) (57.4.0)\n",
            "Requirement already satisfied: snowballstemmer>=1.1 in /usr/local/lib/python3.7/dist-packages (from sphinx>=1.2.0->sphinx-argparse->indic-nlp-library) (2.2.0)\n",
            "Requirement already satisfied: alabaster<0.8,>=0.7 in /usr/local/lib/python3.7/dist-packages (from sphinx>=1.2.0->sphinx-argparse->indic-nlp-library) (0.7.12)\n",
            "Requirement already satisfied: babel!=2.0,>=1.3 in /usr/local/lib/python3.7/dist-packages (from sphinx>=1.2.0->sphinx-argparse->indic-nlp-library) (2.9.1)\n",
            "Requirement already satisfied: imagesize in /usr/local/lib/python3.7/dist-packages (from sphinx>=1.2.0->sphinx-argparse->indic-nlp-library) (1.3.0)\n",
            "Requirement already satisfied: sphinxcontrib-websupport in /usr/local/lib/python3.7/dist-packages (from sphinx>=1.2.0->sphinx-argparse->indic-nlp-library) (1.2.4)\n",
            "Requirement already satisfied: requests>=2.0.0 in /usr/local/lib/python3.7/dist-packages (from sphinx>=1.2.0->sphinx-argparse->indic-nlp-library) (2.23.0)\n",
            "Requirement already satisfied: Pygments>=2.0 in /usr/local/lib/python3.7/dist-packages (from sphinx>=1.2.0->sphinx-argparse->indic-nlp-library) (2.6.1)\n",
            "Requirement already satisfied: docutils<0.18,>=0.11 in /usr/local/lib/python3.7/dist-packages (from sphinx>=1.2.0->sphinx-argparse->indic-nlp-library) (0.17.1)\n",
            "Requirement already satisfied: packaging in /usr/local/lib/python3.7/dist-packages (from sphinx>=1.2.0->sphinx-argparse->indic-nlp-library) (21.3)\n",
            "Requirement already satisfied: MarkupSafe>=0.23 in /usr/local/lib/python3.7/dist-packages (from Jinja2>=2.3->sphinx>=1.2.0->sphinx-argparse->indic-nlp-library) (2.0.1)\n",
            "Requirement already satisfied: urllib3!=1.25.0,!=1.25.1,<1.26,>=1.21.1 in /usr/local/lib/python3.7/dist-packages (from requests>=2.0.0->sphinx>=1.2.0->sphinx-argparse->indic-nlp-library) (1.24.3)\n",
            "Requirement already satisfied: certifi>=2017.4.17 in /usr/local/lib/python3.7/dist-packages (from requests>=2.0.0->sphinx>=1.2.0->sphinx-argparse->indic-nlp-library) (2021.10.8)\n",
            "Requirement already satisfied: idna<3,>=2.5 in /usr/local/lib/python3.7/dist-packages (from requests>=2.0.0->sphinx>=1.2.0->sphinx-argparse->indic-nlp-library) (2.10)\n",
            "Requirement already satisfied: chardet<4,>=3.0.2 in /usr/local/lib/python3.7/dist-packages (from requests>=2.0.0->sphinx>=1.2.0->sphinx-argparse->indic-nlp-library) (3.0.4)\n",
            "Requirement already satisfied: pyparsing!=3.0.5,>=2.0.2 in /usr/local/lib/python3.7/dist-packages (from packaging->sphinx>=1.2.0->sphinx-argparse->indic-nlp-library) (3.0.7)\n",
            "Requirement already satisfied: sphinxcontrib-serializinghtml in /usr/local/lib/python3.7/dist-packages (from sphinxcontrib-websupport->sphinx>=1.2.0->sphinx-argparse->indic-nlp-library) (1.1.5)\n",
            "Installing collected packages: sphinx-rtd-theme, sphinx-argparse, morfessor, indic-nlp-library\n",
            "Successfully installed indic-nlp-library-0.81 morfessor-2.0.6 sphinx-argparse-0.3.1 sphinx-rtd-theme-1.0.0\n"
          ]
        }
      ],
      "source": [
        "import collections\n",
        "\n",
        "import helper\n",
        "import numpy as np\n",
        "import pandas as pd\n",
        "\n",
        "!pip install indic-nlp-library\n",
        "import indicnlp\n",
        "#from indicnlp.tokenize import indic_tokenize\n",
        "from indicnlp.normalize.indic_normalize import IndicNormalizerFactory\n",
        "\n",
        "import tensorflow\n",
        "from tensorflow.keras.optimizers import Adam\n",
        "\n",
        "from keras.preprocessing.text import Tokenizer\n",
        "from keras.preprocessing.sequence import pad_sequences\n",
        "from keras.models import Model, Sequential\n",
        "from keras.layers import GRU, Input, Dense, TimeDistributed, Activation, RepeatVector, Bidirectional, LSTM, Dropout\n",
        "from keras.layers.embeddings import Embedding\n",
        "#from keras.optimizers import Adam\n",
        "\n",
        "from keras.losses import sparse_categorical_crossentropy"
      ]
    },
    {
      "cell_type": "markdown",
      "metadata": {
        "id": "ER4mtc9O8mEK"
      },
      "source": [
        "### Verify access to the GPU\n"
      ]
    },
    {
      "cell_type": "code",
      "execution_count": null,
      "metadata": {
        "colab": {
          "base_uri": "https://localhost:8080/"
        },
        "id": "fXKJ9OCW8mEM",
        "outputId": "69808014-70e1-4980-ad1a-830e179817cd"
      },
      "outputs": [
        {
          "output_type": "stream",
          "name": "stdout",
          "text": [
            "[name: \"/device:CPU:0\"\n",
            "device_type: \"CPU\"\n",
            "memory_limit: 268435456\n",
            "locality {\n",
            "}\n",
            "incarnation: 8064935868162142763\n",
            "xla_global_id: -1\n",
            "]\n"
          ]
        }
      ],
      "source": [
        "from tensorflow.python.client import device_lib\n",
        "print(device_lib.list_local_devices())"
      ]
    },
    {
      "cell_type": "code",
      "source": [
        "from google.colab import drive\n",
        "drive.mount('/content/drive')"
      ],
      "metadata": {
        "colab": {
          "base_uri": "https://localhost:8080/"
        },
        "id": "M5DsysJN1HDK",
        "outputId": "8e3cd15b-8831-4432-9953-f14790fca252"
      },
      "execution_count": null,
      "outputs": [
        {
          "output_type": "stream",
          "name": "stdout",
          "text": [
            "Mounted at /content/drive\n"
          ]
        }
      ]
    },
    {
      "cell_type": "markdown",
      "metadata": {
        "id": "-FU6PdtY8mEN"
      },
      "source": [
        ".\n",
        "### Load Data\n"
      ]
    },
    {
      "cell_type": "code",
      "execution_count": null,
      "metadata": {
        "colab": {
          "base_uri": "https://localhost:8080/"
        },
        "id": "Zzugkxur8mER",
        "outputId": "d9256ec3-88aa-4626-b73d-faa8323ae877"
      },
      "outputs": [
        {
          "output_type": "stream",
          "name": "stdout",
          "text": [
            "Dataset Loaded\n"
          ]
        }
      ],
      "source": [
        "\n",
        "#kannada_sentences = np.loadtxt('kn_tr.txt',dtype=str)\n",
        "#kannada_sentences = pd.read_csv('kn_tr.txt', sep = '\\n')\n",
        "import string\n",
        "import re\n",
        "input_lang = open('/content/drive/MyDrive/Datasets/Kannada-Sanskrit/train/kn_tr.txt')\n",
        "input_language_sent = []\n",
        "for x in input_lang:\n",
        "  x = re.sub(r'\\n',' ',x)\n",
        "  input_language_sent.append(re.sub(r'[^\\w\\s]', '', x))\n",
        "\n",
        "\n",
        "#sanskrit_sentences = pd.read_csv('sn_train.txt')\n",
        "target_lang=open('/content/drive/MyDrive/Datasets/Kannada-Sanskrit/train/sn_train.txt')\n",
        "target_language_sent=[]\n",
        "for x in target_lang:\n",
        "  x = re.sub(r'\\n', ' ', x)\n",
        "  target_language_sent.append(re.sub(r'[^\\w\\s]', '', x))\n",
        "\n",
        "print('Dataset Loaded')"
      ]
    },
    {
      "cell_type": "code",
      "execution_count": null,
      "metadata": {
        "colab": {
          "base_uri": "https://localhost:8080/"
        },
        "id": "clXapMKh8mEW",
        "outputId": "64ca90d8-9810-4e2b-d16f-824673c8daa5"
      },
      "outputs": [
        {
          "output_type": "stream",
          "name": "stdout",
          "text": [
            "35046 Kannada words.\n",
            "6395 unique kannada words.\n",
            "10 Most common words in the Kannada dataset:\n",
            "\"ಮಡತತನ\" \"ನವ\" \"ಹರಗ\" \"ಈ\" \"ಇದ\" \"ಅವನನನ\" \"ಉತತಮ\" \"ನನ\" \"ಅವನ\" \"ನಡಯತತದದನ\"\n",
            "\n",
            "36996 Sanskrit words.\n",
            "5579 unique Sanskrit words.\n",
            "10 Most common words in the Sanskrit dataset:\n",
            "\"करत\" \"असत\" \"न\" \"बह\" \"समयक\" \"तम\" \"भवत\" \"वसतरम\" \"इत\" \"मम\"\n"
          ]
        }
      ],
      "source": [
        "input_language_words_counter = collections.Counter([word for sentence in input_language_sent for word in sentence.split()])\n",
        "target_language_words_counter = collections.Counter([word for sentence in target_language_sent for word in sentence.split()])\n",
        "\n",
        "print('{} Kannada words.'.format(len([word for sentence in input_language_sent for word in sentence.split()])))\n",
        "print('{} unique kannada words.'.format(len(input_language_words_counter)))\n",
        "print('10 Most common words in the Kannada dataset:')\n",
        "print('\"' + '\" \"'.join(list(zip(*input_language_words_counter.most_common(10)))[0]) + '\"')\n",
        "print()\n",
        "print('{} Sanskrit words.'.format(len([word for sentence in target_language_sent for word in sentence.split()])))\n",
        "print('{} unique Sanskrit words.'.format(len(target_language_words_counter)))\n",
        "print('10 Most common words in the Sanskrit dataset:')\n",
        "print('\"' + '\" \"'.join(list(zip(*target_language_words_counter.most_common(10)))[0]) + '\"')"
      ]
    },
    {
      "cell_type": "code",
      "source": [
        "from indicnlp.tokenize import indic_tokenize\n",
        "indic_string='सुनो, कुछ आवाज़ आ रही है। फोन?'\n",
        "\n",
        "print('Input String: {}'.format(indic_string))\n",
        "print('Tokens: ')\n",
        "for t in indic_tokenize.trivial_tokenize(indic_string):\n",
        "    print(t)"
      ],
      "metadata": {
        "colab": {
          "base_uri": "https://localhost:8080/"
        },
        "id": "D2K54q9rbbHq",
        "outputId": "e59c157d-d1cb-4cb0-f76b-1f4b68d22bde"
      },
      "execution_count": null,
      "outputs": [
        {
          "output_type": "stream",
          "name": "stdout",
          "text": [
            "Input String: सुनो, कुछ आवाज़ आ रही है। फोन?\n",
            "Tokens: \n",
            "सुनो\n",
            ",\n",
            "कुछ\n",
            "आवाज़\n",
            "आ\n",
            "रही\n",
            "है\n",
            "।\n",
            "फोन\n",
            "?\n"
          ]
        }
      ]
    },
    {
      "cell_type": "markdown",
      "metadata": {
        "id": "IzVa6EpQ8mEX"
      },
      "source": [
        "\n",
        "## Preprocess\n",
        "Converting the text into sequences of integers using the following preprocess methods:\n",
        "1. Tokenize the words into ids\n",
        "2. Add padding to make all the sequences the same length.\n",
        "\n",
        "### Tokenize\n",
        "We can turn each character into a number or each word into a number.  These are called character and word ids, respectively.  Character ids are used for character level models that generate text predictions for each character.  A word level model uses word ids that generate text predictions for each word.  Word level models tend to learn better, since they are lower in complexity, so we'll use those.\n",
        "\n",
        "Running the cell will run `tokenize` on sample data and show output for debugging."
      ]
    },
    {
      "cell_type": "code",
      "execution_count": null,
      "metadata": {
        "id": "QqYLlgz-8mEY",
        "outputId": "09892034-8b65-41d6-aab4-ee944e026b33",
        "colab": {
          "base_uri": "https://localhost:8080/",
          "height": 53
        }
      },
      "outputs": [
        {
          "output_type": "execute_result",
          "data": {
            "application/vnd.google.colaboratory.intrinsic+json": {
              "type": "string"
            },
            "text/plain": [
              "'def tokenize(x):\\n    \"\"\"\\n    Tokenize x\\n    :param x: List of sentences/strings to be tokenized\\n    :return: Tuple of (tokenized x data, tokenizer used to tokenize x)\\n    \"\"\"\\n    # TODO: Implement\\n    x_tk = Tokenizer()\\n    x_tk\\n    x_tk.fit_on_texts(x)\\n    return x_tk.texts_to_sequences(x), x_tk\\n#tests.test_tokenize(tokenize)\\n'"
            ]
          },
          "metadata": {},
          "execution_count": 7
        }
      ],
      "source": [
        "from indicnlp.tokenize import indic_tokenize\n",
        "from collections import defaultdict\n",
        "\n",
        "#The Counter variable stores the global position of each word based on its first occurrance\n",
        "#next_i and id generator is used to generate ids for each unique word\n",
        "'''\n",
        "COUNTER = defaultdict(lambda : 0)\n",
        "def next_i(counter_id=0):\n",
        "    \"\"\"Return a new ID\"\"\"\n",
        "    global COUNTER\n",
        "    COUNTER[counter_id] += 1\n",
        "    return COUNTER[counter_id]\n",
        "\n",
        "id_generator = defaultdict(lambda : next_i(0))\n",
        "'''\n",
        "#Running the below code gives maximum recursion depth reached error as my_tokenizer is recursed repeatedly (NEED TO CHECK)\n",
        "\n",
        "#SOLVING : The copy paste of bottom code was generating the problem , causing infinite recursion (changed the my_tokenizer to get an array of sentences and return a)\n",
        "\n",
        "#my_tokenizer tokenizes the text and returns 1.list where each sentence is converted into a list of integers where each word is mapped to unique integer\n",
        "# 2.the dictionary/vocabulary of the language\n",
        "def my_tokenizer(text):\n",
        "    COUNTER = defaultdict(lambda : 0)\n",
        "    def next_i(counter_id=0):\n",
        "        \"\"\"Return a new ID\"\"\"\n",
        "        #Not using the global counter since it keeps incrementing cout each time the cell is run or the function is called since it was gloabl to the function\n",
        "        #global COUNTER\n",
        "        COUNTER[counter_id] += 1\n",
        "        return COUNTER[counter_id]\n",
        "\n",
        "    id_generator = defaultdict(lambda : next_i(0))\n",
        "    token_list=[]\n",
        "    token_id = []\n",
        "    for sentence in text:\n",
        "        temp = []\n",
        "        for t in indic_tokenize.trivial_tokenize(sentence):\n",
        "            temp.append(t)\n",
        "            my_id=[id_generator[w] for w in temp]\n",
        "        token_list.append(temp)\n",
        "        token_id.append(my_id)\n",
        "\n",
        "    return token_id, dict(id_generator)\n",
        "\n",
        "\n",
        "'''def tokenize(x):\n",
        "    \"\"\"\n",
        "    Tokenize x\n",
        "    :param x: List of sentences/strings to be tokenized\n",
        "    :return: Tuple of (tokenized x data, tokenizer used to tokenize x)\n",
        "    \"\"\"\n",
        "    # TODO: Implement\n",
        "    x_tk = Tokenizer()\n",
        "    x_tk\n",
        "    x_tk.fit_on_texts(x)\n",
        "    return x_tk.texts_to_sequences(x), x_tk\n",
        "#tests.test_tokenize(tokenize)\n",
        "'''\n",
        "#def tokenize(x):\n",
        "\n",
        "\n",
        "\n",
        "# Tokenize Example output\n",
        "#text_sentences = ['ನಿಮ್ಮ ನಿವಾಸ ಎಲ್ಲಿದೆ','ನಿವಾಸ ಎಲ್ಲಿದೆ','ದಿಲೀಪನು ಪ್ರಾಣಿಗಳನ್ನು ಪ್ರೀತಿಸುತ್ತಾನೆ']\n",
        "\n",
        "#rand, my_ids=my_tokenizer(text_sentences)\n",
        "#print(rand)\n",
        "#print(my_ids)\n",
        "#text_tokenized, text_tokenizer = tokenize(text_sentences)\n",
        "#print(text_tokenizer.word_index)\n",
        "#print()\n",
        "#for sample_i, (sent, token_sent) in enumerate(zip(text_sentences, text_tokenized)):\n",
        "#    print('Sequence {} in x'.format(sample_i + 1))\n",
        "#    print('  Input:  {}'.format(sent))\n",
        "#     print('  Output: {}'.format(token_sent))"
      ]
    },
    {
      "cell_type": "markdown",
      "metadata": {
        "id": "Eojz6xMM8mEZ"
      },
      "source": [
        "### Padding\n",
        "When batching the sequence of word ids together, each sequence needs to be the same length.  Since sentences are dynamic in length, we can add padding to the end of the sequences to make them the same length.\n"
      ]
    },
    {
      "cell_type": "code",
      "execution_count": null,
      "metadata": {
        "id": "7Vqy3jRg8mEZ",
        "outputId": "fc0c022a-e04b-48d1-a46f-383c1c5dfd10",
        "colab": {
          "base_uri": "https://localhost:8080/",
          "height": 53
        }
      },
      "outputs": [
        {
          "output_type": "execute_result",
          "data": {
            "application/vnd.google.colaboratory.intrinsic+json": {
              "type": "string"
            },
            "text/plain": [
              "\"\\n# Pad Tokenized output\\ntest_pad = pad(tokens)\\nprint(test_pad)\\nfor sample_i, (token_sent, pad_sent) in enumerate(zip(tokens, test_pad)):\\n    print('Sequence {} in x'.format(sample_i + 1))\\n    print('  Input:  {}'.format(np.array(token_sent)))\\n    print('  Output: {}'.format(pad_sent))\\n\""
            ]
          },
          "metadata": {},
          "execution_count": 8
        }
      ],
      "source": [
        "#padding with 0s at the end of the sentence to make size of each vector equal to size of longest sentence\n",
        "def pad(x, length=None):\n",
        "    \"\"\"\n",
        "    Pad x\n",
        "    :param x: List of sequences.\n",
        "    :param length: Length to pad the sequence to.  If None, use length of longest sequence in x.\n",
        "    :return: Padded numpy array of sequences\n",
        "    \"\"\"\n",
        "    # TODO: Implement\n",
        "    if length is None:\n",
        "        length=max([len(sentence) for sentence in x])\n",
        "        print(length)\n",
        "\n",
        "    return pad_sequences(x, maxlen=length, padding ='post')\n",
        "#t=tests.test_pad(pad)\n",
        "#print(t)\n",
        "\n",
        "'''\n",
        "# Pad Tokenized output\n",
        "test_pad = pad(tokens)\n",
        "print(test_pad)\n",
        "for sample_i, (token_sent, pad_sent) in enumerate(zip(tokens, test_pad)):\n",
        "    print('Sequence {} in x'.format(sample_i + 1))\n",
        "    print('  Input:  {}'.format(np.array(token_sent)))\n",
        "    print('  Output: {}'.format(pad_sent))\n",
        "'''"
      ]
    },
    {
      "cell_type": "markdown",
      "metadata": {
        "id": "9L39_K-r8mEa"
      },
      "source": [
        "### Preprocess Pipeline\n",
        "."
      ]
    },
    {
      "cell_type": "code",
      "execution_count": null,
      "metadata": {
        "id": "oNN5scrK8mEb",
        "outputId": "8227d808-6f5c-4ff4-e793-c916264ed559",
        "colab": {
          "base_uri": "https://localhost:8080/"
        }
      },
      "outputs": [
        {
          "output_type": "stream",
          "name": "stdout",
          "text": [
            "{'ಅನಜನ': 1, 'ವಹನವನನ': 2, 'ಚಲಯಸತತದದನ': 3, 'ವಜಯನ': 4, 'ತಬ': 5, 'ಬಡವನಗದದನ': 6, 'ಗರಶನ': 7, 'ಸಲ': 8, 'ಪಡಯತತನ': 9, 'ನಜಡನ': 10, 'ಚಹವನನ': 11, 'ಮಡತತದದನ': 12, 'ಅಮತನ': 13, 'ಕಳಕದ': 14, 'ಉಡಪನನ': 15, 'ಧರಸದದನ': 16, 'ಅಧಶನ': 17, 'ಹರಗ': 18, 'ಹಗವ': 19, 'ಅಗತಯವದ': 20, 'ನವಲಲರ': 21, 'ಯವಗ': 22, 'ಪರರಭಸದದರ': 23, 'ಇದದ': 24, 'ಸವತತರ': 25, 'ಸಫಟವರ': 26, 'ಆಗದ': 27, 'ರಜನ': 28, 'ಅಸಭಯವಗ': 29, 'ವರತಸತತದದನ': 30, 'ತಮಮ': 31, 'ಸವಕಯ': 32, 'ಸರಕಷತ': 33, 'ವವರಸಕತವನನ': 34, 'ರಚಸ': 35, 'ಸದರಯದ': 36, 'ರಜನಗದದನ': 37, 'ಯಗರಜ': 38, 'ಹರಹರ': 39, 'ಅಲದಡವ': 40, 'ಸತ': 41, 'ಅತಥಗಳ': 42, 'ಬದದದರ': 43, 'ಈ': 44, 'ಪಜಮ': 45, 'ಉದದವಗದ': 46, 'ಅರಜನನ': 47, 'ಊಟವನನ': 48, 'ಖಲ': 49, 'ಸಭವಸದ': 50, 'ಎಲಲವ': 51, 'ಯರಬಬರ': 52, 'ಮನವಯನನ': 53, 'ತರಸಕರಸವದ': 54, 'ಒಳಳಯದಲಲ': 55, 'ಶಲಯ': 56, 'ವದಯರಥಯಬಬ': 57, 'ಹತತನ': 58, 'ವರಷಕ': 59, 'ಪರಕಷಯಲಲ': 60, 'ರಜಯದಲಲ': 61, 'ಪರಥಮ': 62, 'ಸಥನ': 63, 'ಪಡದದದನ': 64, 'ಜಗದಶನ': 65, 'ಏನ': 66, 'ಸವಯಪರರತವಗ': 67, 'ಸಭವಸವದಲಲ': 68, 'ಸರವಶನ': 69, 'ಹಸಬಟಟಯನನ': 70, 'ತಟಟದದನ': 71, 'ಇದ': 72, 'ಹಚಚ': 73, 'ಓದಲ': 74, 'ಸಧಯವಗಲಲಲ': 75, 'ಸತಯ': 76, 'ನಡಯತತದದನ': 77, 'ನಲಕಠನ': 78, 'ಡಯಟ': 79, 'ಮಡತತನ': 80, 'ಪರಕಶನ': 81, 'ಚನಮಯನ': 82, 'ಸನಹಮಯಯಗದದನ': 83, 'ಅಕಲನ': 84, 'ಸನಮದಲಲ': 85, 'ನಟಸತತನ': 86, 'ಹಣಣಲಯ': 87, 'ಬಟಟಗಳನನ': 88, 'ಹರದ': 89, 'ಹಕತತದ': 90, 'ಸಕತನ': 91, 'ಪಠವನನ': 92, 'ಓದತತನ': 93, 'ಪರಧನ': 94, 'ಪರವಹ': 95, 'ಪಡತ': 96, 'ಪರದಶಗಳಲಲ': 97, 'ಬರಗಳಯ': 98, 'ಪರವಸ': 99, 'ಕಗಡರ': 100, 'ಚತನಯನ': 101, 'ಆಟವಡಲ': 102, 'ಇಚಚಸತತನ': 103, 'ಕರಗಟಟದ': 104, 'ಮವ': 105, 'ಒಳಗನದ': 106, 'ಕಳತಹಗದ': 107, 'ಮತರಕನ': 108, 'ಎರಡ': 109, 'ಹವಗಳನನ': 110, 'ಜನರಗ': 111, 'ತರಸದನ': 112, 'ದಲಪನ': 113, 'ಉತತಮ': 114, 'ನಟನಗದದನ': 115, 'ಅನವಯನ': 116, 'ವಗವಗ': 117, 'ಹಗತತನ': 118, 'ಸಕರಯ': 119, 'ಎದ': 120, 'ಭವಸಬಡ': 121, 'ನಮಗ': 122, 'ತಳದದ': 123, 'ಆಕಶನ': 124, 'ಕರನನ': 125, 'ಓಡಸತತನ': 126, 'ಅರಣನ': 127, 'ಚನನಗ': 128, 'ಹಡತತನ': 129, 'ಶಯಮನ': 130, 'ಚತರವನನ': 131, 'ಬಡಸತತದದನ': 132, 'ನವ': 133, 'ಅವನಗ': 134, 'ನಲಕ': 135, 'ಕಟಟದದರ': 136, 'ನನಗ': 137, 'ಕವಲ': 138, 'ಮರ': 139, 'ಮತರ': 140, 'ಅದವತನ': 141, 'ಜವಬದರಯದ': 142, 'ನತತವವನನ': 143, 'ವಹಸತತನ': 144, 'ಅನಶನ': 145, 'ಮತತಬಬರನನ': 146, 'ದಷಸತತನ': 147, 'ಶವನದನ': 148, 'ಏನನನ': 149, 'ಚತಸವದಲಲ': 150, 'ಬಧನವನನ': 151, 'ಪನ': 152, 'ಸಥಪಸಲ': 153, 'ಸಧಯವಲಲ': 154, 'ಸರವರ': 155, 'ನ': 156, 'ಸಯಜನಯನನ': 157, 'ದಟ': 158, 'ಪರಸತಪವನನ': 159, 'ಅನಮದಸತತವ': 160, 'ಕಲಸದದ': 161, 'ಬಸರಗಡ': 162, 'ಮಹಳಯರ': 163, 'ಚತರರಗಕಕ': 164, 'ಹದರ': 165, 'ಆದತಯನ': 166, 'ಕಥಯನನ': 167, 'ಮಗಸತತದದರ': 168, 'ಬಳಗಗ': 169, 'ಬಗನ': 170, 'ಹರಡಬಕ': 171, 'ಅದವಕನ': 172, 'ಆರವನ': 173, 'ಊಟಮಡಲ': 174, 'ಬಯಸತತದದನ': 175, 'ಮಹತಮರ': 176, 'ಕಥಯ': 177, 'ಇರತತದಯ': 178, 'ಆಗ': 179, 'ನನ': 180, 'ಖಷಯಗರತತನ': 181, 'ಸರಶನ': 182, 'ಸರಥಯಗದದನ': 183, 'ಅದತಯನ': 184, 'ಒಳಳಯದನನ': 185, 'ಕಲಯತತನ': 186, 'ಪರಶತನ': 187, 'ಜವರ': 188, 'ಯವತತದ': 189, 'ಮನಮಥನ': 190, 'ದವರ': 191, 'ಎಲಲಡ': 192, 'ಇದದರ': 193, 'ಎಲಲರ': 194, 'ಆತನನನ': 195, 'ಪರರಥಸಲ': 196, 'ದವಲಯಕಕ': 197, 'ಏಕ': 198, 'ಹಗತತರ': 199, 'ಹಡಗ': 200, 'ತಯಯನನ': 201, 'ಕಳದನ': 202, 'ಉಪದರನ': 203, 'ಧನಯವದವನನ': 204, 'ಸಮರಪಸತತದದನ': 205, 'ಅಭಷಕನ': 206, 'ವಸತರವನನ': 207, 'ಆರಸತತದದನ': 208, 'ಅಚತಯನ': 209, 'ಆ': 210, 'ಭಮಯ': 211, 'ಮಲಕನಗದದನ': 212, 'ಅವನ': 213, 'ಇನನ': 214, 'ಬದಲಲವ': 215, 'ಅನಪನ': 216, 'ಮಳಯಲಲ': 217, 'ನನಯತತದದನ': 218, 'ಸದದ': 219, 'ಬಗಗ': 220, 'ಅವರಗ': 221, 'ತಳಸದದರ': 222, 'ನರಯಣನ': 223, 'ಹರಟವನನ': 224, 'ನಮಮ': 225, 'ಪರಹಲದನ': 226, 'ಸದರವಗ': 227, 'ಕಣಸತತದದನ': 228, 'ಮಮಮ': 229, 'ಯವ': 230, 'ಸಮಯಕಕ': 231, 'ಭಜನವನನ': 232, 'ನಡಲದದರ': 233, 'ನಧಶನ': 234, 'ಹಡಕತತದದನ': 235, 'ಯದಧದಲಲ': 236, 'ಹಲವರ': 237, 'ತರಹದ': 238, 'ಗಡ': 239, 'ಎಸಯವ': 240, 'ಯತರವನನ': 241, 'ಬಳಸತತರ': 242, 'ಆಯಷನ': 243, 'ಪರತಪರನಗದದನ': 244, 'ಬಣವನನ': 245, 'ಬಡತತನ': 246, 'ಸಭರಮವನನ': 247, 'ಆಚರಸತತನ': 248, 'ಅಭರಮನ': 249, 'ಮಣಕಠನ': 250, 'ಪರವತಯ': 251, 'ಕಯತತದದ': 252, 'ವಯಕತ': 253, 'ಬದಲಲ': 254, 'ಚರಕಗ': 255, 'ಕಲಸವನನ': 256, 'ಅದ': 257, 'ಎಷಟ': 258, 'ಚನನಗದ': 259, 'ತಳದದಯ': 260, 'ಆರಯನ': 261, 'ಅವನನನ': 262, 'ನಕತತದದನ': 263, 'ಸಪರಣ': 264, 'URL': 265, 'ಸಗತವನನ': 266, 'ಆಲಸತತನ': 267, 'ಮನಷಯ': 268, 'ರಕಷಸ': 269, 'ಪರವತತಯದ': 270, 'ದರ': 271, 'ವರಬಕ': 272, 'ಅಜತನ': 273, 'ಸಹಯನನ': 274, 'ತನನತತದದನ': 275, 'ದನ': 276, 'ಯಕ': 277, 'ಬರಲಲಲ': 278, 'ಸಜಯನ': 279, 'ಸದರವಗದದನ': 280, 'ಮಗವಗ': 281, 'ಮತತಡತತದದನ': 282, 'ನನಪಲಲ': 283, 'ಸಮಪದಷಟ': 284, 'ಸರಪಡಸಲ': 285, 'ಮಸರಗಳನನ': 286, 'ಬಳಸಲಗತತದ': 287, 'ಈಗ': 288, 'ಸರಕಸನವರ': 289, 'ಉಪಕರಡಯಲಲ': 290, 'ಅವರ': 291, 'ಕಶಲಯ': 292, 'ಪರದರಶಸದರ': 293, 'ಅಖಲನ': 294, 'ನರತಸತತದದನ': 295, 'ಇತರ': 296, 'ಖದಯವನನ': 297, 'ಸವಲಪ': 298, 'ಬಡಸ': 299, 'ಜವವಜಞನ': 300, 'ಸಯನ': 301, 'ವಜಞನ': 302, 'ನನಪದ': 303, 'ಇಲಲಗ': 304, 'ಬದನ': 305, 'ಒಬಬ': 306, 'ಸಮನಯ': 307, 'ಸಮಜಕಕ': 308, 'ಸರಯದ': 309, 'ನರದಶನ': 310, 'ನಡಬಲಲ': 311, 'ಮನವನ': 312, 'ದಹದಲಲ': 313, 'ಅನಕ': 314, 'ರತಯ': 315, 'ಅಗಶಗಳ': 316, 'ಕಡಬರತತವ': 317, 'ಕಷಮಸ': 318, 'ಕರಯನರತವಗದ': 319, 'ಆದದರದ': 320, 'ಕಳಹಸದ': 321, 'ಪತರವನನ': 322, 'ನಡವದರಲಲ': 323, 'ವಳಬವಗದ': 324, 'ಇದರ': 325, 'ಹಳದರ': 326, 'ಇವನ': 327, 'ನನನ': 328, 'ಪರತಕನ': 329, 'ಹಚಚನತ': 330, 'ಬಬಬಡತತದದನ': 331, 'ತಪಪಗ': 332, 'ಉಚಚರಮಡತತನ': 333, 'ಕಸಯಲಲತತ': 334, 'ಎಲಲ': 335, 'ವಸಸತತರ': 336, 'ಡಯಡ': 337, 'ಶತವಗರ': 338, 'ವದಮಡತತನ': 339, 'ಆಸಪತರಯಲಲ': 340, 'ಅಕಲಕ': 341, 'ಮಗ': 342, 'ಜನಸತ': 343, 'ನಡತತದದನ': 344, 'ವರಣನ': 345, 'ವಶವಜತನ': 346, 'ವಷಣವನ': 347, 'ಭಕತನಗದದನ': 348, 'ಏನನನದರ': 349, 'ತಗದಕಳಳತತರ': 350, 'ಕಚರ': 351, 'ಮಚಚತತದ': 352, 'ಗದನ': 353, 'ಪರಮಚದರ': 354, 'ಮಲ': 355, 'ಕತ': 356, 'ಅರಪತನ': 357, 'ಖಷಯಗದ': 358, 'ಅನತನ': 359, 'ಯದಧ': 360, 'ದರಶನನ': 361, 'ಸರವಜನಕ': 362, 'ಸಪರಕ': 363, 'ಅಧಕರ': 364, 'ಸಹನನಗ': 365, 'ಮದರಸನ': 366, 'ಊಟ': 367, 'ಇಷಟವಗತತದ': 368, 'ಮಹಶನ': 369, 'ಇದನ': 370, 'ಪಳಗ': 371, 'ಪಶಚಮತಯ': 372, 'ನಗರಕತಯನನ': 373, 'ಅನಸರಸತತದ': 374, 'ವಷಭ': 375, 'ರಶಯ': 376, 'ಚಹನ': 377, 'ಎತತ': 378, 'ಅಶವತಥನ': 379, 'ಬಟಟ': 380, 'ತಳಯತತದದನ': 381, 'ದವಸಥನದ': 382, 'ಶಖರದ': 383, 'ಕಪ': 384, 'ಧವಜವನನ': 385, 'ಹರಸಲಗದ': 386, 'ಅಚಯತನ': 387, 'ಪಲ': 388, 'ಕಡವಕ': 389, 'ಪರತಯಗದ': 390, 'ಆದರ': 391, 'ನಶವಗದ': 392, 'ಕಪಪ': 393, 'ಉಭಯಚರ': 394, 'ಜವ': 395, 'ಕರಳಪಟಟ': 396, 'ಎತತರ': 397, 'ಮಡ': 398, 'ನಡಯತತದದ': 399, 'ಯಶಸಸನನ': 400, 'ಸಧಸತತನ': 401, 'ಚಷಟಮಡತತನ': 402, 'ದಣಯ': 403, 'ಮದನ': 404, 'ಭಗವ': 405, 'ರಧರಗಳನನ': 406, 'ಹದದ': 407, 'ಅವಳ': 408, 'ಫನನಲಲ': 409, 'ಧವನಯನನ': 410, 'ಕಳದಗ': 411, 'ತನನ': 412, 'ತದರಗಳನನ': 413, 'ಸಪರಣವಗ': 414, 'ಮರತಳ': 415, 'ರಮಚದರನ': 416, 'ಕತತ': 417, 'ಬರಹರವ': 418, 'ಪರಣ': 419, 'ದವರದ': 420, 'ಸಷಟಸಲಪಟಟ': 421, 'ಯವದ': 422, 'ನರಲಕಷಯವಲಲ': 423, 'ಧರಸವ': 424, 'ಒಗದ': 425, 'ಹಕದದನ': 426, 'ಶವನ': 427, 'ಹವ': 428, 'ಮಟಟಯ': 429, 'ಇದಗ': 430, 'ಮಡದದನ': 431, 'ಧನಯವದಗಳ': 432, 'ಹರದಬಸತತದದನ': 433, 'ಸದಧತವ': 434, 'ಆದರಶವದಯಗದ': 435, 'ಕತಯ': 436, 'ಪರಸತವನಯನನ': 437, 'ಬಹಳ': 438, 'ಚತನಶಲವಗ': 439, 'ಬರಯಲಗದ': 440, 'ಜಯರಜನ': 441, 'ಮಳಯ': 442, 'ದವತ': 443, 'ಭರತಯ': 444, 'ಭಷ': 445, 'ತಳದದದರ': 446, 'ಸಸಕತವ': 447, 'ಸಲಭ': 448, 'ಹಣಣನನ': 449, 'ತಗದಕಳಳತತನ': 450, 'ಪರಸನನನ': 451, 'ಕಪದದ': 452, 'ಅಬಬರಸತತದದನ': 453, 'ಅಭನವನ': 454, 'ಮನಯನನ': 455, 'ಸವಚಛಗಳಸತತನ': 456, 'ಗಮನಸತತದದನ': 457, 'ವಶವನಥನ': 458, 'ಕಡಗ': 459, 'ಹದನ': 460, 'ಹಳವ': 461, 'ಎಲಲವನನ': 462, 'ಒಪಪಲ': 463, 'ಕಣಯಲಲ': 464, 'ಗಲಬ': 465, 'ಸಗಧ': 466, 'ದರವಯವನನ': 467, 'ಸಪಡಸತತದದನ': 468, 'ಅರವದನ': 469, 'ತಜ': 470, 'ಮಹಲ': 471, 'ಅಮತ': 472, 'ಶಲಯದ': 473, 'ಕಟಟಲಗದ': 474, 'ಒಳಳಯ': 475, 'ಅಕವನನ': 476, 'ರಮ': 477, 'ಹರಟಕರ': 478, 'ಹಗ': 479, 'ಮಡದರ': 480, 'ಎದಗ': 481, 'ದಖಕಕ': 482, 'ಕರಣವಗವದಲಲ': 483, 'ದವವಗಳನನ': 484, 'ಪಜಸವದ': 485, 'ನಷಪರಣಮಕರಯಗದ': 486, 'ಶಕರನ': 487, 'ಬದಧಹನನಗದದನ': 488, 'ಹಗಳತತದದನ': 489, 'ಯವಗಲ': 490, 'ಬದ': 491, 'ನನನನನ': 492, 'ತದರಗಳಸತತನ': 493, 'ಕರತಕನ': 494, 'ದಲತ': 495, 'ಮನ': 496, 'ಬರಯತತನ': 497, 'ಕಷಣನ': 498, 'ಶಕಷಕ': 499, 'ಚರತಯನನ': 500, 'ಪದಯಲಲ': 501, 'ವಸವಗರತತವ': 502, 'ಪರಣಗಳನನ': 503, 'ಪರತಸತತನ': 504, 'ಇದನನ': 505, 'ದಢಕರಸಲ': 506, 'ಪರವ': 507, 'ಬರದದದನ': 508, 'ನಧನವಗ': 509, 'ಸತತಲ': 510, 'ನಡ': 511, 'ಮಥನನ': 512, 'ರವರಗ': 513, 'ಇಲಲದದರ': 514, 'ಖನನತಗ': 515, 'ಒಳಗದ': 516, 'ವದಯರಥಗಳ': 517, 'ಪರಸಪರರ': 518, 'ಮಖ': 519, 'ನಡತತದದರ': 520, 'ಮಗವನ': 521, 'ಪರಶನ': 522, 'ಮಕನನನಗ': 523, 'ಮಡತ': 524, 'ಅಸಯಮದದಗ': 525, 'ರಗಗಳಗ': 526, 'ಬಲಯದರ': 527, 'ದರಯನನ': 528, 'ಮರತದದನ': 529, 'ತಪಪಸಕಳಳತತದದನ': 530, 'ಸಳಳ': 531, 'ಬಲ': 532, 'ಎಲಲದ': 533, 'ಹಟಟಬಕ': 534, 'ವಯಕತಯ': 535, 'ಒದ': 536, 'ಬರಗ': 537, 'ಅಕಕ': 538, 'ತನನತತನ': 539, 'ಪರಪಕರದತಹ': 540, 'ಧರಮವಲಲ': 541, 'ರಮನ': 542, 'ಗಣಗರ': 543, 'ಸಗಟ': 544, 'ವಯಪರ': 545, 'ಕಲವ': 546, 'ರಜಕರಣಗಳ': 547, 'ಆಸತಯನನ': 548, 'ಉಪಭಗಯವದ': 549, 'ಪರಗಣಸತತರ': 550, 'ಮತತ': 551, 'ಅದನನ': 552, 'ನರದಕಷಣಯವಗ': 553, 'ಇಲಲ': 554, 'ಆಲ': 555, 'ಇನ': 556, 'ಅಕಷಯನ': 557, 'ಎರಡನನ': 558, 'ಗಣಸದಗ': 559, 'ಗಣಕರವ': 560, 'ಆಗತತದ': 561, 'ಸಧಮನ': 562, 'ವಶವಸನ': 563, 'ಶತ': 564, 'ಪರವಣನ': 565, 'ಮತನಡತತನ': 566, 'ಇವಗಳಲಲ': 567, 'ಒದನನ': 568, 'ಇಡಲ': 569, 'ಜವನನಗ': 570, 'ತಳಸ': 571, 'ಆದರಶನ': 572, 'ಹದಕಯನನ': 573, 'ಉಪಯಗಸತತದದನ': 574, 'ಖರದಸದದರ': 575, 'ಸಧನವನ': 576, 'ಬಟಟಯನನ': 577, 'ಇರಸಲದ': 578, 'ವಸತಗಳನನ': 579, 'ಲಕಕಹಕಬಹದಗದ': 580, 'ಅರಳ': 581, 'ತಬದ': 582, 'ಹಸಗ': 583, 'ಮಲಗಲ': 584, 'ಆರಮದಯಕವಗರತತದ': 585, 'ರಕಷಣಬಧನವನನ': 586, 'ಉಪಯಗಸ': 587, 'ಒಟಟಗಡಸವ': 588, 'ಸಥಳವನನ': 589, 'ನರಣಯಸಲ': 590, 'ಸಧಯವದ': 591, 'ಅಜಯನ': 592, 'ಘಟಯನನ': 593, 'ಬರಸತತನ': 594, 'ವನಯಕನ': 595, 'ಬರಹಗರನ': 596, 'ಕದಬರ': 597, 'ವಷಯವ': 598, 'ಆಸಕತದಯಕವಗದ': 599, 'ಆರಧಯನ': 600, 'ಉತತಮವಗದ': 601, 'ಬಸಕಲ': 602, 'ಕಳದ': 603, 'ಸಮಎಣಣಯನನ': 604, 'ಮರಟ': 605, 'ಮಡತತದದರ': 606, 'ನಗತತನ': 607, 'ಪರಕಷ': 608, 'ಹಗತತ': 609, 'ಬಸ': 610, 'ಕಡ': 611, 'ವಭವನ': 612, 'ಆರಗಯವತನಗದದನ': 613, 'ಹಡನನ': 614, 'ಕರಮಕರ': 615, 'ಆರಥಕ': 616, 'ಶಷಣ': 617, 'ಶತಮನಗಳದ': 618, 'ನಡಯತತದ': 619, 'ಕರತವಯ': 620, 'ಇದಕಕದಲ': 621, 'ಬರ': 622, 'ದರಗಗ': 623, 'ಪರಟ': 624, 'ಲಸನಸ': 625, 'ಅವಲಕಸ': 626, 'ಹದ': 627, 'ಧರಮದ': 628, 'ದಡಡ': 629, 'ಲಕಷಣವದರ': 630, 'ಧರಮಗಳ': 631, 'ಸಹಷಣತಯನನ': 632, 'ಸಬಧಪಟಟ': 633, 'ಜಗರಕರಗರಬಕ': 634, 'ಅತಥ': 635, 'ಗಹದಲಲ': 636, 'ಕಠಡ': 637, 'ಖಲಯಗಲಲ': 638, 'ಆಲಇನಆಲ': 639, 'ಆರಜಕ': 640, 'ಸರವಜನಕರ': 641, 'ಅವಯವಸಥತರಗತತರ': 642, 'ವರಣವನನ': 643, 'ಸರಕಷತಗಳಸಲ': 644, 'ಅವ': 645, 'ಜವನದಲಲ': 646, 'ಆನದನ': 647, 'ರಹಸಯವನನ': 648, 'ರಹಸಯವಗ': 649, 'ಇರಸ': 650, 'ತರಕಮನಸತನನ': 651, 'ಹಡಗಗಳ': 652, 'ನಲಲವ': 653, 'ಪರದಶವಗದ': 654, 'ಮಲಲಶನ': 655, 'ನಗದತ': 656, 'ಸಮಯದಲಲ': 657, 'ಭಜನ': 658, 'ಮಡವದ': 659, 'ಆರಗಯಕಕ': 660, 'ಒಳಳಯದ': 661, 'ಈಶವರ': 662, 'ಅತರಯಮ': 663, 'ಹಣಣಗಳನನ': 664, 'ತನನತತರ': 665, 'ಕರಯನರತತಯದಗ': 666, 'ನಮಮನನ': 667, 'ಭಟಯಗಲ': 668, 'ತಡಮಡ': 669, 'ಸವಕರಸತತನ': 670, 'ಪದರಕಷಗಳನನ': 671, 'ಬಚನಲಲ': 672, 'ಸರವಕಲಕ': 673, 'ಬಳಸಬಕ': 674, 'ಅಲಲವ': 675, 'ಹರಸತತದದನ': 676, 'ಅಡಗಗಗ': 677, 'ಇದದಲ': 678, 'ತಬತತದದಳ': 679, 'ದರಘಕಲಕ': 680, 'ಸಸಯವರಗಗಳ': 681, 'ಲಭಯವದ': 682, 'ದನಶರ': 683, 'ಕರಣನ': 684, 'ಹಸರ': 685, 'ಇಡ': 686, 'ವಶವದಲಲ': 687, 'ಪರಸದಧವಗದ': 688, 'ಗಡಸ': 689, 'ನರನದ': 690, 'ತಳಯವದ': 691, 'ಕಷಟ': 692, 'ಹಳಬಡ': 693, 'ಸಭಷಣಯದ': 694, 'ವಷಯ': 695, 'ದರಯವದಲಲ': 696, 'ಜಬರ': 697, 'ಐಡ': 698, 'ಪರಶನವಳಯಲಲ': 699, 'ಐಮತತದನಯ': 700, 'ಅತಯತ': 701, 'ಕಷಟಕರವಗದ': 702, 'ಗಡಯರ': 703, 'ನಮಷ': 704, 'ಮದದ': 705, 'ಲಟರನ': 706, 'ಮಪಕ': 707, 'ಪಸಟ': 708, 'ಮಡದ': 709, 'ಅಧಕರಯನನ': 710, 'ವರಗಯಸಲಗದ': 711, 'ಸತಶನ': 712, 'ಇಬಬರ': 713, 'ಸಕಷಟ': 714, 'ಶಬದವತತ': 715, 'ರಫತ': 716, 'ಮಡತತದದ': 717, 'ಸಟ': 718, 'ದವಧನರದರ': 719, 'ಬಯಸಬಕದ': 720, 'ಪರತದನ': 721, 'ಅಳತತನ': 722, 'ಉಪದರ': 723, 'ಸಹರಬ': 724, 'ರಸತಮ': 725, 'ಪರಸಪರ': 726, 'ಜಗಳವಡದರ': 727, 'ಉತತರ': 728, 'ಬರಯವದಗ': 729, 'ಇದನವರಗ': 730, 'ಅರವತತಳನ': 731, 'ಅಪರಧ': 732, 'ಭಟಯಗಬಕ': 733, 'ಪರತ': 734, 'ಕಲಗ': 735, 'ಸಗರಹಸಬಹದಗದ': 736, 'ಜನರ': 737, 'ಭವನಗಳಗ': 738, 'ಅನಗಣವಗ': 739, 'ವರತಸತತರ': 740, 'ಕಗದವನನ': 741, 'ಹರಯತತದದನ': 742, 'ಬದಧ': 743, 'ಧರಮಕ': 744, 'ವಯಕತಗಳಗಗ': 745, 'ಮಠವನನ': 746, 'ನರಮಸಲಗತತದ': 747, 'ವದಯರಥಗಳಗ': 748, 'ಬಜಗಣತ': 749, 'ಆಗಬಹದ': 750, 'ಸದರಭದಲಲ': 751, 'ನಡದದನ': 752, 'ಅಮರನ': 753, 'ಕಯಮರದದ': 754, 'ಸವಕರಸದ': 755, 'ಚತರದ': 756, 'ವಸತರಣದ': 757, 'ಪಕಸಲ': 758, 'ಮರಕ': 759, 'ಸಪರದಯಕ': 760, 'ಬರಹಮಣರ': 761, 'ಕಶಲಯರಹತ': 762, 'ಜನರದಗ': 763, 'ನರ': 764, 'ಕಡಯಲ': 765, 'ಇಷಟಪಡವದಲಲ': 766, 'ಹಗಬಕದ': 767, 'ಹತತರ': 768, 'ಭಕಷಯಗಳ': 769, 'ರಚಯಗಲಲ': 770, 'ಬಗಳರಗ': 771, 'ಪರಯಣಸತತದದನ': 772, 'ಅಸಮತಲ': 773, 'ಭಮಯನನ': 774, 'ಸಮತಟಟಗ': 775, 'ದಯವಟಟ': 776, 'ಖತಯನನ': 777, 'ಇತಯರಥಪಡಸ': 778, 'ನಮಗಗ': 779, 'ಫನ': 780, 'ಕರ': 781, 'ಇತತ': 782, 'ಶದಧ': 783, 'ಆಕಶದಲಲ': 784, 'ನಕಷತರಗಳ': 785, 'ಸಪಷಟವಗ': 786, 'ಗಚರಸತತದದವ': 787, 'ಈಗನ': 788, 'ಸಟಟಮಟ': 789, 'ಚಲಸಲ': 790, 'ಸಧಯವ': 791, 'ರಲ': 792, 'ಕಕಕರದತತ': 793, 'ಭವಷಯದಲಲ': 794, 'ಏನಗಲದ': 795, 'ಯರಗ': 796, 'ತಳದಲಲ': 797, 'ರಮನನನ': 798, 'ಮದಲ': 799, 'ಜತರಯಲಲ': 800, 'ಭಟಯಗದದ': 801, 'ಸಧನಗಳದ': 802, 'ಸಪನನನಗರವ': 803, 'ಸಮಜದ': 804, 'ವಕಸಕಕ': 805, 'ನರವಗತತನ': 806, 'ಸಚವರ': 807, 'ಸನಕ': 808, 'ಉಗರರ': 809, 'ಗರಯದನ': 810, 'ಶರಯವನನ': 811, 'ತರಸಲ': 812, 'ಕಡವಣವಲಲದ': 813, 'ಕದರ': 814, 'ಸವರ': 815, 'ಮಡದನ': 816, 'ಇದದನ': 817, 'ಬಕ': 818, 'ವವಹವಗತತನ': 819, 'ಹಗಲಲ': 820, 'ಪರತಯಗ': 821, 'ಮತತರದ': 822, 'ಇಲಲಲಲ': 823, 'ಹಳ': 824, 'ತರಗತಗಳನನ': 825, 'ತಗದಕಳಳಲ': 826, 'ಹಗವದಲಲ': 827, 'ಉಪಯಗಸವವರ': 828, 'ಪರವತತರಹತವದ': 829, 'ಪಸತಕಗಳ': 830, 'ಪಟಟ': 831, 'ನದರಸತತನ': 832, 'ಆಗಸಟ': 833, 'ಹದನದರದ': 834, 'ಗಗನಭದ': 835, 'ಕಠದದಗ': 836, 'ಸವತತರಯ': 837, 'ಘಷಣ': 838, 'ಮಡತತ': 839, 'ಮರವಣಗ': 840, 'ಹರಟರ': 841, 'ಉಳಸಲ': 842, 'ಆಯಕಗಳನನ': 843, 'ಅಭರಚಗನಗಣವಗ': 844, 'ಸವತ': 845, 'ಆಯಜಗಳಸ': 846, 'ನಸರಗವ': 847, 'ಪರವರತನಶಲ': 848, 'ಗಣವನನ': 849, 'ಧನಯ': 850, 'ಮರಟಗರರ': 851, 'ಅಗಡಯದ': 852, 'ಖರದಸದರ': 853, 'ಮತನನ': 854, 'ಯರ': 855, 'ಕಳತತರ': 856, 'ಅಲಲ': 857, 'ಕಲಗಬಯ': 858, 'ಆಟ': 859, '1997': 860, 'ರ': 861, 'ಜಲ': 862, 'ಮಸದ': 863, '17ನ': 864, 'ದನಕ': 865, '95': 866, 'ಮತದದ': 867, 'ಶರ': 868, 'ನರಯಣರ': 869, 'ವಜಯವನನ': 870, 'ಪಡದರ': 871, 'ತಟಸಥರಗ': 872, 'ರಜಯಸಭಯ': 873, 'ಅಧಯಕಷ': 874, 'ಕರಯವನನ': 875, 'ಅನತಕತಯದ': 876, 'ಇತರರಗ': 877, 'ನತಕತಯನನ': 878, 'ಕಲಸಲ': 879, 'ರಗಯನನ': 880, 'ಹರಗನ': 881, 'ಕಣಗ': 882, 'ದಖಲಸಲಗದ': 883, 'ಸವಚ': 884, 'ಗಳಸತತನ': 885, 'ಪರವತದ': 886, 'ಕಣಸಗತತದ': 887, 'ಗಸಪ': 888, 'ಚಲನಚತರ': 889, 'ಮದರದ': 890, 'ಧರಣ': 891, '೫೦೦': 892, 'ರಪಯಗಳ': 893, 'ಚಲತ': 894, 'ಸಧನವನನ': 895, 'ನಲಲಸಬಕ': 896, 'ಹವನ': 897, 'ಗಡವನನ': 898, 'ನರಡಬಕ': 899, 'ತದ': 900, 'ದರಹ': 901, 'ವಯಕತಗಳ': 902, 'ಶತಯದ': 903, 'ನಮಮದ': 904, 'ಸಧಸಲ': 905, 'ವಷಯಗಳವ': 906, 'ಎಬದನನ': 907, 'ಮರತದದರ': 908, 'ಕರಮಗಲ': 909, 'ಕವದದ': 910, 'ಕಲಸ': 911, 'ಮಗದಲಲ': 912, '1992': 913, 'ತಗಳ': 914, '21ನ': 915, 'ಗಣರಜಯದ': 916, 'ಉಪರಷಟರಪತ': 917, 'ಪದವಯನನ': 918, 'ಸವಕರಸದರ': 919, 'ಫಲನಭವ': 920, 'ಜವನವ': 921, 'ಶತಯತವಗರತತದ': 922, 'ಸಮಮಳನದ': 923, 'ಸಮರಪ': 924, 'ಸಮರಭದಲಲ': 925, 'ವದವಸರ': 926, 'ಭಗವಹಸತತದದರ': 927, 'ಕಡವದಕಕ': 928, 'ಪಟದದ': 929, 'ಹರಹಗವಕ': 930, 'ಕದಬರಯ': 931, 'ಖಳನಯಕ': 932, 'ಓದಗನ': 933, 'ಮನಸಸನಲಲ': 934, 'ಅಳಸಲಗದ': 935, 'ಗರತ': 936, 'ಹಕತತನ': 937, 'ಅರಧ': 938, 'ವರಮ': 939, 'ಇರವಲಲ': 940, 'ಹಕದದರ': 941, 'ಪರವತವ': 942, 'ಚಪಪಟಯದ': 943, 'ಬಡಗಳದ': 944, 'ಮಡಲಪಟಟದ': 945, 'ವಸತಸಗರಹಲಯವ': 946, 'ಮಘಲ': 947, 'ವಸತಗಳ': 948, 'ಸಗರಹವನನ': 949, 'ಹಟಟದ': 950, 'ಜವಗಳ': 951, 'ಸವ': 952, 'ನಶಚತ': 953, 'ಕಟಯಗದ': 954, 'ಶಕತ': 955, 'ಅನನಭವ': 956, 'ಮಡಬಹದ': 957, 'ಇಸಲ': 958, 'ಸಥಪಕ': 959, 'ಮಹಮಮದ': 960, 'ಸಹಬ': 961, 'ಕಟಟದದನನ': 962, 'ಕಶಕನ': 963, 'ತಳ': 964, 'ಉಡಪನ': 965, 'ಭಗವಗದ': 966, 'ಕರನ': 967, 'ರಜಯಗಳ': 968, 'ದನಗಳ': 969, 'ಪಟವನನ': 970, 'ಮಚಚಲ': 971, 'ಸಚನ': 972, 'ನಡಬಕ': 973, 'ಖಗಲಶಸತರಜಞರ': 974, 'ಖಗಲಪಡ': 975, 'ಪರಗಣಸವದಲಲ': 976, 'ಮತ': 977, 'ಆರಬಸಲ': 978, 'ತಡವಗತತದ': 979, 'ವಬ': 980, 'ಚಲನಚತರವನನ': 981, 'ಸವಕರಸ': 982, 'ಕಳಳತನ': 983, 'ಎನನವದ': 984, 'ಸಮಜ': 985, 'ವರಧ': 986, 'ಕಸಮಪಲಟನ': 987, 'ಅರಥಶಸತರ': 988, 'ಬಲಟ': 989, 'ಬಜಗಳ': 990, 'ಅಸಪರದಯಕ': 991, 'ವಶವದ': 992, 'ಶತಯನನ': 993, 'ಕಪಡಲ': 994, 'ಸಧಯ': 995, 'ಗರಜಯ': 996, 'ಸಪರತದಯಕ': 997, 'ಮತಗಳನನ': 998, 'ಕಡಲ': 999, 'ಶರದಧಯದ': 1000, 'ಪರರಭಸದರ': 1001, 'ಮವರ': 1002, 'ಮಕಕಳದದರ': 1003, 'ಪರಶಪಲರ': 1004, 'ಬದದದರಯ': 1005, 'ತವ': 1006, 'ಸಯಜಸದ': 1007, 'ಚನಹ': 1008, 'ಬರಲಲಯ': 1009, 'ಅಗಗವಗ': 1010, 'ಕಣಲ': 1011, 'ನರಧರಸಲಗವದಲಲ': 1012, 'ತಮರವ': 1013, 'ವದಯತ': 1014, 'ವಹಕವಗದ': 1015, 'ಭರತ': 1016, 'ಅತಕರಮಣದ': 1017, 'ಪರವಗದ': 1018, 'ವಢಯ': 1019, 'ಸಮರಭಕಕ': 1020, 'ಹದಣಕ': 1021, 'ಆಗವದಲಲ': 1022, 'ಗಳ': 1023, 'ಅಮರತ': 1024, 'ವಸತವಗದ': 1025, 'ಸನಯ': 1026, 'ಕದನ': 1027, 'ಬಸತ': 1028, 'ಅಜಜ': 1029, 'ಪಲನ': 1030, '_': 1031, 'ಮವನ': 1032, 'ಹಣಣ': 1033, 'ಬಡತತದ': 1034, 'ದವಲಯದಲಲ': 1035, 'ಸವಯಸವಕ': 1036, 'ಓಹ': 1037, 'ನಡದಳ': 1038, 'ಭವಸತತನ': 1039, 'ಉಜಬಕಸತನನ': 1040, 'ನದ': 1041, 'ವಡಯ': 1042, 'ನರಮಣದ': 1043, 'ಅಡಗರ': 1044, 'ಬಜ': 1045, 'ರಕಷಣಬಧನ': 1046, 'ಉದಘಟಸಲ': 1047, 'ಅಡಗ': 1048, 'ನಜವಗಯ': 1049, 'ಭವಯವಗದ': 1050, 'ಮಬಲ': 1051, 'ತತರಹತ': 1052, 'ಯತರ': 1053, 'ಕಡಮ': 1054, 'ಬಲಗ': 1055, 'ನಲಲ': 1056, 'ಅಕಟ': 1057, 'ರಜಸಥನ': 1058, 'ಉಡಪನಲಲ': 1059, 'ಕಣಸತತಳ': 1060, 'ಭರತದ': 1061, 'ಸಪರ': 1062, 'ಕರಟ': 1063, 'ದಹಲಯಲಲದ': 1064, 'ಶವಲಗಕಕ': 1065, 'ಪರವತ': 1066, 'ಗಣಶ': 1067, 'ಪರತಮಗಳ': 1068, 'ವರಧಸವದ': 1069, 'ತನನಲಗದ': 1070, 'ಕಸದ': 1071, 'ತಟಟಯಲಲ': 1072, 'ಎಸದರ': 1073, 'ಇವತತ': 1074, 'ಪರದರಶಸಲದ': 1075, 'ಐಟಗಳ': 1076, 'ಮಲಯಯತವಗವ': 1077, 'ಅಸವಧನಕ': 1078, 'ಸಘರಷದ': 1079, 'ವರಧಯಗದದರ': 1080, 'ಭರಯ': 1081, 'ಘಟಕತಸವದ': 1082, 'ಪರಫಸರ': 1083, 'ಭಟಟಚರಯರ': 1084, 'ಆಯಕಯ': 1085, 'ಯತರವದನನ': 1086, 'ಚತರಕರಸಲ': 1087, 'ಸಹಯ': 1088, 'ಮರತತದ': 1089, 'ಫಲಟರ': 1090, 'ಚಹ': 1091, 'ಕಷಯಕಕ': 1092, 'ಹಲ': 1093, 'ಸರಸ': 1094, 'ನಯ': 1095, 'ಮಣಣನ': 1096, 'ಪತರಯಲಲ': 1097, 'ಹಲನನ': 1098, 'ಕಡಯತತದ': 1099, 'ಆರಗಯಕಕಗ': 1100, 'ಸಮಯದವರಗ': 1101, 'ಬಸಲನಲಲ': 1102, 'ನತಕಳಳ': 1103, 'ಶವಲಗದ': 1104, 'ಆಕರ': 1105, 'ಚದರನ': 1106, 'ಕಲಯ': 1107, 'ಅನಸರವಗ': 1108, 'ವರಧಸತತದ': 1109, 'ಅತಯಧನಕ': 1110, 'ಭಷಯನನ': 1111, 'ಸಹತಯದಲಲ': 1112, 'ಗರಯನನ': 1113, 'ಪರಚದಕವನನ': 1114, 'ಒತತದರ': 1115, 'ಮನಸಸಗ': 1116, 'ತರತತದ': 1117, 'ಗಳತಯನನ': 1118, 'ಮದವಯದನ': 1119, 'ಸವರಥಗಳದಗ': 1120, 'ಮತರತವ': 1121, 'ರಹಸಯ': 1122, 'ಸಕತಕಕ': 1123, 'ಮಡಲಲಲ': 1124, 'ರಕಷಕವಚವರವ': 1125, 'ಯಧ': 1126, 'ಯದದ': 1127, 'ಭಮಗ': 1128, 'ನಗಗದ': 1129, 'ಮಡಲ': 1130, 'ಸಹನ': 1131, 'ಅವರತಹ': 1132, 'ಅರಹ': 1133, 'ಸದ': 1134, 'ತನನತತರತತರ': 1135, 'ಭಷಮ': 1136, 'ಪತಮ': 1137, 'ಮದವಯಗವದಲಲ': 1138, 'ಪರತಜಞ': 1139, 'ಮಡದದರ': 1140, 'ಬಯಕ': 1141, 'ದರದಲಲದ': 1142, 'ಮದ': 1143, 'ಭಟಯಗಲದದರ': 1144, 'ಲಖನದಲಲ': 1145, 'ಎಲಲಯ': 1146, 'ಉದಧರಣ': 1147, 'ಚಹನಗಳನನ': 1148, 'ಬಳಸಲಗವದಲಲ': 1149, 'ಮಹನ': 1150, 'ಚಚಲ': 1151, 'ಶತಯತ': 1152, 'ಸಥಳದಲಲ': 1153, 'ಕಳತಕಳಳಲ': 1154, 'ಸಕಟಮಚಕ': 1155, 'ಹನಮಮಥನ': 1156, 'ಪಜಯದ': 1157, 'ಸಕಟಗಳ': 1158, 'ದರವಗತತವ': 1159, 'ಜಗತಕ': 1160, 'ವರಯಬಲ': 1161, 'ಯಧನ': 1162, 'ಯದಧಭಮಯಲಲ': 1163, 'ಹತತಮರದರ': 1164, 'ಎಲಲದಕಕ': 1165, 'ಇರಬಕ': 1166, 'ಬಳ': 1167, 'ಪಸತಕ': 1168, 'ಇಲಲವ': 1169, 'ಸರ': 1170, 'ಕಷ': 1171, 'ಕಷತರದಲಲ': 1172, 'ಜಲಸಚನವನನ': 1173, 'ಧನಯವನನ': 1174, 'ಬತತತತನ': 1175, 'ಅಶದಧ': 1176, 'ತಪಪ': 1177, 'ಹದಗ': 1178, 'ಗತತಲಲ': 1179, 'ರತರ': 1180, 'ಮಳಯಯತ': 1181, 'ಮಹಗಡ': 1182, 'ಮನಸಸ': 1183, 'ಲಕಕ': 1184, 'ವಷಯಗಳ': 1185, 'ಕಷಣಕ': 1186, 'ಸತಷವನನ': 1187, 'ಕಡಕಳಳತತದ': 1188, 'ಮದಕ': 1189, 'ಕಳತತದದಳ': 1190, 'ಕರಚಗ': 1191, 'ಕಲಗಳವ': 1192, 'ಅಮನತಗಡ': 1193, 'ನಕರರ': 1194, 'ಮರಸಥಪನಗಗ': 1195, 'ಹಕರಟಗ': 1196, 'ಅರಜ': 1197, 'ಸಲಲಸದದರ': 1198, 'ಭಸಕರ': 1199, 'ಖಡಗಧರಗಳ': 1200, 'ವತತದ': 1201, 'ಬದವನದ': 1202, 'ರಖಯನನ': 1203, 'ಎಳಯರ': 1204, 'ವಚರಯಕತವದ': 1205, 'ಆಡತತನ': 1206, 'ಸಪರದಯವನನ': 1207, 'ಅತಯವಶಯವದ': 1208, 'ಮತಗಗ': 1209, 'ಸವಕರಸವದಲಲ': 1210, 'ಮಚದ': 1211, 'ಇರಲಲಲ': 1212, 'ಬರಸಟ': 1213, 'ಚತರಗಳ': 1214, 'ಸಖಯಗಳ': 1215, 'ತಯ': 1216, 'ಹಲಲಜಜವ': 1217, 'ಬರಷ': 1218, 'ಪತರವ': 1219, 'ಅಸಯ': 1220, 'ಮಡಬರದ': 1221, 'ಸದಧತ': 1222, 'ಅಭಯಸ': 1223, 'ಓದವದಲಲ': 1224, 'ಸತತತತದ': 1225, 'ಆಸತಕತಯ': 1226, 'ಪರತಪದಕರ': 1227, 'ಯಸವನ': 1228, 'ಕರತ': 1229, 'ಪತರಯ': 1230, 'ಕಳಗ': 1231, 'ಹಪಪಗಟಟತತದ': 1232, 'ಎಲಲದದನ': 1233, 'ಪರಬಧಕನ': 1234, 'ಉತಪದಸದ': 1235, 'ವವರಗಳನನ': 1236, 'ಕಳತತದದರ': 1237, 'ಓದದದನನ': 1238, 'ನನಪಸಬಡ': 1239, 'ಶಲಯಲಲ': 1240, 'ಶಕಷಕರ': 1241, 'ಕಲಸತತರ': 1242, 'er': 1243, 'ದರಯ': 1244, 'ಎಲಲರಗ': 1245, 'ಜನರನನ': 1246, 'ಅನಸರಸವ': 1247, 'ಕಪಟಗಳದ': 1248, 'ದರವರವದ': 1249, 'ಸಮಯ': 1250, 'ಅರಜನ': 1251, 'ಬಬಬ': 1252, 'ಪರವಣ': 1253, 'ಧರನಧರಯಗದದ': 1254, 'ಸಪ': 1255, 'ರವಶನ': 1256, 'ರಜನಮಯನನ': 1257, 'ರಷಟರಪತಗ': 1258, 'ಸಲಲಸತತರ': 1259, 'ಹಸದಗ': 1260, 'ಕಣತತದ': 1261, 'ವವರವಗ': 1262, 'ಹಳತತದದನ': 1263, 'ಕವಚವರವ': 1264, 'ವಸತ': 1265, 'ಸರಕಷತವಗರತತದ': 1266, 'ಸಲನನ': 1267, 'ಸಮಸಖಶಯಗನಗಣವಗ': 1268, 'ವರಗಕರಸ': 1269, 'ಭಕತರ': 1270, 'ವಶವಸ': 1271, 'ಇರತತದ': 1272, 'ಅರಥತ': 1273, 'ಪರಸರದ': 1274, 'ಜತಗ': 1275, 'ಘಟಕಗಳ': 1276, 'ಸಬಧದ': 1277, 'ಜನ': 1278, 'ಮನಯ': 1279, 'ಉಪವಸದ': 1280, 'ಎಬತಮರನ': 1281, 'ಈಗಲ': 1282, 'ಹಗದ': 1283, 'ಕಯರ': 1284, 'ಗಣತ': 1285, 'ತರಗತಯಲಲ': 1286, 'ಭಗಕರ': 1287, 'ಕಲಸಲಗವದ': 1288, 'ಲಭಯವರವ': 1289, 'ಸಲಭಯಗಳನನ': 1290, 'ಬಳಸಕಳಳ': 1291, 'ವದಶ': 1292, 'ಆಸತ': 1293, 'ಹತರಗತತರ': 1294, 'ವರಷ': 1295, 'ಮಳಯದಗ': 1296, 'ಕಯಲ': 1297, 'ಮತದವಗಳ': 1298, 'ರಸತ': 1299, 'ಸರಗಯಲಲ': 1300, 'ಚಲಸತತವ': 1301, 'ಕವ': 1302, 'ರಧರವನನ': 1303, 'ಸರಯಗ': 1304, 'ಸವಚಛಗಳಸಬಕ': 1305, 'ಲಕಸಭಯಲಲ': 1306, 'ಅಗಕರಸದ': 1307, 'ಶಘರದಲಲ': 1308, 'ಜರಗ': 1309, 'ಬರಲದ': 1310, 'ಜಗಪಸಯಳಳ': 1311, 'ದವರಗ': 1312, 'ಪರಯನಲಲ': 1313, 'ಆಲಕಹಲಯಕತ': 1314, 'ಪನಯಗಳನನ': 1315, 'ತಯಜಸಬಕ': 1316, 'ವದಯರ': 1317, 'ಹಳತತದದರ': 1318, 'ಫಲ': 1319, 'ಎಬ': 1320, 'ಶರರಶಕಯಲಲ': 1321, 'ತರಸ': 1322, 'ಸಹ': 1323, 'ಮಸ': 1324, 'ಭಕಷಕ': 1325, 'ವದಷಕ': 1326, 'ಅಬಬರದ': 1327, 'ಧರಸದದರ': 1328, 'ಗರಭಣಯರ': 1329, 'ಭರಣದ': 1330, 'ಬಳವಣಗಯ': 1331, 'ವಶಷ': 1332, 'ಗಮನ': 1333, 'ಹರಸಬಕ': 1334, 'ಮನಹರ': 1335, 'ಜಗಳಗಟ': 1336, 'ಹಡತಯನನ': 1337, 'ಎಲಲಗ': 1338, 'ಕರಯವದಲಲ': 1339, 'ಇತತಚನ': 1340, 'ದನಗಳಲಲ': 1341, 'ಅಸವಭವಕ': 1342, 'ಲಕಷಣಗಳ': 1343, 'ಅದರಲಲ': 1344, 'ಕಣಸಕಳಳತತವ': 1345, 'ಪರತಯಕಷ': 1346, 'ರಪದಲಲ': 1347, 'ಪರಯವರಣ': 1348, 'ಪರಭವಗಳನನ': 1349, 'ಬರತತವಯ': 1350, 'ಪರಸರ': 1351, 'ಹಳಯ': 1352, 'ಆಲಚನ': 1353, 'ಪರವಹದ': 1354, 'ಅನಯ': 1355, 'ಅಥವ': 1356, 'ಹಡಗಯನನ': 1357, 'ಮದವಯಗವದನನ': 1358, 'ಶಯಮ': 1359, 'ಬಹರಮಖ': 1360, 'ಸಭಷಣಯಲಲ': 1361, 'ಇರವ': 1362, 'ವಷಯವನನ': 1363, 'ಸಪಷಟ': 1364, 'ವಮನ': 1365, 'ನಲದಣವ': 1366, 'ಅಪರಕತಕವದ': 1367, 'ಉಳಯಲ': 1368, 'ಸಮಯವಲಲ': 1369, 'ತಕಷಣವದ': 1370, 'ಆಯಧದದ': 1371, 'ದಳ': 1372, 'ಸದದಕಡ': 1373, 'ಅದರ': 1374, 'ಹಳಬಕ': 1375, 'ಕಡಬರ': 1376, 'ಓದದದರ': 1377, 'ಅಲಕಸಡರ': 1378, 'ಜವತವಧಯಲಲ': 1379, 'ಅಜಯ': 1380, 'ಯಧನಗ': 1381, 'ಉಳದನ': 1382, 'ಬರತತನ': 1383, 'ಅನನದದ': 1384, 'ಮಧಯ': 1385, 'ವವಹತ': 1386, 'ಆತಮಸಕಷಯ': 1387, 'ಮಹನರ': 1388, 'ಸಬಧ': 1389, 'ಅಸವಭವಕವಗದ': 1390, 'ಕಡವ': 1391, 'ಹತತಗ': 1392, 'ಕಷಟಗಳ': 1393, 'ಕರನಟಕದಲಲ': 1394, 'ಚನನದ': 1395, 'ಗಣಗಳ': 1396, 'ಪತತಯಗವ': 1397, 'ಸತಯವತರದ': 1398, 'ಸಧಸತರ': 1399, 'ನಸಪಹರಗರತತರ': 1400, 'ದಕಷ': 1401, 'ಪಡದ': 1402, 'ಶಷಯರ': 1403, 'ನಯಮವನನ': 1404, 'ಅವಶಯ': 1405, 'ಪರವರದದಗ': 1406, 'ಸಖ': 1407, 'ಗಹಸಥ': 1408, 'ವವರಣಯನನ': 1409, 'ಪತರದಲಲ': 1410, 'ಬರದ': 1411, 'ಜ': 1412, 'ಆರ': 1413, 'ಡ': 1414, 'ಟಟ': 1415, 'ಕಳಸದರ': 1416, 'ಭಟ': 1417, 'ಚತರಗಳನನ': 1418, 'ಸವಕರಸತತರ': 1419, 'ಅರಹತ': 1420, 'ಕರಣ': 1421, 'ಅಧಯಪಕ': 1422, 'ಸಕಕದ': 1423, 'ಪರಕಷಸಲ': 1424, 'ಅವನದಗ': 1425, 'ಮತರತತವವನನ': 1426, 'ಬಟಟಬಡ': 1427, 'ದರವಯಸನ': 1428, 'ಬಗಲರ': 1429, 'ಸಲಕ': 1430, 'ಸಯರಗಳ': 1431, 'ಬರತತರ': 1432, 'ಶತರಗಳ': 1433, 'ಭಯದದ': 1434, 'ನಡಗದ': 1435, 'ಸನಯವ': 1436, 'ಯದಧಭಮಯದ': 1437, 'ಓಡಹಯತ': 1438, 'ಮರಣತಕ': 1439, 'ವಷವನನ': 1440, 'ಕಡಯವ': 1441, 'ಮಲಕ': 1442, 'ಜವನವನನ': 1443, 'ಕನಗಳಸದನ': 1444, 'ವವಧ': 1445, 'ಶರಭಷಣ': 1446, 'ಧರಸತತರ': 1447, 'ಮಳಗಲದಲಲ': 1448, 'ಮರಗದಲಲ': 1449, 'ಹಗವದ': 1450, 'ಬದದದನ': 1451, 'ನಕರತಮಕ': 1452, 'ಪದ': 1453, 'ಚಲನಚತರಗಳ': 1454, 'ನಗನತಯದ': 1455, 'ತಬವ': 1456, 'ದರದಷಟಯ': 1457, 'ಸಮಸಯಗಳಗ': 1458, 'ಸಲಕವದಲಲ': 1459, 'ಪರತಪಕಷಗಳ': 1460, 'ನತ': 1461, 'ಪರಸತಪದ': 1462, 'ಸಪಷಟನ': 1463, 'ಕಳವತ': 1464, 'ಸರಕರವನನ': 1465, 'ಕಳದವ': 1466, 'ಬಟಗರ': 1467, 'ನರಭಕಷಕ': 1468, 'ಹಲಯನನ': 1469, 'ಮತಧಕರ': 1470, 'ಚನವಣಯಲಲ': 1471, 'ಮಹತವದ': 1472, 'ಪತರ': 1473, 'ವಹಸತತರ': 1474, 'ಇಲಖಯಲಲ': 1475, 'ಹಗರಣಗಳ': 1476, 'ನಡಯತತವ': 1477, 'ಹಣಣಗಳವ': 1478, 'ಚತರಸವಕರಣ': 1479, 'ಯತರದಲಲ': 1480, 'ಉಪಯಗಸವ': 1481, 'ಉಪಕರಣಗಳ': 1482, 'ಸಯಮ': 1483, 'ಆರಗಯದ': 1484, 'ಲಕಷಣ': 1485, 'ಸಲಹ': 1486, 'ಬಕಟನಲಲ': 1487, 'ನರಲಲ': 1488, 'ಕತಯಲಲ': 1489, 'ಅನಭವವದ': 1490, 'ರಷಟರಪತ': 1491, 'ಶರನರಯಣ': 1492, 'ಬಡ': 1493, 'ಕಟಬದಲಲ': 1494, 'ಜನಸದರ': 1495, 'ಮತನಡ': 1496, 'ಗರಮ': 1497, 'ಸವಪಕಷಯ': 1498, 'ವಷಕರ': 1499, 'ಮದಯ': 1500, 'ಸವಸವದರದ': 1501, 'ಉಟಗವ': 1502, 'ಅರವತತದನಯ': 1503, 'ಬಳಯಲಲ': 1504, 'ಹನಯಯತ': 1505, 'ಪರಕಷಗಳಲಲ': 1506, 'ಕಯಲಕಲಟರ': 1507, 'ಬಳಕಯನನ': 1508, 'ವನಯತ': 1509, 'ನಡಲಗದ': 1510, 'ಪರತಗಳಸಲ': 1511, 'ಬಳಸವ': 1512, 'ಚನಹಗಳ': 1513, 'ಜವನ': 1514, 'ನಸರಗಕ': 1515, 'ಪರಕರಯ': 1516, 'ದರಕರವ': 1517, 'ಪಲನನ': 1518, 'ಹದಸರ': 1519, 'ಬಟಲ': 1520, 'ಕಯಪ': 1521, 'ಅನನ': 1522, 'ಇರಸದದರ': 1523, 'ಧರಸವದ': 1524, 'ಒಯಯವದ': 1525, 'ಗಜಶಲಯ': 1526, 'ಮಣಣನನ': 1527, 'ಕರಯಗಳಲಲ': 1528, 'ಶಲ': 1529, 'ಪರರಭವಯತ': 1530, 'ದಹಸವಕ': 1531, 'ಸವಕರಸತತಲಲ': 1532, 'ತರತ': 1533, 'ಇದದದರದ': 1534, 'ಮಹಡಯ': 1535, 'ಕಳತ': 1536, 'ಅಧಯಯನ': 1537, 'ಹಳತತರ': 1538, 'ಮಳಳಲಲದ': 1539, 'ಸಸಯ': 1540, 'ನಯಯಯತವಗ': 1541, 'ವರತಸತತನ': 1542, 'ಅಕಕಸಲಗನ': 1543, 'ಬಗರದ': 1544, 'ನಣಯವನನ': 1545, 'ಹಣವನನ': 1546, 'ಮರಗ': 1547, 'ಹಗತತದ': 1548, 'ಗದದಲಯ': 1549, 'ಹಸತಪರಕಣ': 1550, 'ಹಸ': 1551, 'ಯಜನಗಗ': 1552, 'ಸರವರನನ': 1553, 'ಹಳಲ': 1554, 'ಅರವರತಸಲ': 1555, 'ಸಧಯವಗವದಲಲ': 1556, 'ಹಗದದರ': 1557, 'ಅಧಯನಕಕ': 1558, 'ಪರಸತಕ': 1559, 'ಹಸರನನ': 1560, 'ಹಸರಸದದರ': 1561, 'ಎಸ': 1562, 'ಎಮ': 1563, 'ಸಕಷಪತರದಲಲ': 1564, 'ಮತಯನನ': 1565, 'ಶಭಶಯಗಳನನ': 1566, 'ತರಗತತದ': 1567, 'ಪತರದ': 1568, 'ವದಶದಲಲ': 1569, 'ಅಧಯಯನದ': 1570, 'ಖರಚಗಳ': 1571, 'ಕಳಸದದರ': 1572, 'ಹಡದಕಳಳ': 1573, 'ವಶರತ': 1574, 'ಪಡಯರ': 1575, 'ನಬವದಲಲ': 1576, 'ಮಖಯ': 1577, 'ಬಣಣಗಳ': 1578, 'ಮಶರಣದದಗ': 1579, 'ಬಣಣಗಳನನ': 1580, 'ಪಡಯಬಹದ': 1581, 'ಸನಹತ': 1582, 'ಬಗವನನ': 1583, 'ತಗಯವದಕಕಗ': 1584, 'ಬಗದ': 1585, 'ಕ': 1586, 'ತತಗ': 1587, 'ಕಲಕಯನನ': 1588, 'ಹಕ': 1589, 'ತಗದನ': 1590, 'ಸಲಭಗಳಸವ': 1591, 'ಪರಹರವನನ': 1592, 'ಸಚಸ': 1593, 'ಅಮರನಥ': 1594, 'ಹದಗಳ': 1595, 'ಪವತರ': 1596, 'ತರಥ': 1597, 'ಧಮ': 1598, 'ವಳಸ': 1599, 'ವದಯಲಯವ': 1600, 'ಪರದರಶಸದ': 1601, 'ನಟಕವನನ': 1602, 'ಪರಕಷಕರಲಲರ': 1603, 'ಮಚಚದರ': 1604, 'ನರಳ': 1605, 'ದವತಯಕ': 1606, 'ಬಣಣವಗದ': 1607, 'ಸರಕರದ': 1608, 'ವಭಗಗಳಲಲ': 1609, 'ಮತರಯಗ': 1610, 'ಅವರದ': 1611, 'ಕಲಸಗಳ': 1612, 'ಮಡಲಪಟಟವ': 1613, 'ಆರಸದ': 1614, 'ವಡಯಗಳ': 1615, 'ತರಸವಕ': 1616, 'ಆಧನಕ': 1617, 'ಕಲದಲಲ': 1618, 'ಆಡಳತ': 1619, 'ಪಕಷ': 1620, 'ಅಧಕರವನನ': 1621, 'ತಯಜಸಲ': 1622, 'ಬಯಸವದಲಲ': 1623, 'ಪರಯರ': 1624, 'ಮನಗ': 1625, 'ಗಟಯ': 1626, 'ಕಠಣ': 1627, 'ಪರಶರಮದ': 1628, 'ನತರವ': 1629, 'ಲಖನದ': 1630, 'ತರಮನಕಕ': 1631, 'ಬರಲ': 1632, 'ಸಧಯವಯತ': 1633, 'ಮಗಲಯನ': 1634, 'ರಯಭರ': 1635, 'ಕಚರಗ': 1636, 'ಹಗಬಕಗತತ': 1637, 'ತವರ': 1638, 'ಕಪಗಡಳ': 1639, 'ಎರಡನಯದ': 1640, 'ಕಜರ': 1641, 'ಕಣಣಗಳ': 1642, 'ಎಲಲರನನ': 1643, 'ಸಮಹನಗಳಸತತದದವ': 1644, 'ಮಡವಯನನ': 1645, 'ಹಗಲಡಸಲ': 1646, 'ಚದನದ': 1647, 'ಲಪವನನ': 1648, 'ಹಚಚಕಳಳತತಳ': 1649, 'ಆಗಮನವನನ': 1650, 'ನರಕಷಸತತದದ': 1651, 'ವದವತತನ': 1652, 'ಬಲದದ': 1653, 'ಶಕರಚರಯರ': 1654, 'ಹದಧರಮವನನ': 1655, 'ಸಥಪಸದರ': 1656, 'ಖತ': 1657, 'ಅನಭವಸ': 1658, 'ಚತತವಗತತ': 1659, 'ಮಡಬಕ': 1660, 'ಹದರತತಳ': 1661, 'ರಹ': 1662, 'ಸಲಲಸದದ': 1663, 'ಮಕದದಮಯನನ': 1664, 'ವಜಗಳಸಲಯತ': 1665, 'ವಯಕತಕ': 1666, 'ಕಮವದವ': 1667, 'ಅತರಯದಧದ': 1668, 'ಪರಮಖ': 1669, 'ಕರಣಗಳಲಲ': 1670, 'ಒದಗಬಹದ': 1671, 'ಸಖಯ': 1672, 'ಬಜಗಣತದ': 1673, 'ಪರಶನಯನನ': 1674, 'ತಕಷಣ': 1675, 'ಪರಹರಸತತನ': 1676, 'ಸಪರಕವ': 1677, 'ಬರಮ': 1678, 'ಕನಯ': 1679, 'ಎಬವರದಗ': 1680, 'ಆಯತ': 1681, 'ಒಟಟಗಡಸವದಕಕ': 1682, 'ಮತರನ': 1683, 'ಋಷ': 1684, 'ಸತರ': 1685, 'ಯದಗ': 1686, 'ವವಹವನನ': 1687, 'ಮಡಕಡನ': 1688, 'ಸದರವಗರತತದ': 1689, 'ಅಪಘತದಲಲ': 1690, 'ಅಕಲಕವಗ': 1691, 'ನಧನರದರ': 1692, 'ಛತರ': 1693, 'ತಗದಕಡದದರ': 1694, 'ಮನಯಲಲ': 1695, 'ಏನದರ': 1696, 'ಓದತತರಯ': 1697, 'ಹಸಗಳ': 1698, 'ಎತತಗಳ': 1699, 'ಇತಯದ': 1700, 'ಪರಣಗಳ': 1701, 'ಮಳ': 1702, 'ಬಳತತದಯ': 1703, 'ಆಯಗವ': 1704, 'ಉನನತ': 1705, 'ಅಧಕರಗಳನನ': 1706, 'ನಮಸವದನನ': 1707, 'ಮದವರಸದ': 1708, 'ಸರಯ': 1709, 'ಸಹದರರದದರ': 1710, 'ಇಲಲದದದರ': 1711, 'ತಕಕಲಕವಗ': 1712, 'ಸಪರಕಸಥತಯನನ': 1713, 'ಪರರಪಸ': 1714, 'ಹಗದದನ': 1715, 'ಸಪರಕದರನ': 1716, 'ಥಮ': 1717, 'ಚತ': 1718, 'ಹಡತಗ': 1719, 'ವಷಯದ': 1720, 'ತಳಯತತದ': 1721, 'ವಸತತ': 1722, 'ಆರಭಸ': 1723, 'ಹತತ': 1724, 'ಓದದದನ': 1725, 'ಆಗಲ': 1726, 'ಅಶವಶಲಯಲಲ': 1727, 'ಐದ': 1728, 'ಕದರಗಳವ': 1729, 'ಯಕತಯದ': 1730, 'ಒಳಬರವ': 1731, 'ಸವಗತಸ': 1732, 'ಕಲವರ': 1733, 'ಸಮಜಕ': 1734, 'ನಯತರಣದಲಲ': 1735, 'ಪರಣತರಗದದರ': 1736, 'ಬರಡ': 1737, 'ಹದದದರ': 1738, 'ಚನನಗರತತತತ': 1739, 'ಅಡರಖ': 1740, 'ಸಲಡಸನ': 1741, 'ತಗದಹಕವಕ': 1742, 'ಊಟದ': 1743, 'ನತರ': 1744, 'ಇದಯ': 1745, 'ರಜದನಗಳ': 1746, 'ಹಳಳಯಲಲ': 1747, 'ವಯರಥ': 1748, 'ತನನಲಲಲ': 1749, 'ಕದಬಕ': 1750, 'ಹವಗಳಗ': 1751, 'ರಪತರಗಳಳತತದ': 1752, 'ಪಡ': 1753, 'ಭಮ': 1754, 'ಮಹ': 1755, 'ಬಲವತನಗದದ': 1756, 'ಕಳಸಲಗದ': 1757, 'ಪದಗಳನನ': 1758, 'ಅಪರಪತ': 1759, 'ಬಲಕಯರ': 1760, 'ವವಹ': 1761, 'ಕನನ': 1762, 'ಬಹರವಗದ': 1763, 'ಶರರವನನ': 1764, 'ಸರಪಣಯ': 1765, 'ಕವಚದದ': 1766, 'ಮಚಚಳಗದ': 1767, 'ಹಗಗ': 1768, 'ನರಯಣ': 1769, 'ಕರಯಲಯಕಕ': 1770, 'ಅನಮತಗಗ': 1771, 'ವನತ': 1772, 'ಹಷರಲಲ': 1773, 'ಮಹಶವತ': 1774, 'ದವಯ': 1775, 'ಅನವದತ': 1776, 'ಹಳಬಲಲರ': 1777, 'ಪಯನಗ': 1778, 'ಬರಯವನ': 1779, 'ಚಪತಗಳನನ': 1780, 'ತನನವದಲಲ': 1781, 'ಆಭರಣಗಳದ': 1782, 'ಅಲಕತವದ': 1783, 'ಮಹಳಯ': 1784, 'ಕಣಣಗಳನನ': 1785, 'ಇರಸಲಗತತ': 1786, 'ಶರಮತ': 1787, 'ಸಹದರನ': 1788, 'ಹಚಚದ': 1789, 'ಬಗಯದ': 1790, 'ಧರಸಲ': 1791, 'ಇಷಟಪಡತತರ': 1792, 'ಗಗಲ': 1793, 'ಜವಸತವ': 1794, 'ವಧದಗಳವ': 1795, 'ಒಳಗರವ': 1796, 'ವರಗಕರಸದ': 1797, 'ಸಪಷಟಕರಣ': 1798, 'ಮರಯದ': 1799, 'ಸಷಟ': 1800, 'ಸನಹತರದಗ': 1801, 'ಚಲನಚತರಕಕ': 1802, 'ಹಗದದ': 1803, 'ವಸಸವದ': 1804, 'ಅನವರಯ': 1805, 'ಬಹಷಕತ': 1806, 'ಕಟಬದ': 1807, 'ಸದಸಯ': 1808, 'ಸಥಳ': 1809, 'ಮರಕಟಟಯಲಲ': 1810, 'ಉತಪನನಗಳ': 1811, 'ಪರಚಯದದಗ': 1812, 'ಸರಕಗಳ': 1813, 'ಅಸತವಯಸತವಗದ': 1814, 'ವಬಬಡ': 1815, 'ಕಗ': 1816, 'ಸತತಡಕಡ': 1817, 'ಹಡಗಗ': 1818, 'ಬರತತದ': 1819, 'ಚಹನಯನನ': 1820, 'ವಕಯದ': 1821, 'ನಳ': 1822, 'ಶಶವತವಲಲ': 1823, 'ಇಲಲಯ': 1824, 'ಕಳ': 1825, 'ಹಡತವನನ': 1826, 'ತಗದಕಳಳ': 1827, 'ಪರಸಥತಗ': 1828, 'ಸಲಕಬಹದ': 1829, 'ಕನಸ': 1830, 'ಕಡರಲಲಲ': 1831, 'ತದದದರ': 1832, 'ಭವಷಯದ': 1833, 'ಭಷಣಕರರ': 1834, 'ಪರಕರ': 1835, 'ಗಮನರಹ': 1836, 'ವಕಲಗರಗ': 1837, 'ನಜವಗ': 1838, 'ಪರತಯಕ': 1839, 'ಎಬದ': 1840, 'ಎ': 1841, 'ಶಬದ': 1842, 'ಸಥಳವಲಲ': 1843, 'ಸರಯಬಡ': 1844, 'ಶಲಯಲಲನ': 1845, 'ಒಳಳಯತನಕಕ': 1846, 'ಹಸರವಸಯಗದದನ': 1847, 'ಅಹತಕರವದದದನನ': 1848, 'ವಟಮನ': 1849, 'ಕರತಯ': 1850, 'ಕರಡತನಕಕ': 1851, 'ಕರಣವಗತತದ': 1852, 'ಸನಯಸಗಳ': 1853, 'ಕಶನಗರದಲಲ': 1854, 'ತರಗಡವದನನ': 1855, 'ಕಣಬಹದ': 1856, 'ಗಜರತನಲಲ': 1857, 'ದರತ': 1858, 'ಭಕಪವ': 1859, 'ಅನಕರನನ': 1860, 'ಅನಥಗಳಸದ': 1861, 'ಭಡರದ': 1862, 'ಶಧನ': 1863, 'ಬರಯವ': 1864, 'ಆರಭ': 1865, 'ಪರಕತಯಲಲ': 1866, 'ಸಮತಲನವಗ': 1867, 'ಇದದವ': 1868, 'ಅಪರಧಗಳನನ': 1869, 'ಪಲಸರ': 1870, 'ಬಧಸದದರ': 1871, 'ಶಖ': 1872, 'ಮಸಟರ': 1873, 'ಕಗಳದ': 1874, 'ಅಗಯನನ': 1875, 'ಹಲದಳ': 1876, 'ರತನ': 1877, 'ಬತತನ': 1878, 'ಮಡರವತಹ': 1879, 'ಹಲವನನ': 1880, 'ನಡಕಳಳತತದದನ': 1881, 'ಲಡನ': 1882, 'ಸಕಲ': 1883, 'ಆಫ': 1884, 'ಎಕನಮಕಸ': 1885, 'ಮಹವದಯಲಯದಲಲ': 1886, 'ಓದತತದದರ': 1887, 'ತಡವಗ': 1888, 'ಎದದ': 1889, 'ವರಗರಸಬಕ': 1890, 'ಕಷಠಕ': 1891, 'ವರವ': 1892, 'ಪರಶನಯಲಲ': 1893, 'ಮಧಯದ': 1894, 'ಕಷಠಕವನನ': 1895, 'ತಗದ': 1896, 'ಕಸವರವ': 1897, 'ಹಕವರ': 1898, 'ಪತರಕ': 1899, 'ಕಠಣವಗತತ': 1900, 'ಒಣ': 1901, 'ಕಳಗಳ': 1902, 'ತಬದವ': 1903, 'ಮದಳನ': 1904, 'ಶಸತರಚಕತಸಯ': 1905, 'ರಗಯ': 1906, 'ಮತಪಟಟನ': 1907, 'ಪರಣವಗ': 1908, 'ತಳಯದ': 1909, 'ವಚರವಗಲ': 1910, 'ವದಸಬರದ': 1911, 'ಪರದರಶತ': 1912, 'ಮರಟಕಕ': 1913, 'ಇರವದಲಲ': 1914, 'ವಡವನನ': 1915, 'ಪಚಚ': 1916, 'ಅಮಲಯ': 1917, 'ಸಲನಲಲ': 1918, 'ತನನತತದದರ': 1919, 'ವವದಸಪದ': 1920, 'ಭದಸವದ': 1921, 'ಆದಯತಯಗದ': 1922, 'ಕಶ': 1923, 'ರಮಶವರಕಕ': 1924, 'ನಡದದರ': 1925, 'ಪಪದದ': 1926, 'ಉಭಯ': 1927, 'ಪಕಷಗಳ': 1928, 'ನಡವ': 1929, 'ಒಪಪದವತತ': 1930, 'ಸಬಧದಲಲ': 1931, 'ಹಸತಕಷಪ': 1932, 'ಮಡವದಲಲ': 1933, 'ಅಕಷರಕಶದಲಲ': 1934, 'ವಕಯವನನ': 1935, 'ಪರಸತಪಸತತದ': 1936, 'ಮಲಗರವನನ': 1937, 'ರತ': 1938, 'ಬಯಸರಬಕ': 1939, 'ಪರಯ': 1940, 'ಸಹದರ': 1941, 'ಗಣತವನನ': 1942, 'ಹತತವರ': 1943, 'ಪರತಯಬಬ': 1944, 'ಗತ': 1945, 'ಸಲಕಷನ': 1946, 'ಎಲಗಳ': 1947, 'ಮಲನ': 1948, 'ನರನ': 1949, 'ಹನಗಳ': 1950, 'ಸರಯಪರಕಶಕಕ': 1951, 'ಮತತನ': 1952, 'ಹನಗಳತ': 1953, 'ಹಳಯತತದ': 1954, 'ಇಡಲಯನನ': 1955, 'ನಗರಕತಯಲಲ': 1956, 'ವಯವಸಥಯನನ': 1957, 'ವಭಗಗಳ': 1958, 'ನರಧರಸತತವ': 1959, 'ವಶಲಗಳಸಲ': 1960, 'ನವಸ': 1961, 'ವಸಗಳನನ': 1962, 'ಸಬಧಸ': 1963, 'ಪರಧನಮತರ': 1964, 'ಗಜರಲ': 1965, 'ಮತನಡದರ': 1966, 'ಭಷಯ': 1967, 'ವರಣಮಲಯಲಲ': 1968, 'ಕಕರದದ': 1969, 'ಹಕರದವರಗ': 1970, 'ವಯಜನಗಳವ': 1971, 'ವದಯರಥ': 1972, 'ನಹರ': 1973, 'ಶರನರಯಣರ': 1974, 'ಸಸಥಯ': 1975, 'ಐವತತಬತತನ': 1976, 'ಶತಮನತಸವ': 1977, 'ಅಕಷರಗಳ': 1978, 'ಲಖತ': 1979, 'ಗರತಗಳಗವ': 1980, 'ಇಲಲದ': 1981, 'ಕಲಸವದ': 1982, 'ಅಸಯಯಲಲದ': 1983, 'ಅವಗಳ': 1984, 'ಸದಧಪಡಸದ': 1985, 'ಗದಮನಲಲ': 1986, 'ಇಡಲಗತತದ': 1987, 'ಹದದದನ': 1988, 'ವಷಯಕಕನಗಣವಗ': 1989, 'ವರಗಕರಣ': 1990, 'ಜತಯವರನನಲಲ': 1991, 'ಕರತದ': 1992, 'ಗರಮದಲಲ': 1993, 'ನಲಸದನ': 1994, 'ಭಷಯಲಲ': 1995, 'ECOLOGY': 1996, 'ಸದಹವದಯ': 1997, 'ಫಸ': 1998, 'ಬಳಕದರನ': 1999, 'ಸದಧ': 2000, 'ಉಡಪಗಳನನ': 2001, 'ಧರಸತತಳ': 2002, 'ಕವಲಗರರ': 2003, 'ರಷಟರದ': 2004, 'ನಜವದ': 2005, 'ಪತರರ': 2006, 'ಗಯಗಡವರನನ': 2007, 'ಚಕತಸ': 2008, 'ಗಮಯಸಥನಕಕ': 2009, 'ಕರದಯಯಲಯತ': 2010, 'ಸಮರಭದ': 2011, 'ಕಥ': 2012, 'ಸಖತಯವಗದ': 2013, 'ಸದಧಗಳಸ': 2014, 'ಕಫ': 2015, 'ಅವಧಯ': 2016, 'ನಡಲಗವದಲಲ': 2017, 'ಆಕಷಪವಲಲ': 2018, 'ದವ': 2019, 'ಎವರಸಟ': 2020, 'ಚಕಕ': 2021, 'ಶಖರ': 2022, 'ಅಸರಯ': 2023, 'ಹದರಸದ': 2024, 'ಮಣಣ': 2025, 'ಉರಯದ': 2026, 'ಗರಹವ': 2027, 'ಆಕಶಕಯವಗದ': 2028, 'ಒಬಬರ': 2029, 'ಸಭಯಲಲ': 2030, 'ಅಹಕರದದ': 2031, 'ಕಲವಮಮ': 2032, 'ಸಭವಸತತದ': 2033, 'ಹಳದದ': 2034, 'ಮಖವನನ': 2035, 'ತಳದಕಳಳತತನ': 2036, 'ನಣ': 2037, 'ಸದದಯನನ': 2038, 'ಕವಗಳದ': 2039, 'ಅಮಬ': 2040, 'ಭಗಗಳಗ': 2041, 'ವಭಜನಯಗ': 2042, 'ಅಮಬವನನ': 2043, 'ರಪಸತತದ': 2044, 'ನವಟಮಡತತದ': 2045, 'ನರವರ': 2046, 'ಹಲಕಕ': 2047, 'ಹಗಬಡ': 2048, 'ಪದಗಳಲಲ': 2049, 'ಒದದಯದ': 2050, 'ಕಣಣರನ': 2051, 'ಹನಗಳದ': 2052, 'ಅಭಷಕಸಲಗತತದ': 2053, 'ಸನ': 2054, 'ಬಳಕಯಲಲಲಲದ': 2055, 'ಹಡ': 2056, 'ಅವರಲಲರ': 2057, 'ಒಟಟಗ': 2058, 'ವಸಸತತದದರಯ': 2059, 'ಕಪನಯಲಲ': 2060, 'ಹಗಬರದದ': 2061, 'ಕಳದದನ': 2062, 'ಸಮದರ': 2063, 'ತಟದದ12756': 2064, 'ಮಟರ': 2065, 'ಎತತರದಲಲರವ': 2066, 'ಗಹಯ': 2067, 'ಶವ': 2068, 'ಪರಕತಯ': 2069, 'ದರಯಲಲ': 2070, 'ಹಣಣಗಳ': 2071, 'ಮರಕಟಟಗಳಲಲ': 2072, 'ಪರದಶವ': 2073, 'ಮಕಕಲ': 2074, 'ಮಣಣನದ': 2075, 'ಕಡದ': 2076, 'ತರಕರಗಳಲಲ': 2077, 'ಟಕಟ': 2078, 'ಖರದಸಬಕ': 2079, 'ನತಕ': 2080, 'ಇಲಲರವ': 2081, 'ಸಣಣ': 2082, 'ಆವರಣದ': 2083, 'ಮಧಯದಲಲ': 2084, 'ಎಪಪತತಬತತನ': 2085, 'ಕಳದರ': 2086, 'ಅವರಲಲ': 2087, 'ಬದಲವಣಗಳ': 2088, 'ಆಗಲಲಲ': 2089, 'ಮಲಯಮಪನ': 2090, 'ಮಲಯಮಪಕ': 2091, 'ಅಸತಯ': 2092, 'ಮತನಡವದ': 2093, 'ಪಪ': 2094, 'ಆಕಯ': 2095, 'ಖಸಗ': 2096, 'ಬಯಕನಲಲ': 2097, 'ಗಜಟಡ': 2098, 'ಅಲಲದ': 2099, 'ಕಲಸಗಳನನ': 2100, 'ಮಡಕಡ': 2101, 'ನಗರಕಕ': 2102, 'ಪರದರಶನ': 2103, 'ಪರದರಶಸ': 2104, 'ಪಸತಕವ': 2105, 'ಚಲದಲಲದ': 2106, 'ಹಳಬಲಲ': 2107, 'ಭರಮರಹತ': 2108, 'ನರಧರ': 2109, 'ತಗದಕಳಳಬಹದ': 2110, 'ಅನರಗಯದ': 2111, 'ನಡವಯ': 2112, 'ಇಲಲದದನ': 2113, 'ಇಚಛ': 2114, 'ದಶದ': 2115, 'ಜನತಗ': 2116, 'ಐದನನ': 2117, 'ಜಡಸವದರದ': 2118, 'ಒಭತತ': 2119, 'ಸಖಯಯ': 2120, 'ದರಯತತದ': 2121, 'ಕಳಲ': 2122, 'ಊದವ': 2123, 'ವದಯ': 2124, 'ಭರತದಲಲನ': 2125, 'ಉತಪದತ': 2126, 'ದಶಗಳಗ': 2127, 'ರಪತಮಡಲಗತತದ': 2128, 'ಹಮಲಯವ': 2129, 'ಭಗದಲಲದ': 2130, 'ಸಸತತನಲಲ': 2131, 'ವಪಕಷಯ': 2132, 'ಸಸದನ': 2133, 'ಅಸಮಧನವನನ': 2134, 'ಸಷಟಸದರ': 2135, 'ಸಯಮದದ': 2136, 'ಜತದರನಗಬಹದ': 2137, 'ಹಗದರ': 2138, 'ರಜದನವಗದ': 2139, 'ಗಧ': 2140, 'ನರತ': 2141, 'ನಯಕರಗದದರ': 2142, 'ತದಯನನ': 2143, 'ಬಯವದನನ': 2144, 'ಒಳಗದನ': 2145, 'ಟಪಫಜ': 2146, 'ಸಚಕವನನ': 2147, 'ಉಪಯಗಸಲ': 2148, 'ಸದಯವಗವದಲಲ': 2149, 'ಜವಹರಲಲ': 2150, 'ಇಷಟ': 2151, 'ಎಲಲದದರ': 2152, 'ಸಪಷಟತ': 2153, 'ಇಲಲವದರ': 2154, 'ಉಪಯಗಸಬಡ': 2155, 'ಅಪವದಪರಣ': 2156, 'ಘಟನಯಗದ': 2157, 'ಮಕಕಳ': 2158, 'ಲಭಯವಲಲದ': 2159, 'ವಸತವನನ': 2160, 'ಒತತಯಸತತರ': 2161, 'ಆತರಕ': 2162, 'ಮಡಮ': 2163, 'ಆನದದ': 2164, 'ಅರವತತಬತತನ': 2165, 'ಯಕತ': 2166, 'ತದಯತ': 2167, 'ಹಣಣನ': 2168, 'ಜಲಚರ': 2169, 'ಮಸಲತ': 2170, 'ದರವಣ': 2171, 'ಸಭಷಣ': 2172, 'ಅಡಚಣಯಗದ': 2173, 'ಪರಸಥತಯಲಲ': 2174, 'ಪರಯಗಕತಯ': 2175, 'ಸತಯವನನ': 2176, 'ಜಲಗ': 2177, 'ಹಗದತ': 2178, 'ಉಳಸದದಕಕಗ': 2179, 'ಕತಜಞನಗದದನ': 2180, 'ಇಷಟವರಲಲಲ': 2181, 'ಕತಜಞತಯಲಲದ': 2182, 'ಮಗದ': 2183, 'ಯರನನ': 2184, 'ಗರತಸವದಲಲ': 2185, 'ಕಬರಹ': 2186, 'ಉತತಮವಗಲಲ': 2187, 'ಗಲಕದದ': 2188, 'ಐವತತರಡ': 2189, 'ನಣಯದಲಲ': 2190, 'ರಗಳ': 2191, 'ನಣಯಗಳ': 2192, 'ಪಸತಕಗಳನನ': 2193, 'ಭಷಗ': 2194, 'ವರಗಗರಸತತದ': 2195, 'ಸಕತ': 2196, 'ಸಗತತದ': 2197, 'ಸಮಸಣಣ': 2198, 'ಸಚನಫಲಕದಲಲ': 2199, 'ವವರಗಳ': 2200, 'ಹವಲ': 2201, 'ನಯಮಗಳ': 2202, 'ಕಠಣವಗವ': 2203, 'ಮಗನ': 2204, 'ಹಳಳ': 2205, 'ಸವಚಚವಲಲದ': 2206, 'ಉಸರಡಲ': 2207, 'ತದರಯಗವದ': 2208, 'ಹಟಲರ': 2209, 'ನರದಯ': 2210, 'ತನನಬಹದದ': 2211, 'ತಳಯವ': 2212, 'ರದದತ': 2213, 'ಬಲವರಧನ': 2214, 'ಜಗಳಕಕ': 2215, 'ನಯಯಯತ': 2216, 'ಕಡಕಳಳಬಕ': 2217, 'ಸಸಕತ': 2218, 'ಸಸಕತದಲಲ': 2219, 'ಮತನಡಲ': 2220, 'ಹಜರಕ': 2221, 'ದಶದಲಲ': 2222, 'ಯಜತ': 2223, 'ಕಲಗಳ': 2224, 'ಗರಯ': 2225, 'ಹಮದದ': 2226, 'ಪರವತಗಳ': 2227, 'ಇವ': 2228, 'ಗ': 2229, 'dark': 2230, 'ಕದ': 2231, 'ಅರಥವನ': 2232, 'ಒರಟ': 2233, 'ಅಪಘತ': 2234, 'ಬಸನ': 2235, 'ಚಲಕ': 2236, 'ಪರರಯಗದದನ': 2237, 'ವಯಕರಣದಲಲ': 2238, 'ಚಹನಗ': 2239, 'ಮಹತವವದ': 2240, 'ಕಲಬಸ': 2241, 'ಅಮರಕವನನ': 2242, 'ಕಡಹಡದನ': 2243, 'ಆರಭವ': 2244, 'ಸರಯಗದದರ': 2245, 'ಅತಯವ': 2246, 'ಕಡಯ': 2247, 'ವಯಸಸನಲಲ': 2248, 'ಸಟದ': 2249, 'ಅಳತ': 2250, 'ಮವತತ': 2251, 'ಇಚಗಳ': 2252, 'ಏಕರಪವಗದ': 2253, 'ಕಲಸವ': 2254, 'ವಯಕತಯದ': 2255, 'ಜತ': 2256, 'ಹ': 2257, 'ವಕಯದಲಲನ': 2258, 'ಆಶಚರಯಸಚಕ': 2259, 'ಚಹನಯದಗ': 2260, 'ಬಪ': 2261, 'ಅಪರಪ': 2262, 'ಜಗಳವಡತತರ': 2263, 'ಯರಯವನನ': 2264, 'ತಯರಸವಲಲ': 2265, 'ರಸಯನಕ': 2266, 'ಕಪಸದ': 2267, 'ಕಬವನನ': 2268, 'ಬಹಶ': 2269, 'ಮನಷಯನ': 2270, 'ಬಹಮನವನನ': 2271, 'ಬಯಸತತನಯ': 2272, 'ನಡಲಲಲ': 2273, 'ಪರಬಧವನನ': 2274, 'ಬರಯವಗ': 2275, 'ಬರಯದದನನ': 2276, 'ಸಚಸಬಕ': 2277, 'ರಗವನನ': 2278, 'ತಡದಹಕಲ': 2279, 'ಕಹ': 2280, 'ಔಷಧಯನನ': 2281, 'ಕಡಯತತನ': 2282, '1984': 2283, 'ರಲಲ': 2284, 'ಸವಯ': 2285, 'ದಯತವ': 2286, 'ದದ': 2287, 'ಮಕತರದರ': 2288, 'ಜಮನದರ': 2289, 'ಯಗದಲಲ': 2290, 'ಜಮನದರರ': 2291, 'ಬಡಗ': 2292, 'ಪವತಸಲ': 2293, 'ಸಧಯವಗದದದರ': 2294, 'ಹಲಗಳನನ': 2295, 'ದಚತತದದರ': 2296, 'ಮತನಡಬಹದ': 2297, 'ತಳದರಲಲಲ': 2298, 'ಅದಭತ': 2299, 'ಜರಣಗ': 2300, 'ವಯವಸಥಯ': 2301, 'ಜರಣಕರಯಗ': 2302, 'ಸಹಕರಯಗದ': 2303, '25ನ': 2304, 'ಅಧಕರವಧ': 2305, 'ಡರ': 2306, 'ಕಲನರಗಳದ': 2307, 'ಹಜರದದರ': 2308, 'ರಗದ': 2309, 'ಚಕತಸಯ': 2310, 'ಕರಯಚರಣಯದ': 2311, 'ಏಕಕತ': 2312, 'ಸಮಜವ': 2313, 'ಅಭವದಧಯ': 2314, 'ಹದಯಲಲ': 2315, 'ಕಲಸವಲಲ': 2316, 'ರಲನ': 2317, 'ಕಡತತನ': 2318, 'ಸಬಧವಲಲದ': 2319, 'ಕಷತರವಗದ': 2320, 'ರಕಷಣಬಧನದ': 2321, 'ನಷಧತ': 2322, 'ಮಡತತರ': 2323, 'ಪರವತದಲಲ': 2324, 'ಹಮ': 2325, 'ಕಲ': 2326, 'ಅಸಮಧನದ': 2327, 'ಮರರ': 2328, 'ದಗಭರಮಗಡರ': 2329, 'ಸಡಡಮದದ': 2330, 'ಸಫಟಕ': 2331, 'ಕಯಮರದಲಲ': 2332, 'ಪರಣತಯನನ': 2333, 'ಪರಕಷಗ': 2334, 'ಪರಯತನಸದ': 2335, 'ಯಶಸವಯಗದದರ': 2336, 'ಕಟಬತರ': 2337, 'ವಷಯಗಳಲಲ': 2338, 'ನನನದಲಲ': 2339, 'ಕಯದರಸದ': 2340, 'ಬಗಗಳ': 2341, 'ಕಕಕರದವ': 2342, 'ಪತರಕಕ': 2343, 'ಉತತರಸ': 2344, 'ಸಧನವ': 2345, 'ಉತಸಹವನನ': 2346, 'ತಬತತದ': 2347, 'ಪರಕತಕ': 2348, 'ಶವಲಗವನನ': 2349, 'ನಡದನ': 2350, 'ಅಧಕರವಲಲದ': 2351, 'ಕಷಣ': 2352, 'ತಡ': 2353, 'ಹಡಗನದದನ': 2354, 'ಥಯಲಡ': 2355, 'ಟರಕ': 2356, 'ಚನ': 2357, 'ದಶಗಳಲಲ': 2358, 'ದತರಗ': 2359, 'ನರವಹಸದರ': 2360, 'ತರದ': 2361, 'ಕಷಣರಜ': 2362, 'ಯವಲಲ': 2363, 'ಜವಕ': 2364, 'ಅಜವಕ': 2365, 'ಇವಯ': 2366, 'ಇರತತವ': 2367, 'ಅಧಕರಯತವಗ': 2368, 'ಹಳತತನ': 2369, 'ವವರಣ': 2370, 'ಹರಗಹಗವಕ': 2371, 'ಸದದಗಳಸ': 2372, 'ಉಪಯಗಸದ': 2373, 'ಅಲದ': 2374, 'ಸಕತವಗದ': 2375, 'ಸಲವನನ': 2376, 'ಹದರಗಸವದಗ': 2377, 'ಭರವಸ': 2378, 'ಯಜನಶ': 2379, 'ಸದಧವಗದ': 2380, 'ತರಗತಗ': 2381, 'ಹಗಲಲಲ': 2382, 'ಚಲಸತತದ': 2383, 'ಸಯಜನ': 2384, 'ಪರಕರಯಯಲಲ': 2385, 'ಹಗವರ': 2386, 'ನಡದದನನ': 2387, 'ನನಪಸಕಳಳತತನ': 2388, 'ಅಸಮರಸಯತಯ': 2389, 'ಪರಗತಗ': 2390, 'ಅಡಡಯಗತತದ': 2391, 'ಆಹವನಕಕ': 2392, 'ತರಸದ': 2393, 'ನಲಲಕಯ': 2394, 'ಅಳಲಕಯ': 2395, 'ಒಗರ': 2396, 'ಒಗರಗರತತವ': 2397, 'ಕಸಮಯಲಲ': 2398, 'ಸನಹಪರ': 2399, 'ಸನಹತರ': 2400, 'ಸನಹತರಗ': 2401, 'ಅತಹ': 2402, 'ಸಳಳನನ': 2403, 'ಹಳತತನದ': 2404, 'ತಣಣಗಗದ': 2405, 'ಕಲಸವಲಲದ': 2406, 'ಇದರಯಗಳನನ': 2407, 'ನಯತರಸಬಹದ': 2408, 'ಹರಯ': 2409, 'ಸನಯದಲಲ': 2410, 'ಸಥನವನನ': 2411, 'ತರಕರಗಳನನ': 2412, 'ಕತತರಸ': 2413, 'ಬಗಹರಯದ': 2414, 'ಪರಕರಣ': 2415, 'ಕಟಟ': 2416, 'ಚರತರಯದ': 2417, 'ಉಳಯಬಕ': 2418, 'ಮಡವವನ': 2419, 'ಸಧನಗಳ': 2420, 'ಖಡತವಗಯ': 2421, 'ಹತಮ': 2422, 'ಲಕಪಕರ': 2423, 'ಇಪಪತತನನ': 2424, 'ನಲಕರದ': 2425, 'ಭಗಲಬಧ': 2426, 'ಮಕ': 2427, 'ಹಲದಲಲ': 2428, 'ಹಲಲ': 2429, 'ಮಯಸತತದ': 2430, 'ನರವಹಕರ': 2431, 'ಅನರಹ': 2432, 'ವಯಕತಗಳನನ': 2433, 'ಸಸಥಯದ': 2434, 'ಹರಹಕದರ': 2435, 'ನಡದಗ': 2436, 'ತಪಪಳನತರವ': 2437, 'ಮಖವ': 2438, 'ಅರಳತ': 2439, 'ಅಪರಸತತ': 2440, 'ಹಳಕಯನನ': 2441, 'ಇಷಟಪಡಲಲಲ': 2442, 'ಎಬತತರಡನ': 2443, 'ಮನಯದಲ': 2444, 'ನರಶಯದ': 2445, 'ಮರಳಬಕ': 2446, 'ಬಕಕನ': 2447, 'ಜತಯ': 2448, 'ಸಥತಯನನ': 2449, 'ನಶಮಡದದರ': 2450, 'ಜನರದದರ': 2451, 'ಜರಗವದಲಲ': 2452, 'ನರನಲಲ': 2453, 'ರಗಣಗಳ': 2454, 'ಒಟ': 2455, 'ಮತದ': 2456, 'ವಹಕಗಳಗವ': 2457, 'ಮತತಗಳ': 2458, 'ಚಪಪಗಳ': 2459, 'ಸರಕಗಳಲಲ': 2460, 'ಹಸವಗದ': 2461, 'ಉಡಪ': 2462, 'ಧರಸಕಳಳಬಹದ': 2463, 'ನಶಹನ': 2464, 'ನಶಯಲಲರವ': 2465, 'ವಯಕತಯನನ': 2466, 'ಸಭಲಸದ': 2467, 'ಸಮಯತಯ': 2468, 'ಗಣವಗದ': 2469, 'ಕರಡ': 2470, 'ವಷವಲಲದ': 2471, 'ಪಜರಯ': 2472, 'ಪಜಗ': 2473, 'ಪಜ': 2474, 'ಸಮಗರಗಳನನ': 2475, 'ಜಡಸಕಡದದರ': 2476, 'ಆಯರವದ': 2477, 'ಸಮಯದದ': 2478, 'ಹಳಳಯ': 2479, 'ಮಖಯಸಥರಗದದರ': 2480, 'ಪರಣಗಳಸಬಕಗದ': 2481, 'ಹಳದದರ': 2482, 'ದರಘ': 2483, 'ನಟಟಸರನ': 2484, 'ಹಗರಣದ': 2485, 'ಕತಗಳಗ': 2486, 'ಹಸರವಸಯಗದದಳ': 2487, 'ಆರಗಯ': 2488, 'ಅಷಟದ': 2489, 'ಒಬಬಟಯಗರತತನ': 2490, 'ಡವಲಪ': 2491, 'ಜಲವನನ': 2492, 'ಉದಘಟನ': 2493, 'ಪತರಗಳನನ': 2494, 'ಇಟರನಟ': 2495, 'ಹಸಬರ': 2496, 'ಚಲನ': 2497, 'ಹರಡರವ': 2498, 'ಧನಯದ': 2499, 'ಧನಯಗಳನನ': 2500, 'ನಗತತವ': 2501, 'पकसल': 2502, 'इत': 2503, 'मरग': 2504, 'ಈಗಗಲ': 2505, 'ಬದದದವ': 2506, 'ಇಲ': 2507, 'ಬನಗ': 2508, 'ಇಲಯದ': 2509, 'ಬದದದ': 2510, 'ಯನಕಡ': 2511, 'ಸಲಲಸತತರವ': 2512, 'ಶಕಷಕರಗ': 2513, 'ಸಬಳ': 2514, 'ನಡಲಗವದ': 2515, 'ತಡಲಕರ': 2516, 'ಕರಕಟನದ': 2517, 'ಖಯತ': 2518, 'ಹಣ': 2519, 'ಗಳಸದದರ': 2520, 'ದಯಮಡ': 2521, 'ನರಕಷಸ': 2522, 'ನಸ': 2523, 'ಬಣಣದ': 2524, 'ಮರಗದದ': 2525, 'ವಚಲತವಗದದನ': 2526, 'ಜಜಞಸಯಲಲದವನಗದದನ': 2527, 'ವಷಯದಲಲ': 2528, 'ಉತಸಕನಗಲಲ': 2529, 'ಬಹ': 2530, 'ರಪಗಳ': 2531, 'ಮಗಲದ': 2532, 'ಆಕರಮಣಕರಗಳ': 2533, 'ಪರಜತರದರ': 2534, 'ಮಗಸದದರ': 2535, 'ಸವಯಪರರತ': 2536, 'ಇಷಟಪಡತತನ': 2537, 'ಅವನನ': 2538, 'ಸಗರಹ': 2539, 'ಸಹಯಕ': 2540, 'ಜಲದಲಲ': 2541, 'ಅತಯಚರಗಳಗ': 2542, 'ಶಕಷ': 2543, 'ವಧಸಬಕ': 2544, 'ಆಗಮಸದದರ': 2545, 'ಸಹವರತ': 2546, 'ನರಗಮಸದದರ': 2547, 'ನದರಯ': 2548, 'ಕಣಣ': 2549, 'ಸನಕನ': 2550, 'ಕಯಲಲ': 2551, 'ಡಬಲ': 2552, 'ಬಯರಲ': 2553, 'ಗನ': 2554, 'ನಡಕಳಳಬಕ': 2555, 'ಪರಚನ': 2556, 'ರಜರ': 2557, 'ಕಟಯನನ': 2558, 'ನರಮಸತತದದರ': 2559, 'ಪಟದ': 2560, 'ಲಬವ': 2561, 'ಫಕಸಲ': 2562, 'ಈರಳಳ': 2563, 'ಕತತರಸವಗ': 2564, 'ಕಣಣನದ': 2565, 'ಕಣಣರ': 2566, 'ಹರಯತತದ': 2567, 'ಪರತಯದ': 2568, 'ಸವತತರವಗ': 2569, 'ಬಯಸತತರ': 2570, 'ಸಭಷಣಸಪರಕಜಲದಲಲ': 2571, 'ಕಡಬರವ': 2572, 'ಉಪಯಗಸಬಹದದ': 2573, 'ಕರವಳಯ': 2574, 'ಹಚಚನ': 2575, 'ಪರವಹದದಗ': 2576, 'ನರಶರತರದರ': 2577, '300': 2578, 'ವಸತರಣವದದ': 2579, '50': 2580, 'ಚರಚಗಳನನ': 2581, 'ಪರಧಯಪಕರದ': 2582, 'ನಡಲಪಟಟ': 2583, 'ಕಡತತ': 2584, 'ಕರಯಲಯದದ': 2585, 'ನರಗಮಸದರ': 2586, 'ಸಪರಧಯಲಲ': 2587, 'ಹದನಳ': 2588, 'ಗಬ': 2589, 'ರತರಯ': 2590, 'ಹಕಕ': 2591, 'ಹಳಕ': 2592, 'ಪರಶಸಗ': 2593, 'ಯತರಥವಗಲಲ': 2594, 'ಗರಮದ': 2595, 'ಗಹಗ': 2596, 'ಉಪದಶ': 2597, 'ನಡವರ': 2598, 'ಕರಯ': 2599, 'ರಪಕಕ': 2600, 'ತರವದ': 2601, 'ಮಹಭರತ': 2602, 'ರಥರಢರಗ': 2603, 'ವರ': 2604, 'ಮರಣವನನಪಪದದರ': 2605, 'ಹಲತ': 2606, 'ಬರಯರ': 2607, 'ಮಘಲರ': 2608, 'ಆಕರಮಣವ': 2609, 'ಅವನತಗ': 2610, 'ಕರಣವಗತತ': 2611, 'ಬನನ': 2612, 'ಕಡಯಣ': 2613, 'ನನನತಯ': 2614, 'ಸವಯವರದಲಲ': 2615, 'ಬಲಲನನ': 2616, 'ಮರದರ': 2617, 'ಶರಟ': 2618, 'ಅಹಸತಮಕ': 2619, 'ಐ': 2620, 'ಬಳಸದ': 2621, 'ಕರಣವ': 2622, 'ಸಪಷಟವಗಲಲ': 2623, 'ನಶಚತವಗ': 2624, 'ಮಲಗದನ': 2625, 'ತರಕಕ': 2626, 'ವಷಯವಗದ': 2627, 'ಕದಯವದ': 2628, 'ಕತತರ': 2629, 'ತಯಜಸವ': 2630, 'ಕರಯಗಳ': 2631, 'ಗರಕ': 2632, 'Oikos': 2633, 'logos': 2634, 'ಶಬದದದ': 2635, 'ಜನಸದ': 2636, 'ಅರಥ': 2637, 'EcologyStudy': 2638, 'of': 2639, 'Home': 2640, 'or': 2641, 'Habitat': 2642, 'ಇದಕಕ': 2643, 'ಅರಥಗಳ': 2644, 'ಹಗತತದದರ': 2645, 'ಅಷಟ': 2646, 'ಮದವಗ': 2647, 'ಹಮಖಡ': 2648, 'ಬಲಯವನನ': 2649, 'ನನಪಸಕಡ': 2650, 'ಸತಷವಗತತದ': 2651, 'ತಜಕಸತನನ': 2652, 'ಶಲಯನನ': 2653, 'ಆಶಚರಯಗಡರ': 2654, 'ಗರಮಸಥರ': 2655, 'ಕಳಳನನನ': 2656, 'ಹಗಗದದ': 2657, 'ಕಟಟಹಕದರ': 2658, 'ಮಗದದಯ': 2659, 'ಅಸಮರಥತಯದಗ': 2660, 'ರಮಗ': 2661, 'ಫಲವಲಲದ': 2662, 'ಗಡಗಳನನ': 2663, 'ಶಭಗಗ': 2664, 'ಧವನಯ': 2665, 'ಅಕರವಲಲದ': 2666, 'ಪತಯ': 2667, 'ಸವನ': 2668, 'ಆಕ': 2669, 'ಶಕಸತತದದಳ': 2670, 'ಆದಯ': 2671, 'ಖರಚನ': 2672, 'ಲಕಕಪತರವನನ': 2673, 'ಚಪಪಳ': 2674, 'ತಟಟತತದದರ': 2675, 'ಪರಯಗಕ': 2676, 'ಸತಷವಗಟಟಕಡ': 2677, 'ಇಸಪಟಲಗಳ': 2678, 'ಆಟದಲಲ': 2679, 'ಎಕಕ': 2680, 'ಆಕರಷಕ': 2681, 'ಕಥಯಗದ': 2682, 'ಆನದಸತತದದನ': 2683, 'ಪರತಯಬಬರ': 2684, 'ಸಮಸಯಗಳ': 2685, 'ಮಲವಗದ': 2686, 'ಕಳತದದ': 2687, 'ಹಲಣಸತತದದಳ': 2688, 'ಸರಕಷತವಗ': 2689, 'ಕಮಲಗನಯನನ': 2690, 'ರಸತಯಲಲ': 2691, 'ಹರಸಲಗತತತತ': 2692, 'ಫಲಕವನನ': 2693, 'ಲಲತಕಲಯನನ': 2694, 'ನಬತತರ': 2695, 'ಪರರಭವಗಲದ': 2696, 'ಬಳಬದನ': 2697, 'ಮಡಬರದದ': 2698, 'ಹಳಲಲವ': 2699, 'ಮನಸಮತಯಲಲ': 2700, 'ಮಸಹರದಲಲ': 2701, 'ಅತಯತತಮವದ': 2702, 'ಪರಗಣಸಲಗತತದ': 2703, 'ಅಜತಶತರ': 2704, 'ರಜ': 2705, 'ವರವನನ': 2706, 'ಕಟಟನ': 2707, 'ನತರದ': 2708, 'ದನದ': 2709, 'ಅಧಯಯನಕಕಗ': 2710, 'ವದಶಕಕ': 2711, 'ಹಗತತನಯ': 2712, 'ತಳಯತತನ': 2713, 'ಕಟಗಟಟಲ': 2714, 'ಅಮರ': 2715, 'ದವನ': 2716, 'ದರಶನಕಕಗ': 2717, 'ಸಚನಗಗ': 2718, 'ಉಪಕರಣ': 2719, 'ಸಲಭವಗ': 2720, 'ಬದದನ': 2721, 'ಕಲಶ': 2722, 'ಅತಥಗಳದಗ': 2723, 'ಕಳತದದನ': 2724, 'ಐವತತನಲಕನ': 2725, 'ಮಳಕಯಡದಲಲ': 2726, 'ವಕಯದಲಲ': 2727, 'ಶಬದದ': 2728, 'ಅಲಪವರಮ': 2729, 'ಇತಯದಗಳ': 2730, 'ಸರಸಪ': 2731, 'ಅತ': 2732, 'ಎತತರದ': 2733, 'ಹರ': 2734, 'ಗಡಯ': 2735, 'ಮಸಯಕ': 2736, 'ಕತತಲಯಗದ': 2737, 'ಟರಚ': 2738, 'ನಮಮದಗ': 2739, 'ಚನನ': 2740, 'ಬಳಳ': 2741, 'ಕಬಬಣ': 2742, 'ಕರಷಕ': 2743, 'ಮದವದ': 2744, 'ದತಗಳ': 2745, 'ತನನಬಕ': 2746, 'ಯಚಸ': 2747, 'ರಸಟರಟಗ': 2748, 'ಹದಳ': 2749, 'ಸರಕರವ': 2750, 'ಹನ': 2751, 'ರತರಗ': 2752, 'ಹಚತತದ': 2753, 'ಯತರಗಗ': 2754, 'ಬರವ': 2755, 'ಶವದರಶನದ': 2756, 'ಇಚಛಯ': 2757, 'ಹಚಚತತದ': 2758, 'ಸವಯಪರರಣಯದ': 2759, 'ತರಕಯ': 2760, 'ಸದರಯವ': 2761, 'ಕಷಣಕವದದ': 2762, 'ಪರಕತ': 2763, 'ಪರಭವ': 2764, 'ಎಬದಗ': 2765, 'ಇತಯದಗಳನನ': 2766, 'ತಪಪಸಲ': 2767, 'ಹವನಯತರಣಗಳನನ': 2768, 'ಇರಬಹದ': 2769, 'ಬತಕಳ': 2770, 'ಹರಟವಲಲದ': 2771, 'ಡಳಳ': 2772, 'ಬಡಯವ': 2773, 'ಗರಗಳ': 2774, 'ತಲಬಗ': 2775, 'ನಮಸಕರಸದನ': 2776, 'ಇದರಗಧ': 2777, 'ನರಯಣನನನ': 2778, 'ವಷಗಟನ': 2779, 'ಮಹನಗರದಲಲರವ': 2780, 'ಸತಪತವದ': 2781, 'ಸಥತ': 2782, 'ನಡತತದ': 2783, 'ಆಭಷಣವಗದ': 2784, 'ಶಕಷಣಕ': 2785, 'ಪರಮಣಪತರವನನ': 2786, 'ಪರಸತತಪಡಸಬಕ': 2787, 'ವಹನ': 2788, 'ರಹತ': 2789, 'ಸಥಳದದ': 2790, 'ಸಥಳಕಕ': 2791, 'ಕಲನಡಗಯಲಲ': 2792, 'ಪರಯಣಸತತದದರ': 2793, 'ಗತಳ': 2794, 'ಬಲಯದ': 2795, 'ಗಳತ': 2796, 'ಇದರಯತತನಗದದನ': 2797, 'ಅತರಜಲ': 2798, 'ಪಟಟಕಕ': 2799, 'ಚಲಸ': 2800, 'ನಡದ': 2801, 'ರಮಯಣ': 2802, 'ಪಠಯದಲಲ': 2803, 'ನಮಮಲಲರ': 2804, 'ಉಪಸಥತಯ': 2805, 'ಆಹವನ': 2806, 'ಆರಗಯವನನ': 2807, 'ಹಚಚಸಲ': 2808, 'ಕಬಬನ': 2809, 'ಆಹರವನನ': 2810, 'ಸತಪತ': 2811, 'ಸತಷಕರವಗರತತದ': 2812, 'ಪತತದರ': 2813, 'ಕಥಗಳನನ': 2814, 'ಅಕಲದಲಲ': 2815, 'ಸವಸವದ': 2816, 'ಹನಕರಕ': 2817, 'ಪಕಸತನ': 2818, 'ವಭಜನಯ': 2819, 'ಸಧ': 2820, 'ನರಶರತರ': 2821, 'ಭರತಕಕ': 2822, 'ಬದರ': 2823, 'ಸಬಧತ': 2824, 'ಆಸಕತ': 2825, 'ಸಳಳಗರ': 2826, 'ವಯಸಸದವರಗ': 2827, 'ಉಚತವಗ': 2828, 'ಸವಯನನ': 2829, 'ನಡಲಗತತದ': 2830, 'ಫಲವಗ': 2831, 'ಕಡಗಳ': 2832, 'ನಶ': 2833, 'ಆರಭವಯತ': 2834, 'ಅತರದಶಯ': 2835, 'ಸಷನ': 2836, 'ಮಯನಜರನಲಲ': 2837, 'ಬದವನನ': 2838, 'ನಶಚಲ': 2839, 'ಗಳಸ': 2840, 'ನಡಯಲ': 2841, 'ಹಗಣ': 2842, 'ಶಷಕರಗಕಕ': 2843, 'ನಡಲ': 2844, 'ಮಗವನದಗ': 2845, 'ಇವರಲಲರ': 2846, 'ಕಟಬದದಗ': 2847, 'ವಸಸತತದದರ': 2848, 'ಕಯಲಗ': 2849, 'ಪರಹರ': 2850, 'ಕರಬವ': 2851, 'ಬದದ': 2852, 'ಒಮಮ': 2853, 'ಯವದದರ': 2854, 'ಕರಣಗಳದ': 2855, 'ಮಲನಯ': 2856, 'ಆಗತತತತ': 2857, 'ಅಸಹಯಕರ': 2858, 'ಖಡನಗ': 2859, 'ಉಪಭಷಯದ': 2860, 'ಅನಯನಗರತತನ': 2861, 'ಉಪ': 2862, 'ಸಭಪತ': 2863, 'ರಮಶಕರಜಯವರ': 2864, 'ಇಲಲನ': 2865, 'ದಣಗಳ': 2866, 'ಮನವಸಹತವಗವ': 2867, 'ತದರ': 2868, 'ನಲವತತ': 2869, 'ಕಚರಯದ': 2870, 'ಕರಯಗಳನನ': 2871, 'ಮಡವ': 2872, 'ಶತವಗರತತದ': 2873, 'ಹಣಣಮಕಕಳನನ': 2874, 'ಪರಶರಮದದ': 2875, 'ವಯವಹರವ': 2876, 'ರತರಬಳಗಗವದರಲಲ': 2877, 'ಪರವರಧಮನಕಕ': 2878, 'ಬಫರ': 2879, 'ಅಗಡಯವರ': 2880, 'ವಗಡಸದ': 2881, 'ಬದಗರಸತತದದರ': 2882, 'ಹಬಬವಗದ': 2883, 'ಆಲಚನಗಳನನ': 2884, 'ವಯಕತಪಡಸದರ': 2885, 'यथ': 2886, 'कड': 2887, 'उदहरणमव': 2888, 'ಸಹದರನನನ': 2889, 'ನರದಯವಗ': 2890, 'ಹಡಯತತನ': 2891, 'ಸವಹನ': 2892, 'ರಚಯಗಲಲವ': 2893, 'ಉತತಮವಗ': 2894, 'ಕರಯನರವಹಸತತದದರದ': 2895, 'ನಬತತನ': 2896, 'ಆಲದ': 2897, 'ಲಕ': 2898, 'ಯದಧದ': 2899, 'ಅದಮಯ': 2900, 'ಧರಯವನನ': 2901, 'ಪರದರಶಸತ': 2902, 'ಪಷಕ': 2903, 'ಮಹಳ': 2904, 'ರಸವತತದ': 2905, 'ಶಲಕವನನ': 2906, 'ಪವತಸಬಕಗದ': 2907, 'ಎಪಪತತಟನ': 2908, 'ಅಡಡ': 2909, 'ಬತತಯನನ': 2910, 'ಮನಸದಲಲ': 2911, 'ತಳಸದಸರ': 2912, 'ರಮಚರತ': 2913, 'ವಯಪಕವದ': 2914, 'ಪರಣಮ': 2915, 'ಚಲಗಳವ': 2916, 'ಮದರಸನದ': 2917, 'ಮರಳಲಲ': 2918, 'ರಗನ': 2919, 'ಮಹನಗರದಲಲ': 2920, 'YWCA': 2921, 'ಕರಯಕರತ': 2922, 'ಆಗದದಳ': 2923, 'ಗರರಹತ': 2924, 'ನಡಸವದ': 2925, 'ಇವಳ': 2926, 'ಜನಸಖಯಯ': 2927, 'ವದಧಯ': 2928, 'ಅವಶಯಕತಗಳ': 2929, 'ವರಧಸತ': 2930, 'ಅದಲ': 2931, 'ಬದಲ': 2932, 'ಮದನವನನ': 2933, 'ಸರದವ': 2934, 'ಹಸಯದ': 2935, 'ಸವಭವದವನ': 2936, 'ಹಲಸಲಗದ': 2937, 'ಸದರಯ': 2938, 'ಆಕರಷಸತತದ': 2939, 'ಆಯಕಗಗ': 2940, 'ಲಭಸತ': 2941, 'ಚಟವಟಕಗಳನನ': 2942, 'ಕಟಕಗಳವ': 2943, 'ದನಶನ': 2944, 'ಅಪವಯಯದ': 2945, 'ತಮಷ': 2946, 'ಮಹತಗಗ': 2947, 'ಪಟಕಕ': 2948, 'ಆರಭದಲಲ': 2949, 'ಸಖಯಕರಮದ': 2950, 'ನರದಶವ': 2951, 'ಸರಯಸತದ': 2952, 'ಕನಷಠ': 2953, 'ಮಸರ': 2954, 'ಅನನವನನ': 2955, 'ತನನರ': 2956, 'ಅದಕಕ': 2957, 'ಮಹವತ': 2958, 'ತಲಗ': 2959, 'ಆನಯ': 2960, 'ಹಡಯತತದದರ': 2961, 'ಧಯನವ': 2962, 'ಪರಕರಯಯಗದ': 2963, 'ಅಚ': 2964, 'ತಡದ': 2965, 'ಆಟಗರರ': 2966, 'ಪರಬಲರಗದದರ': 2967, 'ಆಕರಶಗಡ': 2968, 'ದಗ': 2969, 'ಸಮವಸತರದಲಲ': 2970, 'ಹಗಬಕ': 2971, 'ಗರಲಡ': 2972, 'ಲಸಕ': 2973, 'ನರಯಣರನನ': 2974, 'ಪರಭವತ': 2975, 'ಒಣಗದ': 2976, 'ಮರದ': 2977, 'ಬಡವನನ': 2978, 'ಕಡಯತತದದನ': 2979, 'ಮಹನನ': 2980, 'ದಳದ': 2981, 'ಗಣ': 2982, 'ಕಳಳನ': 2983, 'ಅಪಹರಸಲಪಟಟತಹ': 2984, 'ಹಣದ': 2985, 'ಜತಯಲಲ': 2986, 'ತಪಪಸಕಡನ': 2987, 'ಕರಣವನ': 2988, 'ಸದಧಗಡ': 2989, 'ಅವಧರಣ': 2990, 'ರಹತವದ': 2991, 'ಕರಯಲಯದಲಲ': 2992, 'ಕಳಳತನವಗದ': 2993, 'ದರಘಟನಯಲಲ': 2994, 'ಮನಜನಗ': 2995, 'ಗಭರವದ': 2996, 'ಗಯಗಳಗವ': 2997, 'ರಕತವ': 2998, 'ದಹದ': 2999, 'ದರವವಗದ': 3000, 'ಮತವಯಯದ': 3001, 'ವಯಕತಯಗವದರ': 3002, 'ಬಕಕಟಟನನ': 3003, 'ತಪಪಸಬಹದ': 3004, 'ಜಮಸ': 3005, 'ವಯಟ': 3006, 'ಹಬಯ': 3007, 'ಶಕತಯನನ': 3008, 'ತಳದಕಡ': 3009, 'ಉಗ': 3010, 'ಎಜನ': 3011, 'ಆವರಸಲ': 3012, 'ತಮಗ': 3013, 'ಕವಲಡದ': 3014, 'ಕದಬರಯಲಲ': 3015, 'ಉಪನಯಕ': 3016, 'ನಯಕಗ': 3017, 'ಒಪಪಸತತಳ': 3018, 'ಚತರಯವಳಳ': 3019, 'ರಮಶನನನ': 3020, 'ಹಡದ': 3021, 'ಗದಧರ': 3022, 'ತಗ': 3023, 'ಓದತತಳ': 3024, 'ಹಮಪತವಗಲದ': 3025, 'ದರದರಶನದಲಲ': 3026, 'ಅದಕಕಗಯ': 3027, 'ಮಚತವಗ': 3028, 'ಸಬದಕರ': 3029, 'ಏಳಗಗಗ': 3030, 'ಶರಮಸದರ': 3031, 'ಏಳಗ': 3032, 'ಅಸಧಯ': 3033, 'ತಲ': 3034, 'ವರಣಸಯಲಲದದರ': 3035, 'ಸಪರಕಜಲದಲಲ': 3036, 'ವಭಗ': 3037, 'ಪಟಯ': 3038, 'ಊಟವ': 3039, 'ಪರಸಥತಯ': 3040, 'ಝಜಸ': 3041, 'ರಲವ': 3042, 'ಜಕಷನ': 3043, 'ರಕತಹನ': 3044, 'ವಯಕತಗ': 3045, 'ರಕತ': 3046, 'ಶಷಯ': 3047, 'ಇತಹಸದ': 3048, 'ಘಟನಗಳನನ': 3049, 'ನಕಲ': 3050, 'ಮಡಲಗದ': 3051, 'ಮಲಗರ': 3052, 'ರಚಯಗತತ': 3053, 'ಉಪಪ': 3054, 'ತತರಕ': 3055, 'ಶಕಷಣದಲಲ': 3056, 'ಪರಬಲಯವತತ': 3057, 'ಸರವವಯಪ': 3058, 'ತಗಳಲಲ': 3059, 'ಚಲನಚತರಗಳಗ': 3060, 'ಬಗಳತತದ': 3061, 'ಬಗಲಲಲ': 3062, 'ಎರಹಳ': 3063, 'ಮಳಗಳಲಲದ': 3064, 'ಸದರ': 3065, 'ಆಕಶದದ': 3066, 'ಬರತತದದಳ': 3067, 'ಸಜ': 3068, 'ಮನವಯವಗದ': 3069, 'ಗಣರಜಯತಸವವನನ': 3070, 'ಪರತವರಷ': 3071, 'ಆಡಬರ': 3072, 'ಪರದರಶನದದಗ': 3073, 'ಆಚರಸಲಗತತದ': 3074, 'ಸವಕರಯಚರಚಯ': 3075, 'ಉಟಗತತದ': 3076, 'ತಯಯ': 3077, 'ಹದಯವ': 3078, 'ಪರಬದಧವಗದ': 3079, 'ಭರತದಲಲ': 3080, 'ಭಷಗಳ': 3081, 'ಮತನಡತತವ': 3082, 'ನಮಮದಲ': 3083, 'ಆಗವದ': 3084, 'ಅನವರಯವಲಲ': 3085, 'ಮತತವ': 3086, 'ಪಸ': 3087, 'ಕಡಮಯಗದ': 3088, 'ಸಮವರ': 3089, 'ಬಯಸವರ': 3090, 'ಅವಳಗ': 3091, 'ಸಮಯವರಲಲಲ': 3092, 'ಕಷರಕನ': 3093, 'ಅಗಡಯಲಲ': 3094, 'ಕದಲ': 3095, 'ಕಣಸತತತತ': 3096, 'ಮನಯವರ': 3097, 'ಕರಯದಲಲ': 3098, 'ನರತರಗದದರ': 3099, 'ಮನಸಕ': 3100, 'ಚನನಗಲಲ': 3101, 'ಪರರಭವದಗ': 3102, 'ದಲತವರಗದ': 3103, 'ಉಪಕಷಯನನ': 3104, 'ಸರಯಲಲ': 3105, 'ಪರಚಯವಲಲದ': 3106, 'ನಲವನನ': 3107, 'ಕಡಕಳಳತತನ': 3108, 'ಹಳವದಲಲ': 3109, 'ಪರಯಜನ': 3110, 'ಅಪಹರಸಲಪಟಟ': 3111, 'ಇಟಟನ': 3112, 'ಕಷಮಸವ': 3113, 'ರಪ': 3114, 'ಸಮ': 3115, 'ಸದಧತಗಳ': 3116, 'ದರಗ': 3117, 'ಇತಯದಗಳಗ': 3118, 'ತತರದಲಲ': 3119, 'ಪರಮಖಯತ': 3120, 'ಸದಸಯರ': 3121, 'ಭನನಭಪರಯದದಗ': 3122, 'ಪರಸಗವ': 3123, 'ಅಸಮತಲನದಲಲದ': 3124, 'ಆತಮ': 3125, 'ಬಕರಹತವದದ': 3126, 'ಅಜಗರಕ': 3127, 'ಆತರದ': 3128, 'ಶರಶಕ': 3129, 'ಸಥಪನಸಘಟಕ': 3130, 'ಯತರದ': 3131, 'ರಚಸಲ': 3132, 'ಮರಗಗಳ': 3133, 'ತಳಮಯ': 3134, 'ಮಡಲಗವದಲಲ': 3135, 'ದಹಸವ': 3136, 'ಹಡಕಲ': 3137, 'ಪರಥಮಕ': 3138, 'ಉತತರದಲಲ': 3139, 'ನಗ': 3140, 'ಶರಮ': 3141, 'ಕನಗ': 3142, 'ದರಗದದರ': 3143, 'ಮಹತ': 3144, 'ಇ': 3145, 'ಎಬದರ': 3146, 'ಶತವನನ': 3147, 'ನವರಸಲ': 3148, 'ಹಮಖಡವನನ': 3149, 'ಕಯದ': 3150, 'ಚರ': 3151, 'ಆಯಜಮಡ': 3152, 'ಇನಸಟಲ': 3153, 'ಮಹತಯ': 3154, 'ಗಹಯನನ': 3155, 'ಪರವಶಸ': 3156, 'ತಳದರ': 3157, 'ಮನವರಕಯಗದ': 3158, 'ವಷಯಗಳನನ': 3159, 'ಸಮಧನವಯತ': 3160, 'ಪರಶಲಸದ': 3161, 'ಪರಮಣಪತರಗಳನನ': 3162, 'ಅನವಯಸವದರದ': 3163, 'ಅರಜಯನನ': 3164, 'ಪರಗಣಸಲಗಲಲ': 3165, 'ತರಗ': 3166, 'ಮಕತವಗದ': 3167, 'ಕಡಹದ': 3168, 'ಕತಕತಯದ': 3169, 'ವಸತವಕತಯನನ': 3170, 'ಮರಮಡಲಗದ': 3171, 'ವಷ': 3172, 'ಧರಸದ': 3173, 'ವದಕಯಲಲ': 3174, 'ನತಯ': 3175, 'ಮಡತತದದಳ': 3176, 'ಉಡಗಯಗದ': 3177, 'ಅಪರಚತ': 3178, 'ಕಲಸದ': 3179, 'ನಬಕಯಲಲದ': 3180, 'ದಯಯದ': 3181, 'ಸಕಕರ': 3182, 'ನಡತತರ': 3183, 'ಡವಸ': 3184, 'ಸಟಟಗ': 3185, 'ನಯಯಲಯ': 3186, 'ವಜಗಳಸದ': 3187, 'ಸಹದರನಗ': 3188, 'ಬದರಕ': 3189, 'ಹಕತತದದ': 3190, 'ಜನನದರಯಕಕ': 3191, 'ಸಬಧಸದ': 3192, 'ಮತನಡವದಲಲ': 3193, 'ಶತರ': 3194, 'ಬಗಲನನ': 3195, 'ಅರಮನಯನನ': 3196, 'ಪರವಶಸದನ': 3197, 'ಬಹಪಲ': 3198, 'ಉಷಣವಲಯದ': 3199, 'ಪರದಶದ': 3200, 'ಹರಗದ': 3201, 'ಅನಕರಸದ': 3202, 'ತರಸತತನ': 3203, 'ಬಗಲನ': 3204, 'ಚತರಸದ': 3205, 'ಪರದ': 3206, 'ತಗತತದ': 3207, 'ಕಬರ': 3208, 'ನರಕರ': 3209, 'ಆರಧಕರಗದದರ': 3210, 'ಪನನ': 3211, 'ಅಶಕ': 3212, 'ಚಕರವರತ': 3213, 'ಸವಭಮನ': 3214, 'ಮಕಕಳಗ': 3215, 'ಸಮನ': 3216, 'ಸಠ': 3217, 'ಧನರಮ': 3218, 'ಜಪಣನ': 3219, 'ರಪಯಯನನ': 3220, 'ವಯಯಸಲ': 3221, 'ಇಚಚಸವದಲಲ': 3222, 'ಜವಬದರ': 3223, 'ಯರದ': 3224, 'ಕಡನಲಲ': 3225, 'ವಸಸತತದ': 3226, 'ಅನತ': 3227, 'ಪರದಶ': 3228, 'ಶವಲಗವ': 3229, 'ಸಣಬನ': 3230, 'ಬಲವಗರತತದ': 3231, 'ನನನದ': 3232, 'ಮಡಲಪಡಬಕತತ': 3233, 'ಹಕರಟನಲಲ': 3234, 'ಪರಜತನದನ': 3235, 'ಕಳದಹದ': 3236, 'ಸಮಯವ': 3237, 'ಹತರಗವದಲಲವದದರದ': 3238, 'ಪರಸತತ': 3239, 'ಸಮಯವನನ': 3240, 'ಬಳಸ': 3241, 'ಸಲವಗ': 3242, 'ನನಪದಯ': 3243, 'ಗಣತದಲಲ': 3244, 'ಅಕಗಳನನ': 3245, 'ಕಮ': 3246, 'ವಭಗಸದ': 3247, 'ಸಪಲ': 3248, 'ಶದನಯ': 3249, 'ನಯಯಧಶರ': 3250, 'ಅಪರಧಗ': 3251, 'ವಧಸದರ': 3252, 'ವದಯಲಯದಲಲ': 3253, 'ಬ': 3254, 'ಸ': 3255, 'ಆನರಸ': 3256, 'ರಜನತ': 3257, 'ನಪಣಯವನನ': 3258, 'ಹದದರ': 3259, 'ಸಥರ': 3260, 'ಠವಣ': 3261, 'ಯಜನಯಲಲ': 3262, 'ಇಡತತರ': 3263, 'ಕಮಲ': 3264, 'ಜಲಚರಗಳಗವ': 3265, 'ಸಹಯವನನ': 3266, 'ಪಡದದ': 3267, 'ಸಕಷಪತವದ': 3268, 'ಟಪಪಣಯನನ': 3269, 'ನಗಲ': 3270, 'ಪರರಭಸದವ': 3271, 'ಋಣದದ': 3272, 'ಮಕತಗಳಳಲ': 3273, 'ಋಣಮಕತನನ': 3274, 'ಮರಬಡಬಕಯತ': 3275, 'ಕವಯದ': 3276, 'ವಚಯ': 3277, 'ಬದಧವತಕಯದ': 3278, 'ಕಲಸದಲಲ': 3279, 'ಯಶಸವಯದರ': 3280, 'ಅಧಯಯನವ': 3281, 'ಕರಣವನನ': 3282, 'ಮರವಣಗಯಲಲ': 3283, 'ಲಠಚರಜ': 3284, 'ಕಲಪನ': 3285, 'ಕರತನ': 3286, 'ಕಲಪನಕ': 3287, 'ಭವಗಳ': 3288, 'ಅಭವಯಕತ': 3289, 'ರಚನಗಳಲಲ': 3290, 'ನಯಮಕಕ': 3291, 'ಅಪವದಗಳವ': 3292, 'ಅವಧಯಲಲ': 3293, 'ಚಲವಣಯಲಲದದವ': 3294, 'ಅಗದನನನ': 3295, 'ದತನನನಗಸ': 3296, 'ರವಣನಲಲ': 3297, 'ಕಳಹಸದನ': 3298, 'ರಜನತಯಲಲ': 3299, 'ಅಧಪತಯದ': 3300, 'ಕಹನರ': 3301, 'ವಜರವ': 3302, 'ಅಪರವವದದ': 3303, 'ಕಷಯ': 3304, 'ರಗಗಳ': 3305, 'ಅಣಣ': 3306, 'ಬಬಯದ': 3307, 'ಬಟಟದ': 3308, 'ಬಡಕಟಟ': 3309, 'ಜನಗಗಳ': 3310, 'ಸಭವಸತ': 3311, 'ತಡಯವಕಗ': 3312, 'ಹದಕ': 3313, 'ಆಗತತಲಲ': 3314, 'ಫಲಹರ': 3315, 'ಆರಯ': 3316, 'ಜನಗಯ': 3317, 'ಪರಚನವದ': 3318, 'ಪರಗಣಸಲಗದ': 3319, 'ಚನನವನನ': 3320, 'ಆಮದ': 3321, 'ಧನರಮನನ': 3322, 'ಬದಸದರ': 3323, 'ಯವದಕಕ': 3324, 'ಒಳಳಯವನಲಲ': 3325, 'ಸರವವರ': 3326, 'ಗಗ': 3327, 'ಸಜಸಲಗದ': 3328, 'ತಮಮದ': 3329, 'ವಕಯಗಳ': 3330, 'ನರಮಣವಗತತವ': 3331, 'ಕಬಬ': 3332, 'ದವವರಷಕ': 3333, 'ಉಷ': 3334, 'ಕಲಯಣ': 3335, 'ಕರಯದಲ': 3336, 'ನರತರದರ': 3337, 'ನತಜ': 3338, 'ವದಕಯಲಲದದರ': 3339, 'ಹದಸಣ': 3340, 'ಗಳಲಲ': 3341, 'ತಗದಹಕಲಗದ': 3342, 'ವಶವಸಗಳ': 3343, 'ತನನಲ': 3344, 'ಸಧಯವಗತತದ': 3345, 'ದಷಟಹನರಗ': 3346, 'ತರಸಬಕ': 3347, 'ಬಹಳವಗ': 3348, 'ಪಟಟದ': 3349, 'ಮರಯವ': 3350, 'ರಗದದ': 3351, 'ಬಳಲತತದದನ': 3352, 'ಅಗಯಲಲಗದದ': 3353, 'ತತನನ': 3354, 'ತಪ': 3355, 'ಹಲಯಲಗದ': 3356, 'ಪರಜಞಪರವಕ': 3357, 'ಪರಪಚದ': 3358, 'ನವಸಗಳ': 3359, 'ಆಟಗರ': 3360, 'ಸಮನಗ': 3361, 'ಕಣಣಗಳದ': 3362, 'ನಡತತತತ': 3363, 'ಚನವಣ': 3364, 'ಬಹರಗಗಡಲಲ': 3365, 'ಗಳಯ': 3366, 'ಅಸಪಷಟ': 3367, 'ಮತಗಳ': 3368, 'ಅರಥವಗಲಲಲ': 3369, 'ತಳವಕಗ': 3370, 'ಪರವತದಲಲರವ': 3371, 'ವಕಷಗಳ': 3372, 'ಮಹತಗಳನನ': 3373, 'ಕಲಹಕತತದದನ': 3374, 'ಜನಪರಯ': 3375, 'ಆಸಕತಯದ': 3376, 'ಕಳತತನ': 3377, 'ಹಸವ': 3378, 'ಕಮಲಗಳ': 3379, 'ಕಳದಲಲ': 3380, 'ಅರಳತತವ': 3381, 'ಗಣಮಟಟವಲಲದ': 3382, 'ಪದರಥ': 3383, 'ಧನತಮಕವಗ': 3384, 'ದವಸಥನಕಕ': 3385, 'ಅನಮಧಯ': 3386, 'ಪರಶನಗಳನನ': 3387, '2005': 3388, 'ನವಬರ': 3389, '9ನ': 3390, 'ಹತತನಯ': 3391, 'ಮರಣವಯತ': 3392, 'ಅರವತತರಡನ': 3393, 'ಸದರಶನ': 3394, 'ಭಗವತನ': 3395, 'ಕಪಯದ': 3396, 'ಮಕನ': 3397, 'ಮತಡತತನ': 3398, 'ಎಪಟ': 3399, 'ಪರಥಮವಗ': 3400, 'ಕನಕಚ': 3401, 'ಬಯಸತತನ': 3402, 'ಬಲಯನನ': 3403, 'ಉಲಲಖಸತತರ': 3404, 'ಸರಕರ': 3405, 'ಗರತಸಲ': 3406, 'ಮರಟವಗವ': 3407, 'ಸವನಯದ': 3408, 'ಉಟಗತತವ': 3409, 'ಫಲವತತಗದ': 3410, 'ಆತಮವಲಕನ': 3411, 'ನಯನತಗಳನನ': 3412, 'ಆತಮವಲಕನದದ': 3413, 'ಸಮನಗರತತನ': 3414, 'ಮಸಲಯಕತ': 3415, 'ಆಹರ': 3416, 'ಚಲನಚತರಗಳಲಲ': 3417, 'ಪರಮಪರದರಶನವ': 3418, 'ಸರವಸಧರಣವಗದ': 3419, 'ನವಲಲದದರ': 3420, 'ಮರತಹದ': 3421, 'ಕವಯವನನ': 3422, 'ಲಕಕರಗ': 3423, 'ಪರತಶತ': 3424, 'ಅನಪತದಷಟ': 3425, 'ಗರವ': 3426, 'ಧನ': 3427, 'ದರಯವದ': 3428, 'ಏಕರಪದ': 3429, 'ವವಹಗಳನನ': 3430, 'ಕಟಬಗಳಲಲ': 3431, 'ಸವಕರಸಲಗದ': 3432, 'ಯನಟಡ': 3433, 'ಸಟಟಸ': 3434, 'ಕರನಸ': 3435, 'ವನಮಯ': 3436, 'ಮದವರದದ': 3437, 'ಧವನ': 3438, 'ನದದ': 3439, 'ವಚತರವನ': 3440, 'ದರಪಯಗಪಡಸಕಳಳಬರದ': 3441, 'ಪರಯತನಶಲ': 3442, 'ಅಸಧಯವದದ': 3443, 'ಭಗಗಳ': 3444, 'ಪರಣಗಡಲಲ': 3445, 'ನಡತತನ': 3446, 'ಇಪಪತತ': 3447, 'ಇಪಪತತದ': 3448, 'ನಲವತತದ': 3449, 'ಸಥಳದ': 3450, 'ಕಡತಗಳಸಬಕ': 3451, 'ಅವಲಕಸದದನ': 3452, 'ಒಬಬರಗ': 3453, 'ಕಲಸದದರ': 3454, 'ಗಯದದ': 3455, 'ಗರಥಯನನ': 3456, 'ಕಠಡಯಲಲ': 3457, 'ಭಷಣ': 3458, 'ಕಷಣವನನ': 3459, 'ವಕಸದ': 3460, 'ಆಧರ': 3461, 'ವಹಸ': 3462, 'ವಕಸದಲಲ': 3463, 'ಮಹತವಪರಣ': 3464, 'ಯಗದನವನನ': 3465, 'ದಶರಥನ': 3466, 'ಶಬದವದ': 3467, 'ಬಣದದ': 3468, 'ಶರವಣ': 3469, 'ಕಮರನ': 3470, 'ಮರಣವನನಪಪದನ': 3471, 'ಪರತಧವನ': 3472, 'ನವರಸವ': 3473, 'ಸಲಯಲರ': 3474, 'ಒಮಮಲ': 3475, 'ಕನ': 3476, 'ಡಸಟಬನನಲಲ': 3477, 'ಹಕದರ': 3478, 'ಬಯಸದತ': 3479, 'ಬಣಣವನನ': 3480, 'ಸಕಷಪತರವ': 3481, 'ತರಸಕತವಗದ': 3482, 'ತತವಗಳ': 3483, 'ಅಸಮತಲನ': 3484, 'ವನನ': 3485, 'ಸಷಟಸತ': 3486, 'ಮನಕಲಸಗಳವ': 3487, 'ಅರತವನ': 3488, 'ಬಹಯ': 3489, 'ವಷಯಗಳಗ': 3490, 'ಅಟಕಡಲಲ': 3491, 'ಹರಶಚದರ': 3492, 'ಎಚಚರಸತತದದನ': 3493, 'ಬರಟಷರ': 3494, 'ಪಡಸದರ': 3495, 'ದರವ': 3496, 'ಅಧಯಯನಶಲನದ': 3497, 'ರಮಶನ': 3498, 'ಸಥನದಲಲರತತನ': 3499, 'ಸತನ': 3500, 'ಮಭಗವ': 3501, 'ಪರಕಶಮನವಗದ': 3502, 'ಭಮಯಲಲ': 3503, 'ಬಗಯ': 3504, 'ಪರಣಗಳವ': 3505, 'स': 3506, 'तसय': 3507, 'भरयय': 3508, 'पर': 3509, 'कम': 3510, 'ಕದರಗಳ': 3511, 'ಅಗಳದಲಲವ': 3512, 'ನತಯಹರದವರಣ': 3513, 'ಕಡನ': 3514, 'ಹದಹದವ': 3515, 'ಪರಣಗಳಸಬಕ': 3516, 'ಅಪರಧಗಳಗ': 3517, 'ವರಗ': 3518, 'ದಡನಯ': 3519, 'ಸಕಕಲಲ': 3520, 'ಸವಕರಸಲ': 3521, 'ಹಡಕತತರವ': 3522, 'ಚಲಲರ': 3523, 'ನರತರ': 3524, 'ಪನಹ': 3525, 'ನತಗಳದ': 3526, 'ಅವರಬಬರ': 3527, 'ಪರಮ': 3528, 'ಪಶದದ': 3529, 'ಬದದರದರ': 3530, 'ಶಬದಪಕರಣಗಳ': 3531, 'ಪರಕಷಣ': 3532, 'ಫಲಕಲಲ': 3533, 'ಸಸಯಕ': 3534, 'ಭಗಗಳಗವ': 3535, 'ಮಲಗಳನನ': 3536, 'ಹದರವ': 3537, 'ಸತಳ': 3538, 'ಸಗತಕರನ': 3539, 'ಶಷಯಯಗದದಳ': 3540, 'ಆಸಪತರಗ': 3541, 'ರಕತದನ': 3542, 'ಸರವಚಚ': 3543, 'ನಯಯಲಯದ': 3544, 'ನಯಯಧಶ': 3545, 'ರದ': 3546, 'ಪದವಯ': 3547, 'ರಕಷಣಯ': 3548, 'ಶಪಥವನನ': 3549, 'ಮಡಸದರ': 3550, 'ಸಲಡಸ': 3551, 'ಬರಯದರದಗ': 3552, 'ಸರದ': 3553, 'ಹರಯರ': 3554, 'ವಚರಣಯನನ': 3555, 'ಪರಗಣಸಬಕ': 3556, 'ನರಣಯಕ': 3557, 'ಚಡ': 3558, 'ನರಣಯವನನ': 3559, 'ಹಳತ': 3560, 'ಬರಲಲಯದರ': 3561, 'ಹಡಕ': 3562, 'ಸಹದರನಗತ': 3563, 'ಬಲಶಲ': 3564, 'ನರಮಸಲ': 3565, 'ಇಟಟಗ': 3566, 'ಸಮಟ': 3567, 'ಅನಯಯದ': 3568, 'ಮನವರ': 3569, 'ಸಮಜದಲಲ': 3570, 'ಅಗರವದ': 3571, 'ಮದವರಯರ': 3572, '23': 3573, '4': 3574, 'ಇದರಲಲ': 3575, 'ಆವರಣವ': 3576, 'ಬಹತ': 3577, 'ಆವರಣವಗದ': 3578, 'ಪರತಫಲಕಕ': 3579, 'ಅರಹರದ': 3580, 'ಅದಷಟ': 3581, 'ಸರಗಳಸಲ': 3582, 'ನಲಕರ': 3583, 'ಯಗಫಲವ': 3584, 'ಜಟಲವಲಲದ': 3585, 'ನಡಬಡ': 3586, 'ಪರಣಯವದ': 3587, 'ನದರಗ': 3588, 'ಜರದರ': 3589, 'ರಜದನವದಯ': 3590, 'ಮರದನ': 3591, 'ಊರಗ': 3592, 'ಬಸಗಗ': 3593, 'ಕಯತತಳ': 3594, 'ಮಗವನನ': 3595, 'ಕಲಸಕಕ': 3596, 'ಹಗತತಳ': 3597, 'ಮಲಕಡಯವ': 3598, 'ದರದ': 3599, 'ಊರನಲಲ': 3600, 'ವಸಸತತನ': 3601, 'ಋಷಗಳ': 3602, 'ವರಪಕಷ': 3603, 'ಅಸರನನನ': 3604, 'ನಡತತದದಗಯ': 3605, 'ಹದರಕಡನ': 3606, 'ನಯಯದ': 3607, 'ಪರತಪದಕ': 3608, 'ಆತಮಕಥಯ': 3609, 'ಶರರದ': 3610, 'ಅಗವಗದ': 3611, 'ಪರವಸಗರ': 3612, 'ಅಶತ': 3613, 'ಸಥತಯಲಲದದರ': 3614, 'ದಸ': 3615, 'ಪರಯತನಸತತದದಗ': 3616, 'ಗಟ': 3617, 'ಬರಸತ': 3618, 'ಕರಳಲಲ': 3619, 'ಸಶಭತವಗ': 3620, 'ಕಣತತತತ': 3621, 'ಇಷಟವಲಲ': 3622, 'ಹಳದದನ': 3623, 'ಆಗರ': 3624, 'ಉತತರಪರದಶದಲಲದ': 3625, 'ಕರಣಕಕಗ': 3626, 'ಅವಳದಗ': 3627, 'ಗಮಸತ': 3628, 'ಮದರ': 3629, 'ಹಕದ': 3630, 'ಕಗದಕಕ': 3631, 'ಚತಯದ': 3632, 'ಕಳಗದದ': 3633, 'ಮನಖಡದ': 3634, 'ಭಗದ': 3635, 'ಗಯವಗದ': 3636, 'ನರಮಸವ': 3637, 'ಗತತಗ': 3638, 'ಸಕಕತ': 3639, 'ತರವರಣವ': 3640, 'ರಷಟರಯ': 3641, 'ಧವಜವಗದ': 3642, 'ಕಳಕ': 3643, 'ಮಕಕಳದಗ': 3644, 'ಆಟವಡಬಡ': 3645, 'ವದಶಯನ': 3646, 'ನನಪಗಳನನ': 3647, 'ಹಕತತದದನ': 3648, 'ಸಮಧನ': 3649, 'ನಟಟನಲಲ': 3650, 'ಅಮರನಥದ': 3651, 'ಉದದ': 3652, 'ಲಕನದಲಲ': 3653, 'ನರಮಸದದರ': 3654, 'ಬಳಹಣಣನ': 3655, 'ಸಪಪಯನನ': 3656, 'ಅಗಯತತದ': 3657, 'ಉಪನಯಸದಲಲ': 3658, 'ಗಭರ': 3659, 'ವವಚನ': 3660, 'ಮಡಲಯತ': 3661, 'ಅಪರಮಣಕ': 3662, 'ಶತಯತವಗ': 3663, 'ಉಪಯವಲಲದ': 3664, 'ಸಮಸಯಗಳನನ': 3665, 'ಸಬಲಸವದ': 3666, 'ಪರಯತನವಗದ': 3667, 'ಓದಗಗ': 3668, 'ಗಪ': 3669, 'ಕತತಯದ': 3670, 'ಪರಹರಸದಗ': 3671, 'ಶರರದದ': 3672, 'ಬರಯಯತ': 3673, 'ಸಮಯವದ': 3674, 'ಸಸಥ': 3675, 'ಬಡವರಗ': 3676, 'ಪರಯಜನಕರಯಗದ': 3677, 'ಹಗಸರ': 3678, 'ಖರದಸತತದದಳ': 3679, 'ಹಡತ': 3680, 'ಒಪಪತತನ': 3681, 'ಷಲಲ': 3682, 'ಸಹತಯವನನ': 3683, 'ಆನದಸತತದದರ': 3684, 'ಜಠರಗನ': 3685, 'ರತಯಲಲ': 3686, 'ಶರರ': 3687, 'ಸಥತಯಲಲರತತದ': 3688, 'ಅಲದಡವವನ': 3689, 'ಐವತತರನ': 3690, 'ದಶವನನ': 3691, 'ಏಕವಭಗದ': 3692, 'ಬದರನ': 3693, 'ಸಕಪ': 3694, 'ಬದಧವತಕಯದಗ': 3695, 'ಪರತರಧಕ': 3696, 'ಪರಸತಕಯಲಲ': 3697, 'ವನಸಪತ': 3698, 'ಪಶ': 3699, 'ಹಗಯ': 3700, 'ಸಬಧಗಳ': 3701, 'ನದನಯ': 3702, 'ಆಶಚರಯದ': 3703, 'ವಷಯವನದರ': 3704, 'ಸಮನಯವಗ': 3705, 'ಪರದಶದಲಲ': 3706, 'ದರವತ': 3707, 'ಜಲದದ': 3708, 'ಮ': 3709, 'ಯನದರ': 3710, 'ಹಡತಗತ': 3711, 'ಕರಯನ': 3712, 'ಚಕಶ': 3713, 'ಸರಕಗಳನನ': 3714, 'ಖರದಸಬರದ': 3715, 'ವಕಲಗ': 3716, 'ಪರಷ': 3717, 'ಭಕಷ': 3718, 'ಬಡತತದದನ': 3719, 'ಕಸರ': 3720, 'ಗಡಡಯದ': 3721, 'ಬಳಯವ': 3722, 'ಅಗನ': 3723, 'ಶಮಕ': 3724, 'ಇದರದಗ': 3725, 'ಕಷತರವ': 3726, 'ಬಹದಕರವನನ': 3727, 'ಪಡಯತತದ': 3728, 'ಎಲಲದದ': 3729, 'ವಡಯನರಮಣದ': 3730, 'ಫಲಕ': 3731, 'ಹಮಲಯದ': 3732, 'ಅತಯನನತ': 3733, 'ಶಖರವ': 3734, 'ಆವತವಗರತತದ': 3735, 'ಮಜ': 3736, 'ಭಗವಹಸಲದದರ': 3737, 'ಶವಜಯ': 3738, 'ಶತರಗಳನನ': 3739, 'ಮಟಟಹಕಲ': 3740, 'ಗರಲಲ': 3741, 'ತತರವನನ': 3742, 'ಜನಮದನದದ': 3743, 'ಕಕ': 3744, 'ಕತತರಸತತದದರ': 3745, 'ತತವಗಳನನ': 3746, 'ಅನಸರಸಬಕ': 3747, 'ಮದವಯ': 3748, 'ಬಯನರ': 3749, 'ಧರಸ': 3750, 'ಯವಕರಗ': 3751, 'ಪರಯತನಸತತರ': 3752, 'ಹಸಗಯಲಲ': 3753, 'ನರಳತತದದನ': 3754, 'ಎಟ': 3755, 'ಎಲಗಳವ': 3756, 'ವಸತಶಲಪದ': 3757, 'ಶಸತರಯ': 3758, 'ಉದಹರಣಯಗದ': 3759, 'ಅಫಮ': 3760, 'ಸಧಯವಗವವರಗ': 3761, 'ಸರಶ': 3762, 'ನದರ': 3763, 'ಅದಕಕತ': 3764, 'ಜಸತರಮರ': 3765, 'ಕಣವದಲಲ': 3766, 'ಗದದವರವನನ': 3767, 'ಸಮನವಗ': 3768, 'ಗಳಸವ': 3769, 'ರಗಗಳನನ': 3770, 'ಮಲರಯ': 3771, 'ಸರಗ': 3772, 'ತತ': 3773, 'ಬದಕಳಯತತನಯ': 3774, 'ಅನಮನವದ': 3775, 'ಎಲಯಳಳ': 3776, 'ಕಯಗಳ': 3777, 'ಕಣತತಲಲ': 3778, 'ಕವತಯಲಲ': 3779, 'ಕರದಕಡ': 3780, '5': 3781, 'ಡಪಲಮ': 3782, 'ಪಡದದದರ': 3783, 'ಈಕರತಯ': 3784, 'ಪದಗಳ': 3785, 'ಆಡ': 3786, 'ಆನ': 3787, 'ಸಸಯಹರಗಳ': 3788, 'ಅಶವದಳದ': 3789, 'ಚಲಸತತತತ': 3790, 'ಎಲಲದಯ': 3791, 'ಆಟದ': 3792, 'ಕಲವಯ': 3793, 'ಊರನ': 3794, 'ಅಚಗ': 3795, 'ಪರಸ': 3796, 'ನವರಜ': 3797, 'ಪರಸಗಳ': 3798, 'ಪಟಕ': 3799, 'ಸಡಸದರ': 3800, 'ಶಕರ': 3801, 'ಹನಮತ': 3802, 'ಹದಗಳದ': 3803, 'ಪಜಸಲಪಡವ': 3804, 'ದವತಗಳ': 3805, 'ಸರಯಗದ': 3806, 'ಆವರಣ': 3807, 'ಹಸರನ': 3808, 'ಅಭವದಧ': 3809, 'ಹದತತರವ': 3810, 'ದಶ': 3811, 'ಪತರಕಯಲಲ': 3812, 'ಕಡಡಯ': 3813, 'ಐಚಛಕ': 3814, 'ಪರಶನಗಳವ': 3815, 'ಬಕಟಗಳಲಲ': 3816, 'ಏನದ': 3817, 'ಭರತವ': 3818, 'ರಷಯದದ': 3819, 'ವಮನಗಳನನ': 3820, 'ಖರದಸತ': 3821, 'ಗಜಸನ': 3822, 'ಭಗವದ': 3823, 'ಪರಗಣಸಲಪಟಟತ': 3824, 'ಕದರಯ': 3825, 'ಯಜನ': 3826, 'ವಜಞಪನ': 3827, 'ಉದಯಗ': 3828, 'ಅತರಕಷ': 3829, 'ಅಣಶಕತ': 3830, 'ವಕಸ': 3831, 'ಹಡಕಣ': 3832, 'ಲಖನ': 3833, 'ಸಮಗರಗಳಗಗ': 3834, 'ಆಯಕ': 3835, 'ಯಜಞ': 3836, 'ಯಗದಗಳ': 3837, 'ನಡಯವ': 3838, 'ಸಥಳಗಳಲಲ': 3839, 'ಕಸರಯ': 3840, 'ಧವಜಗಳ': 3841, 'ನತಡತತವ': 3842, 'ಸಕಕವದಲಲ': 3843, 'ಸಶಧನ': 3844, 'ಪಎಚಡ': 3845, 'ಪದವ': 3846, 'ಭವನ': 3847, 'ಮತಸಯ': 3848, 'ಕಥಗಳಲಲ': 3849, 'ಕಣತತವ': 3850, 'ಹಡಗನ': 3851, 'ಹಭಗದಲಲ': 3852, 'ಹರತತದ': 3853, 'ಇಲಖ': 3854, 'ಮಡದದದರ': 3855, 'ಹಗಲಲವ': 3856, 'ಬಕಗತತದ': 3857, 'ಅವಲಕನದದ': 3858, 'ಸಪಷಟವಗದ': 3859, 'ಪರಸರದದಗನ': 3860, 'ಕಲಲ': 3861, 'ಅಗರಸಗ': 3862, 'ಎಪಪತತ': 3863, 'ನಲಕನ': 3864, 'ಲಡವನನ': 3865, 'ವರಮಸಲಲಲ': 3866, 'ಚಕಗ': 3867, 'ಸವಮ': 3868, 'ವವಕನದರ': 3869, 'ಖಯತಯ': 3870, 'ಹರಡತ': 3871, 'ಮಡರ': 3872, 'ಭಗವನ': 3873, 'ಹಮಲಗದ': 3874, 'ರಚನಯ': 3875, 'ಗಹಯಲಲ': 3876, 'ದವಪರ': 3877, 'ಶರಕಷಣನ': 3878, 'ರಖ': 3879, 'ಜಮವತನನನ': 3880, 'ಸಲಸ': 3881, 'ಮಗಳ': 3882, 'ಜಮವತಯನನ': 3883, 'ಆಕರವಳಳ': 3884, 'ಅಧಕವಗ': 3885, 'ಉಪಯಗಸತತವ': 3886, 'ಲಲ': 3887, 'ಬಹದದರ': 3888, 'ಶಸತರ': 3889, 'ಗಧವದ': 3890, 'ಡರಮಗಳನನ': 3891, 'ವಸತವದ': 3892, 'ವಷಯವಲಲ': 3893, 'ಥಮಸ': 3894, 'ಎಡಶನನ': 3895, 'ಡಪಡ': 3896, 'ಆವಷಕರವನನ': 3897, 'ಅನಗತಯ': 3898, 'ಖರಚ': 3899, 'ಪವತಸಬಕ': 3900, 'ಯಜಸದ': 3901, 'ಪಟಟಮಡವಕ': 3902, 'ಸರವಚಛ': 3903, 'ಇರಬರದ': 3904, 'ಅಪರಧಯ': 3905, 'ಎದರ': 3906, 'ಉಪಸಥತನದದನ': 3907, 'ಪರಕಶಗಳಸಲ': 3908, 'ಮಧಯಹನ': 3909, 'ನಟಕವ': 3910, 'ದಖತಯವಗದ': 3911, 'ಹರಗನವರನನ': 3912, 'ಗರವಸಬಕ': 3913, 'ಛತರಪತ': 3914, 'ಶವಜ': 3915, 'ರಜನತಜಞನಗದದನ': 3916, 'ಮದಲಚನಯಳಳ': 3917, 'ಸಮಜವನನ': 3918, 'ತರಲ': 3919, 'ಮರಗದರಶನ': 3920, 'ವದಯರನನ': 3921, 'ವದಯಮನವಗದ': 3922, 'ಪರಯತನದದ': 3923, 'ದರಬಲ': 3924, 'ಬದಧಶಕತಯನನ': 3925, 'ಬಲಪಡಸಬಹದ': 3926, 'ಸಜಜನರನನ': 3927, 'ಗರವಸ': 3928, 'ಪರಕತಕವಗ': 3929, 'ಪಡತತವ': 3930, 'ಅಡಶಯದ': 3931, 'ವರಪತಯದ': 3932, 'ತದಯಗಲ': 3933, 'ಖ': 3934, 'ಮದಲದವ': 3935, 'ಜಹವ': 3936, 'ಮಲದ': 3937, 'ವರಣಕಷರಗಳ': 3938, 'ಅಕಕನ': 3939, 'ಮದವಯಲಲ': 3940, 'ಅಣಣನ': 3941, 'ಆಮತರಣ': 3942, 'ಸಹಕರಮಗಳಗ': 3943, 'ಅಭವದನಯನನ': 3944, 'ಸಲಲಸದ': 3945, 'ಕನಯಕಮರ': 3946, 'ನಗರದಲಲ': 3947, 'ಆತಮಚತನಯಲಲ': 3948, 'ಮಗನನದ': 3949, 'ವವಕನದ': 3950, 'ಸವಮಗ': 3951, 'ಆತಮಜಞನ': 3952, 'ಪರಪತವಯತ': 3953, 'ಸತಯದ': 3954, 'ರಕಷಣಯಲಲ': 3955, 'ಪರಣವನನ': 3956, 'ಕಳದಕಡನ': 3957, 'ಕರಯವದನನ': 3958, 'ಕಳಲಲಲ': 3959, 'ವಸತವಯಕಕ': 3960, 'ವಯವಸಥ': 3961, 'ಅಪಪ': 3962, 'ಹಳದತ': 3963, 'ಅಸಮಧನದದ': 3964, 'ಏಕಗಯಗ': 3965, 'ಧರಮದಲಲ': 3966, 'ಲನರಗದದರ': 3967, 'ವಕರವಗತತ': 3968, 'ಭವನಯನನ': 3969, 'ನಯತರಸವದ': 3970, 'ದರವನನ': 3971, 'ಅಳಯಬಹದ': 3972, 'ಉದದಶಗಳಗಗ': 3973, 'ಮಗದದ': 3974, 'ಹಳದದನನ': 3975, 'ಅರಥಮಡಕಡದದನ': 3976, 'ಆಗತತ': 3977, 'ರಷಟರಪತಯ': 3978, 'ಅನಪಸಥತಯಲಲ': 3979, 'ಹಚಚಗತತದ': 3980, 'ಪರವಲಬ': 3981, 'ಸಸಯಗಳ': 3982, 'ಅವಲಬತವಗರತತದ': 3983, 'ಯವದರದ': 3984, 'ಹತವಗತತದಯ': 3985, 'ಬಳಹಣಣಗಳ': 3986, 'ಸಗತ': 3987, 'ಹಲವ': 3988, 'ಪರಕರದ': 3989, 'ವದಯಗಳವ': 3990, 'ರಬಟಗಳ': 3991, 'ವಜಞನಕ': 3992, 'ಸಶಧನಯ': 3993, 'ಫಲತಶ': 3994, 'ದನಗಳವರಗ': 3995, 'ಶರದಯ': 3996, 'ಜತರ': 3997, 'ತಳದರವತ': 3998, 'ಕಗರ': 3999, 'ಎತತರಕಕ': 4000, 'ಎಭತತನಲಕ': 4001, 'ಬಲನ': 4002, 'ಹಚಚಸದ': 4003, 'ನರಪಕ': 4004, 'ಸಯತತನ': 4005, 'ಅಶವ': 4006, 'ನಯಟರನ': 4007, 'ಹದರತತದ': 4008, 'ಧರವ': 4009, 'ನಕಷತರವ': 4010, 'ಗಚರಸತತದ': 4011, 'ಅವಮನಸದರ': 4012, 'ವಛತ': 4013, 'ಫಲವ': 4014, 'ಕರಗಳ': 4015, 'ರಶ': 4016, 'ಅಗಶಗಳಲಲ': 4017, 'ವಧಗಳವ': 4018, 'ಸಯತತರವ': 4019, 'ತದಗ': 4020, 'ಸಲಲಸತತನ': 4021, 'ಮಲಗಲಲವ': 4022, 'ದಡಡದಗ': 4023, 'ಶವಲಗ': 4024, 'ದಢ': 4025, 'ಕತಗಳ': 4026, 'ಮಡತತವ': 4027, 'ಯಜನಗಳನನ': 4028, 'ಜರಗಳಸದ': 4029, 'ಬರಯವದರದ': 4030, 'ರಷಟರದರಹಗಳನನ': 4031, 'ಟಸಟ': 4032, 'ಟಯಬ': 4033, 'ಬಬ': 4034, 'ತಯರಕ': 4035, 'ಕತಕ': 4036, 'ಭಕಷಕನ': 4037, 'ಕತತರಸದ': 4038, 'ಬರಳಗಳಗ': 4039, 'ಪಟಟಯನನ': 4040, 'ವಕಷಕ': 4041, 'ಗಮನಸಬಹದದ': 4042, 'ಗಮನಸದ': 4043, 'ಏನಗದ': 4044, 'ಯರದರ': 4045, 'ಬದದದರದ': 4046, 'ಹಣಣಮಕಕಳ': 4047, 'ಶರಮತರನನ': 4048, 'ಬಯಸದದರ': 4049, 'ಹಡಕಬಕ': 4050, 'ಯಜಸರವ': 4051, 'ಬರಯಲ': 4052, 'ಶಬದಗಳನನ': 4053, 'ಸಖಖರ': 4054, 'ಗರದವರದಲಲ': 4055, 'ಪರರಥನ': 4056, 'ಸಪನಮಲ': 4057, 'ಲಕಟರ': 4058, 'ರವಣ': 4059, 'ತಮಸ': 4060, 'ವಯಕತಯಗದದ': 4061, 'ಜಲಲಧಕರ': 4062, 'ಅರಜಗಳನನ': 4063, 'ಪರಗಣಸಲಗವದ': 4064, 'ಅಭಯರಥಯನನ': 4065, 'ಬಬಲಸತತವ': 4066, 'ಹಚಚತತರವ': 4067, 'ವರಧಸತತವ': 4068, 'ಅಗತಯ': 4069, 'ಖರದಸಲ': 4070, 'ರಷಯನ': 4071, 'ಸಸಕತಗತ': 4072, 'ಭನನವಗದ': 4073, 'ಪಠ': 4074, 'ಕಲಜನಲಲ': 4075, 'ಓದತತದದನ': 4076, 'ಸಡಲಗಡತ': 4077, 'ತಳದಲಲವ': 4078, 'ಬಧನದಲಲ': 4079, 'ನರಣಯಸವದಕಕ': 4080, 'ಬಳಸವಗ': 4081, 'ಕನಕವ': 4082, 'ಲನಸ': 4083, 'ಮರಯತ': 4084, 'ಕಳಲನನ': 4085, 'ಗಕಲ': 4086, 'ಮಹಗಡರ': 4087, 'ಲಭಯವಲಲ': 4088, 'ದವನಗರ': 4089, 'ಲಪಯಲಲ': 4090, 'ದರಶನವ': 4091, 'ಕಲಮಟರ': 4092, 'ವಸಯಗಯ': 4093, 'ವಸಹತಗಳನನ': 4094, 'ಧವಸಮಡತ': 4095, 'ಅಧಯಪಕರದ': 4096, 'ಕಲತದದರ': 4097, 'ನಗರಕಕತ': 4098, 'ಸಪರದಯವದಗಳ': 4099, 'ಬಲವವಕಷವ': 4100, 'ಮಳಳಗಳಳಳ': 4101, 'ವಕಷ': 4102, 'ಪರಶರಮದದಗ': 4103, 'ಬಜರ': 4104, 'ಬಸತತದ': 4105, 'ವಗದ': 4106, 'ರಲಗಳ': 4107, 'ಸಖಯಯನನ': 4108, 'ದವಗಣಗಳಸಲಗವದ': 4109, 'ಸಸತನಯ': 4110, 'ಶಕಷಣದ': 4111, 'ಅಪರಧವನನ': 4112, 'ತಡಯಬಹದ': 4113, 'ಪಡವರನನ': 4114, 'ವಜಯಶರಗ': 4115, 'ಕರತರವಲಲ': 4116, 'ಬಲಲಗರ': 4117, 'ವಹಸದದನ': 4118, 'ಸನನ': 4119, 'ಸಕರಯವಗ': 4120, 'ದಲತರ': 4121, 'ಹದಬಹದ': 4122, 'ಕಷಮಯವಗದ': 4123, 'ಗಜ': 4124, 'ಒಡದ': 4125, 'ನಯಯ': 4126, 'ಮನಷಯನಗ': 4127, 'ಹಲಸದರ': 4128, 'ಅಲಪಯವಗದ': 4129, 'ನಜಗಳ': 4130, 'ಸವಸತಕ': 4131, 'ಚಹನಯ': 4132, 'ಅಪರದಕಷಣಕರವಗತತ': 4133, 'ಪರವತರಹ': 4134, 'ಶಖರವನನ': 4135, 'ತಲಪ': 4136, 'ಬವಟವನನ': 4137, 'ಹರಸದನನ': 4138, 'ರಮಶ': 4139, 'ಸಸಕರಸದ': 4140, 'ಸದಧಪಡಸತತದದರ': 4141, 'ಪರರಭವಗದ': 4142, 'ಮವತನ': 4143, 'ಅಮಲರದ': 4144, 'ಆನಗ': 4145, 'ಮವನನ': 4146, 'ತನನಸತತದದನ': 4147, 'ಬಗಬಯರ': 4148, 'ಸಘಟನಯ': 4149, 'ಭರಷಟ': 4150, 'ವರದಧ': 4151, 'ಶಸತ': 4152, 'ಕರಮ': 4153, 'ಕಗಳಳಲಗವದ': 4154, 'ಸರವತರಕ': 4155, 'ಆಮದನ': 4156, 'ನಖರವಗ': 4157, 'ವಯಕತಪಡಸಲಗದ': 4158, 'ಇತರರಗಗ': 4159, 'ಬದಕವವರ': 4160, 'ಶಲಘನಯ': 4161, 'ಬಲಶವಗ': 4162, 'ವರತಸತತಳ': 4163, 'ಕರಸತನ': 4164, 'ಕಷಟಕರವಗತತ': 4165, 'ಸರಸಅದ': 4166, 'ನಮಮಲಲ': 4167, 'ವಮನವನನ': 4168, 'ಪಲಟ': 4169, 'ಶವಸನ': 4170, 'ಪಕಷವನನ': 4171, 'ಹರತಪಡಸ': 4172, 'ಪದವಗ': 4173, 'ಸಮರಥಸದರ': 4174, 'ಅತರವನನ': 4175, 'ವದವ': 4176, 'ನರಕರಸಲಗದ': 4177, 'ಆನದಕರವಗತತ': 4178, 'ತತವಶಸತರದ': 4179, 'ಅಶಗಳ': 4180, 'ಹಳಲಗದ': 4181, 'ರಶಯನನ': 4182, 'ಪರವಶಸದದನ': 4183, 'ವಯವಸಥಪಕರ': 4184, 'ಕಚರಯನನ': 4185, 'ಉದಯಗಗಳ': 4186, 'ಡಡಲ': 4187, 'ಆಗರವದನನ': 4188, 'ಕಡಕಡರ': 4189, 'ದನವಡ': 4190, 'ಚತಕರ': 4191, 'ಅನಮತಯನನ': 4192, 'ಗಳಯನನ': 4193, 'ಇಟಟಕಡದದನ': 4194, 'ಕಕರಟ': 4195, 'ಆಯಮದಲಲರತತವ': 4196, 'ನಗರಗಳಲಲನ': 4197, 'ಕಳಗರ': 4198, 'ಗಬಬ': 4199, 'ವಸನಯ': 4200, 'ವತವರಣದಲಲ': 4201, 'ಕಪನಯ': 4202, 'ಕರಯನರವಹಸದ': 4203, 'ವಜ': 4204, 'ಅಸಮಧನಗಳಳತತರ': 4205, 'ನಗವ': 4206, 'ಅಗಯರ': 4207, 'ಅಭಯಸವಲಲದ': 4208, 'ಕರಡಗಳಲಲ': 4209, 'ಭಗವಹಸಬರದ': 4210, 'ನರಗಣ': 4211, 'ಬರಹಮಣನ': 4212, 'ಆರಧಕ': 4213, 'ನಡವದ': 4214, 'ಸತಷ': 4215, 'ಕರಯಕರಮಗಳ': 4216, 'ಯವವ': 4217, 'ಗಟಗ': 4218, 'ಆಕರದ': 4219, 'ಚತರಗಳಲಲ': 4220, 'ಬಣಣ': 4221, 'ಕಟಟಡವನನ': 4222, 'ನರಮಸಲಗದ': 4223, 'ವನಮಯದದ': 4224, 'ಏಕಮತಯ': 4225, 'ಶಲಪ': 4226, 'ಕಲಪನಯ': 4227, 'ಕಲಲನನ': 4228, 'ಸಪಷಟವದ': 4229, 'ಕತತದ': 4230, 'ಭಗರಭ': 4231, 'ಭಗಳ': 4232, 'ವಯ': 4233, 'ನಕಷತರ': 4234, 'ಒಳಗಡರತತದ': 4235, 'ಉತತರಣರಗದದರ': 4236, 'ನಡಲಲ': 4237, 'ಎಪಪತತದನ': 4238, 'ಕವಡ': 4239, 'ಮಹತವಕಕಷಯ': 4240, 'ಉಪಪನಕಯ': 4241, 'ತದಕಡ': 4242, 'ಪರಯಣ': 4243, 'ವರರಗ': 4244, 'ಭಯವಲಲ': 4245, 'ಎದರಳಯ': 4246, 'ಉತತರವನನ': 4247, 'ಬಸಗಯಲಲ': 4248, 'ಸಮಪತಯಗಲದ': 4249, 'ತರಭಜಕರದ': 4250, 'ಕರಣಜನಕ': 4251, 'ದಕಕಲಲದವರಗತತರ': 4252, 'ಸದಗಧತಗ': 4253, 'ಸಲಕದದರ': 4254, 'ಸಕ': 4255, 'ಶರರವರವ': 4256, 'ಬಣಣವರವ': 4257, 'ಬರಗದನ': 4258, 'ಅನವಷಸದ': 4259, 'ವಭಜನಯಲಲ': 4260, 'ವವದಗಳವ': 4261, 'ಉತಪತತಯ': 4262, 'ಇತಹಸದಲಲ': 4263, 'ಉಲಲಖ': 4264, 'ದರಯತ': 4265, 'ಅಗಡಯ': 4266, 'ತರಗಗ': 4267, 'ಒಳಪಟಟವ': 4268, 'ನಯತರಣ': 4269, 'ಗಪರದದಗನ': 4270, 'ಮರದಗ': 4271, 'ವಮನವ': 4272, 'ಇಳಯಲ': 4273, 'ತಯರ': 4274, 'ನಡಸತ': 4275, 'ಪಷಪಕ': 4276, 'ಭಟಟಚರಯ': 4277, 'ಡಸಕ': 4278, 'ನಬಕಯ': 4279, 'ಅಪವತರ': 4280, 'ನರನನ': 4281, 'ಸಪಡಸವ': 4282, 'ಪವತರವಗತತದ': 4283, 'ಬಳಗಗಯದ': 4284, '1998': 4285, 'ಏಪರಲ': 4286, '26ನ': 4287, 'ವಜಪಯ': 4288, 'ರಚಸಲಪಟಟ': 4289, 'ಕರದ': 4290, 'ಪತನ': 4291, 'ಅನಶಸಕ': 4292, 'ಇರತತನ': 4293, 'ಚತರಮದರ': 4294, 'ತಬತತ': 4295, 'ಹಸರನದಗ': 4296, 'ಉಪನಮವನನ': 4297, 'ಬರಯವದಲಲ': 4298, 'ನಯಕನ': 4299, 'ಪರಚದನಕರ': 4300, 'ಭಷಣವ': 4301, 'ಗಲಭಗ': 4302, 'ಕರಣವಯತ': 4303, 'ಭಕಪದಲಲ': 4304, 'ನಶವಯತ': 4305, '25': 4306, 'ಯವನರಗ': 4307, 'ಕಡತತದ': 4308, 'ಮಟಟಗಲ': 4309, 'ಹಕಕಳಳ': 4310, 'ವವದತಮಕ': 4311, 'ವಷಯಕಕ': 4312, 'ಅಪಪನಗ': 4313, 'ಆಯದ': 4314, 'ಧತ': 4315, 'ನಡದರ': 4316, 'ಸವಕರಸವ': 4317, 'ಸಮಚತತತ': 4318, 'ಇರಬಕಗತತದ': 4319, 'ಕಛರಯಲಲ': 4320, 'ಅನವದಕನ': 4321, 'ಅವಶಯಕತ': 4322, 'ಮರಭಮ': 4323, 'ಸಥಳವಗದ': 4324, 'ಮಳಗರವ': 4325, 'ಹಡಗನನ': 4326, 'ಪತತ': 4327, 'ಹಚಚತತದದರ': 4328, 'ಲಕಷಗಟಟಲ': 4329, 'ಹಳಳಗಳಗತ': 4330, 'ನಗರಗಳಲಲ': 4331, 'ಪದರಥಗಳ': 4332, 'ದಬರಯಗದ': 4333, 'ಯಜನಗಳ': 4334, 'ನವನವದ': 4335, 'ಸಬತಪಡಸತತದ': 4336, 'ತಪಪಲಲ': 4337, 'ಮನಸಸನ': 4338, 'ಬರತ': 4339, 'ತಯರಸದ': 4340, 'ಪರದರಶಸತತದದ': 4341, 'ಆರಭಕ': 4342, 'ಸಮತಲನ': 4343, 'ಹಲಕಪಟರಗಳ': 4344, 'ಪರಯಣಕರಗಗ': 4345, 'ಕಯತತವ': 4346, 'ಗಣಕಯತರದಲಲ': 4347, 'ಲಪಗಳನನ': 4348, 'ಉಪಯಗಸಬಕ': 4349, 'ಪರಗಣಸತತದ': 4350, 'ಪರತಕರದ': 4351, 'ಹಸತಮಕನದನ': 4352, 'ತವರತವಗದ': 4353, 'ಆಯಕಮಡದ': 4354, 'ಫಲಕದಲಲ': 4355, 'ಖರದಸದ': 4356, 'ಪಟಟಗಗಳಲಲ': 4357, 'ಹಕತತದದಳ': 4358, 'ಗಡಡಬದರಕಗ': 4359, 'ಹದರವದಲಲ': 4360, 'ಕಗಳ': 4361, 'ಆಹವನಸದದರ': 4362, 'ಸತಯವಡನ': 4363, 'ವನಪರಸತ': 4364, 'ರಜನನನ': 4365, 'ಮರಳ': 4366, 'ಕರತರಲ': 4367, 'ಪರಯತನಸಲಗತತದ': 4368, 'ಕಳಸತತನ': 4369, 'ಜಗತತನಲಲ': 4370, 'ಪರಣಯದ': 4371, 'ಚರಚಗಳ': 4372, 'ಹಲಗಳಗ': 4373, 'ಮಡಲಗತತದ': 4374, 'ಪರತಯಕವದ': 4375, 'ಶಕತಯದ': 4376, 'ಸಪದಸತತನ': 4377, 'ಇತಹ': 4378, 'ಬದಧವತ': 4379, 'ಬಲಕ': 4380, 'ವದಯಲಯದ': 4381, 'ಹಮಮ': 4382, 'ಆಶಚರಯಚಕತರಗ': 4383, 'ಜದಗರನ': 4384, 'ಆಟವನನ': 4385, 'ಇದಲಲವ': 4386, 'ಕವಡರ': 4387, 'ಸನನಯದಗ': 4388, 'ವವರಸಬಕಗದ': 4389, 'ತಗದಕಳಳತತದದರ': 4390, 'ಓದಲಗದ': 4391, 'ಸವನತಹ': 4392, 'ಹದಯ': 4393, 'ಮಹತಯನನ': 4394, 'ಮರಛ': 4395, 'ವಯವಹರವಲಲದ': 4396, 'ಪರಸಥತ': 4397, 'ಹನಕರಕವಗದ': 4398, 'ಬವಲಡ': 4399, 'ಎಡಜ': 4400, 'ಗಟಟಬಣಣದ': 4401, 'ಸರಯನನ': 4402, 'ಕಡಳ': 4403, 'ಪರವಸದ': 4404, 'ಉತತಮವಗದಯ': 4405, 'ಅರವತತಮರನ': 4406, 'ಅನಥಶರಮಕಕ': 4407, 'ಹಠವದ': 4408, 'ದರವಡಬಕ': 4409, 'ಎಳ': 4410, 'ಯರಗದ': 4411, 'ಮಟಟಬಕನಸತತದ': 4412, 'ಪರಕರಣವ': 4413, 'ಸವಕರರಹ': 4414, 'ಪರಹರಸಲಗವದ': 4415, 'ಮನವ': 4416, 'ಆಕರಷಣಯ': 4417, 'ಕದರವಗದ': 4418, 'ಮಹತಮಜ': 4419, 'ಜಞನದ': 4420, 'ಕಡನನ': 4421, 'ಎಣಸವ': 4422, 'ದಷಪರಣವಗರತತದ': 4423, 'ವಯಸರಗ': 4424, 'ಅಪರಮಣಕವಗ': 4425, 'ನಲಲವದಲಲ': 4426, 'ಸಪತತನ': 4427, 'ಸಬಧವಗ': 4428, 'ಪರಸತವವ': 4429, 'ತರಸಕರಸಲಪಟಟತ': 4430, 'ಹಟಲನಲಲ': 4431, 'ಶಕಹರ': 4432, 'ಪರತಕತ': 4433, 'ಪರತಮಗಳನನ': 4434, 'ಸದಹಗಳನನ': 4435, 'ದರಮಡ': 4436, 'ಬಳಗನ': 4437, 'ಉಪಹರಕಕಗ': 4438, 'ರಶಯವನ': 4439, 'ಉದಯನವ': 4440, 'ಹಬಡವ': 4441, 'ಸಸಯಗಳದ': 4442, 'ಪ': 4443, 'ಸರಣಯಸಲ': 4444, 'ತಳಸದಸ': 4445, 'ಮನಸ': 4446, 'ವಶವಪರಸದಧ': 4447, 'ಸಹತಯ': 4448, 'ಸಪನಮಲವಲಲದ': 4449, 'ಸಪನಮಲಗಳನನ': 4450, 'ಸಗರಹಸಲ': 4451, 'ಪರಯತನಸತತದ': 4452, 'ವಸತಗಳದ': 4453, 'ಅಲಕರಸಲಗತತ': 4454, 'ಕಡಲದದರ': 4455, 'ಸಕದರ': 4456, 'ಅಪರತಮವರ': 4457, 'ರಜರಗಳಲಲ': 4458, 'ಕಶಲ': 4459, 'ನತಜಞನಗದದನ': 4460, 'ಬದಧನ': 4461, 'ಮರತ': 4462, 'ಅಶಕನ': 4463, 'ಕಲದದ': 4464, 'ಕನಯರಶ': 4465, 'ವಹಸದದ': 4466, 'ಟಕಯ': 4467, 'ಹನಯ': 4468, 'ಸಥನಗಳಲಲ': 4469, 'ಸಥಪತವದ': 4470, 'ದತವಸ': 4471, 'ಮಜನದಗ': 4472, 'ಮಜನದ': 4473, 'ಕಪಗಡನ': 4474, 'ಚಲಲದ': 4475, 'ರಲವಗಳ': 4476, 'ನರಮಣ': 4477, 'ಪನರನರಮಣ': 4478, 'ದಖದದ': 4479, 'ಅಧಕ': 4480, 'ಪರಮಣದಲಲ': 4481, 'ಮಡದದರದ': 4482, 'ಹಷರ': 4483, 'ತಪದನ': 4484, 'ಬಹಳಷಟ': 4485, 'ನಗರ': 4486, 'ನಮಪದಗಳ': 4487, 'ಅವನದ': 4488, 'ದನಗಳದ': 4489, 'ಇರಸಲಗರವ': 4490, 'ತಕಕ': 4491, 'ಹಡದದ': 4492, 'ವಶಲವದ': 4493, 'ಎರಡತಸತನ': 4494, 'ಮಹಲನಲಲ': 4495, 'ವಸಸತತಳ': 4496, 'ಪರದರಶಸಲಗದ': 4497, 'ಶಶಪಲನ': 4498, 'ತಪಪಗಳನನ': 4499, 'ಕಷಮಸದದನ': 4500, 'ಡಸಬರ': 4501, 'ಸರಕರದದ': 4502, 'ಶಸನದ': 4503, 'ಹಳಳಗ': 4504, 'ಹತತರದ': 4505, 'ಪಟಟಣವದರ': 4506, 'ಕಶನಗರ': 4507, 'ಸಮಯಮತಯನನ': 4508, 'ಹಕರ': 4509, 'ನರಕಶ': 4510, 'ಶಸಕನಗದದನ': 4511, 'ಬಯಸದ': 4512, 'ಸಧರ': 4513, 'ನಟಕದ': 4514, 'ಕನಯಲಲ': 4515, 'ನಯಕ': 4516, 'ಭಟಯಗತತರ': 4517, 'ನಶಶಬದ': 4518, 'ಬಯರಕಯದ': 4519, 'ಬಳಲತತದದ': 4520, 'ಕಪಟ': 4521, 'ಭವಷಯವನನ': 4522, 'ನಟಸವದ': 4523, 'ಅವಜಞನಕ': 4524, 'ಕಟಯ': 4525, 'ಮರಖತನದ': 4526, 'ಅಪರಧವಗದ': 4527, 'ಹತತರದಲಲ': 4528, 'ಮರವತತ': 4529, 'ವರಮಚಹನಯ': 4530, 'ಅಗತಯವರವಲಲ': 4531, 'ಪರಶನರಥಕ': 4532, 'ಗಚರಸವ': 4533, 'ಗರಹಸಬಲಲವ': 4534, 'ನಯಮ': 4535, 'ಉಲಲಘನಯವದದದ': 4536, 'ಒಬಬಳ': 4537, 'ಸಣಕಲ': 4538, 'ಹಡಗಯ': 4539, 'ಜಞನವಳಳ': 4540, 'ವಶಲ': 4541, 'ಇದಕಕಗ': 4542, 'ಸಗವದಲಲ': 4543, 'ಜನನಗದ': 4544, 'ಜವತಪತತ': 4545, 'ಹಳಬಕಲಲವ': 4546, 'ತವಳವ': 4547, 'ಸಹರಧದ': 4548, 'ಸಥಪಸಬಹದ': 4549, 'ಸರತ': 4550, 'ಗಮನದದ': 4551, 'ಮಡತತಳ': 4552, 'ಹದನದನನ': 4553, 'ದನವನನಗ': 4554, 'ವರಷದ': 4555, 'ಕಭಮಳದಲಲ': 4556, 'ಸಮಮಳತವಗಲ': 4557, 'ಬಗ': 4558, 'ಪಕಷದ': 4559, 'ಲಭಕಕಗ': 4560, 'ದಶವರಧ': 4561, 'ಕಗಳಳಲ': 4562, 'ಯಚಸತತರಲಲಲ': 4563, 'ಸರಮಡಲ': 4564, 'ಅಪಕಷ': 4565, 'ಡಬರ': 4566, 'ನರಹಕರಗಳಗರತತರ': 4567, 'ಪರಕತಯದಲ': 4568, 'ನವರಣಯ': 4569, 'ಶಘರವಗ': 4570, 'ಸಸ': 4571, 'ಅಮಮ': 4572, 'ಸತಷದದದರ': 4573, 'ಗರಹಜರಗದದರ': 4574, 'ಜನಸಖಯ': 4575, 'ನಯತರಣದಲಲತತ': 4576, 'ಆವರತಕ': 4577, 'ಪರಯಣವನನ': 4578, 'ಮರಳಲ': 4579, 'ವರಮದಲಲ': 4580, 'ಶರಮಜವಯರ': 4581, 'ಶರಮಜವಗಳ': 4582, 'ವಚರವಮರಶ': 4583, 'ಖಗಳಶಸತರದ': 4584, 'ತಳಯಲ': 4585, 'ಉತಸಕನಗದದನ': 4586, 'ಗರಪರಣಮ': 4587, 'ದನದದ': 4588, 'ಸಸಯಗಳನನ': 4589, 'ಸಮನನಗರತತನ': 4590, 'ರಜಯ': 4591, 'ಕಳಲನದಗ': 4592, 'ನಡಯತತನ': 4593, 'ಖಡತವಗ': 4594, 'ಬಕಕ': 4595, 'ಪರದಕಷಣಕರವಗ': 4596, 'ಇತಯರಥವನನ': 4597, 'ಪರಹರಸಲ': 4598, 'ನಯಯಲಯಕಕ': 4599, 'ಸಗತಯದಗ': 4600, 'ವರತಲಪ': 4601, 'ಸಗರಹಲಯದಲಲ': 4602, 'ಪರತಮ': 4603, 'ತಳಸತತನ': 4604, 'ಯಗಯವಲಲದ': 4605, 'ರಗ': 4606, 'ಸಧಯತಯದ': 4607, 'ಒಲಯ': 4608, 'ಸಧನವಗದ': 4609, 'ಅನಭವ': 4610, 'ವರದಲಲ': 4611, 'ದಖಲತಗಗ': 4612, 'ಪರಮಣಪತರದ': 4613, 'ಪರತಯನನ': 4614, 'ಸಲಲಸದರ': 4615, 'ಭವನದಲಲನ': 4616, 'ಹದಯಸಪರಶಯಗವ': 4617, 'ಅತತ': 4618, 'ದಹಲಯಲಲ': 4619, 'ಮಹತಮ': 4620, 'ರಷಟರ': 4621, 'ಆಗದದರ': 4622, 'ಅವತರಚತರವನನ': 4623, 'ಆಯಕಮಡ': 4624, 'ಮರನ': 4625, 'ಭಗ': 4626, 'ರಜಯಸಭಯಲಲ': 4627, 'ಅನ': 4628, 'ಶಸನಬದಧ': 4629, 'ನತಯನನ': 4630, 'ಎಥಕಸ': 4631, 'ಸಮತ': 4632, 'ನಡಯತ': 4633, 'ಅಸತವಯಸತವಗರವ': 4634, 'ಕಣಯನನ': 4635, 'ವಷಯದಲಲನ': 4636, 'ಜಞನ': 4637, 'ಅನಭತ': 4638, 'ಕಶಮರ': 4639, 'ತದರಗಳಗದ': 4640, 'ಗಬಬಚಚ': 4641, 'ಅಧಯಕಷಯ': 4642, 'ಜಞನವರಧಕವಗಯ': 4643, 'ಪರಭವತವ': 4644, 'ಮಸಹರ': 4645, 'ಕಡಲಖಕರಗ': 4646, 'ಉಪಕರಣಗಳನನ': 4647, 'ಆರಭಸಲ': 4648, 'ಸದಢಗಳಸ': 4649, 'ಪಸಪರಟ': 4650, 'ನವಕರಸಬಹದದದ': 4651, 'ರಚಕರ': 4652, 'ಭಜನದ': 4653, 'ಪಕಕಕ': 4654, 'ಆದರಶ': 4655, 'ಕಹರವ': 4656, 'ಸಮತಲನವನನ': 4657, 'ಕಪಡಕಳಳಲ': 4658, 'ಮಡತತದ': 4659, 'ಪರಸದಧ': 4660, 'ಫಲಪರದ': 4661, 'ಮರಗಳ': 4662, 'ಟಪಪಣಗಳನನ': 4663, 'ಶಬದವನನ': 4664, 'ಕಳತಕಳಳತತದ': 4665, 'ಅಗರವ': 4666, 'ತರವ': 4667, 'ಹದರಗತತನ': 4668, 'ತರಪನ': 4669, 'ಹರಲ': 4670, 'ಸಥತಯ': 4671, 'ಪರಯಕಕ': 4672, 'ಹರದಶಕಕ': 4673, 'ಹರಪಪ': 4674, 'ಪರಚಯನ': 4675, 'ಮದರಗಳ': 4676, 'ಹದಳದದದರ': 4677, 'ತಲಪಲ': 4678, 'ನರದಶನವನನ': 4679, 'ಪಲಸಲ': 4680, 'ಭರಣಸಮತಯನನ': 4681, 'ಪತರಯನನ': 4682, 'ಕಕಳನದ': 4683, 'ವಸಫಟಕವಯತ': 4684, 'ಅನಥನದ': 4685, 'ಸಸರವತನಗದದನ': 4686, 'ಸಚವರಗ': 4687, 'ನಯಕತ': 4688, 'ಲಗನ': 4689, 'ದತ': 4690, 'ಕಚರಯಲಲ': 4691, 'ಬಹರ': 4692, 'ರಜಯದ': 4693, 'ರಬಡ': 4694, 'ಅಸತರತಯ': 4695, 'ಯಚನಯನನ': 4696, 'ಅತರರಷಟರಯ': 4697, 'ಕರಕಟ': 4698, 'ಪದಯ': 4699, 'ಊಕರತಕಕ': 4700, 'ಉಕರತ': 4701, 'ಶಬದವ': 4702, 'ಕಲಕಲಕಕ': 4703, 'ರಜಯಗಳಲಲ': 4704, 'ಒಳನಡನ': 4705, 'ಸಪರಧಯನನ': 4706, 'ಆಯಜಸಬಕ': 4707, 'ಜಞನವದಧ': 4708, 'ವಯವದಧರ': 4709, 'ಮಡವದರದ': 4710, 'ಪಣಯವ': 4711, 'ಲಭಸತತದ': 4712, 'ಶಸತರಸಜಜತ': 4713, 'ಅನಯತರತವಗದ': 4714, 'ದಸತನ': 4715, 'ಮದಲಪಟಟಲಲ': 4716, 'ನಯಯಲಯದಲಲ': 4717, 'ಕಕಷದರನನನ': 4718, 'ಕಟ': 4719, 'ಕಟಯಲಲ': 4720, 'ನಲಲಸ': 4721, 'ಭಗವದಗತಯ': 4722, 'ಇಟಟ': 4723, 'ಸತಯವನನಲಲದ': 4724, 'ಬರನನನ': 4725, 'ಪರಮಣ': 4726, 'ಮಡಸತತರ': 4727, 'ಪರಶಕಷಣರಥಗಳ': 4728, 'ಹಜರಗಬಕ': 4729, 'ದಹವನನ': 4730, 'ತಗದಕಡ': 4731, 'ಶವಗರಕಕ': 4732, 'ತರಳದರ': 4733, 'ಕಠಣವಗ': 4734, 'ಸಮಪತಯಯತ': 4735, 'ಸಥಗತವದ': 4736, 'ಸಭ': 4737, 'ನಮಷಗಳ': 4738, 'ಪನರರಭವಯತ': 4739, 'ವಸತರ': 4740, 'ಮಹತಮಜಯವರ': 4741, 'ಜಞನವನನ': 4742, 'ಹದವತಹ': 4743, 'ಅಭಲಷಯನನ': 4744, 'ಅಪಹರಣ': 4745, 'ಜಗರಕರಗರವದ': 4746, 'ಅವಶಯಕ': 4747, 'ತಣಣನಯ': 4748, 'ಸವಗತವ': 4749, 'ಮನಸಸನನ': 4750, 'ಒಳಪಡಸತ': 4751, 'ಏಕತ': 4752, 'ವವಧಯತ': 4753, 'ಲಕಪಕರದಲಲ': 4754, 'ಆಹಲದಕರ': 4755, 'ತಜಮಹಲ': 4756, 'ಅನರಕಷತ': 4757, 'ವಕಷಕರ': 4758, 'ಬರತತದದರ': 4759, 'ಅಥತಗಳ': 4760, 'ಕಡಗಯನನ': 4761, 'ವರಗಕರಣಕಕಗ': 4762, 'ಕರಯಕಲ': 4763, 'ಸಮಪತ': 4764, 'ಆದಕರಣ': 4765, 'ಅಶಕತನಗದದನ': 4766, 'ಹಳಲಪಟಟತತ': 4767, 'ದಹಲಗ': 4768, 'ಖಚತ': 4769, 'ಅತಶಯಕತಯ': 4770, 'ಮತನ': 4771, 'ವಶವಸವನನ': 4772, 'ಭದವಲಲ': 4773, 'ನಡವಳಕ': 4774, 'ಭಟಗಗ': 4775, 'ಸಚಸದ': 4776, 'ಭವಯವದ': 4777, 'ಮಡದದವ': 4778, 'ಬಳದಗಳಲಲ': 4779, 'ದಣ': 4780, 'ವಹರ': 4781, 'ಅಪರಶಸನಯವದ': 4782, 'ನದನಯವಗರತತದ': 4783, 'ಪರಸರದಲಲ': 4784, 'ವಚರಮಡಲ': 4785, 'ಸದರಭ': 4786, 'ಮದರಯನನ': 4787, 'ದರಹಕರ': 4788, 'ಗಯಗಡ': 4789, 'ಕರದಯದರ': 4790, 'ಮಭಗದ': 4791, 'ಹಸಗಯ': 4792, 'ಕಳತದದರ': 4793, 'ಕರಯದ': 4794, 'ಆತ': 4795, 'ಭಯಭತರಗದದನ': 4796, 'ಪಡವರ': 4797, 'ನರತಕವಗ': 4798, 'ರಜಯಭರ': 4799, '1945': 4800, 'ಪರವಶವನನ': 4801, 'ಕಗಲ': 4802, 'ಗಯಕ': 4803, 'ಹಣಣನರ': 4804, 'ಮರಗಳಗ': 4805, 'ಹಲಣಸತತತತ': 4806, 'ದಲತವರಗಕಕಗ': 4807, 'ವಶಷವಗ': 4808, 'ಶಕತರಗಲಲಲ': 4809, 'ಬದಗಳ': 4810, 'ಹಮದ': 4811, 'ರಪವನನ': 4812, 'ಧರಸತತವ': 4813, 'ತಲಬನ': 4814, 'ಕಲಲಲಪಟಟರ': 4815, 'ನಣಯ': 4816, 'ದಶಯ': 4817, 'ಅತಯಚರ': 4818, 'ದಷಕತಯಗಳಲಲ': 4819, 'ತಡಗತತನ': 4820, 'ಹಸವಗ': 4821, 'ಮಲತಟಟ': 4822, 'ಗರ': 4823, 'ಶಶಯನ': 4824, 'ಸವಯದ': 4825, 'ಪರವಶವದರ': 4826, 'ಉಲಲಘಸದ': 4827, 'ತದದಪಡ': 4828, 'ಸಹದಯಗಗಳ': 4829, 'ವಯಕತಪಡಸತತರ': 4830, 'ಕಳಗನ': 4831, 'ಶರನಮವನನ': 4832, 'ಹಟ': 4833, 'ಬಟಟಗಳ': 4834, 'ತಳಯತತವ': 4835, 'ಜಕ': 4836, 'ಆಲಸ': 4837, 'ಚಳಗಲದಲಲ': 4838, 'ಉಣಣ': 4839, 'ಮಲಗತತರ': 4840, 'ಕಳತಕಳಳ': 4841, 'ಕರನಲಲ': 4842, 'ಕಳತಕಳಳಬಹದ': 4843, 'ಉಪರರಷಟರಪತ': 4844, 'ಅನಮದಸದರ': 4845, 'ಪರಮವನ': 4846, 'ಮಡಕಳಳಲ': 4847, 'ಸವಧನವ': 4848, 'ನಡತತರಲಲಲ': 4849, 'ಚರಮದ': 4850, 'ಮನಷಯನನನ': 4851, 'ಹದರತತರ': 4852, 'ಕಭಕರಣನ': 4853, 'ನದರಮಗನನಗರತತನ': 4854, 'ಭರತಪಕ': 4855, 'ಒಪಪದ': 4856, 'ಗಧಕವ': 4857, 'ಸಡವ': 4858, 'ಸವಭವತ': 4859, 'ಶಘರಕಪಯಗದದನ': 4860, 'ಸಭಷ': 4861, 'ಚದರ': 4862, 'ಹಠತ': 4863, 'ಕಣಮರ': 4864, 'ಇಲಲಯವರಗ': 4865, 'ಬಹರಗವಗಲಲ': 4866, 'ಸದರಭಗಳಲಲ': 4867, 'ತನನದ': 4868, 'ಆದ': 4869, 'ಅಭಪರಯವನನ': 4870, 'ಬಬಲಸತತನ': 4871, 'ಆಲಗಡಡ': 4872, 'ಹಟಟದರ': 4873, 'ಶರಷಠತಯ': 4874, 'ಹಲಲನ': 4875, 'ಚಚಕಡರವ': 4876, 'ಹಲಲಗಳನನ': 4877, 'ಮರಮಡಲ': 4878, 'ಪರಯತನಸತತದದಳ': 4879, 'ಅಭಪರಯದಲಲ': 4880, 'ಹಟಟ': 4881, 'ಕರಡರ': 4882, 'ಜರಣವಗವ': 4883, 'ಕರಳನಲಲ': 4884, 'ಹರಕಳಳಲಗತತದ': 4885, 'ಶಲಕಗಳ': 4886, 'ವಯಖಯನವ': 4887, 'ಸಲಭವಲಲ': 4888, 'ಮಸವನನ': 4889, 'ಮರಣದ': 4890, 'ಕರಣದದಗ': 4891, 'ಭಕಷಯನನ': 4892, 'ಬಡದಳ': 4893, 'ಚತನ': 4894, 'ವದಯರಥಗಳನನ': 4895, 'ಆಕರಷಸತತತತ': 4896, 'ಸಟದಲಲ': 4897, 'ಹಕಲಗತತ': 4898, 'ವಹನದಲಲ': 4899, 'ಪಟರಲ': 4900, 'ವಜಞನದ': 4901, 'ವದಯರಥಯಗದದರ': 4902, 'ಕವಯ': 4903, 'ವಮಯ': 4904, 'ಸಖಯಯತ': 4905, 'ವದದಲಲ': 4906, 'ಅನಕರ': 4907, 'ಪರವಗ': 4908, 'ವಯಕತತವ': 4909, 'ತಲನತಮಕವಗ': 4910, 'ಗಯಳಗಳ': 4911, 'ಶಬರವನನ': 4912, 'ಪರವಶಸದ': 4913, 'ಸಲಗಳ': 4914, 'ವರಗಕರಣದ': 4915, 'ಅಧಯಕಷರ': 4916, 'ಉಪಧಯಕಷರ': 4917, 'ದಟಟ': 4918, 'ವನಯಜವಗಳಗ': 4919, 'ಬಲಯದನ': 4920, 'ಚಲಸತತದದನ': 4921, 'ಶರಷಕ': 4922, 'ಇಷಟವಗಲಲಲ': 4923, 'ದವಲಯಗಳವ': 4924, 'ಮಡತತರವ': 4925, 'ವದಶದ': 4926, 'ನಗರಕರದಗ': 4927, 'ನಯಮವ': 4928, 'ಸವಧನದಲಲ': 4929, 'ಉಲಲಖತವಗದ': 4930, 'ಮಸಗಳಸವ': 4931, 'ಹದಯವನನ': 4932, 'ಭಯಪಡಬಕಗಲಲ': 4933, 'ಪರಶಸಯ': 4934, 'ಅದರದ': 4935, 'ಪಸತಕದ': 4936, 'ಪಠಗಳನನ': 4937, 'ಗರತಸದದರ': 4938, 'ಹದಲ': 4939, 'ಅಭಗಲಬಧವಗ': 4940, 'ಮತನಡತತರ': 4941, 'ಅದಷಟವನನ': 4942, 'ಅವಲಬಸವದಲಲ': 4943, 'ಆಹರವ': 4944, 'ರಚಯಲಲ': 4945, 'ಬಹರಗವಗ': 4946, 'ಪರರಭಸ': 4947, 'ಕನಗಳಸದರ': 4948, 'ಮನಯಲಲಯ': 4949, 'ಬಟಟದದನ': 4950, 'ಸವಕರರಹವಲಲ': 4951, 'ತಳದಕಳಳಬಹದ': 4952, 'ಶಬರಕಕ': 4953, 'ಅನವಷಣಯ': 4954, 'ಗಹಗಳ': 4955, 'ಇರವಕಯ': 4956, 'ತಳಯತ': 4957, 'ಬಟ': 4958, 'ಪರವಶಸತ': 4959, 'ಅಫಜಲ': 4960, 'ಓಮನ': 4961, 'ಅಧಕರದಲಲ': 4962, 'ಒಳಗ': 4963, 'ಅಲದನ': 4964, 'ದರಜನರದ': 4965, 'ತಪಪಸಕಳಳ': 4966, 'ವಶಷಟವದ': 4967, 'ಸಮನಯತಯ': 4968, 'ಶರಷಠ': 4969, 'ಅವಮನಗಳನನ': 4970, 'ಅನಭವಸದ': 4971, 'ಅನಕಷರಸಥ': 4972, '1974': 4973, 'ಪಕಸತನದ': 4974, 'ಅಮರಕ': 4975, 'ದಶದದಗ': 4976, 'ಸಬಧವ': 4977, 'ಚನನಗರಲಲಲ': 4978, 'ಸವಯರಜತ': 4979, 'ಅವರನನ': 4980, 'ದವಳಯದ': 4981, 'ಘಷಸದ': 4982, 'ಸರವರವನನ': 4983, 'ತಲಪವದಲಲ': 4984, 'ಮನಯಲಲಲಲವ': 4985, 'ವಶಚಕ': 4986, 'ರಶಚಕರದ': 4987, 'ಚಳ': 4988, 'ಮಡವಳನ': 4989, 'ತಳಯವದಕಕ': 4990, 'ಅಲಲಗ': 4991, 'ಅನಯತರತ': 4992, 'ವನಯದದ': 4993, 'ನಡದಕಳಳಬಕ': 4994, 'ಇವಲಲವ': 4995, 'ಮನಯತ': 4996, 'ಅವಗಳಲಲ': 4997, 'ನಯನತಯ': 4998, 'ಕಣಸಗವದಲಲ': 4999, 'ಯನಯ': 5000, 'ಜನನಗವಗದ': 5001, 'ಬಲಪಯಗ': 5002, 'ಪಸತಕವನನ': 5003, 'ಸಪತತನನಲಲ': 5004, 'ನಲಮಳಗಯಲಲ': 5005, 'ಮರಮಡದದನ': 5006, 'ಸಸಕತದ': 5007, 'ಜಞನವದ': 5008, 'ದರವಯ': 5009, 'ನಷಧವಗದ': 5010, 'ಹಳಯಲಲ': 5011, 'ವಷಯತಮಕ': 5012, 'ಶಸತರವರದಧ': 5013, 'ಕರಮಗಳನನ': 5014, 'ಕಲಬ': 5015, 'ಅಲಖತ': 5016, 'ನಯಮಗಳನನ': 5017, 'ವಯವಹರ': 5018, '2002': 5019, 'ರಷಟರಪತಯಗ': 5020, 'ಕರಯವಧಯ': 5021, 'ಪರಣವಯತ': 5022, 'ಅನಮದಸದ': 5023, 'ಪರಮನದದ': 5024, 'ಪರಪತಯ': 5025, 'ಇಚಚ': 5026, 'ಪರಣತಯ': 5027, 'ಹಸರಗದ': 5028, 'ಎಪಪತತರಡನ': 5029, 'ರಗಗ': 5030, 'ಹಸಗಯನನ': 5031, 'ಬಡಲ': 5032, 'ಉದದಶಪರವಕವಗ': 5033, 'ಬಳಗ': 5034, 'ಎಚಚರ': 5035, 'ತಪಪದ': 5036, 'ದಹಕಕ': 5037, 'ಸವದನ': 5038, 'ಮಧಯಪರದಶದ': 5039, 'ಪರಸಥಭಮ': 5040, 'ಭಗಗಳಲಲ': 5041, 'ಮಳಯಗವ': 5042, 'ಮಧಯತರದಲಲ': 5043, 'ಹತದಷಟಯದ': 5044, 'ಬಯಟ': 5045, 'ಸಲಕರಣಗಳ': 5046, 'ಗರಹಣಯದ': 5047, 'ಶಭಸತತದ': 5048, 'ಎಡಗಗ': 5049, 'ಮನಕಲಸವನನ': 5050, 'ಜರಣವಗದ': 5051, 'ತಗದಕಳಳವ': 5052, 'ಅನರಗಯಕಕ': 5053, 'ಒಳಗಗಬಹದ': 5054, 'ಸಭಯ': 5055, 'ಬರದವ': 5056, 'ಬಸರವಗದ': 5057, 'ಮಲದವ': 5058, 'ದವಪಗಳಲಲ': 5059, 'ಪರವಹಗಳ': 5060, 'ಅಧಕವಗದ': 5061, 'ಕಹರದದ': 5062, 'ಬಡಗಡಯದ': 5063, 'ಸರಪವನನ': 5064, 'ಒಡಯತತನ': 5065, 'ಕರಣಕಕ': 5066, 'ಮರದವನ': 5067, 'ಲಖನಕಕಗ': 5068, 'ಲಪಗಳ': 5069, 'ಉದಹರಣಯತ': 5070, 'ಪರಕಷಯ': 5071, 'ಹಕವಲಲ': 5072, 'ಸಹಪಠ': 5073, 'ಮನಸಗ': 5074, 'ನಡಯವದಲಲ': 5075, 'ಟಬಲ': 5076, 'ಬದದಯ': 5077, 'ಅಮರಕದಲಲ': 5078, 'ಸವದಶಕಕ': 5079, 'ಹತರಗದ': 5080, 'ಅತಕರಮಣ': 5081, 'ನರಯ': 5082, 'ವಶಪಡಸಕಡನ': 5083, 'ಭಯಭತ': 5084, 'ಬದಕವದ': 5085, 'ಆಧರರಹತವಗದ': 5086, 'ಪಸತಕದಲಲ': 5087, 'ಮಹವರ': 5088, 'ಪರವರತಕ': 5089, 'ಚತಯ': 5090, 'ಏನಗತತದರ': 5091, 'ಜತಯಧರತ': 5092, 'ಹಸಯನನ': 5093, 'ಅಮಲನದಗ': 5094, 'ವಯಸನಗಳ': 5095, 'ಲಕಪ': 5096, 'ನಡಬಕಯತ': 5097, 'ಗಜನನ': 5098, 'ಅನವದಕ': 5099, 'ವಶವವದಯಲಯದ': 5100, 'ರಷಟರಪತಗಳ': 5101, 'ಉದಘಟಸಲದದರ': 5102, 'ಮಯನಜರ': 5103, 'ಅರಜದರರನನ': 5104, 'ಸದರಶನಕಕ': 5105, 'ಕರದದದರ': 5106, 'ಕರಯಕರಮ': 5107, 'ಸಚ': 5108, 'ಕರಯಕರಮವ': 5109, 'ಆರಭಸವದ': 5110, 'ರಕಷಕರ': 5111, 'ನಡಕಳಳದ': 5112, 'ಗಡಯಲಲ': 5113, 'ಇರತತರ': 5114, '6': 5115, 'ದಕಕಗಳಲಲ': 5116, 'ಜಲಬದಗಳ': 5117, 'ಬಳತತವ': 5118, 'ಪಯವಲಲದ': 5119, 'ಕಡಯವದರದ': 5120, 'ತತತಗತತರ': 5121, 'ಸರಯಲಲದ': 5122, 'ಅನಮನವಲಲ': 5123, 'ಪದಯತಮಕ': 5124, 'ಕತಯಗದ': 5125, 'ಹಟಟಕಚಚಳಳ': 5126, 'ಸಸಯಹರಗಳಗ': 5127, 'ದಶದಲಲಯ': 5128, 'ಅನಪಕಷತ': 5129, 'ಬಸವನವ': 5130, 'ನವರತರಯಲಲ': 5131, 'ಗಜರತ': 5132, 'ಡಡಯ': 5133, 'ನತಯವನನ': 5134, 'ಅಸತತವದಲಲಲಲ': 5135, 'ಆಹವನತ': 5136, 'ಆಸನರಗದದರ': 5137, 'ಕಡಬಲಲ': 5138, 'ಪರವಹವನನ': 5139, 'ಮಲಭಗದಲಲ': 5140, 'ಗಡಸಲನನ': 5141, 'ನರಮಸದರ': 5142, 'ರಜನಗ': 5143, 'ಪರಯವದದದನನ': 5144, 'ನಡಯತತರ': 5145, 'ಆಗನದ': 5146, 'ಲಯಪಟಪ': 5147, 'ಕಪಯಟರ': 5148, 'ಲಕಕವಲಲದ': 5149, 'ಚಲದಲಲ': 5150, 'ಇಡಲಗದ': 5151, 'ಮಗಸದರ': 5152, 'ಅಗತಯವಲಲ': 5153, 'ಸಗರಹವಗತತದ': 5154, 'ಹಳದದನಯ': 5155, 'ಸದಯವಗತತದ': 5156, 'ಅಜಗರಕತಯದ': 5157, 'ಏಣಯನನ': 5158, 'ನನನಗ': 5159, 'ಕಡಲಪಟಟರವ': 5160, 'ಇದಗದ': 5161, 'ಮರಳನ': 5162, 'ಬರತತದದವ': 5163, 'ಜಞನದದ': 5164, 'ತತವತಜಞನಗಳಗರತತರ': 5165, 'ತರಸತತದದನ': 5166, 'ಅಸಬದಧ': 5167, 'ಪಠಯಗಳ': 5168, 'ಅಧಯಯನದದ': 5169, 'ಪರಯಜನವಲಲ': 5170, 'ರಜಚರತ': 5171, 'ದಹಚಪದಗಳಲಲ': 5172, 'ಸಮತಲತವಗದ': 5173, 'ಸಸಕತಯನನ': 5174, 'ಜತಗಳ': 5175, 'ಆಫರಕದಲಲ': 5176, 'ಅನವಷಣಗಗ': 5177, 'ಗಹಗಳಗ': 5178, 'ಅನವಷಣ': 5179, 'ಗಸಕರ': 5180, 'ಓದದ': 5181, 'ಕವಯಗಳ': 5182, 'ಸಮಕಷ': 5183, 'ಗಡನಗ': 5184, 'ಐವತತಳನ': 5185, 'ಮದವ': 5186, 'ಸಭಯಯ': 5187, 'ಮಕತಯದ': 5188, 'ಒಬಬರಗಬಬರ': 5189, 'ಅಪಪಕಳಳತತದದರ': 5190, 'ದನದದಲ': 5191, 'ಖಯತನ': 5192, 'ನಮನಯದಗ': 5193, 'ಅಕಷರ': 5194, 'ನಕಲನನ': 5195, 'ಲಗತತಸ': 5196, 'ಸಮಹನ': 5197, 'ಮತಗಳದ': 5198, 'ಆಕರಷಸತತನ': 5199, 'ಚನನದಲಲ': 5200, 'ಆಭರಣವನನ': 5201, 'ತಯರಸದನ': 5202, 'ಹಲಯರ': 5203, 'ಕಸ': 5204, 'ತಗಯ': 5205, 'ವಯಸಸ': 5206, 'ಮರಖ': 5207, 'ಬಲಕನಗದದನ': 5208, 'ಸಮರಸಯದ': 5209, 'ಕಷಟಕರವದ': 5210, 'ವವರಸತತದದರ': 5211, 'ದರಡ': 5212, 'ಸಶಸತರ': 5213, 'ದರಡಕರರನನ': 5214, 'Tsh': 5215, 'ಸಭವಸಬರದ': 5216, 'ಶತಕವ': 5217, 'ತಡವನನ': 5218, 'ಗರವನವತ': 5219, 'ಸಕರ': 5220, 'ಪರಯತನಪರವಕವಗ': 5221, 'ಕರಮವದಗಳ': 5222, 'ಕರಯನರವಹಸತತದದರ': 5223, 'ಗಹ': 5224, 'ಪರಕ': 5225, 'ಬಡಕ': 5226, 'ದಟಬಕಯತ': 5227, 'ಬಯಸದರ': 5228, 'ಅಜ': 5229, 'ಐವತತದ': 5230, 'ಹವನನ': 5231, 'ಎಳದ': 5232, 'ನಮಷದದ': 5233, 'ಗಟಯವರಗ': 5234, 'ನತಹಯತ': 5235, 'ದಳಯನನ': 5236, 'ಆರಮರ': 5237, 'ಅನನಭವದ': 5238, 'ದಷಟಯದ': 5239, 'ವಹಸಲಗದ': 5240, 'ಶವವನನ': 5241, 'ಹಳವದ': 5242, 'ನದಕ': 5243, 'ಇತರರನನ': 5244, 'ನದಸವವರಗ': 5245, 'ಪಡಯವದಲಲ': 5246, 'ರಹನ': 5247, 'ಅನತತರಣನಗದದನ': 5248, 'ಪಲಸಡಯ': 5249, 'ಎಕ': 5250, 'ಸಥನದಲಲ': 5251, 'ಮಡವದಕಕ': 5252, 'ಸದಧವ': 5253, 'ಸಹತಡಗಳನನ': 5254, 'ತಯರಸದದರ': 5255, 'ಸಕತವ': 5256, 'ಸಗವ': 5257, 'ಸಧಯತ': 5258, 'ಆಶಡ': 5259, 'ಹಣಣಮಯ': 5260, 'ಪರರಭದದ': 5261, 'ಯತರಯ': 5262, 'ಹಳದ': 5263, 'ಕರಯಗಳದಗ': 5264, 'ನರಶಗಡದದನ': 5265, 'ಇಡಬರದ': 5266, 'ಕರಣಳ': 5267, 'ವರಣರಜತ': 5268, 'ಸರಸವತ': 5269, 'ವದನ': 5270, 'ಅವರದಗ': 5271, 'ಅಪರಧವ': 5272, 'ಅತಯತತಮ': 5273, 'ರಕಷಣಯಗದ': 5274, 'ಉಗರದದ': 5275, 'ಹಸಗಯದ': 5276, 'ಎದದನ': 5277, 'ವತ': 5278, 'ಅನಸತತದ': 5279, 'ಅಪರಯಗಕ': 5280, 'ನಮಸಕರಸವದಲಲ': 5281, 'ಹರಯರಗದದರ': 5282, 'ಕಟಕ': 5283, 'ಏಡ': 5284, 'ಬಹವರಷಕ': 5285, 'ಗಣಯವಯಕತಗಳ': 5286, 'ಬದಧವತರ': 5287, 'ಸಹವಸದಲಲ': 5288, 'ಉಳಯವ': 5289, 'ಬದಧವತರಗತತರ': 5290, 'लख': 5291, 'नधकर': 5292, 'आवशयमव': 5293, 'ರಗಮದರವನನ': 5294, 'ಪರಮಗಳ': 5295, 'ಹಗಳಳಳ': 5296, 'ಗಡಗಳದಲ': 5297, 'ತಟದ': 5298, 'ಶಭ': 5299, 'ಸಜಜನರ': 5300, 'ವಚಚದಲಲ': 5301, 'ಹಚಚವರ': 5302, 'ನದದಯ': 5303, 'ತಳಯತತದದ': 5304, 'ವವಹದ': 5305, 'ಪರವರತಸಕಡಳ': 5306, 'ನಮಕಗಡ': 5307, 'ಉದಯಗಗಳಗ': 5308, 'ತರಬತ': 5309, 'ಯಚಸತತದ': 5310, 'ಸಶಯಸತ': 5311, 'ಸಥತಯಲಲರವ': 5312, 'ಗಪಲ': 5313, 'ಚಚಚವ': 5314, 'ಅಮಮನ': 5315, 'ಹಲನದ': 5316, 'ಮಡದದಳ': 5317, 'ನರವವದ': 5318, 'ಅನಮನಸವ': 5319, 'ಕರಡಯ': 5320, 'ಮದವರಯವಕ': 5321, 'ವಪಕಷ': 5322, 'ಸಹತ': 5323, 'ಸಮರಥನಯನನ': 5324, 'ಮಡದವ': 5325, 'ಧನಸಪತತನ': 5326, 'ನಡವನ': 5327, 'ಸಯಜಕ': 5328, 'ನರಗತಕರಗ': 5329, 'ಆಶರಯ': 5330, 'ಇಮಡ': 5331, 'ಇರಕನ': 5332, 'ಮರಗದರಶನದಲಲ': 5333, 'ಪರಣಗಳಸದ': 5334, 'ಸಮಸಯಯ': 5335, 'ಕರಣದ': 5336, 'ಸಪಷಟತಯ': 5337, 'ಪರಹರಸಬಹದ': 5338, 'ಭತತ': 5339, 'ಮಗಧ': 5340, 'ಪರಜಗಳ': 5341, 'ನಟಟಸರ': 5342, 'ದಬಬಳಕಯ': 5343, 'ನಶಕಕ': 5344, 'ನರಶರತರನನ': 5345, 'ರಕಷಸಬಕ': 5346, 'ವದಯತಚಲತ': 5347, 'ಸಹಯದದ': 5348, 'ಕರಯಕರಮಕಕಗ': 5349, 'ನಯಯರಕ': 5350, 'ನಗರದದ': 5351, 'ಜವನದ': 5352, 'ಅತಯವಲಲ': 5353, 'ಗಯಕರ': 5354, 'ಧವನಯದ': 5355, 'ಪರತಧವನಸದ': 5356, 'ಕಟಟಡದಲಲ': 5357, 'ಪಪಪಯ': 5358, 'ತರಳ': 5359, 'ಅನಮನ': 5360, 'ಪಟಟನ': 5361, 'ಕತತರಸವ': 5362, 'ಸಸಯಹರ': 5363, 'ನಶಚರ': 5364, 'ಸವಯಭ': 5365, 'ಪರವಳಗಳನನ': 5366, 'ಸದಶವಹಕಗಳಲಲ': 5367, 'ಉಪಯಗಸತತರ': 5368, 'ಧರಮಗರಥಗಳ': 5369, 'ನಯಮತವಗ': 5370, 'ಸವಸವ': 5371, 'ದಹ': 5372, 'ಶದಧವಗರಸಲಗತತದ': 5373, 'ಇಚಛಯದ': 5374, 'ಜಯವಗಲ': 5375, 'ಘಷಣಯದ': 5376, 'ಕಟಟಹದ': 5377, 'ವಹನವದ': 5378, 'ರಪರಯ': 5379, 'ಚಲಸತಡಗತ': 5380, 'ಈಜ': 5381, 'ಪಟಗಳ': 5382, 'ಸಲಗ': 5383, 'ನಲಲತತರ': 5384, 'ಸರಪವ': 5385, 'ವವಕಯತ': 5386, 'ವವಚನಯದ': 5387, 'ಸದರಭಗಳ': 5388, 'ನಯತರಣವನನ': 5389, 'ನಯತರಸತತನ': 5390, 'ಪಡಯಲ': 5391, 'ಹತರಯತತದದನ': 5392, 'ಪರಶಧಕ': 5393, 'ಹದದಗ': 5394, 'ನಮಸಲಗದ': 5395, 'ಸಚಚರತರ': 5396, 'ಆಭರಣ': 5397, 'ಅಪರಪವಗ': 5398, 'ರಚ': 5399, 'ಅಸಮವದ': 5400, 'ಮಡಬಡ': 5401, 'ಆಡಳತವ': 5402, 'ಕಯಲಲದ': 5403, 'ಓಟಗರನ': 5404, 'ಓಡದನ': 5405, 'ಒಬಬನ': 5406, 'ಸಹದರನದದನ': 5407, 'ಚರಪರಚತ': 5408, 'ವಸತವ': 5409, 'ಜನಪರಯವಗದ': 5410, 'ದಷಕತಯಗಳದಗ': 5411, 'ಕಪಕಕ': 5412, 'ಯಗಗಳ': 5413, 'ಕಬನ': 5414, 'ಸಕಕದರ': 5415, 'ಪಪಠಕ': 5416, '1949': 5417, '1978': 5418, 'ಸವಯಲಲ': 5419, 'ಗರವವನನ': 5420, 'ಎಲಲಡಯ': 5421, 'ವದಧ': 5422, 'ವದಶಗಳ': 5423, 'ಪರತತತವಜಞರ': 5424, 'ಅಸಮರಥರಗದದರ': 5425, 'ನಯಯಶಸತರಜಞರ': 5426, 'ಫಲತಶವ': 5427, 'ರಜಕಯ': 5428, 'ತರಳರವ': 5429, 'ಹರಲಡ': 5430, 'ವಲಯದ': 5431, 'ಕರಡಪರತಯಗತದಲಲ': 5432, 'ಭಗಯಗಲ': 5433, 'ಹಗದದಳ': 5434, 'ಟರಸನಲಲ': 5435, 'ಚದರನನನ': 5436, 'ನಡತತದದ': 5437, 'ಉದದಶಕಕಸಕರ': 5438, 'ತರಗಡಲ': 5439, 'ಮಹಶ': 5440, 'ಬಲವದ': 5441, 'ಔಷಧಗಳನನ': 5442, 'ಸನಹತರನನ': 5443, 'ಆಪತತನ': 5444, 'ಪರಕಷಸಲಗತತದ': 5445, 'ವವಧರತಯ': 5446, 'ಯಜಮನರ': 5447, 'ಲಚ': 5448, 'ಕಳಳತನದತಹ': 5449, 'ಅನತಕ': 5450, 'ಕತಯಗಳನನ': 5451, 'ಮಡದಗ': 5452, 'ದಶಕಕ': 5453, 'ಏನಗಬಹದ': 5454, 'ಅಪಲಕಶನ': 5455, 'ಮಡಲಗಲಲ': 5456, 'ಗಟವ': 5457, 'ದರಕದ': 5458, 'ಅಯಗಯ': 5459, 'ಆರಕಟಕ': 5460, 'ವಲಯ': 5461, 'ನತಗಟಟ': 5462, 'ಪರಪತಕಕ': 5463, 'ಕರದಯಯತತನ': 5464, 'ಸರಪದದ': 5465, 'ಕಚಚಲಪಟಟತಹ': 5466, 'ಪರತವಷ': 5467, 'ಹಳಳಗಳಲಲ': 5468, 'ಅವಲಬತರಗದದರ': 5469, 'ಶಲಗ': 5470, 'ಅಪರಮದತ': 5471, 'ಹಚಚಸಪತರಯದ': 5472, 'ವಪಸಸ': 5473, '85': 5474, 'ಅತಮ': 5475, 'ಸಸಕರ': 5476, 'ದಹಲ': 5477, 'ಮಹನಗರದ': 5478, 'ಶತವನದ': 5479, 'ಸಮಪ': 5480, 'ಯಮನ': 5481, 'ನದಯ': 5482, 'ತರದಲಲ': 5483, 'ಬಹವದವದ': 5484, 'ಕಡಲಪಡಲಬಕ': 5485, 'ಒಡದಹಗವ': 5486, 'ಜಪನವಗ': 5487, 'ಇಡವ': 5488, 'ಫನಲನಲಲ': 5489, 'ಕರಕಟನ': 5490, 'ವಶವ': 5491, 'ಚಪಯನ': 5492, 'ಶರಲಕವನನ': 5493, 'ಸಲಸತ': 5494, 'ವಜತರಗಲ': 5495, 'ದಪತಗಳ': 5496, 'ಉದಯನದಲಲ': 5497, 'ಬಸಮತ': 5498, 'ಅಕಕಯದ': 5499, 'ಪರರಭವದವ': 5500, 'ಜನನವನನ': 5501, 'ಅದಭತವಗ': 5502, 'ವವರಸಲಗದ': 5503, 'ಅಗನಶಮಕ': 5504, 'ಬಕಯನನ': 5505, 'ನಯತರಸಲ': 5506, 'ಸಚರ': 5507, 'ಅಗತಯತ': 5508, 'ಇದದಲಲ': 5509, 'ಸಪರಯಸರ': 5510, 'ಅವಶಯವಗತತದ': 5511, 'ಸಹಪರಯಣಕರ': 5512, 'ನನನಯ': 5513, 'ನನಪಸಕಳಳವ': 5514, 'ದಖಸವದ': 5515, 'ಅಳಯನ': 5516, 'ವರತನಯದ': 5517, 'ಜನರಲಲರ': 5518, 'ಸತಷವಗದದರ': 5519, 'ಸತವಕ': 5520, 'ವಚನ': 5521, 'ಸಳಯವ': 5522, 'ಹಡಗರ': 5523, 'ಓದವಲಲ': 5524, 'ದರಬಲರಗದದರ': 5525, 'ಪರಮಣಕತಯನನ': 5526, 'ನಬವವರ': 5527, 'ಅಕಟಬರ': 5528, '22ನ': 5529, 'ಎಬವನ': 5530, 'ಶಸನವನನ': 5531, 'ವರಧಸ': 5532, 'ಪರಸತವವನನ': 5533, 'ವಶಸಥರ': 5534, 'ಹಡಯವವನ': 5535, 'ಅರವತತರನ': 5536, 'ಮನಗಳನನ': 5537, 'ಹಡದನ': 5538, 'ಅಪರಕಷತ': 5539, 'ಉಪಯಗಸವದ': 5540, 'ಶಕಷಗ': 5541, 'ಅರಹರಲಲದ': 5542, 'ಖಲಸಗಳಸಲಗದ': 5543, 'ಆಳವಗ': 5544, 'ಉಚಚ': 5545, 'ನಚ': 5546, 'ಹರತ': 5547, 'ಕಲದದಲಲ': 5548, 'ಹನನದ': 5549, 'ಕಣಗಳವ': 5550, 'ನಕಪಡಯ': 5551, 'ನವಕನಗ': 5552, 'ಸಸಕರತದಲಲ': 5553, 'ವಪಲವದ': 5554, 'ವಗಮಯವದ': 5555, 'ವಕಲರ': 5556, 'ತವರವಗ': 5557, 'ವದಸದರ': 5558, 'ಗಡಡ': 5559, 'ಗಡಡವನನ': 5560, 'ಎಳಯತತದ': 5561, 'ಮತಗಳಲಲ': 5562, 'ಸನಧಕರಯ': 5563, 'ಆಜಞಯ': 5564, 'ಸನಕರ': 5565, 'ಗಳಳಯದದತ': 5566, 'ತಳವನನ': 5567, 'ಕರಬ': 5568, 'ಕಗತತ': 5569, 'ಉಳಸ': 5570, 'ಬದತ': 5571, 'ಕರತಯದಗ': 5572, 'ವನಸಪತಹನವಗದ': 5573, 'ಪರಮಣಕಕನಗಣವಗ': 5574, 'ಕರಮಸಖಯ': 5575, 'ಕಡಬಕ': 5576, 'ನಯಕರ': 5577, 'ಭರತತವದ': 5578, 'ಆಡಳತದದ': 5579, 'ಆಚರಣಗಳ': 5580, 'ಕಷಟಗಳನನ': 5581, 'ಎದರಸಬಕಗತತದ': 5582, 'ಲಕತತರ': 5583, 'ಸವರಣ': 5584, 'ಜಯತ': 5585, 'ಅಧಯಕಷತಯಲಲ': 5586, 'ಆಚರಸದದರ': 5587, 'ಕಳದಕಳಳವ': 5588, 'ಅಪಯವನನ': 5589, 'ಚಲಯಸ': 5590, 'ವರಕಚರಯರ': 5591, 'ದಹವ': 5592, 'ಅನನಕಲವಗದ': 5593, 'ಮತರಲಯದದ': 5594, 'ಮಳವನನ': 5595, 'ಆಯಜನ': 5596, 'ಅಸಹಷಣ': 5597, 'ತಟದಲಲರವ': 5598, 'ಹಸರನದ': 5599, 'ಕಗಳಸವತತದ': 5600, 'ಮಧಮಹ': 5601, 'ರಗದವರ': 5602, 'ಸಕಕರಯಕತವದ': 5603, 'ಪದರಥಗಳನನ': 5604, 'ತನನಬರದ': 5605, 'ಸಪರಕದ': 5606, 'ಕಣತತದಯ': 5607, 'ಅಗ': 5608, 'ಭವಸಚಕಗಳ': 5609, 'ಭವನಗಳನನ': 5610, 'ವಯಕತಪಡಸತತನ': 5611, 'ಇಷಟಪಡದ': 5612, 'ಖರದಸಬಕಗತತದ': 5613, 'ಮನಷಯರ': 5614, 'ಚತನಯ': 5615, 'ಬಣಣಗಳಲಲ': 5616, 'ಸವಸಬರದ': 5617, 'ಹಚಚಗತತ': 5618, 'ಹದತ': 5619, 'ಹಚಚಹಸರದ': 5620, 'ಕಡಗಳನನ': 5621, 'ದವದಳ': 5622, 'ಧನಯಗಳ': 5623, 'ಆಕಶವನನ': 5624, 'ಮಟಟತತದ': 5625, 'ಹಡರ': 5626, 'ಅಕಶರಕ': 5627, 'ಕಟಯತರ': 5628, 'ರಪಯ': 5629, 'ಮಲಯದ': 5630, 'ಚಲಸಬಲಲ': 5631, 'ಸಥರವದ': 5632, 'ಮರಗಡಗಳ': 5633, 'ನಲಸರವದ': 5634, 'ಮಚಚಯಳಳ': 5635, 'ಜಕಯನನ': 5636, 'ಸಕಕಡದದನ': 5637, 'ಕರಡಯಲಲ': 5638, 'ಜಯ': 5639, 'ಪರಜಯ': 5640, 'ಹಡಕವ': 5641, 'ನರಲಕಷಸತತರ': 5642, 'ದಶಯವನನ': 5643, 'ವಡಹ': 5644, 'ಚರಚಸರವ': 5645, 'ಚರಚಸವ': 5646, 'ಕಠಡಗ': 5647, 'ಥ': 5648, 'ರಜಸವಲ': 5649, 'ಗರಭ': 5650, 'ಪರಗಣಸತತವ': 5651, 'ಮರಪರಶಲಸವ': 5652, 'ಸಭಗದ': 5653, 'ತಪತ': 5654, 'ಹದದದ': 5655, 'ಇದದಗ': 5656, 'ಅಭಮನವನನ': 5657, 'ಬಳಸತತದ': 5658, 'ಮಲಗದದ': 5659, 'ಮಲಗಸ': 5660, 'ಫಯನ': 5661, 'ಹಕದಳ': 5662, 'ಪತರಯರದದರ': 5663, 'ಕರಮವಗ': 5664, 'ಚತರ': 5665, 'ಓದ': 5666, 'ಆಹವನಸದರ': 5667, 'ಪಟಟಗಳನನ': 5668, 'ಸಗಮಗಳಸತತದದನ': 5669, 'ರಣಹದದ': 5670, 'ಪರಷರ': 5671, 'ವಯಕತತವದದ': 5672, 'ಶರಮತರಗದದರ': 5673, 'ಸಬಧಕರಬಬರ': 5674, 'ಅತರತರ': 5675, 'ಯಶಸವಯಗಲಲಲ': 5676, 'ಬಹರದಲಲ': 5677, 'ಕಲಲದದಲ': 5678, 'ಹರಳವಗ': 5679, 'ಕಡಬರತತದ': 5680, 'ಸಡಬ': 5681, 'ಕಳದಕಡರ': 5682, 'ವಚರ': 5683, 'ನಡವಳಕಯ': 5684, 'ಅಯಗಯವಗದ': 5685, 'ಉಕತಗಳ': 5686, 'ನಡಲಪಟಟವ': 5687, 'ಗರಮಸಥರಗತ': 5688, 'ನಗರವಸಗಳ': 5689, 'ವದಯವತರ': 5690, 'ವನಮರತಯದ': 5691, 'ನರಭಯದದ': 5692, 'ನಯಮನಸರವಗ': 5693, 'ವಸತರವರದದ': 5694, 'ಸವರಣವ': 5695, 'ಅಮಶರತ': 5696, 'ಅಭವ': 5697, 'ಜವನದದ': 5698, 'ಬಸತತ': 5699, 'ಆತಮಹತಯಯನನ': 5700, 'ಐದನರ': 5701, 'ಮರದಲಲ': 5702, 'ಉಯಯಲಯನನ': 5703, 'ಹಕಲಗದ': 5704, 'ಸಹದಯಗ': 5705, 'ಕಮರಯವರವ': 5706, 'ಸರಯಲಲದದಗಲ': 5707, 'ಮಜಜಗ': 5708, 'ಕಪಗಡ': 5709, 'ನಯಯನನ': 5710, 'ಮಟಟಬಡ': 5711, 'ಹಲಲಗಳದ': 5712, 'ಕಚಚಬಹದ': 5713, 'ವಶಯಯನನ': 5714, 'ಇಟಟಕಡ': 5715, 'ಸತಷದದ': 5716, 'ಇರಲರ': 5717, 'ಅವನಗನನ': 5718, 'ಐವತತಟನಯ': 5719, 'ಸಹತಡಗಳ': 5720, 'ಒಲವ': 5721, 'ತರತತದದರ': 5722, 'ಅಭಯಸವನನ': 5723, 'ಅನಕರಸಬಕ': 5724, 'ತಡಗದನ': 5725, 'ಪರಶನಗ': 5726, 'ಉತತರಸಲಲಲ': 5727, 'ನಟವರಕ': 5728, 'ಉಪಯಗಸತಕಕದದ': 5729, 'ಹವಲಲದ': 5730, 'ಪನರವಸತಗಗ': 5731, 'ಆಯಜಗಳ': 5732, 'ಸವಯಚಲನ': 5733, 'ಸತತ': 5734, 'ಭದಸಲಗದತಹ': 5735, 'ಜಡಯನನ': 5736, 'ಪಡತತರ': 5737, 'ಜರಡಯ': 5738, 'ತತಗಳರವ': 5739, 'ಣತಮಕ': 5740, 'ವಡಯದ': 5741, 'ಮಕತಯ': 5742, 'ಕರತಗಳನನ': 5743, 'ವಕರವಲಲದ': 5744, 'ನಡತತದದಳ': 5745, 'ಯವನನ': 5746, 'ಅನವಷಸದನ': 5747, 'ಅಮರನಥಕಕ': 5748, 'ಕಡತತರ': 5749, 'ಅಡಮನವಲಲದ': 5750, 'ಸಲಕಕ': 5751, 'ಬಡಡ': 5752, 'ಸವಲ': 5753, 'ಪರಕರಣಗಳ': 5754, 'ಹರಡದರ': 5755, 'ಆಚರಣಯ': 5756, 'ತಯರಕಯಲಲ': 5757, 'ರಕಶನ': 5758, 'ಸಮದಧಪರದವದ': 5759, 'ಕರಮಣ': 5760, 'ಕಡಬದದ': 5761, 'ಸವನದಗ': 5762, 'ವತವರಣವ': 5763, 'ಶಕವಗತತದ': 5764, 'ಪಸತಕದಲಲನ': 5765, 'ಕವನಗಳನನ': 5766, 'ವಯಖಯನಸಲಗದ': 5767, 'ನರತರಗದದ': 5768, 'ಕರಯನಭವ': 5769, 'ಅಳವತತಯತ': 5770, 'ಯದಧಪಕಷ': 5771, 'ಯಚಸದ': 5772, 'ಆಕರಮಸದನ': 5773, 'ಭಕತ': 5774, 'ಆರಧನಯ': 5775, 'ಚಪಪಟ': 5776, 'ನಗತತದದರ': 5777, 'ಸರವಚಚನಯಯಲಯ': 5778, 'ಬಳಮಚಚಯ': 5779, 'ಗಣಪಡಸಲಗದ': 5780, 'ರಗವನ': 5781, 'ಲಡಜನಲಲದದನ': 5782, 'ಪರತಕಲವಗ': 5783, 'ನಡಸಕಡರ': 5784, 'ಇಗಲಷ': 5785, 'ಕನನಡಕವ': 5786, 'ಒಡಯವ': 5787, 'ಶರನಮಗಳ': 5788, 'ಟಪ': 5789, 'ಚರಚಸತತದದರ': 5790, 'ಸನರಹತನದ': 5791, 'ಅಭಮನಯವನನ': 5792, 'ಕರವರ': 5793, 'ಸತತವರದ': 5794, 'ದಖಸತತದದಳ': 5795, 'ಜರಯಜ': 5796, 'ಸಕಕದಗ': 5797, 'ಭಟಯಗ': 5798, 'ಸಮಯದ': 5799, 'ಅಭವದದಗ': 5800, 'ಹಗಲ': 5801, 'ಚರತರಯ': 5802, 'ಶರಷಠರನನಗ': 5803, 'ಪರದಯನನ': 5804, 'ರಗಶಲಯಲಲ': 5805, 'ಹರಟಹಯತ': 5806, 'ಸಟಟ': 5807, 'ಗರತಸಲಗವದಲಲ': 5808, 'ಉಟಟಕಡದದಳ': 5809, 'ಮರದದ': 5810, 'ಅಲಕರ': 5811, 'ಬಳಕ': 5812, 'ಬರವವ': 5813, 'ಅವದಯಯನನ': 5814, 'ವದಯಯದ': 5815, 'ದರಗಳಸಬಹದ': 5816, 'ಔಷಧಯಲಲ': 5817, 'ಮರದಹದ': 5818, 'ಜಡಣಯಗತತದ': 5819, 'ವದಷಕನ': 5820, 'ಹಸಯಹನವಗತತ': 5821, 'ಸವತತಯ': 5822, 'ದನಚರಣಯ': 5823, 'ರಷಟಯ': 5824, 'ಹಬಬ': 5825, 'ಕಷತರಯ': 5826, 'ರಜವಶಕಕ': 5827, 'ಸರದವನ': 5828, 'ಇನಸಪಕಟರ': 5829, 'ಖತರಯಲಲದ': 5830, 'ಜಲಶಯದಲಲ': 5831, 'ಜಡಗಳ': 5832, 'ಜಲಕರಡ': 5833, 'ಆಡತತರವದ': 5834, 'ಆಟಕಯ': 5835, 'ಭಗವನನ': 5836, 'ಬರಪಡಸತ': 5837, 'ಗಳರಡರ': 5838, 'ಸಘ': 5839, 'ಯ': 5840, 'ಅಧಕರದ': 5841, 'ಸನಯಸ': 5842, 'ದವಲಯವನನ': 5843, 'ಸವಚಛಗಳಸತತದದಳ': 5844, 'ಮರಯಲ': 5845, 'ತರಶಲಧರಯದ': 5846, 'ಭಗಗಳನನ': 5847, 'ಪಪಥಕಕರಣಯವಗದ': 5848, 'ಘಟಕ': 5849, 'ಇತಯರಥಪಡಸದ': 5850, 'ವದಸಬಡ': 5851, 'ಬಲವಳಳ': 5852, 'ಪರಣಯ': 5853, 'ಬಲವನನ': 5854, 'ಕಟವನನ': 5855, 'ಹಡಯಲ': 5856, 'ಕರಯಕಷಮತ': 5857, 'ಗಳನನ': 5858, 'ನರಜನವಯತ': 5859, 'ಎಲಲದರಲಲ': 5860, 'ಉಪಕರಮವನನ': 5861, 'ಯಚಕನಲಲದ': 5862, 'ಯಚನ': 5863, 'ಮಡಲವ': 5864, 'ಸವನನ': 5865, 'ಉದಯನವನ': 5866, 'ಹವಗಳದ': 5867, 'ಗಜತ': 5868, 'ಕಜ': 5869, 'ಸದರಯವನನ': 5870, 'ಸರವಭಕಷಕರ': 5871, 'ಸದಶವನನ': 5872, 'ಸತಷಗಡನ': 5873, 'ದಯಯ': 5874, 'ಆಭರಣವಗದ': 5875, 'ಅಗತಯವಗದ': 5876, 'ಪರಶರಮಕಡವ': 5877, 'ಸಗದ': 5878, 'ಇರವದ': 5879, 'ತನನವ': 5880, 'ತನನತತತತ': 5881, 'ಇರತತವಯ': 5882, 'ಪರಭವವ': 5883, 'ಚಕಕಪಪ': 5884, 'ಅಭಯತರರ': 5885, 'ಇತರರಗತ': 5886, 'ಹಚಚಗದ': 5887, 'ಮಕರ': 5888, 'ಜತಕವನನ': 5889, 'ಕಶರಕ': 5890, 'ಅವಶವಸನಯ': 5891, 'ಕಲಪನಕವಗರಬಹದ': 5892, 'ಉಪಷಣವಲಯದ': 5893, 'ಹವಮನವನನ': 5894, 'ಅತಥಯಗ': 5895, 'ಬದರವ': 5896, 'ದರಪತಯ': 5897, 'ತಲಲನಳಗದದಳ': 5898, 'ಶರರವ': 5899, 'ನಶವರವದದ': 5900, 'ಶಸತನ': 5901, 'ಯಗದ': 5902, 'ಕವಗಳ': 5903, 'ದವಕ': 5904, 'ಪರಸರಕಕ': 5905, 'ಒತತ': 5906, 'ಪರತಯಬಬರನನ': 5907, 'ಸಜನಯದದ': 5908, 'ನಡಸಬಕ': 5909, 'ವಹನದ': 5910, 'ವಗ': 5911, 'ಕರಯನರವಹಸತತಲಲ': 5912, 'ತಡಯಲಗದ': 5913, 'ಪರಸಥತಯನನ': 5914, 'ಧರಯದದ': 5915, 'ಪರಚತ': 5916, 'ಕಶದಲಲರವ': 5917, 'ಸಗರಹಕವನನ': 5918, 'ತರಸತತರ': 5919, 'ತರಯವ': 5920, 'ಲಕಷಣಗಳಲಲ': 5921, 'ಊಟಮಡಬಕ': 5922, 'ಆಹವನಸ': 5923, 'ಸತಯಗರಹದಲಲ': 5924, 'ಲಕಷತರ': 5925, 'ಭಗವಹಸದದರ': 5926, 'ಷಟಪದ': 5927, 'ರವ': 5928, 'ಇಕರತಯ': 5929, 'ತಳದ': 5930, 'ಮಠಯ': 5931, 'ಸಹತಡಗಳಲಲ': 5932, 'ತಯರಸತ': 5933, 'ಬಸಲ': 5934, 'ಬಹಳವರವ': 5935, 'ತಣಣನ': 5936, 'ಪದರಥವನನ': 5937, 'ಸವಸಬಕ': 5938, 'ರಟನದ': 5939, 'ಕರದಗದದರದ': 5940, 'ಬಲಗಣಣಗ': 5941, 'ಶಸತರಚಕತಸ': 5942, 'ಮಲನಯಗಳ': 5943, 'ಕಗತತಕಡ': 5944, 'ಸಮಯದಳಗ': 5945, 'ಮಗಸಬಕ': 5946, 'ಪದವಯಲಲ': 5947, 'ಋಣದಲಲ': 5948, 'ಸಘರಷದಲಲ': 5949, 'ಹಸಯ': 5950, 'ಬಹಳವಗತತ': 5951, 'ಕಳದದರ': 5952, 'ಪರವತತಯಲಲ': 5953, 'ಸಚನಯ': 5954, 'ವಚನದಲಲ': 5955, 'ಲಖನಧಕರವ': 5956, 'ಅವಶಯವಗದ': 5957, 'ಬಡಗಗ': 5958, 'ರಪಯಗಳನನ': 5959, 'ಬಡವಗದದರ': 5960, 'ಗಯರಸನ': 5961, 'ಅಗಕರಸಲಪಟಟ': 5962, 'ತತಗದ': 5963, 'ಹದರಬಕ': 5964, 'ಮಡದವನಗಲಲ': 5965, 'ಐಹಕ': 5966, 'ಆನದವ': 5967, 'ಕಷಣಕವಗದ': 5968, 'ಕಬಲಲದ': 5969, 'ಬಟಗರನ': 5970, 'ಗರಯಗತತ': 5971, 'ವಯಕತಪಡಸಲ': 5972, 'ತರಸದರ': 5973, 'ವಧವಯರ': 5974, 'ಧರಸವದಲಲ': 5975, 'ಪಡತಜ': 5976, 'ಅರಶನ': 5977, 'ಬಣಣದದ': 5978, 'ಸಥಜ': 5979, 'ಬಲಯದಲಲ': 5980, 'ತಯಯಲಲದವಳದಳ': 5981, 'ಅನಥಶರಮದದ': 5982, 'ಹಸರಸದ': 5983, 'ಹಡಗನನನ': 5984, 'ದತತ': 5985, 'ಪಡದನ': 5986, 'ತಪತಯನನ': 5987, 'ಟ': 5988, 'ತನಗಯ': 5989, 'ಹಡಕಲಪಡಲ': 5990, 'ಮಯಪಕ': 5991, 'ತದರಗಳದ': 5992, 'ಸತತವರದದದನ': 5993, 'ವಸಪಟ': 5994, 'ನಮಗಷಟ': 5995, '1951': 5996, 'ಎಟನ': 5997, 'ದನಕದದ': 5998, 'ಇವರಬಬರ': 5999, 'ಪರಣಕ': 6000, 'ಅಸರರ': 6001, 'ಇಚಟ': 6002, 'ಪರಸಲ': 6003, 'ಭಗವತನದ': 6004, 'ಉಪಸನ': 6005, 'ರಮಯಣವ': 6006, 'ಧರಮಕಕ': 6007, 'ಗರಥ': 6008, 'ಜನನಗಕಕ': 6009, 'ರಗಕಕಗ': 6010, 'ಕಡಲಗತತದ': 6011, 'ಚತರಯದದ': 6012, 'ಕಡಕಳಳಲ': 6013, 'ವಯವಕಲನದ': 6014, 'ಉತತರವಗ': 6015, 'ನಡಯಲಲ': 6016, 'ಹಳದನ': 6017, 'ಉಣಣಯನನ': 6018, 'ಸತತಕಳಳತತದದನ': 6019, 'ಪತತರಸದಲಲನ': 6020, 'ಅಡಚಣಯದ': 6021, 'ಹಕಕಳದಲಲ': 6022, 'ಪತತರಸ': 6023, 'ಕಲಕ': 6024, 'ಉತಪತತಯಗತತದ': 6025, 'ತರಕರ': 6026, 'ಮರಕಟಟಯದ': 6027, 'ತರತತರ': 6028, 'ಗಪನಲಲ': 6029, 'ನಲವತತದನ': 6030, 'ನಟ': 6031, 'ಹರದಹಯತ': 6032, 'ಪರಪರಯ': 6033, 'ತಳವಳಗಯನನ': 6034, 'ನಡಲಯತ': 6035, 'ಬರಯವರಗ': 6036, 'ಅಧಕರದದ': 6037, 'ಭರಷಟನದ': 6038, 'ಅಪರವತತ': 6039, 'ಕಷಕನ': 6040, 'ಗಡಡದ': 6041, 'ಬಡಯನನ': 6042, 'ಸದತತದದನ': 6043, 'ಕರಣವನದರ': 6044, 'ಶವಶಕತಯರ': 6045, 'ಮತಹನ': 6046, 'ಪರಗತ': 6047, 'ಸಯಮವಲಲದ': 6048, 'ನಲಯಗದ': 6049, 'ಸಮತಯ': 6050, 'ಮಹತವವನನ': 6051, 'ಕಟಟರಲಲಲ': 6052, 'ಕಲಸಗಳವ': 6053, 'ದವಕರ': 6054, 'ಕಡಯತತತತ': 6055, 'ಮರಗವ': 6056, 'ಕಚಚದ': 6057, 'ಮಥನ': 6058, 'ಅನಕಲಕರವಗದ': 6059, 'ಕಲಪಸಕಳಳಬಹದ': 6060, 'ಮಹಭರತದಲಲ': 6061, 'ಮಹಯದಧವ': 6062, 'ದನದಹ': 6063, 'ನರರ': 6064, 'ನಟಗಳನನ': 6065, 'ತರಸತತದದರ': 6066, 'ಸಬಷಣ': 6067, 'ಕಣಯ': 6068, 'ಜಞನದಯವದ': 6069, 'ಮತತಮಮ': 6070, 'ಉಪಯಗವಲಲ': 6071, 'ಜವಯ': 6072, 'ಅವಧಯವಗದ': 6073, 'ದಟಟವದ': 6074, 'ಮಡಗಳದ': 6075, 'ಆವತವದ': 6076, 'ಆಕಶವ': 6077, 'ನಕಷತರರಹತವಗ': 6078, 'ಮರಪಟಟದ': 6079, 'ಸರವಜಞ': 6080, 'ಅವತರ': 6081, 'ಉಬಳಯ': 6082, 'ಗತವಧಯ': 6083, 'ತಡಯನನ': 6084, 'ಒಡಡಬಕ': 6085, 'ಹತರಗತತನ': 6086, 'ವನಗ': 6087, 'ಜವರವದದ': 6088, 'ಕನವರಸತತದದ': 6089, 'ಲಕಷವನನ': 6090, 'ಹದಯದಲಲ': 6091, 'ಸಸತತನನ': 6092, 'ಪರವಶಮಡವ': 6093, 'ಉತತರದ': 6094, 'ಸಹತಯದ': 6095, 'ಆದಗಯ': 6096, 'ಆತನ': 6097, 'ಅವಶವಸ': 6098, 'ನಬ': 6099, 'ಶಚಲಯಗಳನನ': 6100, 'ನರಮಸಲಯತ': 6101, 'ನನನದಗ': 6102, 'ಸಪರಧಸತತನ': 6103, 'ಕಲನದ': 6104, 'ಘಸಗಳಸದರ': 6105, 'ಚನನವ': 6106, 'ಶದಧವಗದ': 6107, 'ಸವಸತತದದರ': 6108, 'ದಡದಲಲ': 6109, 'ಗಡಸಲ': 6110, 'ನರಮಸ': 6111, 'ಪಡವಣ': 6112, 'ಕಯನಸರ': 6113, 'ಅಗಛದನ': 6114, 'ಮಡಬಕಯತ': 6115, 'ಕಳರಮಯನನ': 6116, 'ಪರತಬಬಸತತದ': 6117, 'ಹವಗಳ': 6118, 'ತಟವನನ': 6119, 'ಸಗಧಮಯವಗ': 6120, 'ಉತತರಣರದ': 6121, 'ಅಭಯರಥಗಳಗ': 6122, 'ಬಹಮನ': 6123, 'ಹಲನವನ': 6124, 'ನರದ': 6125, 'ಮರತತನ': 6126, 'ಎಪಪತತರನ': 6127, 'ಗದದಲಗಳನನ': 6128, 'ಅಬಧಯಗಳವ': 6129, 'ಕನನಬಹರವಗ': 6130, 'ಪರಬಲಯದ': 6131, 'ಅದಷಟವತ': 6132, 'ಪಶಚತತಪ': 6133, 'ಪಡಬಕಗತತದ': 6134, 'ಅಲಕತ': 6135, 'ವಷಭಷಣಗಳ': 6136, 'ಸಧವಯ': 6137, 'ಹಳಯತತತತ': 6138, 'ಬದಕನನ': 6139, 'ಅನಥ': 6140, 'ಮಸಲಗಟಟನ': 6141, 'ಅಗಗಳದ': 6142, 'ಕರಯದದ': 6143, 'ನಚಕಪಡತತನ': 6144, 'ಚಲ': 6145, 'ಪರವತಕಕ': 6146, 'ಹಗಬಕದರ': 6147, 'ಗಡಗಳ': 6148, 'ಸಮಹ': 6149, 'ಆಲಚನಯ': 6150, 'ಸಮಸಯಗ': 6151, 'ಕಡಕಡದದವ': 6152, 'ಗರಜ': 6153, 'ಪರತಯ': 6154, 'ಮಹಸಗಗ': 6155, 'ಕಬಟಟ': 6156, 'ದಣದ': 6157, 'ನರಳನಲಲ': 6158, 'ಪಡಯತತದದನ': 6159, 'ತನ': 6160, 'ಪವತಸಲಗಲಲ': 6161, 'ತಳದಗ': 6162, 'ಆತಮಹತಯ': 6163, 'ಮಡಕಳಳತತನ': 6164, 'ಪರವದಯ': 6165, 'ಅಚತಯವಲಲ': 6166, 'ಸಸರದದ': 6167, 'ವರಕತಯನನ': 6168, 'ಹದದನ': 6169, 'ಸನಪತಯ': 6170, 'ಗದದತಹ': 6171, 'ಯಧನನನ': 6172, 'ಅಪಪಕಡನ': 6173, 'ಅನಹಟ': 6174, 'ಜವಬದರಯನನ': 6175, 'ಕಟಟರ': 6176, 'ವದಯಸಗರ': 6177, 'ಪಶಚಮ': 6178, 'ಬಗಳದ': 6179, 'ಭಟಯದ': 6180, 'ಕಲದ': 6181, 'ಅಧನತಯ': 6182, 'ಸಥತಯಲಲದದಳ': 6183, 'ನಟಟಸರಬಟಟ': 6184, 'ಪರರಭಸತತನ': 6185, 'ವದತಯಗದದ': 6186, 'ಅರಸಟಟಲ': 6187, 'ತತವಜಞನ': 6188, 'ಆಗದದ': 6189, 'ಶಕಷಣ': 6190, 'ಮದವರದ': 6191, 'ನನನನ': 6192, 'ಚವಟದರ': 6193, 'ಕಬಬಣದ': 6194, 'ಘನಕರಣವ': 6195, 'ಲಹಯ': 6196, 'ಲಕಷಣವಗದ': 6197, 'ದಖ': 6198, 'ಅರಥಮಡಕಳಳವವನ': 6199, 'ವಮಚನಯ': 6200, 'ಬಯಕಯನನ': 6201, 'ಸಪದಸವವನ': 6202, 'ಪಕಕದಲಲ': 6203, 'ಕನನಡ': 6204, '13': 6205, 'ಸವರಗಳವ': 6206, 'ಕಚಚವದ': 6207, 'ಬಟಯಡವದನನ': 6208, 'ಬಟಟರ': 6209, 'ಇದಕಕತ': 6210, 'ಘಟನ': 6211, 'ಹರಷವರಧನನ': 6212, 'ಸಖವಗದದರ': 6213, 'ದನಕಕ': 6214, 'ಭಯತಪದಕನ': 6215, 'ಅಡಗಕಡದದ': 6216, 'ಕರಯವಧಯಲಲ': 6217, 'ರಕಷಣಯನನ': 6218, 'ವರಧನಯನನ': 6219, 'ಕಟಬರಹತ': 6220, 'ಪರಪಚಕಕ': 6221, 'ಸಬಧವಲಲ': 6222, 'ಬರಫನ': 6223, 'ಅಮರದವ': 6224, 'ಹಸರಗಳ': 6225, 'ರವಣನ': 6226, 'ಮಘನದ': 6227, 'ಇದರಜತ': 6228, 'ವಷವ': 6229, 'ಔಷಧವಗದ': 6230, 'ಅನರದಷಟ': 6231, 'ಇರತತರಲಲಲ': 6232, 'ಜನಸದಣ': 6233, 'ಅರಜಗ': 6234, 'ಅಸಮಮತಯನನ': 6235, 'ದವನದಕ': 6236, 'ಅಧರಮದ': 6237, 'ಸಪನಮಲಗಳ': 6238, 'ಅವಶಯಕತಗಳನನ': 6239, 'ಪರಣಗಳಸ': 6240, 'ತತತ': 6241, 'ಗಧಯವರ': 6242, 'ಮರಣದದಗ': 6243, 'ಯಗವ': 6244, 'ಕನಗಡತ': 6245, 'ಸಮಶ': 6246, 'ಆಹರದ': 6247, 'ಮಸಜ': 6248, 'ಪರಕಶಮನವದ': 6249, 'ರತರಯಲಲ': 6250, 'ಸವರವರವ': 6251, 'ಗಯನಗಳನನ': 6252, 'ಕಳವದ': 6253, 'ಕರಣಪರಯವಗರತತದ': 6254, 'ದವಡ': 6255, 'ಮರದರವದರದ': 6256, 'ಪಡತನಗದದನ': 6257, 'ದರಪಯಗಪಡಸಕಳಳವ': 6258, 'ದಷಕತಯದದಗ': 6259, 'ಗಮನಕಕ': 6260, 'ಸರದರಜ': 6261, 'ಅಸಹಯಕ': 6262, 'ಸಮವಸತರ': 6263, 'ನಲಬಣಣದಗರತತದ': 6264, 'ಬಣತಮನಯ': 6265, 'ಸವಚಚವಗರಬಕ': 6266, 'ಹಲನ': 6267, 'ಉತಪನನಗಳಗವ': 6268, 'ಸರಯನ': 6269, 'ಕಭ': 6270, 'ಪರವಶಸತತನ': 6271, 'ವರಧದ': 6272, 'ವರದಧವ': 6273, 'ಸಪರಧಸದದ': 6274, 'ಹತ': 6275, 'ಅಪಹರಣಕಕಳಗದ': 6276, 'ಅಪಹರಣಕರರ': 6277, 'ಹಡತದದ': 6278, 'ತಪಪಸಕಡ': 6279, 'ಪಸಮತಗಳನನ': 6280, 'ಭಯವಗತಡಗತ': 6281, 'ವಚರದಲಲ': 6282, 'ನಕಷತರಗಳರವ': 6283, 'ಯಜನಗಳಗಗ': 6284, 'ಮರಗಸಚಯನನ': 6285, 'ಸದಧಪಡಸಬಕ': 6286, 'ವಯಕತಗಳಗ': 6287, 'ವಳ': 6288, 'ತದರಯಗತತದ': 6289, 'ಕರಮಬದಧ': 6290, 'ಚದರಸದರ': 6291, 'ಸರಯದಯದಲಲ': 6292, 'ಅರಳತತದ': 6293, 'ಬಲಯದದಲ': 6294, 'ಕಸತಪಟ': 6295, 'ಕಲಗವಸ': 6296, 'ಕಲನ': 6297, 'ಚನವಣಯ': 6298, 'ವಚರಗಳದ': 6299, 'ಪರಭವತರಗದದರದ': 6300, 'ಮಲಯನರ': 6301, 'ಆಗವ': 6302, 'ಕಖಯತ': 6303, 'ಅಪರಧಯದರ': 6304, 'ವಸತವದಲಲ': 6305, 'ಹವಗ': 6306, 'ಬಹವರಷದ': 6307, 'ಸಮದಧವಗವ': 6308, 'ಪರಯಗಗಳದ': 6309, 'ದರತದ': 6310, 'ಮಹಡಯಗದ': 6311, 'ಶರಗಧವ': 6312, 'ಕರಳನ': 6313, 'ಕಯಲಯದ': 6314, 'ಬಳಲತತದ': 6315, 'ಮಟಟ': 6316, 'ಬಗಹರಸಲಗದ': 6317, 'ಸಮಸಯ': 6318, 'ಕರಕಗ': 6319, 'ಹಜರಗಲಲಲ': 6320, 'ಕಷಮಯಚಸವ': 6321, 'ಕಷಮಸಬಕ': 6322, 'ಅಪಘತದ': 6323, 'ಸಟಕಕ': 6324, 'ಹನಯಗದ': 6325, 'ರಜಶನ': 6326, 'ಜಬದ': 6327, 'ಪರತಭಹನನದ': 6328, 'ಪರತಭಯ': 6329, 'ವಕಸವನನ': 6330, 'ಮಡಕಳಳಬಹದ': 6331, 'ದಲತನ': 6332, 'ಕಳತರಲಲಲ': 6333, 'ಬರದದದರ': 6334, 'ಪಲಸ': 6335, 'ಠಣಯದ': 6336, 'ಎಪಪತತಳನ': 6337, 'ಕಡವತ': 6338, 'ಘಷಸದದರ': 6339, 'ಜರಣವಗವದಲಲ': 6340, 'ಸವಭವದದ': 6341, 'ಗಲಲತತನ': 6342, 'ತಳಸಲಗದ': 6343, 'ಸವತತರತ': 6344, 'ನಷಟವಗದ': 6345, 'ಆಯಚತವಗ': 6346, 'ಕಯವದಲಲ': 6347, 'ನಸಕನಲಲ': 6348, 'ದರಕಷಯನನ': 6349, 'ವರಗದವರ': 6350, 'ಸಘರಷಣ': 6351, 'ಯಲಲ': 6352, 'ಗರಯಲಲದ': 6353, 'ಸತತಡತತನ': 6354, 'ಎರಡನಯ': 6355, 'ಮಹಯದಧದಲಲ': 6356, 'ಜಪನನ': 6357, 'ನಗರಗಳದ': 6358, 'ನಗಸಕ': 6359, 'ಹರಷಮ': 6360, 'ನಶವದವ': 6361, 'ಮಹನಯರ': 6362, 'ಪಟಟರ': 6363, 'ಸಯಬಕ': 6364, 'ಬದಲಗದ': 6365, 'ಕಕನ': 6366, 'ಸವನಯ': 6367, 'ಪಡಯದ': 6368, 'ಶವದಮನಯಲಲ': 6369, 'ತಮಮನ': 6370, 'ಮರಚ': 6371, 'ರತನವಳ': 6372, 'ಕತತಲ': 6373, 'ಮನಯದ': 6374, 'ಹರಟಹದ': 6375, 'ಅವನಬಬ': 6376, 'ಚಮಚಗರ': 6377, 'ಹದಣಕಯ': 6378, 'ವರತನಯದಗ': 6379, 'ಕತತರಸಲಪಟಟದದರ': 6380, 'ನಕಷತರಪಜಗಳ': 6381, 'ಇಪಪತತಳ': 6382, 'ದಷಟರನನ': 6383, 'ಜಯಸಬಹದಗದ': 6384, 'ಬಧತ': 6385, 'ಆರಪಗಳಲಲ': 6386, 'ಲಕಪನದ': 6387, 'ತಪಪಸಕಡದದರ': 6388, 'ವಚಕರ': 6389, 'ಸಳಳನ': 6390, 'ಆಧರದ': 6391, 'ಬದಕತತರ': 6392, 'ಮತಭಮಯನನ': 6393, 'ತಲಪದ': 6394, 'ಅನಶಸನ': 6395, 'ಬದಧಗಳಸಲ': 6396, 'ಗಭರವಗ': 6397}\n",
            "{'अनज': 1, 'यनम': 2, 'चलयत': 3, 'वजय': 4, 'अतव': 5, 'नरधन': 6, 'आसत': 7, 'गरश': 8, 'ऋण': 9, 'सवकरत': 10, 'नञजनद': 11, 'चयम': 12, 'सधधम': 13, 'करत': 14, 'अमत': 15, 'मलनम': 16, 'वसतरम': 17, 'धरयत': 18, 'अधश': 19, 'बह': 20, 'गनतम': 21, 'इचछत': 22, 'कद': 23, 'ययम': 24, 'परसथत': 25, 'एतत': 26, 'एक': 27, 'सवतनतर': 28, 'सपटवर': 29, 'असत': 30, 'रज': 31, 'अवनयम': 32, 'परदरशयत': 33, 'भवत': 34, 'सवकय': 35, 'सरकषत': 36, 'ववर': 37, 'सडकत': 38, 'रचयत': 39, 'सउनदरयसय': 40, 'अधपत': 41, 'यगरज': 42, 'हरहरन': 43, 'महदय': 44, 'चकरट': 45, 'महतम': 46, 'अतथय': 47, 'आगत': 48, 'सनत': 49, 'एतद': 50, 'पदशक': 51, 'दरघम': 52, 'अरजन': 53, 'भकषणम': 54, 'परयत': 55, 'सरव': 56, 'वततनत': 57, 'कसयप': 58, 'अभयरथनय': 59, 'अवमन': 60, 'अयगय': 61, 'असय': 62, 'वदयलयसय': 63, 'छतरय': 64, 'दशमककषय': 65, 'रजय': 66, 'परथमकरमङक': 67, 'अरजत': 68, 'जगदश': 69, 'कमप': 70, 'करय': 71, 'अपरयतनत': 72, 'न': 73, 'सरवश': 74, 'नतन': 75, 'अदय': 76, 'पठतवन': 77, 'एव': 78, 'सतयम': 79, 'वदत': 80, 'नलकनत': 81, 'सवकरतवयम': 82, 'परकश': 83, 'चनमय': 84, 'सनहमय': 85, 'आकल': 86, 'चलचतर': 87, 'अभनयम': 88, 'मषक': 89, 'अतत': 90, 'सकत': 91, 'पठम': 92, 'पठत': 93, 'परधनमनतरण': 94, 'आपलवन': 95, 'पडतसय': 96, 'कषतरसय': 97, 'दरत': 98, 'अभयगम': 99, 'कत': 100, 'चतनय': 101, 'करडतम': 102, 'एष': 103, 'सधमवन': 104, 'आमर': 105, 'गलत': 106, 'ऐनदरजलकन': 107, 'जनन': 108, 'दवमख': 109, 'सरप': 110, 'दरशतम': 111, 'दलप': 112, 'उततमनट': 113, 'अनवय': 114, 'वगन': 115, 'धवत': 116, 'उतसह': 117, 'नसत': 118, 'भ': 119, 'आकश': 120, 'अरण': 121, 'समयक': 122, 'गयत': 123, 'शयम': 124, 'वरणलपनम': 125, 'तसय': 126, 'चतवर': 127, 'दततवत': 128, 'मम': 129, 'त': 130, 'तरण': 131, 'अदवत': 132, 'उततरदयतव': 133, 'नलयत': 134, 'अनश': 135, 'परदशणम': 136, 'शवनद': 137, 'चनतयत': 138, 'बनध': 139, 'पनसथपयतन': 140, 'शवनत': 141, 'सरवर': 142, 'इतयसय': 143, 'करमकरणन': 144, 'परसतवरथ': 145, 'अनमदन': 146, 'करम': 147, 'करयन': 148, 'जमत': 149, 'सतरय': 150, 'चलचचतर': 151, 'दरषट': 152, 'गत': 153, 'आदतय': 154, 'कथम': 155, 'समपनम': 156, 'परत': 157, 'कञचत': 158, 'शघर': 159, 'गनतवयम': 160, 'अदवक': 161, 'आरव': 162, 'भकषतम': 163, 'महतमन': 164, 'कथनम': 165, 'यत': 166, 'अह': 167, 'तद': 168, 'सनतषट': 169, 'भवम': 170, 'सरश': 171, 'उततम': 172, 'सरथ': 173, 'अदतयह': 174, 'गणनम': 175, 'जनत': 176, 'परशनत': 177, 'जवरपडत': 178, 'व': 179, 'आरभय': 180, 'मनमथ': 181, 'सवम': 182, 'सरवतर': 183, 'चत': 184, 'कमरथ': 185, 'दवलय': 186, 'गतव': 187, 'पररथयनत': 188, 'इत': 189, 'बलक': 190, 'मतर': 191, 'पषटवन': 192, 'उपनदर': 193, 'तम': 194, 'धनयवदम': 195, 'समरपयत': 196, 'अभषक': 197, 'शषकम': 198, 'अचनतय': 199, 'भमय': 200, 'परभ': 201, 'स': 202, 'इदन': 203, 'अप': 204, 'आगतवन': 205, 'अनप': 206, 'वरशयम': 207, 'आरदर': 208, 'वषय': 209, 'नवदत': 210, 'नरयण': 211, 'नदरशनम': 212, 'जनम': 213, 'परहलद': 214, 'सनदरम': 215, 'दशयत': 216, 'अमब': 217, 'भजनम': 218, 'नधश': 219, 'कम': 220, 'अनवषयत': 221, 'यदध': 222, 'नकण': 223, 'कषपकण': 224, 'यनतरण': 225, 'उपयजयनत': 226, 'आयष': 227, 'सनहरह': 228, 'बणम': 229, 'आमञचत': 230, 'समभरमम': 231, 'आचरणम': 232, 'अभरम': 233, 'मणकनत': 234, 'सतय': 235, 'पत': 236, 'परतकषत': 237, 'परष': 238, 'अधनप': 239, 'शघरम': 240, 'कयत': 241, 'सनदर': 242, 'असतत': 243, 'आरय': 244, 'नदयत': 245, 'नरपकष': 246, 'सरवतरकवसतसङकत': 247, 'गन': 248, 'शरणत': 249, 'मनषय': 250, 'दनवयय': 251, 'परवतत': 252, 'आतमन': 253, 'रकषत': 254, 'अजत': 255, 'मधरम': 256, 'खदत': 257, 'तददन': 258, 'भवन': 259, 'सजय': 260, 'शशम': 261, 'चमबनम': 262, 'समरम': 263, 'समपदषटदष': 264, 'उदबजसय': 265, 'कचसय': 266, 'उपयग': 267, 'करयत': 268, 'अधन': 269, 'रजजययन': 270, 'उपकरडय': 271, 'तष': 272, 'कशल': 273, 'परदरशयनत': 274, 'अखल': 275, 'नरतयत': 276, 'परवषयत': 277, 'जववजञनरसयनवजञन': 278, 'सशतवरत': 279, 'वयकत': 280, 'समज': 281, 'सपथ': 282, 'नयत': 283, 'मनवसय': 284, 'शरर': 285, 'नकवध': 286, 'ऊतय': 287, 'वरतनत': 288, 'कषमयतम': 289, 'वयसत': 290, 'आसम': 291, 'अत': 292, 'परषत': 293, 'पतर': 294, 'वलमब': 295, 'जत': 296, 'इनदर': 297, 'उकतवत': 298, 'मतरम': 299, 'परतक': 300, 'उनमततवत': 301, 'वयवहरत': 302, 'दरववकत': 303, 'कष': 304, 'कतर': 305, 'वसत': 306, 'तषण': 307, 'उपवशनत': 308, 'ववदत': 309, 'रगणलय': 310, 'अकलजत': 311, 'शश': 312, 'अजयत': 313, 'पशयत': 314, 'वरण': 315, 'वशवजत': 316, 'वषणभकत': 317, 'करयलयसय': 318, 'समपत': 319, 'गदन': 320, 'परमचनदमहदयसय': 321, 'मलकत': 322, 'अरपतन': 323, 'सनतष': 324, 'अननत': 325, 'यधधम': 326, 'दरशन': 327, 'सरवनकसमपरकअधकर': 328, 'सहनय': 329, 'मदरस': 330, 'भजन': 331, 'रचत': 332, 'महश': 333, 'वरतमन': 334, 'यवन': 335, 'पशचतयसभयतय': 336, 'अनधनकरण': 337, 'करवनत': 338, 'वषभरश': 339, 'चहन': 340, 'वषभ': 341, 'इतयव': 342, 'अशवतठ': 343, 'वसतरपरकषलनम': 344, 'मनदरसय': 345, 'शखर': 346, 'शभत': 347, 'अचयत': 348, 'फयल': 349, 'दन': 350, 'समपतम': 351, 'कल': 352, 'नशकतम': 353, 'मणडक': 354, 'उभयचर': 355, 'गरवम': 356, 'ऊरधव': 357, 'कतव': 358, 'गचछत': 359, 'सफलतम': 360, 'सधयत': 361, 'करडसरस': 362, 'नकय': 363, 'अगरभग': 364, 'नकन': 365, 'छदरण': 366, 'यद': 367, 'दरवणय': 368, 'सवर': 369, 'शरतवत': 370, 'सरवण': 371, 'कषटन': 372, 'वसमतवत': 373, 'रमचनदर': 374, 'रसभ': 375, 'वहकपश': 376, 'ईशवरनरमत': 377, 'उपकषणय': 378, 'मय': 379, 'परधयन': 380, 'वसतरण': 381, 'परकषलतन': 382, 'शव': 383, 'दवज': 384, 'इदमदन': 385, 'परथसहम': 386, 'वचरधर': 387, 'आदरशवद': 388, 'गरनथसय': 389, 'आमख': 390, 'सवमरश': 391, 'लखतम': 392, 'जयरज': 393, 'वरषय': 394, 'भरतयभष': 395, 'ससकत': 396, 'सलभम': 397, 'फलम': 398, 'आदतत': 399, 'परसनन': 400, 'करधन': 401, 'आरभटम': 402, 'अभनव': 403, 'गहमरजनम': 404, 'चतरम': 405, 'अवलकयत': 406, 'वशवनथ': 407, 'वन': 408, 'भवदकत': 409, 'सरवमप': 410, 'अङगकरत': 411, 'शकयम': 412, 'सवसय': 413, 'कषठ': 414, 'सथलकमलसरभम': 415, 'सञचत': 416, 'अरवनद': 417, 'रचपरसतर': 418, 'वनरमत': 419, 'तजमहल': 420, 'परकषयम': 421, 'अङकम': 422, 'परपनत': 423, 'रम': 424, 'चटक': 425, 'यदयव': 426, 'करयनन': 427, 'कदप': 428, 'दखसय': 429, 'करण': 430, 'सयत': 431, 'भतपरतदन': 432, 'पजन': 433, 'अशभम': 434, 'शङकर': 435, 'मरख': 436, 'अरचयत': 437, 'सरवद': 438, 'आगतय': 439, 'म': 440, 'पडयत': 441, 'करतक': 442, 'दलत': 443, 'गह': 444, 'लखत': 445, 'कषण': 446, 'अहम': 447, 'अधयपक': 448, 'चतरक': 449, 'झट': 450, 'गहत': 451, 'पशन': 452, 'परमम': 453, 'पषटयरथ': 454, 'परशव': 455, 'परमणम': 456, 'मनद': 457, 'चरत': 458, 'ततरव': 459, 'पशयनत': 460, 'मथन': 461, 'पञचवदनपरयनत': 462, 'अतरव': 463, 'नरततर': 464, 'छतर': 465, 'परसपर': 466, 'असयमत': 467, 'रगगरसत': 468, 'अभवत': 469, 'मरगम': 470, 'वसमत': 471, 'अनपरगचछत': 472, 'मशकजल': 473, 'अतयहर': 474, 'अतयधकम': 475, 'ओदनम': 476, 'परपकर': 477, 'खल': 478, 'धरमसधनम': 479, 'खनक': 480, 'अशकसय': 481, 'बहशवकरत': 482, 'कचन': 483, 'रजन': 484, 'मनतरण': 485, 'परजधन': 486, 'उपभगय': 487, 'मनयनत': 488, 'तथ': 489, 'च': 490, 'अनतय': 491, 'बलत': 492, 'सवरथ': 493, 'उपभग': 494, 'अतर': 495, 'सरवधकर': 496, 'अकषय': 497, 'दव': 498, 'इतयनन': 499, 'सह': 500, 'गणनकरमण': 501, 'गणनफल': 502, 'सधम': 503, 'वशवस': 504, 'पथवय': 505, 'शनत': 506, 'परवण': 507, 'एकसय': 508, 'सथपनय': 509, 'नरवहक': 510, 'आदरश': 511, 'मनचवसय': 512, 'उपयगम': 513, 'इम': 514, 'करतवत': 515, 'सधनव': 516, 'वसतर': 517, 'करतवनत': 518, 'सथपतन': 519, 'वसतन': 520, 'गणनयन': 521, 'करपसयकतम': 522, 'उपसतरण': 523, 'शयनरथ': 524, 'सखदय': 525, 'शखल': 526, 'उपयजय': 527, 'सथन': 528, 'नरणत': 529, 'तदतययशकयत': 530, 'अजय': 531, 'घणटनदम': 532, 'वनयक': 533, 'लखकसय': 534, 'औपनयसक': 535, 'वषयवसत': 536, 'रचकम': 537, 'आरधय': 538, 'दवचकरक': 539, 'पशय': 540, 'मततल': 541, 'वकरयत': 542, 'रतय': 543, 'हसत': 544, 'परकष': 545, 'कथ': 546, 'यन': 547, 'आगतम': 548, 'वभव': 549, 'आरगयवनत': 550, 'गतम': 551, 'शरमकणम': 552, 'आरथकशषण': 553, 'परचनकलत': 554, 'परचलत': 555, 'तत': 556, 'करतवयम': 557, 'इतप': 558, 'मरगय': 559, 'समनय': 560, 'सवतनतरथ': 561, 'पतल': 562, 'सनस': 563, 'अनयष': 564, 'धरमण': 565, 'सहषणत': 566, 'हनदन': 567, 'धरमसय': 568, 'वशषत': 569, 'परयजनरथन': 570, 'परषण': 571, 'सवधनमनस': 572, 'वरततवयम': 573, 'अतथगह': 574, 'ककष': 575, 'रकत': 576, 'अरजक': 577, 'उचछङखल': 578, 'वतवरणमसरकषत': 579, 'जततषमसमक': 580, 'जवन': 581, 'परयवरण': 582, 'आनद': 583, 'रहसयसय': 584, 'गपनयत': 585, 'सनधरणय': 586, 'तरषकदशय': 587, 'नसमज': 588, 'मललश': 589, 'सवसथयरथ': 590, 'लभदयक': 591, 'ईशवर': 592, 'अनतरयम': 593, 'तव': 594, 'फलन': 595, 'खदस': 596, 'वयगरतय': 597, 'करणत': 598, 'अमलम': 599, 'वलमबननतर': 600, 'बहरगचछत': 601, 'पतरम': 602, 'तट': 603, 'पदरकष': 604, 'उपयकतवय': 605, 'उडडयत': 606, 'पकसदधयरथ': 607, 'अङगरन': 608, 'जवलयत': 609, 'वनसपतन': 610, 'नक': 611, 'सवतसरय': 612, 'परजतय': 613, 'दत': 614, 'करणसय': 615, 'दनशरत': 616, 'वशववखयत': 617, 'कषरदक': 618, 'वसतरपरकषलन': 619, 'कठनयम': 620, 'वद': 621, 'सभषणय': 622, 'लभयत': 623, 'जबरऐड': 624, 'कमसत': 625, 'परशनवलयम': 626, 'एकपञचशततम': 627, 'परशन': 628, 'कठनतम': 629, 'वरतत': 630, 'घट': 631, 'नमषदवय': 632, 'अगर': 633, 'सरत': 634, 'दरवपदरथसय': 635, 'मपक': 636, 'पदसथसय': 637, 'अधकरण': 638, 'सथननतरम': 639, 'सतश': 640, 'महन': 641, 'कलहल': 642, 'शरतवन': 643, 'वसतरसय': 644, 'वदशवकरयकसय': 645, 'शरषठन': 646, 'हय': 647, 'नधनम': 648, 'मत': 649, 'आवशयक': 650, 'परतदनम': 651, 'रदतवन': 652, 'यपयत': 653, 'शन': 654, 'सहरब': 655, 'रसतम': 656, 'वर': 657, 'यधयत': 658, 'उततर': 659, 'लखषयम': 660, 'उकतवन': 661, 'परनत': 662, 'परयनत': 663, 'सपतषषटतम': 664, 'अपरध': 665, 'पन': 666, 'असमक': 667, 'मलन': 668, 'एतन': 669, 'सङगरहणयन': 670, 'जन': 671, 'मनभवनय': 672, 'वयवहर': 673, 'कगदम': 674, 'चननम': 675, 'बदधन': 676, 'धरमवलमबन': 677, 'धरमसथल': 678, 'नरमयनत': 679, 'बजगणत': 680, 'जननत': 681, 'तरह': 682, 'दषटवन': 683, 'अमर': 684, 'कयमरय': 685, 'सवकतसय': 686, 'चतरसय': 687, 'पकसल': 688, 'मरग': 689, 'मथयम': 690, 'रढपरय': 691, 'अकलनसय': 692, 'मनषयसय': 693, 'जलम': 694, 'पतम': 695, 'नचछनत': 696, 'अगतय': 697, 'समपम': 698, 'रचरव': 699, 'बङगलर': 700, 'नगरम': 701, 'परयणम': 702, 'असमतल': 703, 'भम': 704, 'कषयरथ': 705, 'समतल': 706, 'समपयत': 707, 'दरवण': 708, 'नरभर': 709, 'रतर': 710, 'नकषतरमणडल': 711, 'अधनतन': 712, 'सटसमय': 713, 'शकयतव': 714, 'सममरद': 715, 'भवषयतकल': 716, 'क': 717, 'भवषयत': 718, 'कप': 719, 'इदम': 720, 'परथमत': 721, 'उतसव': 722, 'मलतवन': 723, 'अदयव': 724, 'गनतवय': 725, 'सधनसमपनन': 726, 'समजसय': 727, 'वकसरथ': 728, 'सहयक': 729, 'रकषक': 730, 'आतनकवदन': 731, 'लकषय': 732, 'वरतय': 733, 'परदरशनय': 734, 'असयतसय': 735, 'अशवसय': 736, 'रहणम': 737, 'अकरत': 738, 'तसयनन': 739, 'वसतरन': 740, 'परयजनम': 741, 'ववहम': 742, 'परणत': 743, 'परमतत': 744, 'ककषय': 745, 'सवकरम': 746, 'सचयत': 747, 'उपयतत': 748, 'परवरतनरहतकत': 749, 'पसतरन': 750, 'पटटल': 751, 'नदरम': 752, 'अगसतमससय': 753, '15': 754, 'दनङक': 755, 'गगनभदनय': 756, 'घषण': 757, 'गगन': 758, 'वयननदयन': 759, 'सथपनयसय': 760, 'अवकशन': 761, 'अभरच': 762, 'सवयमव': 763, 'चनत': 764, 'ससर': 765, 'परवरतनशल': 766, 'अननपणकसय': 767, 'आपणत': 768, 'तन': 769, 'तणडल': 770, 'वचन': 771, 'शणत': 772, 'पततल': 773, '1997': 774, 'तमसय': 775, 'वरषसय': 776, 'जलईमससय': 777, 'सपतदश': 778, '95': 779, 'शरनरयणसय': 780, 'तटसथतय': 781, 'रजयसभयम': 782, 'अधयकषतवन': 783, 'करयम': 784, 'सवय': 785, 'अनतमत': 786, 'नतकतय': 787, 'पठ': 788, 'पठनय': 789, 'रगण': 790, 'बहय': 791, 'मरजयषयम': 792, 'परवतसयपर': 793, 'हम': 794, 'दरदशयत': 795, 'कवल': 796, 'कवदनत': 797, 'चलतचतरगहसय': 798, 'धरणसय': 799, 'कषमत': 800, 'पञचशतम': 801, 'चलतसय': 802, 'यनतरसय': 803, 'रधनम': 804, 'आवशयकम': 805, 'पषपससय': 806, 'जलन': 807, 'परतदन': 808, 'सचनयम': 809, 'कथयथ': 810, 'अदरह': 811, 'नरवढवयन': 812, 'महकरयण': 813, 'कन': 814, 'वसमतवन': 815, 'कषणमघ': 816, '1992': 817, 'एकवशततम': 818, 'शरनरयण': 819, 'भरतगणरजयसय': 820, 'उपरषटरपततवन': 821, 'दयतव': 822, 'सवयकरत': 823, 'अनगरहण': 824, 'परषसय': 825, 'शनतयकतम': 826, 'सममलनसय': 827, 'समपन': 828, 'वदवस': 829, 'आगचछनत': 830, 'दनतअनयष': 831, 'पषटत': 832, 'गमनम': 833, 'परबनधसय': 834, 'खलनयक': 835, 'पठकसय': 836, 'चततम': 837, 'आकरषत': 838, 'अरधवरमसय': 839, 'परणवरम': 840, 'नरदषट': 841, 'सतरत': 842, 'परवत': 843, 'असमन': 844, 'सङगरहलय': 845, 'मगलकलनवसतन': 846, 'सङगरह': 847, 'जतसय': 848, 'मतय': 849, 'धरवम': 850, 'दरग': 851, 'वधय': 852, 'शकत': 853, 'कऽप': 854, 'नवक': 855, 'शकनत': 856, 'इसलमधरमसय': 857, 'ससथपक': 858, 'महममद': 859, 'सरवथ': 860, 'अनयन': 861, 'ननदयत': 862, 'कशक': 863, 'भज': 864, 'परधनयभग': 865, 'समरट': 866, 'भरत': 867, 'दशयरजय': 868, 'दनन': 869, 'परधन': 870, 'जलक': 871, 'पधन': 872, 'सचन': 873, 'ददवयम': 874, 'वजञनक': 875, 'यम': 876, 'खगलयपणड': 877, 'भषण': 878, 'आरमखयत': 879, 'वलषत': 880, 'वबवय': 881, 'चरयम': 882, 'असमजककरयम': 883, 'सरवभम': 884, 'अरथशसतर': 885, 'अरगल': 886, 'नह': 887, 'असमपरदयक': 888, 'वशवशनत': 889, 'सथपयत': 890, 'शकनवनत': 891, 'गर': 892, 'पररक': 893, 'वदयरजन': 894, 'दततचतत': 895, 'दलसय': 896, 'रपयकण': 897, 'अपतयन': 898, 'परचरय': 899, 'भवल': 900, 'सधकत': 901, 'एतवत': 902, 'नयनमलयन': 903, 'अनयतर': 904, 'कतरप': 905, 'मलत': 906, 'नशचय': 907, 'तमरम': 908, 'वदयत': 909, 'सवहकम': 910, 'भरतदश': 911, 'समय': 912, 'अनतकरमणसय': 913, 'पकष': 914, 'समरथयत': 915, 'वडय': 916, 'सरमभय': 917, 'यजयत': 918, 'वय': 919, 'अमरत': 920, 'वपकषसनय': 921, 'यदधवरमधवज': 922, 'परसरत': 923, 'पतमहन': 924, 'पषत': 925, 'आमरवकष': 926, 'फलत': 927, 'करयकरतर': 928, 'दषटवत': 929, 'उजबकसतनदशय': 930, 'नद': 931, 'दशयवषकरणत': 932, 'परक': 933, 'अधरखडकनसय': 934, 'समयएक': 935, 'नमष': 936, 'वदय': 937, 'शनयमधयम': 938, 'उतरशड': 939, 'उदघटयत': 940, 'कलषत': 941, 'अदयतन': 942, 'पक': 943, 'भरमणधवन': 944, 'तनतररहत': 945, 'यनतरम': 946, 'ददम': 947, 'सरपर': 948, 'इतयसमन': 949, 'अय': 950, 'अवकनट': 951, 'रजसथनय': 952, 'शभनय': 953, 'भरतसय': 954, 'सरवचचनययलय': 955, 'दललनगर': 956, 'शवलङगनगण': 957, 'ततर': 958, 'परवतगणशय': 959, 'परतमय': 960, 'वरधन': 961, 'अखदयपदरथ': 962, 'अवकर': 963, 'कषपत': 964, 'परभत': 965, 'परदरशतन': 966, 'मलयम': 967, 'अधकम': 968, 'असवधनकसङघरषसय': 969, 'वरध': 970, 'सवतसरसय': 971, 'दकषनतसय': 972, 'समरहसय': 973, 'अधयकष': 974, 'भटटचरय': 975, 'यनतर': 976, 'चतरकरण': 977, 'सवक': 978, 'अचचट': 979, 'शधन': 980, 'चयकषय': 981, 'कषर': 982, 'कपय': 983, 'शवनय': 984, 'मततकय': 985, 'दगध': 986, 'पययत': 987, 'आरगयरथ': 988, 'कलम': 989, 'आतप': 990, 'तषटत': 991, 'शवलङगसयकर': 992, 'चनदरसय': 993, 'कलनसर': 994, 'वरधत': 995, 'सहतय': 996, 'परषकत': 997, 'भष': 998, 'चनदर': 999, 'दषटव': 1000, 'उचछलक': 1001, 'मवत': 1002, 'परतभत': 1003, 'मनस': 1004, 'सखय': 1005, 'ववह': 1006, 'सवरथपर': 1007, 'मतरत': 1008, 'करणय': 1009, 'भवतरहसयसडक': 1010, 'तय': 1011, 'फ़ल': 1012, 'रखडकन': 1013, 'कतम': 1014, 'कवचधर': 1015, 'रण': 1016, 'सवपरणन': 1017, 'अतयजत': 1018, 'असम': 1019, 'करयय': 1020, 'सहनसदशसय': 1021, 'सपतरसय': 1022, 'आवशयकत': 1023, 'जसर': 1024, 'नतय': 1025, 'खदतम': 1026, 'सवनरणय': 1027, 'दढ': 1028, 'वततकष': 1029, 'कयददर': 1030, 'लख': 1031, 'उदधरणचहन': 1032, 'परयकतम': 1033, 'चञचल': 1034, 'शनतमनस': 1035, 'सकटमचक': 1036, 'हनमनत': 1037, 'पजयतव': 1038, 'सकटन': 1039, 'दरभवनत': 1040, 'सरवतरकवकर': 1041, 'ययतस': 1042, 'हततम': 1043, 'सरवसय': 1044, 'पसतक': 1045, 'सवसथ': 1046, 'कषकषतर': 1047, 'जलसञचन': 1048, 'धनयसय': 1049, 'रपण': 1050, 'घतम': 1051, 'अशदधम': 1052, 'गतवन': 1053, 'आरतर': 1054, 'वषट': 1055, 'कषणकसखरथ': 1056, 'आसकत': 1057, 'मन': 1058, 'परपञचकन': 1059, 'अनधवत': 1060, 'वरदध': 1061, 'सम': 1062, 'आसनदसय': 1063, 'पद': 1064, 'नलमबत': 1065, 'करमकर': 1066, 'पनरनयकतयरथ': 1067, 'उचचनययलय': 1068, 'आवदन': 1069, 'समरपतम': 1070, 'भसकर': 1071, 'खडगधरण': 1072, 'यधक': 1073, 'यदधमन': 1074, 'वततसय': 1075, 'कनदरबनद': 1076, 'छनदनत': 1077, 'रख': 1078, 'सदव': 1079, 'यकत': 1080, 'वरत': 1081, 'समपरदय': 1082, 'अतयवशय': 1083, 'भषठन': 1084, 'खकरत': 1085, 'शययय': 1086, 'उपर': 1087, 'बषसट': 1088, 'मड': 1089, 'मधय': 1090, 'सवकरणयन': 1091, 'चतरण': 1092, 'ससवय': 1093, 'दनतकरच': 1094, 'समतसर': 1095, 'सदधनत': 1096, 'वययहर': 1097, 'पठन': 1098, 'अटत': 1099, 'वयम': 1100, 'ईशवरवदसय': 1101, 'समरथक': 1102, 'खरषटरय': 1103, 'गरनथ': 1104, 'पतरसय': 1105, 'तल': 1106, 'रकष': 1107, 'परबनधक': 1108, 'अनतपदतन': 1109, 'वशलषणम': 1110, 'अपकषत': 1111, 'वदयलय': 1112, 'पठयत': 1113, 'औदरयम': 1114, 'वखयतम': 1115, 'अनगमन': 1116, 'कपटकत': 1117, 'दरमव': 1118, 'वरम': 1119, 'धनरवदयय': 1120, 'नपण': 1121, 'अनयत': 1122, 'सर': 1123, 'रवश': 1124, 'तयगपतर': 1125, 'रषटरपतमहदयय': 1126, 'परतयरपतम': 1127, 'तथप': 1128, 'इव': 1129, 'शरवयम': 1130, 'छदनत': 1131, 'रकषण': 1132, 'शरण': 1133, 'सथर': 1134, 'ससवयकरमण': 1135, 'वरगकरत': 1136, 'भकतन': 1137, 'अरथत': 1138, 'मनवन': 1139, 'परयवरणन': 1140, 'परयवरणसय': 1141, 'घटक': 1142, 'समबनधसय': 1143, 'जनमन': 1144, 'अनशनसय': 1145, 'तरयशततम': 1146, 'दनम': 1147, 'अकनट': 1148, 'जवर': 1149, 'तषठत': 1150, 'गणतसय': 1151, 'नयतकल': 1152, 'भगहर': 1153, 'पठषयत': 1154, 'परपतन': 1155, 'सवधन': 1156, 'सदपयगम': 1157, 'परकय': 1158, 'समपतत': 1159, 'परतयगमषयत': 1160, 'सवतसर': 1161, 'शसयछदनम': 1162, 'वलमबन': 1163, 'जतम': 1164, 'बसयनदन': 1165, 'सथलयनन': 1166, 'करणववरम': 1167, 'अमल': 1168, 'लकसभयम': 1169, 'अचरत': 1170, 'वधयक': 1171, 'परयकत': 1172, 'भगवत': 1173, 'जगपस': 1174, 'परय': 1175, 'मदयपन': 1176, 'तयकतवयम': 1177, 'सरवष': 1178, 'इतयतष': 1179, 'उपधयदरशयनत': 1180, 'वयघर': 1181, 'मससय': 1182, 'भकषक': 1183, 'वदषकण': 1184, 'परहसत': 1185, 'परधरतम': 1186, 'गरभसथसय': 1187, 'कशलतरथ': 1188, 'परयतत': 1189, 'मनहर': 1190, 'कलहपरयम': 1191, 'भरयम': 1192, 'उपयसत': 1193, 'अदयतव': 1194, 'तसमन': 1195, 'असवभवकन': 1196, 'लकषणन': 1197, 'दशयनत': 1198, 'मनवजवन': 1199, 'परतयकषरपण': 1200, 'एतष': 1201, 'परयवरणघटकन': 1202, 'य': 1203, 'परभव': 1204, 'भवनत': 1205, 'परयवरणम': 1206, 'रषटर': 1207, 'वजतय': 1208, 'बहरमख': 1209, 'सभषण': 1210, 'वघघमन': 1211, 'सपषट': 1212, 'वमनपततनम': 1213, 'अपरकतकसथनम': 1214, 'सथत': 1215, 'एकन': 1216, 'तकषणन': 1217, 'शसतरण': 1218, 'आहत': 1219, 'करमकत': 1220, 'शनय': 1221, 'कतवर': 1222, 'वकतवयम': 1223, 'एत': 1224, 'कदमबर': 1225, 'करडय': 1226, 'अपरजत': 1227, 'आगमषयत': 1228, 'आशवन': 1229, 'अननज': 1230, 'मदयम': 1231, 'ववहत': 1232, 'अनतकरणनकल': 1233, 'रममहनय': 1234, 'समबनध': 1235, 'असवभवक': 1236, 'दनसमय': 1237, 'करनटकपरनत': 1238, 'कञचनकनदर': 1239, 'सधव': 1240, 'नसपह': 1241, 'दकषत': 1242, 'शषय': 1243, 'नयमपलनम': 1244, 'अवशय': 1245, 'करणयम': 1246, 'गहसथ': 1247, 'सख': 1248, 'कटमबन': 1249, 'जवत': 1250, 'ववरणम': 1251, 'एकसमन': 1252, 'लखतव': 1253, 'शरजडआर': 1254, 'इतयसम': 1255, 'परषयत': 1256, 'कदचत': 1257, 'पशयम': 1258, 'वबकय': 1259, 'अनकन': 1260, 'सवकरवनत': 1261, 'अरहतय': 1262, 'वकत': 1263, 'परषट': 1264, 'कर': 1265, 'दरवयसन': 1266, 'बडगलरय': 1267, 'शटक': 1268, 'शतरभयन': 1269, 'आकमपत': 1270, 'सन': 1271, 'रणत': 1272, 'पलयत': 1273, 'परणनतक': 1274, 'वष': 1275, 'पतव': 1276, 'सवजवनसय': 1277, 'अनत': 1278, 'ववधन': 1279, 'शरभषणन': 1280, 'वरषकल': 1281, 'करदमतन': 1282, 'मरगण': 1283, 'गमन': 1284, 'कठनयपरणम': 1285, 'वघघमनन': 1286, 'नसतवच': 1287, 'आधनकचलचचतरण': 1288, 'नगनतय': 1289, 'परपरणन': 1290, 'दरदरश': 1291, 'समसयय': 1292, 'नमजयत': 1293, 'वपकषण': 1294, 'अरथनतपरसतववषय': 1295, 'सरवकरत': 1296, 'सपषटकरणम': 1297, 'अभयरथतम': 1298, 'वयधन': 1299, 'नरभकषक': 1300, 'हत': 1301, 'मतधकरण': 1302, 'अनरध': 1303, 'मतसय': 1304, 'सदपयग': 1305, 'समचन': 1306, 'परतवभग': 1307, 'कपटपरबनध': 1308, 'भवतयव': 1309, 'षत': 1310, 'चतरसवकरणयनतरय': 1311, 'उपयवतवय': 1312, 'उपकरणम': 1313, 'सयमत': 1314, 'आरगयसय': 1315, 'रकषणम': 1316, 'आदश': 1317, 'दरणय': 1318, 'करयसय': 1319, 'अनभव': 1320, 'रषटरपत': 1321, 'अतयनतनरधनपरवर': 1322, 'परपत': 1323, 'उचच': 1324, 'गरम': 1325, 'सवपकषय': 1326, 'वषमयमदयपनन': 1327, 'जयमन': 1328, 'एकषषटतम': 1329, 'मरणम': 1330, 'बदधयम': 1331, 'असमय': 1332, 'गरसषयत': 1333, 'परकषय': 1334, 'गणकयनतरम': 1335, 'उपयकत': 1336, 'वरय': 1337, 'नमन': 1338, 'परण': 1339, 'उपयकतवयन': 1340, 'चह': 1341, 'नन': 1342, 'जवनमरणम': 1343, 'परकतककरय': 1344, 'लभयमन': 1345, 'लल': 1346, 'सथपतवन': 1347, 'धरण': 1348, 'वहन': 1349, 'गजशलय': 1350, 'मद': 1351, 'धरमकनषठन': 1352, 'उपयजयत': 1353, 'शल': 1354, 'आरबध': 1355, 'उपकरणन': 1356, 'वदगधयम': 1357, 'तवरत': 1358, 'उपवशय': 1359, 'पठषयम': 1360, 'अकणटक': 1361, 'कषप': 1362, 'करमण': 1363, 'यथकल': 1364, 'यथदश': 1365, 'यथबलम': 1366, 'यथचत': 1367, 'यथवततम': 1368, 'अकरद': 1369, 'बरहमसतकतम': 1370, 'सवरणकरय': 1371, 'सवरणमदर': 1372, 'दततव': 1373, 'गहतन': 1374, 'कददल': 1375, 'हसतपकरणम': 1376, 'नकतनयजनय': 1377, 'शकयत': 1378, 'कतवन': 1379, 'वदम': 1380, 'चतर': 1381, 'पखरतयत': 1382, 'सधय': 1383, 'इदमवधययन': 1384, 'परसथकत': 1385, 'अभधयत': 1386, 'एस': 1387, 'एम': 1388, 'सकषयपतरष': 1389, 'तरट': 1390, 'मपरगणन': 1391, 'शभशयन': 1392, 'नवदयत': 1393, 'चकरकय': 1394, 'करडत': 1395, 'पतरण': 1396, 'वदश': 1397, 'पठनसय': 1398, 'वययसय': 1399, 'ववरणमप': 1400, 'कञचतकल': 1401, 'गहणत': 1402, 'वशरम': 1403, 'जञतम': 1404, 'पठकरङगसय': 1405, 'मशरणन': 1406, 'परपयनत': 1407, 'परतयगचछस': 1408, 'तवम': 1409, 'तलकयनतरम': 1410, 'उदघटनरथ': 1411, 'कञचकछदर': 1412, 'कञचक': 1413, 'तदश': 1414, 'उपय': 1415, 'कथयतम': 1416, 'इद': 1417, 'सलभयन': 1418, 'समपदयत': 1419, 'अमरनथ': 1420, 'पवतरतम': 1421, 'तरथधम': 1422, 'गहसङकत': 1423, 'दरशक': 1424, 'अभमञचत': 1425, 'नटक': 1426, 'परशसत': 1427, 'वनतकवरण': 1428, 'गणवरण': 1429, 'भरतसरवकरसय': 1430, 'अनकष': 1431, 'वभगष': 1432, 'मनतरतवन': 1433, 'चयनकत': 1434, 'दरशनम': 1435, 'सततधरदल': 1436, 'रजयतयग': 1437, 'कञचतपरव': 1438, 'इदनमप': 1439, 'हर': 1440, 'यवद': 1441, 'परयतनत': 1442, 'अननतर': 1443, 'लखसय': 1444, 'अशकनम': 1445, 'मडगलदशय': 1446, 'दतवस': 1447, 'गनतकम': 1448, 'शतव': 1449, 'करध': 1450, 'परकषठ': 1451, 'दवतय': 1452, 'सकजजल': 1453, 'नतर': 1454, 'सरवन': 1455, 'समहयत': 1456, 'सकषमगणड': 1457, 'चनदनद': 1458, 'लपयत': 1459, 'आगमन': 1460, 'परतकष': 1461, 'कतवत': 1462, 'वदवततय': 1463, 'बलन': 1464, 'शङकरचरयण': 1465, 'हनदधरमसय': 1466, 'यथरथ': 1467, 'दवचछ': 1468, 'कनत': 1469, 'भयम': 1470, 'रहमण': 1471, 'आवदत': 1472, 'परकरण': 1473, 'परयसतम': 1474, 'नज': 1475, 'समपरदयकतवद': 1476, 'गहयदधसय': 1477, 'परमख': 1478, 'करणम': 1479, 'दरभषसङखयम': 1480, 'बजगणतसय': 1481, 'परशनन': 1482, 'ललय': 1483, 'उततरयत': 1484, 'समपरक': 1485, 'बरमकनयय': 1486, 'टणट': 1487, 'इतयनय': 1488, 'उपयकतहठ': 1489, 'तदतयय': 1490, 'मतरण': 1491, 'रषयनवसनय': 1492, 'मलम': 1493, 'अञचल': 1494, 'यनसय': 1495, 'दरघटनय': 1496, 'अपमतय': 1497, 'सवकतवन': 1498, 'पठनत': 1499, 'ग': 1500, 'अवयदय': 1501, 'दगधपशव': 1502, 'पचन': 1503, 'परसदधम': 1504, 'आयगन': 1505, 'उचचधकरण': 1506, 'नयकत': 1507, 'कशलम': 1508, 'सहदर': 1509, 'नचत': 1510, 'ततकलक': 1511, 'सथपत': 1512, 'अवसथ': 1513, 'परपयत': 1514, 'आगनत': 1515, 'दरसय': 1516, 'कथञचत': 1517, 'पतन': 1518, 'जञसयत': 1519, 'वसरत': 1520, 'आरमभयत': 1521, 'दशवर': 1522, 'अशवशलय': 1523, 'पञच': 1524, 'अशव': 1525, 'यकतत': 1526, 'अतथ': 1527, 'समजनयनतरण': 1528, 'रटक': 1529, 'अभवषयत': 1530, 'रखकत': 1531, 'सलस': 1532, 'नषकसनम': 1533, 'भजननतर': 1534, 'परथम': 1535, 'दरषटवयम': 1536, 'मस': 1537, 'असमभ': 1538, 'नसर': 1539, 'पदरथ': 1540, 'तयकतवय': 1541, 'खदतवन': 1542, 'कतरतय': 1543, 'कदमबक': 1544, 'पणडपतर': 1545, 'महबल': 1546, 'परतयकसय': 1547, 'अशरवय': 1548, 'शबदम': 1549, 'उपयङकत': 1550, 'यवनम': 1551, 'अनपननय': 1552, 'बलकय': 1553, 'करतवय': 1554, 'शङखलकवचन': 1555, 'आचछदतम': 1556, 'परधनमनतरकरयलय': 1557, 'ववहनमतय': 1558, 'वनतपतर': 1559, 'आरगय': 1560, 'महशवतदवय': 1561, 'अनवदत': 1562, 'जञतवन': 1563, 'आहवयत': 1564, 'लखषयत': 1565, 'खदम': 1566, 'समरह': 1567, 'सवरणभषण': 1568, 'अलङकत': 1569, 'महल': 1570, 'दषटवषय': 1571, 'मतसरयत': 1572, 'जयषठभरत': 1573, 'गहम': 1574, 'परदगधम': 1575, 'जनभय': 1576, 'सननखन': 1577, 'रचनत': 1578, 'गगल': 1579, 'ऐड': 1580, 'जवसततवन': 1581, 'षटपरकरकण': 1582, 'अनतसथपतकरम': 1583, 'फ़': 1584, 'ल': 1585, 'शशवत': 1586, 'रचन': 1587, 'मतरतरयण': 1588, 'चलनचतरमनदरम': 1589, 'परपतत': 1590, 'नवसनम': 1591, 'अनवरयम': 1592, 'नरवसतसय': 1593, 'परवरसय': 1594, 'सदसय': 1595, 'सङकत': 1596, 'अवपततसय': 1597, 'मलयसय': 1598, 'वकरय': 1599, 'अधक': 1600, 'नतनवसतनम': 1601, 'सजल': 1602, 'आचछदयत': 1603, 'कक': 1604, 'नकयम': 1605, 'आगचछत': 1606, 'यथरथसय': 1607, 'वकयसय': 1608, 'यथरथयचहन': 1609, 'परदरशनयम': 1610, 'जनस': 1611, 'सरवबनधक': 1612, 'एतदश': 1613, 'सवपन': 1614, 'चनततम': 1615, 'भवतयवशय': 1616, 'भवय': 1617, 'बरहमप': 1618, 'अबधक': 1619, 'कलकपरण': 1620, '38': 1621, 'वकलङगन': 1622, 'मनषयण': 1623, 'सहयय': 1624, 'वसतत': 1625, 'परतयकष': 1626, 'जवधरण': 1627, 'एकरनत': 1628, 'शबद': 1629, 'सथलम': 1630, 'तयज': 1631, 'पठशलय': 1632, 'सजनय': 1633, 'खयतम': 1634, 'अपरय': 1635, 'अ': 1636, 'जवनसतवसय': 1637, 'नयनतवत': 1638, 'रतरयदषट': 1639, 'वयध': 1640, 'जयत': 1641, 'कशनगर': 1642, 'बदधभकषव': 1643, 'दनत': 1644, 'गजरतपरदश': 1645, 'जतन': 1646, 'अनरथकरण': 1647, 'भकमपन': 1648, 'अनथ': 1649, 'कतपयष': 1650, 'दनष': 1651, 'वब': 1652, 'भणडसय': 1653, 'परशधत': 1654, 'लड': 1655, 'लखन': 1656, 'परवरतनम': 1657, 'परकतसरवष': 1658, 'ततवन': 1659, 'सनतलनमसत': 1660, 'आरकषकण': 1661, 'अपरधन': 1662, 'उषणत': 1663, 'हसतभयम': 1664, 'यतकम': 1665, 'सयतवत': 1666, 'करषक': 1667, 'बजकतसय': 1668, 'यसमन': 1669, 'लणडन': 1670, 'सकल': 1671, 'ऑफ': 1672, 'इकनमकसमहवदयलय': 1673, 'उतथन': 1674, 'सञजत': 1675, 'इय': 1676, 'वरगकरणयम': 1677, 'कषटकसय': 1678, 'मधयमकषटक': 1679, 'नषकसय': 1680, 'वरतलकरकषटक': 1681, 'नषकसयत': 1682, 'पतरक': 1683, 'कलषट': 1684, 'आगमनन': 1685, 'शषकतडगदय': 1686, 'मसतषकय': 1687, 'शलयकरयय': 1688, 'समगरजञनत': 1689, 'वतणडवद': 1690, 'वकरयरथ': 1691, 'अनतरहतम': 1692, 'इनदरनलक': 1693, 'मलयवदरतनम': 1694, 'पङकतयम': 1695, 'गहणनत': 1696, 'अवदधसय': 1697, 'भदनम': 1698, 'कश': 1699, 'रमशवर': 1700, 'दननम': 1701, 'पपत': 1702, 'उभय': 1703, 'पकषय': 1704, 'परसपरधकरणम': 1705, 'उललङघन': 1706, 'करषयनत': 1707, 'अकषरलश': 1708, 'वकय': 1709, 'परसतत': 1710, 'अनन': 1711, 'वयञजन': 1712, 'भगन': 1713, 'गणत': 1714, 'मतपतरय': 1715, 'सव': 1716, 'सलकषण': 1717, 'गतय': 1718, 'पदमपतरसथ': 1719, 'अमबकण': 1720, 'सरयपरकश': 1721, 'मकतकसदश': 1722, 'इडल': 1723, 'आरयसभयतय': 1724, 'समजकवयवसथ': 1725, 'चतरवरग': 1726, 'नरधरत': 1727, 'बहलम': 1728, 'चहनम': 1729, 'नवस': 1730, 'भरतवसन': 1731, 'समबदधय': 1732, 'ततकलनपरधनमनतर': 1733, 'गजरल': 1734, 'अवदत': 1735, 'हनदभषय': 1736, 'वरणमलय': 1737, 'ककरत': 1738, 'हकरपरयनत': 1739, 'वयञजनन': 1740, 'परचयछतरय': 1741, 'नहर': 1742, 'मधयमन': 1743, 'ससथय': 1744, 'नवपञचशततम': 1745, 'सतरम': 1746, 'सजञफलक': 1747, 'लखतचहनन': 1748, 'असभयतय': 1749, 'नरगचछ': 1750, 'ममप': 1751, 'बहन': 1752, 'करयण': 1753, 'परतयक': 1754, 'अनसयतय': 1755, 'समपदनयम': 1756, 'परसपरसमबनधसय': 1757, 'सदधन': 1758, 'धन': 1759, 'चटटपधनतय': 1760, 'सजतयन': 1761, 'नयवसयन': 1762, 'परसरवजञनम': 1763, 'आङगलभषय': 1764, 'ECOLOGY': 1765, 'इतयचयत': 1766, 'सशय': 1767, 'पचछनत': 1768, 'फसबक': 1769, 'नम': 1770, 'सजजतन': 1771, 'समरकषक': 1772, 'सनक': 1773, 'रषटरसय': 1774, 'सपतर': 1775, 'रलदरघटनय': 1776, 'पडत': 1777, 'परथमकचकतसननतर': 1778, 'अनकलतय': 1779, 'सकर': 1780, 'सरमभसय': 1781, 'आलमभ': 1782, 'समप': 1783, 'सखनत': 1784, 'सखर': 1785, 'सजजकरत': 1786, 'कफ': 1787, 'अवधयन': 1788, 'बल': 1789, 'ददयत': 1790, 'आकशप': 1791, 'कसमन': 1792, 'ननददव': 1793, 'शखरम': 1794, 'एवरसट': 1795, 'शखरत': 1796, 'अनचचम': 1797, 'आसरय': 1798, 'कथय': 1799, 'भत': 1800, 'अदहक': 1801, 'गरह': 1802, 'सभय': 1803, 'सगरव': 1804, 'भषत': 1805, 'मसत': 1806, 'उकतवनत': 1807, 'मख': 1808, 'कषलयम': 1809, 'कदलमकष': 1810, 'करणभय': 1811, 'शरत': 1812, 'वभजय': 1813, 'अमबदवय': 1814, 'सवलप': 1815, 'वदन': 1816, 'कषतर': 1817, 'कलनन': 1818, 'अनलगन': 1819, 'फलकमप': 1820, 'अपरचलत': 1821, 'वशभष': 1822, 'करष': 1823, 'धर': 1824, 'एकतर': 1825, 'समदरतटत': 1826, '12756': 1827, 'यवत': 1828, 'उततङग': 1829, 'शवपरकतय': 1830, 'हट': 1831, 'दवदशमसन': 1832, 'उपलबधन': 1833, 'जलढय': 1834, 'मदय': 1835, 'शक': 1836, 'यतरपतर': 1837, 'नतकन': 1838, 'आचरतवयन': 1839, 'आम': 1840, 'लघकषठक': 1841, 'नवसपतततम': 1842, 'सचहन': 1843, 'दषटम': 1844, 'मलयङकनरथ': 1845, 'मलयनरपकसय': 1846, 'अगरज': 1847, 'असतय': 1848, 'पपम': 1849, 'वततकश': 1850, 'अरजपतरत': 1851, 'अधकर': 1852, 'नगर': 1853, 'परदरशन': 1854, 'कमत': 1855, 'परदरशय': 1856, 'बहरगमनम': 1857, 'पसतकम': 1858, 'एतसमन': 1859, 'उततमम': 1860, 'अभरनत': 1861, 'उचत': 1862, 'नरणय': 1863, 'असवसथ': 1864, 'इचछ': 1865, 'दशजनन': 1866, 'वकतम': 1867, 'इचछम': 1868, 'चतरष': 1869, 'पञचसय': 1870, 'यजनन': 1871, 'नव': 1872, 'सङखय': 1873, 'समपरपत': 1874, 'वण': 1875, 'सषरवदयम': 1876, 'उतपनन': 1877, 'चय': 1878, 'नरहरत': 1879, 'हमलय': 1880, 'उततरदश': 1881, 'ससद': 1882, 'परतपकषभ': 1883, 'सयमन': 1884, 'जतनदरय': 1885, 'गनध': 1886, 'वकतडनत': 1887, 'तयकतव': 1888, 'नरगत': 1889, 'टपफ़ज': 1890, 'सचतक': 1891, 'उपयतर': 1892, 'जवहरलल': 1893, 'एतवतपरयनत': 1894, 'तसमत': 1895, 'सपषत': 1896, 'चर': 1897, 'अपवदक': 1898, 'घटन': 1899, 'कवचत': 1900, 'अपरपयम': 1901, 'यचत': 1902, 'अनतरवपरवरतक': 1903, 'आननदसय': 1904, 'नवषषटतम': 1905, 'यथ': 1906, 'जलजनत': 1907, 'आरकषण': 1908, 'दरवणसमभषण': 1909, 'छनन': 1910, 'आपत': 1911, 'महदयसय': 1912, 'वशषधकर': 1913, 'वयवहरकशलत': 1914, 'असमकम': 1915, 'करगहत': 1916, 'तरत': 1917, 'कतजञ': 1918, 'अधययन': 1919, 'अनचछ': 1920, 'परदरशत': 1921, 'कतघन': 1922, 'करयसमपनद': 1923, 'अननतरम': 1924, 'अजञत': 1925, 'अकषरण': 1926, 'सनदरण': 1927, 'दरवयघटत': 1928, 'दवपञचशततम': 1929, 'नणक': 1930, 'पञचरपयकणम': 1931, 'पसतकन': 1932, 'भषमधक': 1933, 'कतय': 1934, 'रहसय': 1935, 'सडकदत': 1936, 'खटचरणक': 1937, 'फ़लकत': 1938, 'ववरण': 1939, 'करगहय': 1940, 'नयम': 1941, 'कठर': 1942, 'तथव': 1943, 'नसकगह': 1944, 'मलयकत': 1945, 'शवसनरथ': 1946, 'कठनय': 1947, 'हटलर': 1948, 'नरदय': 1949, 'खदयन': 1950, 'कषलयतव': 1951, 'भकषणयन': 1952, 'वलपन': 1953, 'सङघनन': 1954, 'सवयय': 1955, 'नययय': 1956, 'समधनम': 1957, 'तदननतर': 1958, 'ससकतन': 1959, 'समभषण': 1960, 'सङकच': 1961, 'सनयजत': 1962, 'वध': 1963, 'हमयकत': 1964, 'अस': 1965, 'बभर': 1966, 'अरथ': 1967, 'गमय': 1968, 'पनथ': 1969, 'दरघटनगरसतसय': 1970, 'वहक': 1971, 'परदरत': 1972, 'वयकरण': 1973, 'वरमचहनङकनम': 1974, 'कलमबस': 1975, 'महदयन': 1976, 'अमरकदशसय': 1977, 'अनवषण': 1978, 'यसय': 1979, 'आरमभ': 1980, 'अनतमप': 1981, 'कटह': 1982, 'पकपतरम': 1983, 'अशतवरषयम': 1984, 'सहनसय': 1985, 'कट': 1986, 'मनम': 1987, '३०': 1988, 'इञचपरमणम': 1989, 'समन': 1990, 'रमण': 1991, 'सथननतर': 1992, 'अर': 1993, 'आप': 1994, 'आ': 1995, 'गए': 1996, 'शबदत': 1997, 'वसमयचहन': 1998, 'बपसदश': 1999, 'वरल': 2000, 'कलह': 2001, 'यरय': 2002, 'नरमणम': 2003, 'रसयनकय': 2004, 'परकरयय': 2005, 'अकमपत': 2006, 'सतमभ': 2007, 'दरशनमव': 2008, 'नबनध': 2009, 'सलखत': 2010, 'लखनसमय': 2011, 'वयधनरमलनरथ': 2012, 'अततकत': 2013, 'भषज': 2014, 'पबत': 2015, '1984': 2016, 'वरष': 2017, 'वदशसवय': 2018, 'दयतवत': 2019, 'वमकत': 2020, 'समनतयग': 2021, 'समनतन': 2022, 'कषतरकर': 2023, 'कषकण': 2024, 'कषतरम': 2025, 'आहरनत': 2026, 'गङगतर': 2027, 'लघ': 2028, 'कटर': 2029, 'नरमय': 2030, 'ददत': 2031, 'सध': 2032, 'पररथतवन': 2033, 'पचनकरयय': 2034, 'पचनसय': 2035, 'तनतर': 2036, 'सहययक': 2037, 'पञचवशततम': 2038, 'शरशङकरसय': 2039, 'करयकल': 2040, 'रजकपणत': 2041, 'आनतवन': 2042, 'दशछतर': 2043, 'उपसथत': 2044, 'शसतरकरयय': 2045, 'रगसय': 2046, 'एकतपरण': 2047, 'वकससय': 2048, 'पथ': 2049, 'अगरसर': 2050, 'यनन': 2051, 'आगतवत': 2052, 'तरय': 2053, 'अनतकरमत': 2054, 'शखलय': 2055, 'तदतमयय': 2056, 'नषदध': 2057, 'कशचन': 2058, 'वशष': 2059, 'वजञन': 2060, 'अभयद': 2061, 'शरतव': 2062, 'मरर': 2063, 'आननदत': 2064, 'अनलचरण': 2065, 'परधवसक': 2066, 'बघघमनसय': 2067, 'करमकरत': 2068, 'परयसरत': 2069, 'उततरण': 2070, 'अपरवरकस': 2071, 'समसयस': 2072, 'हसतकषप': 2073, 'धनय': 2074, 'अनरकषत': 2075, 'लखसयततर': 2076, 'परहणपरषय': 2077, 'रणतरयसय': 2078, 'सनकन': 2079, 'उतसहन': 2080, 'परकतकशवलङगम': 2081, 'अपशयचच': 2082, 'अधकरहन': 2083, 'कञचतकलम': 2084, 'थईलणडटरकचनदशष': 2085, 'भरतयदततवन': 2086, 'दयतवम': 2087, 'अवहत': 2088, 'आनत': 2089, 'इतयत': 2090, 'कषणरज': 2091, 'जवकन': 2092, 'अजवकन': 2093, 'वरजनत': 2094, 'सधकर': 2095, 'कथयम': 2096, 'ववरकतव': 2097, 'सचकत': 2098, 'असध': 2099, 'परतयरपणयम': 2100, 'परतयरपयत': 2101, 'परतशरतवन': 2102, 'यजयनस': 2103, 'सजजकतम': 2104, 'वरग': 2105, 'गतमन': 2106, 'करमलरण': 2107, 'प': 2108, 'उदयग': 2109, 'असमञजसयम': 2110, 'उननत': 2111, 'बधकम': 2112, 'अहवन': 2113, 'दरशनय': 2114, 'सथनम': 2115, 'आमलकदन': 2116, 'कषयसय': 2117, 'करकण': 2118, 'वयसन': 2119, 'मतरवत': 2120, 'सहयकन': 2121, 'एतवद': 2122, 'जञतवत': 2123, 'शतय': 2124, 'ववकननद': 2125, 'कमहन': 2126, 'सथलसनयम': 2127, 'उचचपद': 2128, 'करयरत': 2129, 'करतयतव': 2130, 'असदध': 2131, 'परकरणम': 2132, 'दरजनयत': 2133, 'यथसमय': 2134, 'सरवकरयण': 2135, 'आगनतवयम': 2136, 'हतम': 2137, 'वशत': 2138, 'सखयय': 2139, 'सङखयय': 2140, 'लबध': 2141, 'परजञतम': 2142, 'परवमव': 2143, 'छननकरण': 2144, 'मष': 2145, 'तणम': 2146, 'परबनधकन': 2147, 'नषकसत': 2148, 'पतरमख': 2149, 'परकशतम': 2150, 'पललवक': 2151, 'कथन': 2152, 'असततम': 2153, 'दवयशततमत': 2154, 'नरशम': 2155, 'आगनतवय': 2156, 'बडलजतयपश': 2157, 'नशयतवय': 2158, 'जगत': 2159, 'बहव': 2160, 'जल': 2161, 'जनतव': 2162, 'उषटररसभदय': 2163, 'भरसय': 2164, 'शङख': 2165, 'मकतक': 2166, 'समदरयण': 2167, 'वयपर': 2168, 'बभकष': 2169, 'परधनयम': 2170, 'वसर': 2171, 'अपरमतत': 2172, 'परमततम': 2173, 'अभयगहणत': 2174, 'सधत': 2175, 'गण': 2176, 'अनधह': 2177, 'वषहनसरप': 2178, 'परहत': 2179, 'पजसमगरय': 2180, 'सदधत': 2181, 'आयरवदक': 2182, 'पतमह': 2183, 'दरघकल': 2184, 'गरमपरधन': 2185, 'अवशषट': 2186, 'दरघशवसद': 2187, 'उदसत': 2188, 'उपहससपदन': 2189, 'परवततन': 2190, 'परसदध': 2191, 'मलषयम': 2192, 'तवत': 2193, 'असनहशल': 2194, 'एकक': 2195, 'डवहलप': 2196, 'उदघटन': 2197, 'परषतवन': 2198, 'उततरम': 2199, 'एकम': 2200, 'अनतरजलसङकत': 2201, 'नवपरशकषत': 2202, 'खग': 2203, 'भमयम': 2204, 'वकरणन': 2205, 'अननकणन': 2206, 'अवचनवनत': 2207, 'आगतवनत': 2208, 'मषकनमथ': 2209, 'रदध': 2210, 'सवकत': 2211, 'सरवतरककषरकट': 2212, 'सवरतभय': 2213, 'अधयपकभय': 2214, 'वतन': 2215, 'दयत': 2216, 'तणडलकर': 2217, 'करकट': 2218, 'यश': 2219, 'अरजतम': 2220, 'कषमसव': 2221, 'कपलन': 2222, 'धरयनत': 2223, 'मरगत': 2224, 'भरषटअसत': 2225, 'जजञसहन': 2226, 'नतनन': 2227, 'उतसक': 2228, 'बदध': 2229, 'ईशवरसय': 2230, 'सगणन': 2231, 'आकरमक': 2232, 'परजत': 2233, 'गहकरय': 2234, 'ऐचछक': 2235, 'तसम': 2236, 'अयचछत': 2237, 'सञचय': 2238, 'बलतकरण': 2239, 'कठरदणडसय': 2240, 'परसथतवन': 2241, 'नदर': 2242, 'सनकसय': 2243, 'दवनल': 2244, 'लहसष': 2245, 'सदचरण': 2246, 'परचनकल': 2247, 'दरगम': 2248, 'नरमनत': 2249, 'मखय': 2250, 'जलकसय': 2251, 'लमब': 2252, 'पलणड': 2253, 'करतनन': 2254, 'नतरय': 2255, 'अशरण': 2256, 'पतनत': 2257, 'सवधनतय': 2258, 'समपक': 2259, 'दशयमन': 2260, 'शकय': 2261, 'जलपलवत': 2262, 'तटवसन': 2263, 'गहहन': 2264, 'अभवन': 2265, 'तरशत': 2266, 'पञचदश': 2267, 'चरच': 2268, 'परधयपकन': 2269, 'दतत': 2270, 'करयलयत': 2271, 'सपरधय': 2272, 'समतसक': 2273, 'उलक': 2274, 'नशचरवहङग': 2275, 'परशस': 2276, 'अयथरथ': 2277, 'गरमजन': 2278, 'उत': 2279, 'नत': 2280, 'परकषणय': 2281, 'अगचछन': 2282, 'उपदषट': 2283, 'परयग': 2284, 'महभरत': 2285, 'यनरढ': 2286, 'यदधर': 2287, 'वरगत': 2288, 'परपतवनत': 2289, 'हलनत': 2290, 'लखनत': 2291, 'मघलनम': 2292, 'आकरमणन': 2293, 'भरतय': 2294, 'पबम': 2295, 'मदश': 2296, 'सतसवयवर': 2297, 'भङगय': 2298, 'धनषय': 2299, 'दवधकत': 2300, 'अपर': 2301, 'अहसर': 2302, 'ए': 2303, 'ऐ': 2304, 'उपयकतचहनम': 2305, 'सपषटकतम': 2306, 'सवककष': 2307, 'नशचनततय': 2308, 'असवपत': 2309, 'तरकगमय': 2310, 'चरय': 2311, 'धरतत': 2312, 'आदन': 2313, 'तयजयन': 2314, 'गरकभषय': 2315, 'Oikos': 2316, 'logos': 2317, 'शबयभय': 2318, 'नषपनन': 2319, 'यसयरथ': 2320, 'आवसयमधययनम': 2321, 'EcologyStudy': 2322, 'of': 2323, 'Home': 2324, 'or': 2325, 'Habitat': 2326, 'सनदरभऽसमन': 2327, 'परभषतरयमपसथपत': 2328, 'तवन': 2329, 'हमखणड': 2330, 'शशवसय': 2331, 'समतय': 2332, 'परसदत': 2333, 'तजकसतनय': 2334, 'जवनशल': 2335, 'गरमण': 2336, 'रजजव': 2337, 'बधननत': 2338, 'असमरथयत': 2339, 'अफल': 2340, 'सशभनय': 2341, 'धवन': 2342, 'अमरतवसत': 2343, 'पतय': 2344, 'मतयवरत': 2345, 'वललप': 2346, 'आयवययसय': 2347, 'करतल': 2348, 'वयवहरचतर': 2349, 'परसदय': 2350, 'सवकरयभग': 2351, 'सधयनत': 2352, 'अधयपन': 2353, 'करडपतर': 2354, 'परतयकवरणसय': 2355, 'अरचक': 2356, 'महय': 2357, 'सरवस': 2358, 'समसयन': 2359, 'अङक': 2360, 'खलत': 2361, 'नरपदम': 2362, 'कमलङग': 2363, 'फलक': 2364, 'सगचछत': 2365, 'ललतकलय': 2366, 'नपणय': 2367, 'अभमतम': 2368, 'परकषरमभ': 2369, 'जञत': 2370, 'वनतक': 2371, 'पचत': 2372, 'पडनम': 2373, 'नकषटतम': 2374, 'पचछत': 2375, 'अजतशतर': 2376, 'पठनरथम': 2377, 'गमषयम': 2378, 'परपरशव': 2379, 'जञसयम': 2380, 'परतवरष': 2381, 'कटश': 2382, 'अमरदवसय': 2383, 'गचछनत': 2384, 'आचरय': 2385, 'वबक': 2386, 'सचनय': 2387, 'सलभन': 2388, 'पततवन': 2389, 'अभयगत': 2390, 'कलस': 2391, 'अतथपरकषठ': 2392, 'वरतलप': 2393, 'चतषपञचशततम': 2394, 'बजम': 2395, 'अङकरतम': 2396, 'और': 2397, 'शबदसय': 2398, 'अलपवरम': 2399, 'सरपदय': 2400, 'उरग': 2401, 'वशवसय': 2402, 'सरवचच': 2403, 'परवतशखर': 2404, 'तजमहलयसय': 2405, 'अनतसथय': 2406, 'भततकय': 2407, 'मजकरचन': 2408, 'अनधकर': 2409, 'करदप': 2410, 'गहतव': 2411, 'सवरण': 2412, 'रजतम': 2413, 'अयसम': 2414, 'आद': 2415, 'परतयसथ': 2416, 'धतव': 2417, 'सरवकर': 2418, 'भमहनभय': 2419, 'अपरतदय': 2420, 'भमखणड': 2421, 'दशत': 2422, 'यतरयम': 2423, 'आगतन': 2424, 'शवदरशनसय': 2425, 'ईपस': 2426, 'सवचछय': 2427, 'अपरकतसय': 2428, 'सनदरयसय': 2429, 'परणम': 2430, 'कषणभङगरम': 2431, 'परकत': 2432, 'उषणतय': 2433, 'शततय': 2434, 'तरणरथ': 2435, 'वतनकलकसय': 2436, 'एवमप': 2437, 'शतरमरग': 2438, 'सथलवहङग': 2439, 'ढकक': 2440, 'आनदधवदयम': 2441, 'शकषक': 2442, 'नतमसतक': 2443, 'वशङगटनमहनगर': 2444, 'भरतयदतवस': 2445, 'अभतपत': 2446, 'यचछत': 2447, 'शदधसय': 2448, 'सवरणसय': 2449, 'आभषणम': 2450, 'शकषणकयगयतय': 2451, 'परमणपतर': 2452, 'दरशयत': 2453, 'परचन': 2454, 'यनहन': 2455, 'चलतव': 2456, 'अनयतसथन': 2457, 'बलसख': 2458, 'इनदरयतत': 2459, 'वहत': 2460, 'दशयवषकर': 2461, 'परतयजय': 2462, 'दशय': 2463, 'मनदर': 2464, 'आयजत': 2465, 'रमयणसय': 2466, 'सरवषम': 2467, 'पररथनय': 2468, 'मदयकत': 2469, 'सनतषटसय': 2470, 'जवनम': 2471, 'आननद': 2472, 'अकल': 2473, 'हनकरकम': 2474, 'सनधव': 2475, 'भरतपकसतनय': 2476, 'वभजन': 2477, 'भरतम': 2478, 'करडदक': 2479, 'वषयक': 2480, 'मथयवद': 2481, 'वदधन': 2482, 'शलक': 2483, 'उपलबध': 2484, 'वनकरतन': 2485, 'महयम': 2486, 'अनतरदशय': 2487, 'यचछ': 2488, 'सषन': 2489, 'मनजर': 2490, 'बनद': 2491, 'परवरतनरहत': 2492, 'अटतव': 2493, 'आगचछम': 2494, 'शषकरगसय': 2495, 'उपचररथ': 2496, 'सवकटमब': 2497, 'उपचर': 2498, 'यनकन': 2499, 'परयवरणपरदषणन': 2500, 'अपरयभष': 2501, 'ननदरह': 2502, 'उपसभपत': 2503, 'पणडत': 2504, 'रमशङकर': 2505, 'मनवचलत': 2506, 'वहनम': 2507, 'कलश': 2508, 'चतवरशत': 2509, 'वहतसय': 2510, 'आचरणन': 2511, 'सनष': 2512, 'इचछनत': 2513, 'रमसय': 2514, 'कषट': 2515, 'वणजयम': 2516, 'अहरतर': 2517, 'वरधततरम': 2518, 'अनतसथ': 2519, 'रषटरक': 2520, 'वणक': 2521, 'पथक': 2522, 'हलकतसव': 2523, 'एतवन': 2524, 'सववचरन': 2525, 'अभवयनकत': 2526, 'बहतम': 2527, 'लखनय': 2528, 'लपय': 2529, 'भरतर': 2530, 'नरदयतय': 2531, 'तडयत': 2532, 'अशकतवन': 2533, 'रचकर': 2534, 'वशवसम': 2535, 'लङकय': 2536, 'वनरसनय': 2537, 'अदमय': 2538, 'परकरम': 2539, 'सववलमबन': 2540, 'सतर': 2541, 'सरस': 2542, 'दतवय': 2543, 'अषटसपतततम': 2544, 'वरतक': 2545, 'नरमत': 2546, 'लकमनस': 2547, 'तलसवरचतसय': 2548, 'रमचरतमनससय': 2549, 'वयपक': 2550, 'मदरसत': 2551, 'रङगनमहनगर': 2552, 'YWCA': 2553, 'करयकरत': 2554, 'नषपरयजन': 2555, 'कठन': 2556, 'जनसखयवधदय': 2557, 'असमकमवशयकत': 2558, 'एकसमत': 2559, 'वकरत': 2560, 'समसथलम': 2561, 'महशसय': 2562, 'वनद': 2563, 'सवभव': 2564, 'भवतय': 2565, 'सनदरत': 2566, 'अतलनय': 2567, 'दशयचतर': 2568, 'चयनय': 2569, 'अधर': 2570, 'खडकन': 2571, 'पतररतनसय': 2572, 'सवपतरसय': 2573, 'करयरपष': 2574, 'अवधन': 2575, 'दयम': 2576, 'षट': 2577, 'वतयनन': 2578, 'दनश': 2579, 'अपवयय': 2580, 'ववद': 2581, 'परभवन': 2582, 'अगरमपटष': 2583, 'सरवयकरमसय': 2584, 'नरदश': 2585, 'सरयसतमनननतरम': 2586, 'दधयननसय': 2587, 'ततपरव': 2588, 'हसतक': 2589, 'अङकशण': 2590, 'नकवर': 2591, 'गजम': 2592, 'आहनयत': 2593, 'धयनम': 2594, 'अनभवसदधम': 2595, 'पतरलय': 2596, 'सङघ': 2597, 'परतयगतय': 2598, 'परबल': 2599, 'आकरनत': 2600, 'वदरहम': 2601, 'आरभनत': 2602, 'समवसतरण': 2603, 'गरलड': 2604, 'लसक': 2605, 'शरनरयणत': 2606, 'परभवत': 2607, 'कषक': 2608, 'कठ': 2609, 'वकषसय': 2610, 'दणडम': 2611, 'अभयलखत': 2612, 'गणवयकत': 2613, 'अपहतन': 2614, 'धनन': 2615, 'सक': 2616, 'अपगत': 2617, 'आगमनम': 2618, 'अवधरण': 2619, 'अपल': 2620, 'करयलय': 2621, 'घटतम': 2622, 'मनजसय': 2623, 'अपरगध': 2624, 'हन': 2625, 'शररकदरव': 2626, 'मतवयय': 2627, 'अरथवषयणय': 2628, 'वपद': 2629, 'तरयत': 2630, 'जमस': 2631, 'वट': 2632, 'बषपसय': 2633, 'जञतव': 2634, 'बषपयनतर': 2635, 'सशधतम': 2636, 'परकरमत': 2637, 'आश': 2638, 'शख': 2639, 'वकष': 2640, 'परबनध': 2641, 'उपनयक': 2642, 'नयकय': 2643, 'सरवसवम': 2644, 'अरपयत': 2645, 'यकतजञ': 2646, 'रमश': 2647, 'आरकषक': 2648, 'गदधरण': 2649, 'अयधयत': 2650, 'वस': 2651, 'बदधमत': 2652, 'हमपत': 2653, 'दरदरशन': 2654, 'तसमतव': 2655, 'शगर': 2656, 'सवजनसय': 2657, 'कलयणसय': 2658, 'इचछय': 2659, 'समजहतय': 2660, 'गणतशरवणमतरण': 2661, 'शरवदन': 2662, 'वरणसयम': 2663, 'दशमयमन': 2664, 'वभगम': 2665, 'आपणकम': 2666, 'शरररथ': 2667, 'परसथतन': 2668, 'झश': 2669, 'लहमरगसयग': 2670, 'नरकतसय': 2671, 'रकतसय': 2672, 'अवशयकत': 2673, 'अनतमदनङक': 2674, 'अङकत': 2675, 'ससकतगरनथ': 2676, 'हयसतन': 2677, 'लवण': 2678, 'अपरदयगकय': 2679, 'शकषय': 2680, 'परबलयम': 2681, 'सरववयप': 2682, 'शनक': 2683, 'कमरथम': 2684, 'इतथ': 2685, 'भजनत': 2686, 'असथहन': 2687, 'सनधयसनदर': 2688, 'अवतरत': 2689, 'सनधयय': 2690, 'चतनधरमरपणम': 2691, 'गणतनतरदन': 2692, 'परतसवतसर': 2693, 'सतसहन': 2694, 'शसयनत': 2695, 'सवकरय': 2696, 'चरचय': 2697, 'परजय': 2698, 'हदय': 2699, 'आवशपरणम': 2700, 'अनक': 2701, 'भषयनत': 2702, 'दशपस': 2703, 'नयन': 2704, 'समवसर': 2705, 'वल': 2706, 'ओह': 2707, 'अपकषय': 2708, 'कनषठ': 2709, 'नपतसय': 2710, 'आपणक': 2711, 'कशसमह': 2712, 'पलनपषण': 2713, 'वयगर': 2714, 'मनदश': 2715, 'समरत': 2716, 'दलतवरगसय': 2717, 'उपकष': 2718, 'पटलय': 2719, 'शटकय': 2720, 'नशचल': 2721, 'सवधयय': 2722, 'समध': 2723, 'अचल': 2724, 'अपहत': 2725, 'गरत': 2726, 'गपतम': 2727, 'कषमशल': 2728, 'ईशवरसदश': 2729, 'ववहसय': 2730, 'सनधन': 2731, 'इतयदन': 2732, 'दवन': 2733, 'महतवम': 2734, 'सभसदन': 2735, 'वमतयत': 2736, 'अपरणम': 2737, 'अवतषठत': 2738, 'आतम': 2739, 'अदहय': 2740, 'नरतसक': 2741, 'सहसक': 2742, 'जलकशरषक': 2743, 'सथपन': 2744, 'सगठक': 2745, 'पवततय': 2746, 'धरयहनसय': 2747, 'ससहययन': 2748, 'सहयत': 2749, 'वदगधय': 2750, 'परशधनय': 2751, 'परथमक': 2752, 'सजजकरणम': 2753, 'गहय': 2754, 'सथतसय': 2755, 'परवतसय': 2756, 'नगपरवत': 2757, 'शरमत': 2758, 'शरम': 2759, 'परधनचरय': 2760, 'लबधदसय': 2761, 'कडइ': 2762, 'परसतवन': 2763, 'शतयत': 2764, 'सवसरकषणरथ': 2765, 'पकषमल': 2766, 'परधरयत': 2767, 'हसतत': 2768, 'चरण': 2769, 'शकनम': 2770, 'चवनयसय': 2771, 'इनटल': 2772, 'कतसय': 2773, 'परभवसय': 2774, 'परवशय': 2775, 'जञनमभवत': 2776, 'असनदगध': 2777, 'आशवसत': 2778, 'अपरमणत': 2779, 'सयजतम': 2780, 'भवतम': 2781, 'वचरधनम': 2782, 'वनयवरह': 2783, 'पथकचर': 2784, 'पश': 2785, 'मशरतय': 2786, 'सतयसय': 2787, 'मखम': 2788, 'मञच': 2789, 'नतयत': 2790, 'करचछद': 2791, 'हसतपरधनम': 2792, 'अपरचतसय': 2793, 'भग': 2794, 'पचछम': 2795, 'कपयत': 2796, 'सहन': 2797, 'वशवसघत': 2798, 'शरकर': 2799, 'डवस': 2800, 'सटड': 2801, 'सचक': 2802, 'यचनपतर': 2803, 'नययलयन': 2804, 'सवकतम': 2805, 'अनजम': 2806, 'औपशलघत': 2807, 'जनननदरयसय': 2808, 'शतरण': 2809, 'गपतदवर': 2810, 'तनव': 2811, 'परवषट': 2812, 'उततरभग': 2813, 'करनतमणडलकत': 2814, 'परदशत': 2815, 'अनकत': 2816, 'दरव': 2817, 'दवर': 2818, 'चतरत': 2819, 'पट': 2820, 'कबर': 2821, 'अमरतसय': 2822, 'पजक': 2823, 'अशक': 2824, 'सवनमखयत': 2825, 'धरषण': 2826, 'दगधम': 2827, 'अमततलयम': 2828, 'धनरमशरषठ': 2829, 'कपण': 2830, 'एकप': 2831, 'मदर': 2832, 'वययतम': 2833, 'अनयगधनत': 2834, 'कसय': 2835, 'वयघरसय': 2836, 'असमङकतम': 2837, 'शवलङगमव': 2838, 'परवर': 2839, 'शण': 2840, 'इतऽप': 2841, 'करतवयन': 2842, 'आसन': 2843, 'गतकल': 2844, 'पनरगचछत': 2845, 'वरतमनसय': 2846, 'कलसय': 2847, 'दश': 2848, 'वभगकतय': 2849, 'सपल': 2850, 'परशधन': 2851, 'नययधशन': 2852, 'सशरमसय': 2853, 'करवससय': 2854, 'दणड': 2855, 'महवदयलयत': 2856, 'बएसस': 2857, 'ऑनरसरजनतवजञनइतयनय': 2858, 'नपणयम': 2859, 'आरजयत': 2860, 'सवधकय': 2861, 'पञजयजनय': 2862, 'वयजतवन': 2863, 'कमलदय': 2864, 'जलजव': 2865, 'ससथ': 2866, 'सरवकरसय': 2867, 'सहययन': 2868, 'उपकत': 2869, 'सकषप': 2870, 'टपपण': 2871, 'अहसम': 2872, 'ऋणमकतन': 2873, 'ऋणमकतयरथ': 2874, 'परतपदय': 2875, 'बदधमततय': 2876, 'बलनव': 2877, 'सफलत': 2878, 'परपतवन': 2879, 'समजक': 2880, 'वयकतकञचधययन': 2881, 'सञचलन': 2882, 'करणद': 2883, 'दणडपरहरन': 2884, 'कथययम': 2885, 'कलपकसय': 2886, 'कलपनकन': 2887, 'भवनम': 2888, 'अभवयकत': 2889, 'रचनस': 2890, 'नयमसय': 2891, 'अपवद': 2892, 'आनतरक': 2893, 'कषतरफल': 2894, 'मगलकल': 2895, 'रजतमदर': 2896, 'अङगद': 2897, 'भतव': 2898, 'रवणसय': 2899, 'रजनत': 2900, 'आधपतयवषय': 2901, 'महरह': 2902, 'कहनररतनम': 2903, 'कषयनम': 2904, 'ममबयत': 2905, 'परवतय': 2906, 'खयत': 2907, 'नरधनय': 2908, 'सजजकरण': 2909, 'वरतसय': 2910, 'फलयकतम': 2911, 'आरयजतय': 2912, 'सभयत': 2913, 'मनयत': 2914, 'आयतकय': 2915, 'धनरमय': 2916, 'अगहणन': 2917, 'अपरयजक': 2918, 'अककनट': 2919, 'यजन': 2920, 'वकयन': 2921, 'नमरय': 2922, 'इकष': 2923, 'दववरषक': 2924, 'उष': 2925, 'नरयणन': 2926, 'महलकलयणसय': 2927, 'सललगन': 2928, 'उपवशत': 2929, 'समञजन': 2930, 'वशरनत': 2931, 'अनभवत': 2932, 'नषकसतम': 2933, 'शघरवशवसन': 2934, 'वञचन': 2935, 'सलभ': 2936, 'दषटयकतसय': 2937, 'मरगदरशनन': 2938, 'मसतक': 2939, 'कषत': 2940, 'वसमतय': 2941, 'गरसत': 2942, 'उततरय': 2943, 'छदरबनध': 2944, 'चतनजगत': 2945, 'नवसन': 2946, 'वदक': 2947, 'सदश': 2948, 'अनय': 2949, 'अरधनमलतन': 2950, 'नतरण': 2951, 'नरवचनसय': 2952, 'अदययवत': 2953, 'अघषत': 2954, 'वयसय': 2955, 'वपलतभषण': 2956, 'बलकसय': 2957, 'भषम': 2958, 'उपयकतसय': 2959, 'अडयसय': 2960, 'परमय': 2961, 'समबदध': 2962, 'जञनम': 2963, 'अरजयत': 2964, 'जनशरत': 2965, 'हस': 2966, 'जलपकष': 2967, 'तडग': 2968, 'कमलन': 2969, 'गणवततहन': 2970, 'नशचयन': 2971, 'अनमक': 2972, 'अपचछत': 2973, '2005': 2974, 'नवमबरमससय': 2975, 'नवम': 2976, 'दशमरषटरपत': 2977, 'दहवसनम': 2978, 'दवषषटतम': 2979, 'सकषतकर': 2980, 'ईशवरकपय': 2981, 'मकऽप': 2982, 'वचल': 2983, 'एमपत': 2984, 'परथमएव': 2985, 'कणकट': 2986, 'मलय': 2987, 'शसन': 2988, 'आपलवगरसतन': 2989, 'अभजञत': 2990, 'शकतवन': 2991, 'सरवकत': 2992, 'सवनयसय': 2993, 'पदरथसय': 2994, 'उपभगनप': 2995, 'वयधय': 2996, 'उतपदयनत': 2997, 'फलदयन': 2998, 'आतमनरकषक': 2999, 'आतमनरकषणन': 3000, 'दषन': 3001, 'अपकरत': 3002, 'रसतमक': 3003, 'चलचचतरष': 3004, 'परमपरदरशन': 3005, 'सवभवकम': 3006, 'आस': 3007, 'कवय': 3008, 'परतयदशम': 3009, 'पसतकसय': 3010, 'लखक': 3011, 'परतशत': 3012, 'अनपतन': 3013, 'कयसथवतन': 3014, 'बनधव': 3015, 'सजतय': 3016, 'अमरकभरतय': 3017, 'मदरवनमय': 3018, 'भजनसमय': 3019, 'आहवयम': 3020, 'अतयनत': 3021, 'परतपतरम': 3022, 'परकतकवसतन': 3023, 'दरपयग': 3024, 'उदयगन': 3025, 'असमभव': 3026, 'पठयभग': 3027, 'शलय': 3028, 'दरकषयत': 3029, 'वशतयधक': 3030, 'पञचवशत': 3031, 'पञचचतवरशत': 3032, 'सथनसय': 3033, 'कतयत': 3034, 'नयनकरणय': 3035, 'अवलकतन': 3036, 'पयत': 3037, 'समरजनय': 3038, 'बहत': 3039, 'परकषट': 3040, 'वदधमन': 3041, 'कषणन': 3042, 'परतयजत': 3043, 'भरतवकससय': 3044, 'मखयधरयम': 3045, 'दशसय': 3046, 'वकस': 3047, 'महतवपरण': 3048, 'यगदन': 3049, 'करवन': 3050, 'रजञ': 3051, 'दशरथसय': 3052, 'शबदवधन': 3053, 'बणन': 3054, 'शरवण': 3055, 'परतधवन': 3056, 'नवरणय': 3057, 'सचकम': 3058, 'सलललर': 3059, 'तदतमययशकयत': 3060, 'घणजरजरण': 3061, 'अवकरकणडल': 3062, 'वरणन': 3063, 'सकषपतर': 3064, 'तरसकतम': 3065, 'पकत': 3066, 'यष': 3067, 'ततवनमभवन': 3068, 'असतलत': 3069, 'परयवरणपरदषण': 3070, 'गहपठ': 3071, 'तततवसकषतकर': 3072, 'बहयसथतवषय': 3073, 'आसथरहत': 3074, 'हरशचनदर': 3075, 'अङगलसङकतन': 3076, 'आङगलशसनसय': 3077, 'अतयचरण': 3078, 'परज': 3079, 'अधययनशल': 3080, 'अगरसथन': 3081, 'सधन': 3082, 'ललट': 3083, 'तजमणडत': 3084, 'परणन': 3085, 'परङगण': 3086, 'अशवदवयम': 3087, 'हरतवनत': 3088, 'गचछम': 3089, 'सतवर': 3090, 'अदणडत': 3091, 'अदधशयमन': 3092, 'जबर': 3093, 'अलपशवकरत': 3094, 'करमश': 3095, 'मलनन': 3096, 'परमपशन': 3097, 'अभवतम': 3098, 'परकषण': 3099, 'शखदणडदय': 3100, 'वनसपतभग': 3101, 'सतनपयजनत': 3102, 'सत': 3103, 'सरववदतसय': 3104, 'सङगतकरसय': 3105, 'आगचछ': 3106, 'चकतसलय': 3107, 'रकतदन': 3108, 'सरवचचनययलयसय': 3109, 'मखयनययधश': 3110, 'शर': 3111, 'ज': 3112, 'शरनरयणन': 3113, 'रषटरपतपदगरवरकषणसय': 3114, 'शपथम': 3115, 'अकरयत': 3116, 'लबधद': 3117, 'अनयनय': 3118, 'अनयसय': 3119, 'बनधनम': 3120, 'सवद': 3121, 'जयषठन': 3122, 'शरवणय': 3123, 'वचरणयम': 3124, 'परमणपरषण': 3125, 'मरलय': 3126, 'कनदक': 3127, 'शनयकनद': 3128, 'ससकतभषय': 3129, 'अततयततम': 3130, 'सदरत': 3131, 'बलवततर': 3132, 'इषटकवलकदन': 3133, 'समगर': 3134, 'गहनरमण': 3135, '२३४': 3136, 'कषठक': 3137, 'बहतकषठकम': 3138, 'एतसय': 3139, 'परसकरसय': 3140, 'भगयवन': 3141, 'करमकरणय': 3142, 'यगफल': 3143, 'अयम': 3144, 'अनपकषत': 3145, 'पनरकषणसय': 3146, 'तयजत': 3147, 'परणय': 3148, 'पञचतवम': 3149, 'अगचछत': 3150, 'सवनगर': 3151, 'लकयन': 3152, 'करयरथ': 3153, 'सतनप': 3154, 'दर': 3155, 'ऋषपतर': 3156, 'वरपकषम': 3157, 'असर': 3158, 'दरषटव': 3159, 'भयभत': 3160, 'आतमकथतमक': 3161, 'बहयनदरयम': 3162, 'वदशय': 3163, 'परयटक': 3164, 'अशनत': 3165, 'परयतन': 3166, 'दवरघणट': 3167, 'कणठ': 3168, 'शभर': 3169, 'मकतकमल': 3170, 'रजत': 3171, 'उततरपरदश': 3172, 'आगरयम': 3173, 'लपकसय': 3174, 'मदरङकत': 3175, 'करगज': 3176, 'हसतकषर': 3177, 'नयनत': 3178, 'चनतय': 3179, 'नसतज': 3180, 'पणडकय': 3181, 'पड': 3182, 'मरगसय': 3183, 'अभयपगम': 3184, 'तरवरणयधवज': 3185, 'रषटरधवज': 3186, 'असधभ': 3187, 'शशभ': 3188, 'वदशक': 3189, 'मधर': 3190, 'समत': 3191, 'अलपभष': 3192, 'अमरनथसय': 3193, 'षषठ': 3194, 'लमबमन': 3195, 'लकषमणपर': 3196, 'शतम': 3197, 'कदलफलसय': 3198, 'तवचम': 3199, 'सङगषठय': 3200, 'तलसदससय': 3201, 'रचनन': 3202, 'ववचन': 3203, 'अपकर': 3204, 'नदरसख': 3205, 'अपरतकरय': 3206, 'समधनसय': 3207, 'वयरथ': 3208, 'बहततमच': 3209, 'वचकय': 3210, 'अकषरसजचय': 3211, 'खडगसय': 3212, 'परहरण': 3213, 'मरध': 3214, 'अपमरधशररम': 3215, 'वलगनम': 3216, 'यथषट': 3217, 'धनदयन': 3218, 'सतरणन': 3219, 'सवपतनय': 3220, 'आङगकतवन': 3221, 'नरवदय': 3222, 'सहतयम': 3223, 'सचरण': 3224, 'जठरगनन': 3225, 'सवसथयम': 3226, 'दशटनकर': 3227, 'षटपञचशततम': 3228, 'वशकठन': 3229, 'अवरधपरणम': 3230, 'सवबदधबलन': 3231, 'परसथतक': 3232, 'वनसपत': 3233, 'तषपरयवरणन': 3234, 'समबनधसयनतम': 3235, 'नदय': 3236, 'आशचरयसय': 3237, 'वषयऽसत': 3238, 'समनयत': 3239, 'हमसथलष': 3240, 'दरवतजलन': 3241, 'भरयय': 3242, 'पर': 3243, 'पणद': 3244, 'वकल': 3245, 'सथतव': 3246, 'भकष': 3247, 'कशर': 3248, 'कनदजवनसपत': 3249, 'परशमक': 3250, 'अगन': 3251, 'अननसय': 3252, 'बहदकर': 3253, 'आसद': 3254, 'फ़लष': 3255, 'हमलयसय': 3256, 'उननततम': 3257, 'हमचछदतम': 3258, 'भतपरव': 3259, 'शवजमहरज': 3260, 'परचछननयदधम': 3261, 'जनमदन': 3262, 'पप': 3263, 'खणडयत': 3264, 'पलनय': 3265, 'ववहदष': 3266, 'अवसरष': 3267, 'सवन': 3268, 'सभगन': 3269, 'शयनद': 3270, 'उतथतम': 3271, 'असमरथ': 3272, 'शयययम': 3273, 'अभयशवसत': 3274, 'अषट': 3275, 'तजमहलय': 3276, 'मगलकलनसय': 3277, 'सथपतयसय': 3278, 'कलशल': 3279, 'उतकषटम': 3280, 'उदहरणम': 3281, 'फणफनसय': 3282, 'सवनन': 3283, 'सवपत': 3284, 'एकव': 3285, 'ततपयघक': 3286, 'जसटरमर': 3287, 'मलकन': 3288, 'दरशयनत': 3289, 'अपनसय': 3290, 'शदध': 3291, 'नकभय': 3292, 'रगभय': 3293, 'अपनवय': 3294, 'अपन': 3295, 'मलरय': 3296, 'वषणजवयध': 3297, 'सरङग': 3298, 'तनतवदयम': 3299, 'जवतसशय': 3300, 'आमरसय': 3301, 'परणनष': 3302, 'शखस': 3303, 'लगनन': 3304, 'कव': 3305, 'कलपतसथन': 3306, 'पदव': 3307, 'अशततम': 3308, 'नर': 3309, 'इतयदय': 3310, 'ईकरनत': 3311, 'अजञ': 3312, 'मषगजदय': 3313, 'तणजवन': 3314, 'अशवरह': 3315, 'दल': 3316, 'मनदम': 3317, 'मधयकल': 3318, 'कषयपनरथम': 3319, 'अगचछम': 3320, 'कलय': 3321, 'गरमसय': 3322, 'समनत': 3323, 'परसमनदर': 3324, 'गणशशङकरहनमनदय': 3325, 'पजत': 3326, 'दवत': 3327, 'आवरण': 3328, 'परयवरणमत': 3329, 'परगतशल': 3330, 'परशनपतरकय': 3331, 'अनवरय': 3332, 'वकलपक': 3333, 'तस': 3334, 'दरणष': 3335, 'भरतन': 3336, 'रषयदशत': 3337, 'यधन': 3338, 'वमनन': 3339, 'करतन': 3340, 'सनय': 3341, 'गजसन': 3342, 'कनदरययजनमनतर': 3343, 'वदशमनतर': 3344, 'वजञपनपरदयगकमनतर': 3345, 'अनतरकषसमदरअणशकतवकसमनतर': 3346, 'दशसवम': 3347, 'कतरचत': 3348, 'समगरयय': 3349, 'चचन': 3350, 'यजञसथल': 3351, 'कसरवरण': 3352, 'पतक': 3353, 'आहवनय': 3354, 'अनवषक': 3355, 'एच': 3356, 'ड': 3357, 'उपध': 3358, 'रषटरपतभवनम': 3359, 'मतसयकनय': 3360, 'कलपतजव': 3361, 'कथस': 3362, 'पशचवरतन': 3363, 'तरवरणधवज': 3364, 'वरजत': 3365, 'वभगकष': 3366, 'करयष': 3367, 'तदव': 3368, 'वरतर': 3369, 'यदयप': 3370, 'परभषणमलचनन': 3371, 'इदमव': 3372, 'तथय': 3373, 'यजजवधरण': 3374, 'समबनधसयधययन': 3375, 'परसथतकत': 3376, 'खट': 3377, 'परसतर': 3378, 'अघरसग': 3379, 'चतसपतततमम': 3380, 'अपप': 3381, 'भकतव': 3382, 'शकगसममलनत': 3383, 'पशचत': 3384, 'सवमववकननद': 3385, 'चतरदगनतष': 3386, 'वखयत': 3387, 'भतर': 3388, 'शवसय': 3389, 'हमलङगसय': 3390, 'परकतकरचन': 3391, 'गहयम': 3392, 'दवपरयग': 3393, 'कनदवसनम': 3394, 'ऋकषजमवनत': 3395, 'शरकषण': 3396, 'जमवनत': 3397, 'परणतवन': 3398, 'मरतवसतन': 3399, 'उपभञजम': 3400, 'ललबहदरशसतरमहदय': 3401, 'गनधवद': 3402, 'डणडमयत': 3403, 'कथनयम': 3404, 'थमस': 3405, 'एडसन': 3406, 'वदयतदपसय': 3407, 'आवषकरत': 3408, 'वथ': 3409, 'वयय': 3410, 'आयजनयसय': 3411, 'पटटककरणम': 3412, 'सरवचचपरभतव': 3413, 'नययधशसय': 3414, 'अभमखम': 3415, 'परसधद': 3416, 'मधयहन': 3417, 'रपक': 3418, 'शकनतकम': 3419, 'परजन': 3420, 'समदरतवय': 3421, 'छतरपत': 3422, 'शवरय': 3423, 'रजनतजञ': 3424, 'अगरगम': 3425, 'दरकषयम': 3426, 'भकमप': 3427, 'परकतक': 3428, 'परयतनन': 3429, 'आरयन': 3430, 'पजयत': 3431, 'परकतकरतय': 3432, 'परवतगणशपरतमयरप': 3433, 'हमन': 3434, 'अणडगरनथ': 3435, 'ख': 3436, 'जहवमलय': 3437, 'सवस': 3438, 'नमनतरतन': 3439, 'सहकरण': 3440, 'अभवदनम': 3441, 'कनयकमरनगर': 3442, 'आतमचनतनमगनन': 3443, 'ववकननदन': 3444, 'सवमन': 3445, 'जञन': 3446, 'परपतम': 3447, 'रकषणय': 3448, 'अरपत': 3449, 'आहवन': 3450, 'शरतम': 3451, 'नवससय': 3452, 'समचत': 3453, 'वयवसथ': 3454, 'अनचछय': 3455, 'एककन': 3456, 'अनसतय': 3457, 'नचछत': 3458, 'धरमकरमण': 3459, 'हसय': 3460, 'कटलम': 3461, 'करडरथ': 3462, 'करतवन': 3463, 'मनभवसय': 3464, 'नयनतरण': 3465, 'अनतर': 3466, 'परमयम': 3467, 'समपतपरयम': 3468, 'नरगचछत': 3469, 'अनपसथत': 3470, 'उपरषटरपत': 3471, 'परवलमबन': 3472, 'अनयसमन': 3473, 'आशरत': 3474, 'मङगल': 3475, 'भयत': 3476, 'कदलफलन': 3477, 'सङगतवदयलय': 3478, 'ननपरकरकन': 3479, 'वदयन': 3480, 'यनतरमनव': 3481, 'वजञनकसय': 3482, 'अनसनधनसय': 3483, 'तरदन': 3484, 'शरदय': 3485, 'कङगर': 3486, 'दरघ': 3487, 'पलवन': 3488, 'चतरशततम': 3489, 'वगल': 3490, 'परपरथत': 3491, 'पञचतव': 3492, 'परतयकसमन': 3493, 'रसयनकतततव': 3494, 'नयटरनदक': 3495, 'धरवतर': 3496, 'उततरसय': 3497, 'अपमनयत': 3498, 'दवदतत': 3499, 'उदयमत': 3500, 'वञछतम': 3501, 'परकरक': 3502, 'जनतऊतक': 3503, 'अकषर': 3504, 'पठनम': 3505, 'आरभयत': 3506, 'मरणसनन': 3507, 'सवत': 3508, 'इदनम': 3509, 'शवलङग': 3510, 'मरकट': 3511, 'अनकरण': 3512, 'जनहतषण': 3513, 'अङगकरवत': 3514, 'कलखतसय': 3515, 'नयनन': 3516, 'गणन': 3517, 'रषटरदरह': 3518, 'टसटटयबबलकसय': 3519, 'अपरकतकपरकरय': 3520, 'भकषकन': 3521, 'अखणडत': 3522, 'अङगलय': 3523, 'आचछदत': 3524, 'अनवलकतन': 3525, 'कशचद': 3526, 'मलयमपन': 3527, 'पतरय': 3528, 'दनकनव': 3529, 'इषटवतय': 3530, 'चनतनयसय': 3531, 'भषय': 3532, 'पदन': 3533, 'परशधनयम': 3534, 'शखपनथ': 3535, 'गरदवर': 3536, 'पजद': 3537, 'सरवतरकवभवसङकत': 3538, 'रवण': 3539, 'तपस': 3540, 'परनतधकर': 3541, 'अगरपरषत': 3542, 'चनतयषयत': 3543, 'समरथत': 3544, 'वरधमनय': 3545, 'जनसखयय': 3546, 'समसय': 3547, 'उदभवनत': 3548, 'धनसय': 3549, 'अनपलबध': 3550, 'रषयदशय': 3551, 'भनन': 3552, 'कलशलय': 3553, 'रजज': 3554, 'शथल': 3555, 'मबल': 3556, 'एमपतशकयत': 3557, 'उततन': 3558, 'कच': 3559, 'कषणसय': 3560, 'वशवदन': 3561, 'वनदवनसथ': 3562, 'परमहयन': 3563, 'हनद': 3564, 'दवनगर': 3565, 'लखयत': 3566, 'दरदप': 3567, 'भकमपनत': 3568, 'अधवसत': 3569, 'नषट': 3570, 'यसमत': 3571, 'परधयपकत': 3572, 'रजनतवषयम': 3573, 'अपठत': 3574, 'नगरसय': 3575, 'रढवदन': 3576, 'बलव': 3577, 'कणटकत': 3578, 'अनरवरय': 3579, 'शसय': 3580, 'दरतय': 3581, 'परचलतन': 3582, 'रलयनन': 3583, 'अतशघर': 3584, 'दवगण': 3585, 'मनव': 3586, 'जरयजजनत': 3587, 'नतदणडन': 3588, 'बलपरधसय': 3589, 'नयमन': 3590, 'महभरतसय': 3591, 'धनरधरण': 3592, 'अरजनन': 3593, 'पणडवन': 3594, 'वजयरथ': 3595, 'महततवपरण': 3596, 'दततम': 3597, 'सननत': 3598, 'रजनतयदकषतरष': 3599, 'सकरय': 3600, 'दलतजन': 3601, 'उचचसथनष': 3602, 'आरढ': 3603, 'अरहनत': 3604, 'कषमय': 3605, 'भङगर': 3606, 'शवन': 3607, 'अलपय': 3608, 'नझदलसय': 3609, 'सवसतकचहन': 3610, 'वमवरत': 3611, 'भरतयन': 3612, 'परवतरहण': 3613, 'तरवरण': 3614, 'धवज': 3615, 'अधरपत': 3616, 'अनवषतन': 3617, 'समगरण': 3618, 'सच': 3619, 'गधमसय': 3620, 'वपनम': 3621, 'हसतपक': 3622, 'अभरनतय': 3623, 'हसतन': 3624, 'तण': 3625, 'भरषटन': 3626, 'सदसयन': 3627, 'वरदधम': 3628, 'अनशसनक': 3629, 'वधसयत': 3630, 'सरवभमक': 3631, 'परतसपरधय': 3632, 'परतनधतव': 3633, 'सपषटत': 3634, 'सतथयत': 3635, 'जवनत': 3636, 'परशसनय': 3637, 'बलवत': 3638, 'खरसतसय': 3639, 'कषटमयम': 3640, 'भवतस': 3641, 'वमनचलन': 3642, 'शवसनपकष': 3643, 'वहय': 3644, 'रषटरपतपरतयशतवन': 3645, 'समरथतवनत': 3646, 'तरक': 3647, 'अभदय': 3648, 'यतर': 3649, 'रमय': 3650, 'सङखयदरशनसय': 3651, 'सरय': 3652, 'नरकषण': 3653, 'करयपरङमख': 3654, 'चनतक': 3655, 'परधनमनतरकरयलयत': 3656, 'अनमत': 3657, 'रपवनत': 3658, 'आयमन': 3659, 'नगरष': 3660, 'कटवसन': 3661, 'दरगनधत': 3662, 'परदश': 3663, 'वसनत': 3664, 'अपरवरतक': 3665, 'करमचरण': 3666, 'चरवण': 3667, 'करडयम': 3668, 'अनभयसत': 3669, 'अदभतकत': 3670, 'उततमकल': 3671, 'नरगणसय': 3672, 'बरहमण': 3673, 'उपसक': 3674, 'सभगय': 3675, 'करयकरम': 3676, 'पञचवदन': 3677, 'आकरतष': 3678, 'वरणलपन': 3679, 'भवनसय': 3680, 'नरमण': 3681, 'मघलशलय': 3682, 'वसतवनमय': 3683, 'वञचत': 3684, 'ऐकमतय': 3685, 'सञजतम': 3686, 'मरतकरसय': 3687, 'कलपन': 3688, 'मरतसवरप': 3689, 'भगरभवजञन': 3690, 'भगलशसतर': 3691, 'वतवरणवजञन': 3692, 'जलवयवजञन': 3693, 'समजवजञन': 3694, 'नकषतरवजञनञचनतरभत': 3695, 'असयम': 3696, 'सपतत': 3697, 'कथयत': 3698, 'एकसपतततम': 3699, 'कपरदक': 3700, 'आजगष': 3701, 'उपदश': 3702, 'परवस': 3703, 'भय': 3704, 'परतयगन': 3705, 'यगयम': 3706, 'गरषम': 3707, 'समपयम': 3708, 'तरभजय': 3709, 'अपतक': 3710, 'दशहन': 3711, 'अनशचयतमक': 3712, 'जव': 3713, 'सवरणय': 3714, 'मगध': 3715, 'अमपतसय': 3716, 'वभजनसय': 3717, 'बहववद': 3718, 'उतपततवषय': 3719, 'इतहस': 3720, 'उललखऽप': 3721, 'आपणकसय': 3722, 'करधनन': 3723, 'वमन': 3724, 'सजजभतमव': 3725, 'नयनतरणककषण': 3726, 'खणडत': 3727, 'परचरयसय': 3728, 'नमधय': 3729, 'पषपक': 3730, 'उपयजयमन': 3731, 'बमब': 3732, 'अपवतर': 3733, 'गङगजलसय': 3734, 'सञचनन': 3735, 'पवतर': 3736, 'वनत': 3737, '1998': 3738, 'अपरलमससय': 3739, 'षडवशततम': 3740, 'वजपयरचतसय': 3741, 'पतनम': 3742, 'अनशसक': 3743, 'चतरमनदर': 3744, 'उपनम': 3745, 'उततजकन': 3746, 'भषणन': 3747, 'जनयदध': 3748, 'करतम': 3749, 'धरणकमपन': 3750, 'सरवसव': 3751, 'पञचवशतपरतशत': 3752, 'यवनभय': 3753, 'दणडयत': 3754, 'वसवदन': 3755, 'नचछम': 3756, 'चणयकतम': 3757, 'परवरक': 3758, 'नशचत': 3759, 'शनतचतततय': 3760, 'नरवहणयम': 3761, 'अनवदकसय': 3762, 'जनसय': 3763, 'मरसथलम': 3764, 'परकतकसथनम': 3765, 'वगहक': 3766, 'जलमगन': 3767, 'शधयत': 3768, 'समयवध': 3769, 'लकषश': 3770, 'तलनय': 3771, 'उननतकरण': 3772, 'दष': 3773, 'सजजनन': 3774, 'नतकथन': 3775, 'हसतनरमतन': 3776, 'ररभकअनतर': 3777, 'उदगररहसथनक': 3778, 'तषठन': 3779, 'उदगररह': 3780, 'यतरन': 3781, 'सगणक': 3782, 'भरतदशसय': 3783, 'करयनवतष': 3784, 'यजनस': 3785, 'चनतन': 3786, 'परतकरत': 3787, 'हसर': 3788, 'शघरत': 3789, 'फ़लक': 3790, 'ओटटफलक': 3791, 'रशगन': 3792, 'पटकय': 3793, 'बभम': 3794, 'अहपरषकय': 3795, 'हसतपददय': 3796, 'शररकभग': 3797, 'सदरम': 3798, 'आमनतरयत': 3799, 'सतयवदन': 3800, 'वनपरसथन': 3801, 'पनरगमनरथ': 3802, 'कलपत': 3803, 'चलचतरजगत': 3804, 'शङगरसय': 3805, 'कषतरण': 3806, 'आनतरकशकतय': 3807, 'समपदयम': 3808, 'सदढ': 3809, 'गरव': 3810, 'सवसमयम': 3811, 'इनदरजलकसय': 3812, 'करड': 3813, 'तषम': 3814, 'अपतकम': 3815, 'ऐशवरयम': 3816, 'करणबधर': 3817, 'सङकतन': 3818, 'अपठनय': 3819, 'वदरक': 3820, 'मरछत': 3821, 'रमशसय': 3822, 'असथर': 3823, 'परवणततट': 3824, 'अधवसतर': 3825, 'नतयरगण': 3826, 'रकतम': 3827, 'अनथशरम': 3828, 'तरषषटतम': 3829, 'शठ': 3830, 'परहरतवय': 3831, 'शशन': 3832, 'मसण': 3833, 'कपल': 3834, 'वमहयत': 3835, 'सनवरय': 3836, 'सहजतय': 3837, 'समधन': 3838, 'सहययम': 3839, 'मनष': 3840, 'शतबदष': 3841, 'परयटकन': 3842, 'आकरषण': 3843, 'जञनपरणन': 3844, 'उकतन': 3845, 'अशभचनतकसय': 3846, 'दवषपरणम': 3847, 'वमनम': 3848, 'आकशयनम': 3849, 'कपटयन': 3850, 'सथरम': 3851, 'समपततसमबनध': 3852, 'परसतव': 3853, 'लकसभय': 3854, 'नरसत': 3855, 'उपहरगह': 3856, 'शकहर': 3857, 'अननयरप': 3858, 'तसर': 3859, 'मरतय': 3860, 'असमत': 3861, 'सनदश': 3862, 'दरकरत': 3863, 'परतरश': 3864, 'रश': 3865, 'उदयन': 3866, 'पषपत': 3867, 'रमचरतमनस': 3868, 'सहतयकत': 3869, 'सधनहनन': 3870, 'सधनपलबधयरथ': 3871, 'रजमनदर': 3872, 'असथमयन': 3873, 'अपरतवरयष': 3874, 'महरजष': 3875, 'सकनदर': 3876, 'बदधमरत': 3877, 'अशककलन': 3878, 'कनय': 3879, 'रङगनटकयलणडनकनबरहनई': 3880, 'सथनष': 3881, 'सथतष': 3882, 'दतवसष': 3883, 'धमकय': 3884, 'धमरवरणय': 3885, 'अतकरदध': 3886, 'पततम': 3887, 'सयन': 3888, 'पनरनरमण': 3889, 'शकपरणतय': 3890, 'कषटम': 3891, 'परमणद': 3892, 'जतवचक': 3893, 'सजञ': 3894, 'बहकलत': 3895, 'अयमलयकत': 3896, 'दवतल': 3897, 'नवसत': 3898, 'मञचनयम': 3899, 'शशपलसय': 3900, 'शततमम': 3901, 'कषमतवन': 3902, 'दसमबरमससय': 3903, 'वजपयसरवकरण': 3904, 'रषटरपतशसनसय': 3905, 'नकटवरत': 3906, 'कशनगरम': 3907, 'चतरय': 3908, 'मथ': 3909, 'बघघमन': 3910, 'ननष': 3911, 'हटलरमहदय': 3912, 'नरङकश': 3913, 'शसक': 3914, 'पकवन': 3915, 'नटकसय': 3916, 'अनतम': 3917, 'नयकसय': 3918, 'सयग': 3919, 'नशबदत': 3920, 'लबधदम': 3921, 'पदचर': 3922, 'तषत': 3923, 'भवषयपचछन': 3924, 'अवजञनक': 3925, 'दरगसय': 3926, 'महदवरम': 3927, 'अनगतपरध': 3928, 'वरमचहनसय': 3929, 'परशनचहनम': 3930, 'आरपतम': 3931, 'परतयकषभ': 3932, 'परपननसतनभरवत': 3933, 'वसतभरषटभरश': 3934, 'रत': 3935, 'लङघनय': 3936, 'कशदर': 3937, 'नरतक': 3938, 'जञतर': 3939, 'दतवयम': 3940, 'अवध': 3941, 'जननङगत': 3942, 'जवसय': 3943, 'उतपतत': 3944, 'वकतवय': 3945, 'सहरदन': 3946, 'परसथपन': 3947, 'एकगरतय': 3948, 'सवतनतरतदनम': 3949, 'आगसटमससय': 3950, 'ऐषम': 3951, 'कमभमहसममलन': 3952, 'सममलतन': 3953, 'धव': 3954, 'पकषसय': 3955, 'लभय': 3956, 'दशवरधनरणयकरण': 3957, 'ननभवत': 3958, 'उतरत': 3959, 'परवरतनन': 3960, 'अवकषत': 3961, 'वषसय': 3962, 'ककत': 3963, 'नरभमनन': 3964, 'परकतय': 3965, 'नवरण': 3966, 'आशकरण': 3967, 'सनषय': 3968, 'आननदयत': 3969, 'ककषयम': 3970, 'जनसखय': 3971, 'नयनतरतऽसत': 3972, 'अवधहनय': 3973, 'यतरय': 3974, 'दशम': 3975, 'शतदनन': 3976, 'करयनतरल': 3977, 'शरमकण': 3978, 'वचरवमरश': 3979, 'खगलयकषतरसय': 3980, 'गरपरणम': 3981, 'लङगर': 3982, 'आनतन': 3983, 'ससयन': 3984, 'आरपयम': 3985, 'जयषठ': 3986, 'पततलय': 3987, 'पलव': 3988, 'मरजर': 3989, 'घटयनतरसय': 3990, 'दकषणवरतन': 3991, 'समधयन': 3992, 'नययलयसय': 3993, 'सगरहलय': 3994, 'गनधमहदयसय': 3995, 'परतम': 3996, 'पषटव': 3997, 'अपयसय': 3998, 'जलसय': 3999, 'रग': 4000, 'समभवनत': 4001, 'चलल': 4002, 'पकसधनम': 4003, 'अनभवन': 4004, 'परथमवर': 4005, 'चतरथ': 4006, 'गजरलरचतसय': 4007, 'परवशरथ': 4008, 'यगयतपरमणपतरसय': 4009, 'हसतकषरङकत': 4010, 'परतलप': 4011, 'नहरवजञनभवन': 4012, 'वरतमनन': 4013, 'हदयगरहण': 4014, 'मतलय': 4015, 'शवशर': 4016, 'महतमगनधमहदय': 4017, 'परधनमनतर': 4018, 'अवतरचतर': 4019, 'चयन': 4020, 'एकततयश': 4021, 'वयपत': 4022, 'अनशसनसमबदध': 4023, 'एथकससमतय': 4024, 'वगवनत': 4025, 'अवयवसथत': 4026, 'वनयसयत': 4027, 'रजनतवषयक': 4028, 'अनभतम': 4029, 'कशमर': 4030, 'अशनतपरण': 4031, 'वहङगक': 4032, 'अधयकषय': 4033, 'जञनवरधक': 4034, 'कककर': 4035, 'मसहर': 4036, 'कड': 4037, 'लखककरय': 4038, 'परवरतन': 4039, 'सजज': 4040, 'परपतर': 4041, 'नतनकरणय': 4042, 'रचकरसय': 4043, 'भजनसय': 4044, 'गहक': 4045, 'सनतलयत': 4046, 'आमरदय': 4047, 'फलदतर': 4048, 'उपवकषयत': 4049, 'दहलय': 4050, 'वतस': 4051, 'गरवहन': 4052, 'वयकश': 4053, 'पकषण': 4054, 'उडडयनरथ': 4055, 'इतससय': 4056, 'परकदरषट': 4057, 'यव': 4058, 'दशनतर': 4059, 'हडपप': 4060, 'परचनकलन': 4061, 'शकषकषतर': 4062, 'गरमवसनय': 4063, 'दशयसयवषकरणत': 4064, 'सहरय': 4065, 'समपरत': 4066, 'नरदशसय': 4067, 'भरणसमत': 4068, 'भणड': 4069, 'भजकटर': 4070, 'वसफट': 4071, 'रजबहदर': 4072, 'परवरयकत': 4073, 'परथमनयकत': 4074, 'सचवतवन': 4075, 'बरमदशसय': 4076, 'रङगनमहनगरसथ': 4077, 'सरवकरण': 4078, 'बहररजयसय': 4079, 'रबड': 4080, 'नरसततय': 4081, 'यचन': 4082, 'एकदवसय': 4083, 'अनतररषटरयवललकनदककरडय': 4084, 'सपरध': 4085, 'अगरम': 4086, 'सपतह': 4087, 'आरपसयत': 4088, 'हनदभषयम': 4089, 'ऊकरनतसय': 4090, 'उकरनत': 4091, 'रजयष': 4092, 'अनतरपरदशयन': 4093, 'सपरधनम': 4094, 'आयजनम': 4095, 'जञनवदधन': 4096, 'वयवदधन': 4097, 'परम': 4098, 'पणय': 4099, 'समपरपनत': 4100, 'सशतर': 4101, 'अशनतपरणम': 4102, 'समपतन': 4103, 'सकषपठक': 4104, 'सकष': 4105, 'गतदन': 4106, 'सपषटव': 4107, 'शपत': 4108, 'परशकषणरथन': 4109, 'शवदहगह': 4110, 'कठनतय': 4111, 'सथगत': 4112, 'सभ': 4113, 'नमषणम': 4114, 'पररबध': 4115, 'अतबहलम': 4116, 'कथत': 4117, 'वदयमनतय': 4118, 'परतयकषजञनम': 4119, 'अपहरतर': 4120, 'सतरकरपण': 4121, 'दषटवय': 4122, 'शतन': 4123, 'सवगतन': 4124, 'खननम': 4125, 'एकत': 4126, 'भननत': 4127, 'लकपकर': 4128, 'सखम': 4129, 'अनभवम': 4130, 'अबधय': 4131, 'वशगत': 4132, 'नणकन': 4133, 'नरकषणरथ': 4134, 'परयवकषक': 4135, 'बलकभय': 4136, 'परसकरण': 4137, 'वतरण': 4138, 'वरगकरठय': 4139, 'करयकलसमपतकरणतवत': 4140, 'उकतम': 4141, 'परयण': 4142, 'सनशचतम': 4143, 'अधकरथष': 4144, 'वचनष': 4145, 'वशवसत': 4146, 'अलल': 4147, 'दवय': 4148, 'अभद': 4149, 'आगमनरथम': 4150, 'दरशतवन': 4151, 'भर': 4152, 'कमदय': 4153, 'नकवहरसय': 4154, 'अवरणनय': 4155, 'अपरशसनयन': 4156, 'ननदनयन': 4157, 'सथतन': 4158, 'घटकन': 4159, 'चनतनय': 4160, 'सवनमन': 4161, 'करतशहसन': 4162, 'शवसयष': 4163, 'भदरय': 4164, 'यतरण': 4165, 'तडत': 4166, 'गहसय': 4167, 'अङगण': 4168, 'नयसदत': 4169, 'मतहर': 4170, 'करयवषय': 4171, 'शङकत': 4172, 'महभरतयदधत': 4173, 'पणडव': 4174, 'नशङक': 4175, '1945': 4176, 'परवश': 4177, 'गयकपकष': 4178, 'शगल': 4179, 'जलबनदव': 4180, 'हमरप': 4181, 'धरनत': 4182, 'तलबनय': 4183, 'आतङकन': 4184, 'शदधसवरणसय': 4185, 'दशजन': 4186, 'उपयजयरन': 4187, 'पपधम': 4188, 'दषकरम': 4189, 'सतनगर': 4190, 'शषयसय': 4191, 'आकरनतमत': 4192, 'उललङघतष': 4193, 'नयमष': 4194, 'परगत': 4195, 'एवमव': 4196, 'सहकरमण': 4197, 'सवरचतकवयदवर': 4198, 'मनभवन': 4199, 'अधशरषक': 4200, 'दनय': 4201, 'तदरथ': 4202, 'अकषरणलनट': 4203, 'मदजल': 4204, 'वसतरकषलन': 4205, 'परहस': 4206, 'शतयकल': 4207, 'परवरणन': 4208, 'उपवश': 4209, 'वयकतन': 4210, 'ततकलन': 4211, 'उपरषटरपतपरतयशतवन': 4212, 'अघयत': 4213, 'भरतयसवधनम': 4214, 'घनशयमत': 4215, 'कमभकरण': 4216, 'षणमस': 4217, 'सपत': 4218, 'कशमरवषय': 4219, 'पकसतनसय': 4220, 'सनध': 4221, 'गनधक': 4222, 'जवलनशल': 4223, 'शघरकप': 4224, 'नतजसभषचनदरबसमहदयसय': 4225, 'आकसमकय': 4226, 'गपततय': 4227, 'रहसयभदनम': 4228, 'अदयप': 4229, 'जञयत': 4230, 'दढमत': 4231, 'समरथन': 4232, 'बज': 4233, 'अङकरणबनदव': 4234, 'शरषठ': 4235, 'शरषठतव': 4236, 'भतरल': 4237, 'दनतर': 4238, 'दनतन': 4239, 'गपनरथ': 4240, 'कषचन': 4241, 'वदष': 4242, 'मतन': 4243, 'सरदसमहदय': 4244, 'जतयनध': 4245, 'रसभतम': 4246, 'कषदरनतर': 4247, 'अवशषत': 4248, 'ससकतशलकनम': 4249, 'खदतवयम': 4250, 'उपरजकसय': 4251, 'नधनननतर': 4252, 'वधव': 4253, 'चनतनशकत': 4254, 'वदयरथन': 4255, 'आकरषयत': 4256, 'कटय': 4257, 'मञजर': 4258, 'वजञनसय': 4259, 'कवयरसक': 4260, 'रकषभगसय': 4261, 'इनस': 4262, 'रनस': 4263, 'भसत': 4264, 'तलय': 4265, 'कषतगरसतन': 4266, 'शबर': 4267, 'तरसपतततम': 4268, 'शरणक': 4269, 'रणवय': 4270, 'सवधनम': 4271, 'अधयकषसय': 4272, 'अनपसथतयम': 4273, 'उपधयकष': 4274, 'महरणय': 4275, 'मरगचयत': 4276, 'वनयपशन': 4277, 'मगयय': 4278, 'वषयम': 4279, 'सञचरम': 4280, 'शरषक': 4281, 'अपसर': 4282, 'बदधमनदरण': 4283, 'ह': 4284, 'वदशसय': 4285, 'नगरकण': 4286, 'भरतयसवधन': 4287, 'उललखत': 4288, 'कटलसय': 4289, 'वचरन': 4290, 'भयसय': 4291, 'चहनन': 4292, 'एकतहन': 4293, 'वकसत': 4294, 'अतरकय': 4295, 'करमवद': 4296, 'अदयतनय': 4297, 'असवदषटम': 4298, 'परकशन': 4299, 'परतपदतम': 4300, 'करयरमभ': 4301, 'सदध': 4302, 'अगढ': 4303, 'उकत': 4304, 'समभषणशबर': 4305, 'तसयनवषणसय': 4306, 'फलतवन': 4307, 'मग': 4308, 'नबड': 4309, 'अफजल': 4310, 'ओमनययम': 4311, 'उदयगससथय': 4312, 'पङकमय': 4313, 'पतत': 4314, 'दरजनतय': 4315, 'सवभवसय': 4316, 'सरलत': 4317, 'वदवजजननम': 4318, 'सथयभव': 4319, 'बहम': 4320, 'अपमनम': 4321, 'असह': 4322, 'मतमह': 4323, 'आवभय': 4324, 'शरवयत': 4325, '1974': 4326, 'पकसथनसय': 4327, 'वभजननतरम': 4328, 'अमरकदशन': 4329, 'नसन': 4330, 'सवरजत': 4331, 'धनम': 4332, 'सचरतन': 4333, 'नययलय': 4334, 'अशकतनणयम': 4335, 'अभहतवन': 4336, 'परपसयम': 4337, 'वशचक': 4338, 'अधषठतर': 4339, 'रजक': 4340, 'परकषलनमलय': 4341, 'पञचशतरपयकण': 4342, 'अनतकरणनयय': 4343, 'अकतसय': 4344, 'पररमभ': 4345, 'शषटतय': 4346, 'परचतन': 4347, 'सतरजननङगम': 4348, 'बलपयगन': 4349, 'तथयपरण': 4350, 'भमगह': 4351, 'रकषतम': 4352, 'ससकतसय': 4353, 'मदकपदरथन': 4354, 'वरजनयम': 4355, 'पषठष': 4356, 'वषयतमक': 4357, 'उललख': 4358, 'शसतरवरदधत': 4359, 'तरतवय': 4360, 'गणसय': 4361, 'अलखत': 4362, 'वनमयवयपर': 4363, '2002': 4364, 'रषटरपततवन': 4365, 'परमननदसय': 4366, 'इचछपरणत': 4367, 'दवसपतततमन': 4368, 'अननतरमप': 4369, 'शयययमव': 4370, 'सददशयम': 4371, 'चतनवहन': 4372, 'शररम': 4373, 'अनभतय': 4374, 'रहतम': 4375, 'मधयपरदशसय': 4376, 'शलपरसथय': 4377, 'समभवत': 4378, 'वरमत': 4379, 'कलकषप': 4380, 'हतरथ': 4381, 'कनदकदय': 4382, 'करडसधनन': 4383, 'गहणय': 4384, 'वमहसत': 4385, 'तरवदन': 4386, 'दषपचयन': 4387, 'आहरण': 4388, 'वयधगरसत': 4389, 'सकषतकरसय': 4390, 'कशचत': 4391, 'अश': 4392, 'भरमत': 4393, 'मलदवदशयष': 4394, 'दवपष': 4395, 'परवल': 4396, 'अधकतर': 4397, 'सहनन': 4398, 'ववरत': 4399, 'तरकतत': 4400, 'उदहरणमव': 4401, 'गणङकन': 4402, 'सहपठ': 4403, 'सवचछचरसय': 4404, 'अवसर': 4405, 'वलपतरक': 4406, 'अमरकदश': 4407, 'सवदश': 4408, 'परतयगत': 4409, 'अतकरमकण': 4410, 'अधगहत': 4411, 'भयपरण': 4412, 'वतवरण': 4413, 'नरमल': 4414, 'सशधतन': 4415, 'नयमनम': 4416, 'महवर': 4417, 'जनधरमसय': 4418, 'परवरतक': 4419, 'चनतनम': 4420, 'रजनतकसततय': 4421, 'जतयधरतहसम': 4422, 'अकतव': 4423, 'सनहशल': 4424, 'मततवसथय': 4425, 'कतन': 4426, 'कलहन': 4427, 'मदकल': 4428, 'करगह': 4429, 'गजनन': 4430, 'शसतर': 4431, 'अनवदक': 4432, 'महवदयलयसय': 4433, 'अभमनतरणम': 4434, 'रषटरपतमहदय': 4435, 'करषयत': 4436, 'आवदक': 4437, 'वयकतय': 4438, 'सकषतकररथ': 4439, 'आमनतरत': 4440, 'करयकरमपतरकम': 4441, 'अन': 4442, 'नववदन': 4443, 'पररभयत': 4444, 'समस': 4445, 'अवचरय': 4446, 'अवतषठनत': 4447, 'छदष': 4448, 'पनन': 4449, 'कचत': 4450, 'अयथरथसय': 4451, 'अयथरथयचहन': 4452, 'सनदह': 4453, 'पदयतमक': 4454, 'ससय': 4455, 'हदयम': 4456, 'अभकषय': 4457, 'वरषपरयनत': 4458, 'नतयम': 4459, 'अनययय': 4460, 'घङघ': 4461, 'कठणकवचजनत': 4462, 'नवरतरमहतसव': 4463, 'गरजरण': 4464, 'गरब': 4465, 'अजननर': 4466, 'समबधक': 4467, 'कयद': 4468, 'आपलवत': 4469, 'सरकषणरथ': 4470, 'उननतभग': 4471, 'सवकट': 4472, 'सतत': 4473, 'परयवदन': 4474, 'अपरयसय': 4475, 'पथयसय': 4476, 'दरलभ': 4477, 'अधयङकसङगणक': 4478, 'अगणतन': 4479, 'आर': 4480, 'वथयसय': 4481, 'तसत': 4482, 'शतकलन': 4483, 'वघघमनसय': 4484, 'असवधनत': 4485, 'वहनसञचलन': 4486, 'परणघत': 4487, 'दय': 4488, 'कटबनध': 4489, 'आदत': 4490, 'पसतन': 4491, 'नरकरमयअनतर': 4492, 'जञततव': 4493, 'सधतम': 4494, 'मरमजञ': 4495, 'मरगचयतय': 4496, 'असरण': 4497, 'गरनथनम': 4498, 'अधययनसय': 4499, 'लभ': 4500, 'तलसदसन': 4501, 'दहदन': 4502, 'आबदध': 4503, 'छनदस': 4504, 'करकटसङघ': 4505, 'सनतलत': 4506, 'मजरमदशयय': 4507, 'रजवरसभ': 4508, 'अफरकखणड': 4509, 'अनवषणम': 4510, 'अनवषन': 4511, 'अधतसय': 4512, 'कवयसय': 4513, 'समकष': 4514, 'अपरमणक': 4515, 'सपतपञचशततमन': 4516, 'वरषण': 4517, 'वयततन': 4518, 'समजककरयम': 4519, 'सभसमपनद': 4520, 'परसपरन': 4521, 'दनशर': 4522, 'आवदनपतर': 4523, 'चरतरपरमणपतरसय': 4524, 'सतयपत': 4525, 'उपयजयतम': 4526, 'सममहनपरण': 4527, 'कपटहन': 4528, 'सवरणकरण': 4529, 'कटसवरणसय': 4530, 'आभषण': 4531, 'कस': 4532, 'अनजय': 4533, 'दरमङक': 4534, 'समञजसयत': 4535, 'कठनम': 4536, 'वतत': 4537, 'वरणयत': 4538, 'वततकशमचकन': 4539, 'शसतरधरण': 4540, 'धतवनत': 4541, 'छ': 4542, 'भवतवय': 4543, 'सचनसय': 4544, 'शतकसय': 4545, 'सङघन': 4546, 'समपदयतम': 4547, 'परदय': 4548, 'अभयचन': 4549, 'अरणयम': 4550, 'करमणयम': 4551, 'अञज': 4552, 'एकशततम': 4553, 'पषप': 4554, 'गमफत': 4555, 'गङगय': 4556, 'पञचनयन': 4557, 'दशवदन': 4558, 'आकरमणत': 4559, 'रकषणरथ': 4560, 'कवच': 4561, 'अनभवपरणत': 4562, 'मरणद': 4563, 'शवभजनम': 4564, 'ननदक': 4565, 'ननदत': 4566, 'रहन': 4567, 'अनततरण': 4568, 'पलसडय': 4569, 'इकक': 4570, 'सथगनय': 4571, 'फ़लटरपरवरतनय': 4572, 'सजजकरणस': 4573, 'मधरभकषय': 4574, 'सषठ': 4575, 'वत': 4576, 'भवतरहसय': 4577, 'आषढमससय': 4578, 'परणमत': 4579, 'शरवणमससय': 4580, 'परणमपरयनत': 4581, 'दलन': 4582, 'सओकतन': 4583, 'भषणथ': 4584, 'दरद': 4585, 'ककरमभरव': 4586, 'वपरतगम': 4587, 'जतनषठ': 4588, 'दयवत': 4589, 'समतसव': 4590, 'बहवधसय': 4591, 'करयकरमसय': 4592, 'सरसवतय': 4593, 'सततय': 4594, 'आकरमणमव': 4595, 'शरषठम': 4596, 'तलपत': 4597, 'गतरभञजन': 4598, 'जगरत': 4599, 'वमनशङक': 4600, 'अशषट': 4601, 'करकसय': 4602, 'कलर': 4603, 'दरघजव': 4604, 'पदप': 4605, 'सङघय': 4606, 'गणमनय': 4607, 'सङगतय': 4608, 'तवमप': 4609, 'बदधमन': 4610, 'भवषयस': 4611, 'परवरतनय': 4612, 'टप': 4613, 'सचत': 4614, 'वचनम': 4615, 'कलरसक': 4616, 'नटयशल': 4617, 'वटकय': 4618, 'शभनत': 4619, 'सजजन': 4620, 'आचरत': 4621, 'चरहरतन': 4622, 'वनन': 4623, 'नदरल': 4624, 'समरजयत': 4625, 'ववहननतर': 4626, 'सवनम': 4627, 'परवरतय': 4628, 'नवनयकतन': 4629, 'करमकरण': 4630, 'परशकषणवषय': 4631, 'ककरतवयमढ': 4632, 'गपलअ': 4633, 'सहधयय': 4634, 'नसतदनशल': 4635, 'कषरसमभवत': 4636, 'मषटनन': 4637, 'करडयअधनतन': 4638, 'वपकषसहतम': 4639, 'अनयपकष': 4640, 'समरथनम': 4641, 'अकरवन': 4642, 'धनसमपतत': 4643, 'यजकचहन': 4644, 'नरशरतन': 4645, 'आशरय': 4646, 'परयचछत': 4647, 'इरकदशयन': 4648, 'छतरण': 4649, 'इमदन': 4650, 'गरवरयसय': 4651, 'मरगदरशन': 4652, 'शधकरय': 4653, 'परशनसय': 4654, 'सपषटतय': 4655, 'आसनपरगरह': 4656, 'एकवरषजव': 4657, 'नरदष': 4658, 'आकरश': 4659, 'दरचरण': 4660, 'वनशकरणम': 4661, 'शरणगतसय': 4662, 'वदयतयनतरसय': 4663, 'करयकरमय': 4664, 'नयरक': 4665, 'नगरत': 4666, 'अधकश': 4667, 'अवयततम': 4668, 'गयकन': 4669, 'गञजत': 4670, 'शनततय': 4671, 'उपवषट': 4672, 'आमरदन': 4673, 'मसलन': 4674, 'अनमनम': 4675, 'करतर': 4676, 'करतनसधनम': 4677, 'शकहरपरण': 4678, 'नशचर': 4679, 'अमरनथगहय': 4680, 'सवयमभव': 4681, 'शवलङगसय': 4682, 'इदननतन': 4683, 'सनदशवहक': 4684, 'कपत': 4685, 'धरमगरनथनसरण': 4686, 'नरमष': 4687, 'शररसय': 4688, 'शदधम': 4689, 'वरधतयम': 4690, 'ईपसय': 4691, 'भकत': 4692, 'वजयततरम': 4693, 'सवभगवनत': 4694, 'समचलयत': 4695, 'सनतर': 4696, 'पङकतय': 4697, 'तषठनत': 4698, 'नग': 4699, 'वषधर': 4700, 'दषटदषटसतथ': 4701, 'वञछमन': 4702, 'ववकन': 4703, 'परयचछनत': 4704, 'परणधरमशच': 4705, 'करवत': 4706, 'उतसकयत': 4707, 'लखपरकषकसय': 4708, 'सचचरतरमव': 4709, 'सचचरतरय': 4710, 'नरय': 4711, 'अलपश': 4712, 'असमदधपरद': 4713, 'भरषटचरण': 4714, 'धवक': 4715, 'परतयनतपरवतम': 4716, 'आरढवन': 4717, 'भरतसत': 4718, 'सपरचत': 4719, 'लकपयग': 4720, 'अपतरतय': 4721, 'जनकपसय': 4722, 'यगन': 4723, 'कषय': 4724, 'शङग': 4725, 'कषवलन': 4726, 'सलभय': 4727, 'पषटदसय': 4728, 'आहरसय': 4729, 'दरलभयमव': 4730, '1949': 4731, '1978': 4732, 'सममन': 4733, 'अवरधयत': 4734, 'दशवदशय': 4735, 'परततववततर': 4736, 'सवमत': 4737, 'दतम': 4738, 'रजयवयवसथ': 4739, 'कशलन': 4740, 'वधजञनम': 4741, 'अनपरदनम': 4742, 'एकवर': 4743, 'मसलसय': 4744, 'अजसय': 4745, 'मसमतत': 4746, 'दकष': 4747, 'मणडलकय': 4748, 'अरधचनदर': 4749, 'सपरयजनम': 4750, 'आटनरथम': 4751, 'सयङकल': 4752, 'बलसय': 4753, 'वरधकम': 4754, 'मतरसय': 4755, 'आपततकल': 4756, 'ववधय': 4757, 'वधघमन': 4758, 'रजयधरण': 4759, 'अनतकन': 4760, 'वयवहरन': 4761, 'हसतकषररहतम': 4762, 'दवरम': 4763, 'उततरधरवकटबनध': 4764, 'रसतल': 4765, 'अनतरङगम': 4766, 'सरपदशन': 4767, 'पडतय': 4768, 'मनषयय': 4769, 'वषहरम': 4770, 'औषध': 4771, 'दततवन': 4772, 'परवलमबनय': 4773, 'परतपरभत': 4774, 'रदत': 4775, 'अपरमद': 4776, 'परशरयत': 4777, 'परतनवरतयनत': 4778, 'पञचशतवरषयसय': 4779, 'अनतमससर': 4780, 'दहलमहनगर': 4781, 'शनतवनसय': 4782, 'यमननदय': 4783, 'तर': 4784, 'बहवधन': 4785, 'दतवयभ': 4786, 'करडनकसय': 4787, 'भङगन': 4788, 'दगवजय': 4789, 'ऐचछत': 4790, 'यवदमपत': 4791, 'परवनल': 4792, 'अनवभवतम': 4793, 'बसमततणडलभय': 4794, 'ओदन': 4795, 'नषपदयत': 4796, 'पररबधम': 4797, 'अधयय': 4798, 'परभरमचनदरसय': 4799, 'अदभत': 4800, 'वरणनम': 4801, 'सरकषरकषक': 4802, 'अगनशमकन': 4803, 'शमयत': 4804, 'बस': 4805, 'लकयनसय': 4806, 'परकर': 4807, 'अवशयपरवरतनय': 4808, 'सपपरयसर': 4809, 'आवशय': 4810, 'सहययनय': 4811, 'महलय': 4812, 'नषटन': 4813, 'समतव': 4814, 'आकलभवन': 4815, 'समञजसन': 4816, 'वयवहरण': 4817, 'सतवकसय': 4818, 'कपट': 4819, 'वकरणचत': 4820, 'दरबल': 4821, 'करयनषठय': 4822, 'अकतबरमससय': 4823, 'दववशततम': 4824, 'गजरलसरवकरण': 4825, 'कलयण': 4826, 'उततरपरदशरजय': 4827, 'शसनसय': 4828, 'वशज': 4829, 'धवरसय': 4830, 'षटषषटतम': 4831, 'अपरकषतन': 4832, 'वसतनम': 4833, 'अदणडनय': 4834, 'मकत': 4835, 'गढ': 4836, 'नच': 4837, 'उचचकल': 4838, 'एकदश': 4839, 'सनतपरत': 4840, 'शयमसय': 4841, 'नसनयम': 4842, 'वपल': 4843, 'वङमयम': 4844, 'वशव': 4845, 'शसकयवधजञन': 4846, 'शसनपकषम': 4847, 'उपसथपयत': 4848, 'शसनपकष': 4849, 'परतपदत': 4850, 'सशमशर': 4851, 'शमशर': 4852, 'करषत': 4853, 'वकयत': 4854, 'सनधकरण': 4855, 'सवकरयनरवहण': 4856, 'अयतनत': 4857, 'बदबदम': 4858, 'मषपल': 4859, 'वयरत': 4860, 'ऊरधवबह': 4861, 'परजनयभवत': 4862, 'वनसपतहनम': 4863, 'मतकनसर': 4864, 'करमसखय': 4865, 'ददवय': 4866, 'बनधतवपरण': 4867, 'सशसनत': 4868, 'परवरण': 4869, 'सतकरम': 4870, 'सङकट': 4871, 'सङघरषयत': 4872, 'भरतयलकतनतरदवससय': 4873, 'सवरणजयनत': 4874, 'अधयकषतयमव': 4875, 'सरवनशसशय': 4876, 'वकरचरयसय': 4877, 'अरप': 4878, 'बलकनम': 4879, 'असवधजनकम': 4880, 'कषमनतरलयण': 4881, 'कषयतसवसय': 4882, 'अनसधनम': 4883, 'असहषण': 4884, 'कसम': 4885, 'रसपरण': 4886, 'परमहसय': 4887, 'शरकरयण': 4888, 'पदरथन': 4889, 'परकषटय': 4890, 'मक': 4891, 'अङगवकषपण': 4892, 'भव': 4893, 'परकटयत': 4894, 'मनषयष': 4895, 'चतनयम': 4896, 'अनभयत': 4897, 'चतरवरणय': 4898, 'वयञजनयकतत': 4899, 'रकषणयम': 4900, 'वरधतय': 4901, 'जनसङखयय': 4902, 'हरतन': 4903, 'वकषण': 4904, 'नयनभवत': 4905, 'कसलसय': 4906, 'वरधतम': 4907, 'हइडर': 4908, 'पषठवशहनजव': 4909, 'नकष': 4910, 'चलचलय': 4911, 'आभखसय': 4912, 'फ़लकन': 4913, 'दरम': 4914, 'गतहनतय': 4915, 'लतवकष': 4916, 'शबल': 4917, 'जयपरजय': 4918, 'छदरनवषक': 4919, 'वतलदय': 4920, 'अनङग': 4921, 'चरचतष': 4922, 'परकरणष': 4923, 'अनवशयक': 4924, 'परलषटय': 4925, 'रजसवल': 4926, 'गरभ': 4927, 'चनतत': 4928, 'पनरवचरसय': 4929, 'समभगद': 4930, 'समभग': 4931, 'अनसयय': 4932, 'सदभवन': 4933, 'शययतव': 4934, 'वयजन': 4935, 'पठतव': 4936, 'पनरहवयत': 4937, 'तकषक': 4938, 'वषम': 4939, 'पषठभग': 4940, 'घरषतव': 4941, 'समतलकरत': 4942, 'गरधर': 4943, 'बहदवहङग': 4944, 'वयकततवसय': 4945, 'सवजन': 4946, 'दलल': 4947, 'नगरय': 4948, 'गड': 4949, 'अनतरवस': 4950, 'अतरकत': 4951, 'बहरपरनत': 4952, 'खनजङगरसय': 4953, 'वपलत': 4954, 'मसरकय': 4955, 'कण': 4956, 'शलसय': 4957, 'आकषप': 4958, 'उततय': 4959, 'अधदयनत': 4960, 'गरमवसभय': 4961, 'नगरवसन': 4962, 'अधकशकषत': 4963, 'वनमरतय': 4964, 'नरभयतय': 4965, 'नयमनसर': 4966, 'वसतरलयत': 4967, 'वसतरचछद': 4968, 'अमशरत': 4969, 'धत': 4970, 'नरधनन': 4971, 'जवनन': 4972, 'पडतन': 4973, 'आतमहतय': 4974, 'तरपञचशततम': 4975, 'हनदलक': 4976, 'सहययकरत': 4977, 'कमरययकत': 4978, 'सकनदरसय': 4979, 'नरबदध': 4980, 'सतयप': 4981, 'परस': 4982, 'नवनतज': 4983, 'मषटननम': 4984, 'करदधकककर': 4985, 'सपश': 4986, 'तवररदनतसतव': 4987, 'वशयगमन': 4988, 'अषटपञचश': 4989, 'लबधय': 4990, 'दषटय': 4991, 'उपरषटरपतपद': 4992, 'रकतमभवत': 4993, 'सधजननम': 4994, 'इतसतत': 4995, 'अपतयत': 4996, 'नटवरक': 4997, 'मनगर': 4998, 'उपयतवयम': 4999, 'पषपहन': 5000, 'पनरवसतभय': 5001, 'शसनन': 5002, 'सवयलकरणम': 5003, 'अखदयसय': 5004, 'फलसय': 5005, 'भकषणन': 5006, 'अपथक': 5007, 'यगम': 5008, 'मदत': 5009, 'चलन': 5010, 'सचछदर': 5011, 'नसतवचन': 5012, 'दरशनयपररभमआधवसनरचयत': 5013, 'परचयछतर': 5014, 'अवकत': 5015, 'अनवषटवन': 5016, 'अमरनथय': 5017, 'यदधन': 5018, 'अबनधक': 5019, 'वरधषय': 5020, 'अनषठनसय': 5021, 'आरमभकय': 5022, 'सदधतय': 5023, 'मगन': 5024, 'रकश': 5025, 'ऐशवरयपरदयक': 5026, 'वशवसमन': 5027, 'आनकरमक': 5028, 'मतयन': 5029, 'शककल': 5030, 'पसतकसथन': 5031, 'कवयन': 5032, 'वयखयतन': 5033, 'करयनभव': 5034, 'आरदरनयन': 5035, 'अवचरद': 5036, 'आकरमण': 5037, 'भकतपरणय': 5038, 'मनशनत': 5039, 'अवनस': 5040, 'कषठम': 5041, 'असधय': 5042, 'वसतगह': 5043, 'शतरतपरण': 5044, 'आङगलपसतकसय': 5045, 'अनवदतकत': 5046, 'दशयवसतन': 5047, 'खणडनयन': 5048, 'उपधय': 5049, 'रमशयम': 5050, 'वयचरयतम': 5051, 'सनरहत': 5052, 'अभमनय': 5053, 'करव': 5054, 'घतत': 5055, 'वरदत': 5056, 'जरयज': 5057, 'अवकश': 5058, 'समयसय': 5059, 'अपरचरयत': 5060, 'अशकनवम': 5061, 'सचचरतरतय': 5062, 'यवनकपतसय': 5063, 'रङगमनदरसय': 5064, 'वजञय': 5065, 'दववरणय': 5066, 'अरणसय': 5067, 'कलकन': 5068, 'अवदय': 5069, 'वदयय': 5070, 'ओषधय': 5071, 'भगनपषठसय': 5072, 'हडडम': 5073, 'सयनकत': 5074, 'वदषकसय': 5075, 'हसयहनम': 5076, 'सवततरतदनम': 5077, 'रषटरय': 5078, 'अगरत': 5079, 'पषठत': 5080, 'सशर': 5081, 'बरहमम': 5082, 'शपद': 5083, 'शरद': 5084, 'नययहन': 5085, 'अवधह': 5086, 'परलप': 5087, 'जलशय': 5088, 'दमपत': 5089, 'जलकरड': 5090, 'खणड': 5091, 'यनतरलय': 5092, 'रजयय': 5093, 'सङघयअधकरसय': 5094, 'बदधभकषण': 5095, 'बदधमनदर': 5096, 'मरषट': 5097, 'तरशलधर': 5098, 'खटवय': 5099, 'अङगन': 5100, 'अवगहयण': 5101, 'परणल': 5102, 'पचछवन': 5103, 'पचछन': 5104, 'कटदय': 5105, 'अपसरयत': 5106, 'करयकशलत': 5107, 'मखरत': 5108, 'यचनपकषय': 5109, 'वणत': 5110, 'अयचक': 5111, 'पषपवटकय': 5112, 'वभननन': 5113, 'पषपण': 5114, 'गञजतसय': 5115, 'कञजसय': 5116, 'सनदरय': 5117, 'सरवहर': 5118, 'सहदयत': 5119, 'सजजनसय': 5120, 'घटकनपरसपरसमबनधसय': 5121, 'अधययनम': 5122, 'करयमगनय': 5123, 'अपरपय': 5124, 'नदतट': 5125, 'शवभकष': 5126, 'शवम': 5127, 'पतवय': 5128, 'अधशसत': 5129, 'अभयनत': 5130, 'अनयभय': 5131, 'दनपतरक': 5132, 'मकररश': 5133, 'वरषक': 5134, 'भवषयफल': 5135, 'भगवदचछय': 5136, 'पषठसथमन': 5137, 'अवशवसय': 5138, 'कलपतम': 5139, 'उपषणकटबनधय': 5140, 'वतवरणम': 5141, 'कमद': 5142, 'आगनतकसय': 5143, 'ऋष': 5144, 'दरपद': 5145, 'मरतयम': 5146, 'वनयम': 5147, 'अधकतय': 5148, 'अभयभषत': 5149, 'भकतयगन': 5150, 'सतकवभ': 5151, 'ईशवरयसय': 5152, 'जञनसय': 5153, 'परचर': 5154, 'परभततय': 5155, 'शषटत': 5156, 'वहनसय': 5157, 'गतमपक': 5158, 'अम': 5159, 'दनरवरय': 5160, 'सथतम': 5161, 'अवगणयय': 5162, 'धरयण': 5163, 'नयनयत': 5164, 'जञय': 5165, 'भवतवडय': 5166, 'भणडगरदरशनय': 5167, 'वषटवरमसय': 5168, 'परलषट': 5169, 'भजनय': 5170, 'इतयह': 5171, 'चयनयसय': 5172, 'शत': 5173, 'सहसर': 5174, 'लकषमहत': 5175, 'पय': 5176, 'पदरथम': 5177, 'मकषक': 5178, 'षटपद': 5179, 'रव': 5180, 'इकरनत': 5181, 'कसयतल': 5182, 'तलवदयम': 5183, 'मषटननवकरत': 5184, 'परयकतन': 5185, 'सचम': 5186, 'गरषमवय': 5187, 'रकषणरथम': 5188, 'शतपदरथ': 5189, 'सवनय': 5190, 'नतरनतसथचतरपतरसय': 5191, 'सङकचत': 5192, 'नतरशलयकरय': 5193, 'ववधपरकरण': 5194, 'परदषणन': 5195, 'सवचरम': 5196, 'नशचतय': 5197, 'कलसमय': 5198, 'रषटरपतपदरढ': 5199, 'कसयचत': 5200, 'सङघरष': 5201, 'जतयधरतहसय': 5202, 'बहलयमसत': 5203, 'नधकर': 5204, 'आवशयमव': 5205, 'वहनमलयतवन': 5206, 'शतरपयकण': 5207, 'अवयययम': 5208, 'समयवकश': 5209, 'हरत': 5210, 'सरवमनय': 5211, 'छदरम': 5212, 'मञजषठण': 5213, 'दषकरमण': 5214, 'भतवय': 5215, 'ऐहकम': 5216, 'सरवचचपद': 5217, 'आरढऽसत': 5218, 'शङगहन': 5219, 'वयधसय': 5220, 'शरवयक': 5221, 'लकषयवध': 5222, 'वरधपरदरशनरथ': 5223, 'कषणधवज': 5224, 'रञजतन': 5225, 'बलयवसथयम': 5226, 'मतहन': 5227, 'अनथशरमत': 5228, 'नमहन': 5229, 'अभगहत': 5230, 'अलपकङकष': 5231, 'अलम': 5232, 'ट': 5233, 'अनवषवयम': 5234, 'अदरदरश': 5235, 'जनसखयवसफट': 5236, 'सजत': 5237, 'अपकषतन': 5238, '1951': 5239, 'जनमससय': 5240, 'अषटम': 5241, 'परणकल': 5242, 'इचछवनत': 5243, 'भगवनतम': 5244, 'इचछपरतयरथम': 5245, 'आरधतवनत': 5246, 'रमयण': 5247, 'हनदधरमण': 5248, 'जनननदरय': 5249, 'सयकतक': 5250, 'वपकषयन': 5251, 'सममलनम': 5252, 'इचछक': 5253, 'वयवकलनद': 5254, 'भवदव': 5255, 'आधकरकय': 5256, 'वच': 5257, 'नरगरनथ': 5258, 'ऊरण': 5259, 'सहरत': 5260, 'अतलन': 5261, 'पततन': 5262, 'नभय': 5263, 'पततक': 5264, 'शकहटटत': 5265, 'आनयत': 5266, 'पञचचतवरशततम': 5267, 'रपयक': 5268, 'छननम': 5269, 'तसकय': 5270, 'वनसपतऊतकसय': 5271, 'उदबधत': 5272, 'सवधकरत': 5273, 'भरषट': 5274, 'अनदयत': 5275, 'धमरपन': 5276, 'शवशकय': 5277, 'परणक': 5278, 'दढमतहन': 5279, 'असयमन': 5280, 'रगन': 5281, 'महतव': 5282, 'नयचछत': 5283, 'दवकर': 5284, 'पबन': 5285, 'नरवघन': 5286, 'दषटशन': 5287, 'दषट': 5288, 'सवतसरम': 5289, 'शभम': 5290, 'नरपद': 5291, 'भवषयसय': 5292, 'नशचतम': 5293, 'महयदधम': 5294, 'धनलभ': 5295, 'धनपतर': 5296, 'परकषटसय': 5297, 'जञनरजनन': 5298, 'तषट': 5299, 'पनरवततय': 5300, 'अवधय': 5301, 'मघ': 5302, 'जयतसनहनम': 5303, 'दशभकत': 5304, 'अभननदतम': 5305, 'समनतवदन': 5306, 'करयकलप': 5307, 'अवरदधवय': 5308, 'एकसमद': 5309, 'सपतहद': 5310, 'आगमषयम': 5311, 'जवरसय': 5312, 'हद': 5313, 'नधय': 5314, 'ससदपरवशसय': 5315, 'उततरकलन': 5316, 'रच': 5317, 'अनषदध': 5318, 'शङकशल': 5319, 'उदबधनन': 5320, 'अरधवरतलकरण': 5321, 'शचलयन': 5322, 'नरमतन': 5323, 'अकलहयत': 5324, 'कषनतम': 5325, 'दणडन': 5326, 'आघत': 5327, 'मदकदरवयसय': 5328, 'दखम': 5329, 'अवगचछत': 5330, 'ममकषतव': 5331, 'परतकलत': 5332, 'पशचमवय': 5333, 'करकरगत': 5334, 'अङगछदन': 5335, 'नकषटत': 5336, 'चनदनतर': 5337, 'सगनधम': 5338, 'घरत': 5339, 'परकषरथन': 5340, 'परसकत': 5341, 'वकरणत': 5342, 'षटसपतततम': 5343, 'पततकय': 5344, 'आहतम': 5345, 'अबधगमयन': 5346, 'वधहनत': 5347, 'करमपरधनयग': 5348, 'दवपर': 5349, 'पशचतपदगध': 5350, 'अनलङकत': 5351, 'सधवमख': 5352, 'शयमन': 5353, 'अनथन': 5354, 'पलनरथ': 5355, 'वयततम': 5356, 'अङग': 5357, 'लजजत': 5358, 'पटलक': 5359, 'अपटयत': 5360, 'अधवन': 5361, 'परवकरणन': 5362, 'पदपसमह': 5363, 'चनतनद': 5364, 'गरवरय': 5365, 'वतसल': 5366, 'परकतन': 5367, 'पटष': 5368, 'चलत': 5369, 'शरनत': 5370, 'वकषचछयय': 5371, 'शरमयत': 5372, 'वचनततवन': 5373, 'गहतम': 5374, 'ऋणम': 5375, 'आतमघत': 5376, 'महरतकनसरण': 5377, 'अघटनय': 5378, 'ससरत': 5379, 'वरकत': 5380, 'सनपत': 5381, 'शतरजत': 5382, 'आलङगनम': 5383, 'यग': 5384, 'अवशवसनयसय': 5385, 'सजञन': 5386, 'दववशत': 5387, 'अनहत': 5388, 'ईशवरचनद': 5389, 'वदयसगर': 5390, 'पशचमबङगलपरदशसय': 5391, 'अपरसदध': 5392, 'मलतव': 5393, 'कदश': 5394, 'मगलशसनकल': 5395, 'नरणम': 5396, 'परदवनत': 5397, 'वतनत': 5398, 'नयवदयत': 5399, 'दरशनक': 5400, 'अरसत': 5401, 'कबब': 5402, 'भकषयत': 5403, 'अभकषणत': 5404, 'लहसय': 5405, 'घनतव': 5406, 'धतमय': 5407, 'लकषणम': 5408, 'उपहरमनदर': 5409, 'गतवत': 5410, 'तरयदश': 5411, 'दशन': 5412, 'मगय': 5413, 'वमञचत': 5414, 'अपरकतक': 5415, 'पडय': 5416, 'हरषवरधनसय': 5417, 'अनवभवत': 5418, 'दनरथ': 5419, 'आतङकवद': 5420, 'नलन': 5421, 'रषटरपतपदसय': 5422, 'गरवरकषणन': 5423, 'पदसय': 5424, 'गरववरधनमप': 5425, 'कटमबहन': 5426, 'बरफन': 5427, 'बब': 5428, 'अमरदव': 5429, 'इतयदनमनतरण': 5430, 'दवसय': 5431, 'मघनद': 5432, 'इनदरजत': 5433, 'मरक': 5434, 'भषजम': 5435, 'अनदषट': 5436, 'परदषकण': 5437, 'रजयसभय': 5438, 'अधयकषऽप': 5439, 'सनयन': 5440, 'परधनचरयण': 5441, 'असवकत': 5442, 'दवननदक': 5443, 'आलचन': 5444, 'परकतकसधननव': 5445, 'मनवनम': 5446, 'आवशयकतपरत': 5447, 'यगसय': 5448, 'समषसय': 5449, 'जनष': 5450, 'समकरय': 5451, 'ईशवरसवरप': 5452, 'दववर': 5453, 'अङगमरदन': 5454, 'सजजननम': 5455, 'ईशवरपरत': 5456, 'तवरनभत': 5457, 'परकशमन': 5458, 'सवरत': 5459, 'सखकर': 5460, 'दषटरय': 5461, 'दरवयवहर': 5462, 'दरवयवहरसय': 5463, 'सरनदर': 5464, 'असहयन': 5465, 'सहय': 5466, 'जलसनय': 5467, 'गणवषसय': 5468, 'नल': 5469, 'परसतगहसय': 5470, 'सवचछत': 5471, 'दधनवनतदय': 5472, 'दगधज': 5473, 'मसनत': 5474, 'कमभ': 5475, 'परवशत': 5476, 'नरवचनरथ': 5477, 'यततम': 5478, 'हतमनपरवत': 5479, 'शवलङगकर': 5480, 'अपहरतन': 5481, 'वञचतव': 5482, 'फसफसकरण': 5483, 'अनषटशङक': 5484, 'लगन': 5485, 'तरकरणम': 5486, 'नशनध': 5487, 'वरचतन': 5488, 'सरयदय': 5489, 'पदम': 5490, 'फलल': 5491, 'असथमय': 5492, 'पदचछद': 5493, 'पदपरधनम': 5494, 'नतमहदय': 5495, 'गनधवदभ': 5496, 'वचर': 5497, 'परतयत': 5498, 'परचनन': 5499, 'कटयधश': 5500, 'रपयकसय': 5501, 'दवमखसय': 5502, 'सरपसय': 5503, 'हरद': 5504, 'वलसनत': 5505, 'बहवरषण': 5506, 'परयगणम': 5507, 'उतसहजनक': 5508, 'दवयटटलकमत': 5509, 'चनदन': 5510, 'आनतरयण': 5511, 'कककटयणडय': 5512, 'परहलक': 5513, 'नवदन': 5514, 'परसकतवन': 5515, 'कषमपररथ': 5516, 'कषनतवय': 5517, 'कषतगरसत': 5518, 'रजश': 5519, 'गरवत': 5520, 'परयसन': 5521, 'अपरतभ': 5522, 'परतभय': 5523, 'रषटरपतपद': 5524, 'आरकषकलयत': 5525, 'सपतसपतततम': 5526, 'भतसमबनधन': 5527, 'अजरम': 5528, 'सशल': 5529, 'सवसवभवन': 5530, 'चतत': 5531, 'अककटट': 5532, 'अधकरकत': 5533, 'सवतनतरय': 5534, 'नष': 5535, 'अयचतव': 5536, 'लबधवन': 5537, 'नशकनगर': 5538, 'दरकषण': 5539, 'आरकषणसयधकर': 5540, 'दलतवरग': 5541, 'सवधकर': 5542, 'सङघरषरत': 5543, 'उददशयहनत': 5544, 'अटस': 5545, 'वशवयदध': 5546, 'जपनदशसय': 5547, 'नगसक': 5548, 'हरशम': 5549, 'ईरषयहन': 5550, 'अपरवरतनय': 5551, 'ककनदरवयसय': 5552, 'दरगत': 5553, 'अपरशकषत': 5554, 'परशकषत': 5555, 'शवगह': 5556, 'रतनवल': 5557, 'तलसदस': 5558, 'तमसरयम': 5559, 'चटकर': 5560, 'असमजसयन': 5561, 'सहततवन': 5562, 'वयवहरनत': 5563, 'सपतवशत': 5564, 'नकषतरण': 5565, 'खलऽप': 5566, 'परमण': 5567, 'जय': 5568, 'करगहसरदध': 5569, 'अभयकत': 5570, 'कटकर': 5571, 'असतयम': 5572, 'अङगकतव': 5573, 'सवमतभम': 5574, 'समपरपय': 5575, 'करयलयम': 5576, 'अनशसनसललगनय': 5577, 'बहगभरतय': 5578, 'सवयङकलपत': 5579}\n",
            "23\n",
            "20\n",
            "23\n",
            "Data Preprocessed\n",
            "Max Input Language sentence length: 23\n",
            "Max Target Language sentence length: 20\n",
            "Input Language vocabulary size: 6395\n",
            "Target Language vocabulary size: 5579\n"
          ]
        }
      ],
      "source": [
        "#Removing x_tk and y_tk as word counter already present\n",
        "#preprocesses the data and returns the list of vector representations and dictionaries of both the input and target language\n",
        "def preprocess(x, y):\n",
        "    \"\"\"\n",
        "    Preprocess x and y\n",
        "    :param x: Feature List of sentences\n",
        "    :param y: Label List of sentences\n",
        "    :return: Tuple of (Preprocessed x, Preprocessed y, x tokenizer, y tokenizer)\n",
        "    \"\"\"\n",
        "    preprocess_x, input_language_dict =my_tokenizer(x)\n",
        "    preprocess_y, target_language_dict = my_tokenizer(y)\n",
        "    print(input_language_dict)\n",
        "    print(target_language_dict)\n",
        "    preprocess_x = pad(preprocess_x)\n",
        "    preprocess_y = pad(preprocess_y)\n",
        "\n",
        "    # Keras's sparse_categorical_crossentropy function requires the labels to be in 3 dimensions\n",
        "    preprocess_y = preprocess_y.reshape(*preprocess_y.shape, 1)\n",
        "\n",
        "    return preprocess_x, preprocess_y,input_language_dict,target_language_dict\n",
        "\n",
        "#preproc_input_language_sentences= vector representations(matrix) of input language\n",
        "#preproc_target_language_sent= vector representations of target language\n",
        "#input_language_tokenizer= input language dictionary\n",
        "#target_language_tokenizer=target language dictionary\n",
        "preproc_input_language_sentences, preproc_target_language_sent,input_language_tokenizer,target_language_tokenizer = preprocess(input_language_sent, target_language_sent)\n",
        "\n",
        "\n",
        "max_input_language_sequence_length = preproc_input_language_sentences.shape[1]\n",
        "max_target_language_sequence_length = preproc_target_language_sent.shape[1]\n",
        "input_language_vocab_size = len(input_language_words_counter)\n",
        "target_language_vocab_size = len(target_language_words_counter)\n",
        "max_length=max(max_input_language_sequence_length,max_target_language_sequence_length)\n",
        "print(max_length)\n",
        "print('Data Preprocessed')\n",
        "print(\"Max Input Language sentence length:\", max_input_language_sequence_length)\n",
        "print(\"Max Target Language sentence length:\", max_target_language_sequence_length)\n",
        "print(\"Input Language vocabulary size:\", input_language_vocab_size)\n",
        "print(\"Target Language vocabulary size:\", target_language_vocab_size)"
      ]
    },
    {
      "cell_type": "markdown",
      "metadata": {
        "id": "AnH3r-vh8mEc"
      },
      "source": [
        "## Models\n",
        "- Model 1 is a simple RNN\n",
        "- Model 2 is a RNN with Embedding\n",
        "- Model 3 is a Bidirectional RNN\n",
        "- Model 4 is an Encoder-Decoder RNN\n",
        "\n",
        "\n",
        "### Ids Back to Text\n",
        "The neural network will be translating the input to words ids, which isn't the final form we want. The function `logits_to_text` will bridge the gab between the logits from the neural network to the required translation.  "
      ]
    },
    {
      "cell_type": "code",
      "execution_count": null,
      "metadata": {
        "id": "O3B0UheZ8mEe",
        "outputId": "fb939a49-4a5c-44ae-f846-10d7e012e97d",
        "colab": {
          "base_uri": "https://localhost:8080/"
        }
      },
      "outputs": [
        {
          "output_type": "stream",
          "name": "stdout",
          "text": [
            "`logits_to_text` function loaded.\n"
          ]
        }
      ],
      "source": [
        "def logits_to_text(logits, tokenizer):\n",
        "    \"\"\"\n",
        "    Turn logits from a neural network into text using the tokenizer\n",
        "    :param logits: Logits from a neural network\n",
        "    :param tokenizer: Keras Tokenizer fit on the labels\n",
        "    :return: String that represents the text of the logits\n",
        "    \"\"\"\n",
        "    #changed from tokenizer.word_index.items to tokenizer.items() coz tokenizer here is a dictionary and not keras tokenizer object\n",
        "    index_to_words = {id: word for word, id in tokenizer.items()}\n",
        "    index_to_words[0] = ''\n",
        "    #print(\"logits:\",logits)\n",
        "\n",
        "    return ' '.join([index_to_words[prediction] for prediction in np.argmax(logits, 1)])\n",
        "\n",
        "print('`logits_to_text` function loaded.')"
      ]
    },
    {
      "cell_type": "markdown",
      "metadata": {
        "id": "g3BwJMG98mEf"
      },
      "source": [
        "### Model 1: Simple RNN"
      ]
    },
    {
      "cell_type": "code",
      "execution_count": null,
      "metadata": {
        "id": "LlArnEbe8mEg",
        "outputId": "49d90008-0237-49ab-a160-524f9a395ba1",
        "colab": {
          "base_uri": "https://localhost:8080/"
        }
      },
      "outputs": [
        {
          "output_type": "stream",
          "name": "stdout",
          "text": [
            "Model: \"model_5\"\n",
            "_________________________________________________________________\n",
            " Layer (type)                Output Shape              Param #   \n",
            "=================================================================\n",
            " input_6 (InputLayer)        [(None, 23, 1)]           0         \n",
            "                                                                 \n",
            " gru_5 (GRU)                 (None, 23, 64)            12864     \n",
            "                                                                 \n",
            " time_distributed_5 (TimeDis  (None, 23, 5580)         362700    \n",
            " tributed)                                                       \n",
            "                                                                 \n",
            " activation_5 (Activation)   (None, 23, 5580)          0         \n",
            "                                                                 \n",
            "=================================================================\n",
            "Total params: 375,564\n",
            "Trainable params: 375,564\n",
            "Non-trainable params: 0\n",
            "_________________________________________________________________\n",
            "Epoch 1/4\n",
            "8/8 [==============================] - 27s 3s/step - loss: 8.5248 - accuracy: 0.6334 - val_loss: 8.3192 - val_accuracy: 0.8215\n",
            "Epoch 2/4\n",
            "8/8 [==============================] - 24s 3s/step - loss: 7.9679 - accuracy: 0.8137 - val_loss: 6.9596 - val_accuracy: 0.8002\n",
            "Epoch 3/4\n",
            "8/8 [==============================] - 24s 3s/step - loss: 5.9331 - accuracy: 0.7999 - val_loss: 4.6132 - val_accuracy: 0.8017\n",
            "Epoch 4/4\n",
            "8/8 [==============================] - 25s 3s/step - loss: 3.8147 - accuracy: 0.8220 - val_loss: 2.7215 - val_accuracy: 0.8299\n"
          ]
        },
        {
          "output_type": "execute_result",
          "data": {
            "text/plain": [
              "<keras.callbacks.History at 0x7fc60c131e90>"
            ]
          },
          "metadata": {},
          "execution_count": 30
        }
      ],
      "source": [
        "def simple_model(input_shape, output_sequence_length, input_language_vocab_size, target_language_vocab_size):\n",
        "    \"\"\"\n",
        "    Build and train a basic RNN on x and y\n",
        "    :param input_shape: Tuple of input shape\n",
        "    :param output_sequence_length: Length of output sequence\n",
        "    :param input_language_vocab_size: Number of unique input language words in the dataset\n",
        "    :param target_language_vocab_size: Number of unique target language words in the dataset\n",
        "    :return: Keras model built, but not trained\n",
        "    \"\"\"\n",
        "    # TODO: Build the layers\n",
        "    learning_rate=2e-3\n",
        "    input_seq= Input(input_shape[1:])\n",
        "    rnn=GRU(64, return_sequences=True)(input_seq)\n",
        "    logits = TimeDistributed(Dense(target_language_vocab_size+1))(rnn)\n",
        "\n",
        "    model = Model(input_seq, Activation('softmax')(logits))\n",
        "    model.compile(loss=sparse_categorical_crossentropy,\n",
        "                  optimizer=Adam(learning_rate),\n",
        "                  metrics=['accuracy'])\n",
        "    model.summary()\n",
        "    return model\n",
        "#tests.test_simple_model(simple_model)\n",
        "\n",
        "# Reshaping the input to work with a basic RNN\n",
        "tmp_x = pad(preproc_input_language_sentences, max_length)\n",
        "tmp_x = tmp_x.reshape((-1, max_length, 1))\n",
        "preproc_target_language_sent = pad(preproc_target_language_sent, max_length)\n",
        "\n",
        "\n",
        "# Train the neural network\n",
        "simple_rnn_model = simple_model(\n",
        "    tmp_x.shape,\n",
        "    max_length,\n",
        "    input_language_vocab_size,\n",
        "    target_language_vocab_size)\n",
        "simple_rnn_model.fit(tmp_x, preproc_target_language_sent, batch_size=1024, epochs=4, validation_split=0.2)\n",
        "\n",
        "# Print prediction(s)\n",
        "#print(tmp_x[:1])[0])\n",
        "#print(logits_to_text(simple_rnn_model.predict(tmp_x[:1])[0], target_language_tokenizer))"
      ]
    },
    {
      "cell_type": "code",
      "source": [
        "# Print prediction(s)\n",
        "#print(tmp_x[:,:,0])\n",
        "#print(logits_to_text(simple_rnn_model.predict(tmp_x[:1])[0], target_language_tokenizer))\n",
        "\n",
        "temp = simple_rnn_model.predict(tmp_x[1:2])\n",
        "#print(temp.shape)\n",
        "print(logits_to_text(temp[0], target_language_tokenizer))"
      ],
      "metadata": {
        "colab": {
          "base_uri": "https://localhost:8080/"
        },
        "id": "tHySSGTgsP91",
        "outputId": "059a0dae-8b98-494c-f2f8-efa08ca60304"
      },
      "execution_count": null,
      "outputs": [
        {
          "output_type": "stream",
          "name": "stdout",
          "text": [
            "                      \n"
          ]
        }
      ]
    },
    {
      "cell_type": "code",
      "source": [
        "np.argmax(temp)"
      ],
      "metadata": {
        "colab": {
          "base_uri": "https://localhost:8080/"
        },
        "id": "3HnyYH4RmvKv",
        "outputId": "9e78ae95-024f-4f86-c4e0-1db57d07a472"
      },
      "execution_count": null,
      "outputs": [
        {
          "output_type": "execute_result",
          "data": {
            "text/plain": [
              "array([[ 4,  2,  2, ..., 22, 22, 22]])"
            ]
          },
          "metadata": {},
          "execution_count": 92
        }
      ]
    },
    {
      "cell_type": "code",
      "source": [
        "np.argmax(temp[0,:,:],1)"
      ],
      "metadata": {
        "colab": {
          "base_uri": "https://localhost:8080/"
        },
        "id": "yNdd6TH_gyP3",
        "outputId": "8581fec1-a78d-40eb-b078-30c48640fdb7"
      },
      "execution_count": null,
      "outputs": [
        {
          "output_type": "execute_result",
          "data": {
            "text/plain": [
              "array([21, 21, 21,  0,  0,  0,  0,  0,  0,  0,  0,  0,  0,  0,  0,  0,  0,\n",
              "        0,  0,  0,  0,  0,  0])"
            ]
          },
          "metadata": {},
          "execution_count": 81
        }
      ]
    },
    {
      "cell_type": "code",
      "execution_count": null,
      "metadata": {
        "id": "XtfsVZ178mEi"
      },
      "outputs": [],
      "source": [
        "print(logits_to_text(simple_rnn_model.predict(tmp_x[:2])[1], tokenizer))\n"
      ]
    },
    {
      "cell_type": "code",
      "execution_count": null,
      "metadata": {
        "id": "lZ7K0ttS8mEk"
      },
      "outputs": [],
      "source": [
        "print(logits_to_text(simple_rnn_model.predict(tmp_x[:3])[2], tokenizer))"
      ]
    },
    {
      "cell_type": "code",
      "execution_count": null,
      "metadata": {
        "id": "bfLwpy698mEk"
      },
      "outputs": [],
      "source": [
        "print(logits_to_text(simple_rnn_model.predict(tmp_x[:3])[2], tokenizer))"
      ]
    },
    {
      "cell_type": "markdown",
      "metadata": {
        "id": "NU3Gc9sq8mEl"
      },
      "source": [
        "### Model 2: Embedding\n",
        " RNN model using embedding."
      ]
    },
    {
      "cell_type": "code",
      "execution_count": null,
      "metadata": {
        "scrolled": true,
        "id": "mIhJfMjY8mEl"
      },
      "outputs": [],
      "source": [
        "\n",
        "def embed_model(input_shape, output_sequence_length, input_vocab_size, target_vocab_size):\n",
        "    \"\"\"\n",
        "    Build and train a RNN model using word embedding on x and y\n",
        "    :param input_shape: Tuple of input shape\n",
        "    :param output_sequence_length: Length of output sequence\n",
        "    :param input_vocab_size: Number of unique target language words in the dataset\n",
        "    :param target_vocab_size: Number of unique target language words in the dataset\n",
        "    :return: Keras model built, but not trained\n",
        "    \"\"\"\n",
        "    batch = 256\n",
        "    learning_rate = 2e-3\n",
        "\n",
        "\n",
        "    rnn = GRU(batch, return_sequences=True)\n",
        "    print(input_shape[1])\n",
        "    embedding=Embedding(input_vocab_size, batch, input_length=input_shape[1])\n",
        "    logits = TimeDistributed(Dense(target_vocab_size, activation='softmax'))\n",
        "\n",
        "    model = Sequential()\n",
        "    model.add(embedding)\n",
        "    model.add(rnn)\n",
        "    model.add(logits)\n",
        "    model.compile(loss=sparse_categorical_crossentropy,\n",
        "                  optimizer=Adam(learning_rate),\n",
        "                  metrics=['accuracy'])\n",
        "\n",
        "\n",
        "    # TODO: Implement\n",
        "    return model\n",
        "tests.test_embed_model(embed_model)\n",
        "\n",
        "\n",
        "# TODO: Reshape the input\n",
        "tmp_x = pad(preproc_input_sentences, max_input_sequence_length)\n",
        "tmp_x = tmp_x.reshape((-1, preproc_san_sent.shape[-2]))\n",
        "print(tmp_x.shape)\n",
        "\n",
        "\n",
        "# TODO: Train the neural network\n",
        "model_with_embdding= embed_model(tmp_x.shape, max_target_sequence_length, input_vocab_size, target_vocab_size)\n",
        "model_with_embdding.fit(tmp_x, preproc_san_sent, batch_size=1024, epochs=10, validation_split=0.2)\n",
        "\n",
        "# TODO: Print prediction(s)\n",
        "print(logits_to_text(model_with_embdding.predict(tmp_x[:1])[0], tokenizer))"
      ]
    },
    {
      "cell_type": "code",
      "execution_count": null,
      "metadata": {
        "id": "HPbu_zR58mEn"
      },
      "outputs": [],
      "source": [
        "print(logits_to_text(model_with_embdding.predict(tmp_x[:2])[1], tokenizer))"
      ]
    },
    {
      "cell_type": "code",
      "execution_count": null,
      "metadata": {
        "id": "iZdm5IBA8mEn"
      },
      "outputs": [],
      "source": [
        "print(\"batch 256: \"+logits_to_text(model_with_embdding.predict(tmp_x[:2])[1], tokenizer))"
      ]
    },
    {
      "cell_type": "code",
      "execution_count": null,
      "metadata": {
        "id": "YUnqLuOg8mEo"
      },
      "outputs": [],
      "source": [
        "print(logits_to_text(model_with_embdding.predict(tmp_x[:3])[2], tokenizer))"
      ]
    },
    {
      "cell_type": "code",
      "execution_count": null,
      "metadata": {
        "id": "n6ngAkwY8mEp"
      },
      "outputs": [],
      "source": [
        "print(\"batch 256: \"+logits_to_text(model_with_embdding.predict(tmp_x[:3])[2], tokenizer))"
      ]
    },
    {
      "cell_type": "code",
      "execution_count": null,
      "metadata": {
        "id": "qpLDTYmo8mEp"
      },
      "outputs": [],
      "source": [
        "print(logits_to_text(model_with_embdding.predict(tmp_x[:2])[1], tokenizer))"
      ]
    },
    {
      "cell_type": "code",
      "execution_count": null,
      "metadata": {
        "id": "RHbTOm_Y8mEq"
      },
      "outputs": [],
      "source": [
        "print(model_with_embdding.summary())"
      ]
    },
    {
      "cell_type": "markdown",
      "metadata": {
        "id": "mhPXx45F8mEq"
      },
      "source": [
        "### Model 3: Bidirectional RNNs"
      ]
    },
    {
      "cell_type": "code",
      "execution_count": null,
      "metadata": {
        "scrolled": true,
        "id": "X3POBI0D8mEr"
      },
      "outputs": [],
      "source": [
        "def bd_model(input_shape, output_sequence_length, input_vocab_size, target_vocab_size):\n",
        "    \"\"\"\n",
        "    Build and train a bidirectional RNN model on x and y\n",
        "    :param input_shape: Tuple of input shape\n",
        "    :param output_sequence_length: Length of output sequence\n",
        "    :param input_vocab_size: Number of unique input language words in the dataset\n",
        "    :param target_vocab_size: Number of unique target language words in the dataset\n",
        "    :return: Keras model built, but not trained\n",
        "    \"\"\"\n",
        "    batch = 256\n",
        "    learning_rate = 1e-3\n",
        "\n",
        "    rnn = GRU(batch, return_sequences=True, dropout=0.001)\n",
        "    bidirectional=Bidirectional(rnn, input_shape = input_shape[1:])\n",
        "    logits = TimeDistributed(Dense(target_vocab_size, activation='softmax'))\n",
        "\n",
        "    model = Sequential()\n",
        "    model.add(bidirectional)\n",
        "    model.add(logits)\n",
        "    model.compile(loss='sparse_categorical_crossentropy',\n",
        "                  optimizer=Adam(learning_rate),\n",
        "                  metrics=['accuracy'])\n",
        "\n",
        "    return model\n",
        "tests.test_bd_model(bd_model)\n",
        "#print('tested')\n",
        "\n",
        "\n",
        "# TODO: Reshape the input\n",
        "#print(preproc_san_sent.shape[1])\n",
        "tmp_x = pad(preproc_input_sentences, preproc_san_sent.shape[1])\n",
        "tmp_x = tmp_x.reshape((-1, preproc_san_sent.shape[-2], 1))\n",
        "\n",
        "\n",
        "# TODO: Train the neural network\n",
        "bidirectional_model= bd_model(tmp_x.shape, preproc_san_sent.shape[1], input_vocab_size, target_vocab_size)\n",
        "bidirectional_model.fit(tmp_x, preproc_san_sent, batch_size=512, epochs=10, validation_split=0.2)\n",
        "\n"
      ]
    },
    {
      "cell_type": "code",
      "execution_count": null,
      "metadata": {
        "scrolled": true,
        "id": "KS6iN2B48mEs"
      },
      "outputs": [],
      "source": [
        "\n",
        "print(\"batch 256, 10 epochs accuracy 0.70: \"+logits_to_text(bidirectional_model.predict(tmp_x[:1])[0], target_tokenizer))"
      ]
    },
    {
      "cell_type": "code",
      "execution_count": null,
      "metadata": {
        "id": "DZp_gcdM8mEt"
      },
      "outputs": [],
      "source": [
        "print(\"batch 256, 15 epochs accuracy 0.7206 : \"+logits_to_text(bidirectional_model.predict(tmp_x[:1])[0], target_tokenizer))"
      ]
    },
    {
      "cell_type": "code",
      "execution_count": null,
      "metadata": {
        "id": "4LTkukuN8mEt"
      },
      "outputs": [],
      "source": [
        "print(\"batch 256, dropout 0.0, 25 epochs accuracy 0.8319: \"+logits_to_text(bidirectional_model.predict(tmp_x[:1])[0], target_tokenizer))"
      ]
    },
    {
      "cell_type": "code",
      "execution_count": null,
      "metadata": {
        "id": "XtsySaPS8mEu"
      },
      "outputs": [],
      "source": [
        "print(\"batch 256, LSTM, learningrate 1e-3, dropout 0.01, 10 epochs accuracy batchsize 512 0.7846: \"+logits_to_text(bidirectional_model.predict(tmp_x[:1])[0], target_tokenizer))"
      ]
    },
    {
      "cell_type": "code",
      "execution_count": null,
      "metadata": {
        "id": "8r9POCYt8mEu"
      },
      "outputs": [],
      "source": [
        "print(\"batch 256, LSTM, learningrate 1e-3, dropout 0, 20 epochs accuracy batchsize 512 0.8034: \"+logits_to_text(bidirectional_model.predict(tmp_x[:1])[0], target_tokenizer))"
      ]
    },
    {
      "cell_type": "markdown",
      "metadata": {
        "id": "eCphwQqE8mEu"
      },
      "source": [
        "### Model 4: Encoder-Decoder (OPTIONAL)\n",
        " The encoder creates a matrix representation of the sentence.  The decoder takes this matrix as input and predicts the translation as output.\n"
      ]
    },
    {
      "cell_type": "code",
      "execution_count": null,
      "metadata": {
        "id": "TlGwwQ0F8mEv"
      },
      "outputs": [],
      "source": [
        "def encdec_model(input_shape, output_sequence_length, input_vocab_size, target_vocab_size):\n",
        "    \"\"\"\n",
        "    Build and train an encoder-decoder model on x and y\n",
        "    :param input_shape: Tuple of input shape\n",
        "    :param output_sequence_length: Length of output sequence\n",
        "    :param input_vocab_size: Number of unique input language words in the dataset\n",
        "    :param target_vocab_size: Number of unique target language words in the dataset\n",
        "    :return: Keras model built, but not trained\n",
        "    \"\"\"\n",
        "    batch = 256\n",
        "    learning_rate = 3e-3\n",
        "\n",
        "    rnn = LSTM(batch, return_sequences=True, dropout=0.01)\n",
        "    repeatVector=RepeatVector(output_sequence_length)\n",
        "    logits = TimeDistributed(Dense(target_vocab_size, activation='softmax'))\n",
        "\n",
        "    model = Sequential()\n",
        "    model.add(LSTM(batch, input_shape = input_shape[1:]))\n",
        "    model.add(repeatVector)\n",
        "    model.add(rnn)\n",
        "    model.add(logits)\n",
        "    model.compile(loss='sparse_categorical_crossentropy',\n",
        "                  optimizer=Adam(learning_rate),\n",
        "                  metrics=['accuracy'])\n",
        "\n",
        "    return model\n",
        "# OPTIONAL: Implement\n",
        "tests.test_encdec_model(encdec_model)\n",
        "print('tested')\n",
        "\n",
        "\n",
        "# TODO: Reshape the input\n",
        "\n",
        "tmp_x = pad(preproc_input_sentences, preproc_san_sent.shape[1])\n",
        "tmp_x = tmp_x.reshape((-1, preproc_san_sent.shape[-2], 1))\n",
        "\n",
        "\n",
        "# TODO: Train the neural network\n",
        "encdec_model= encdec_model(tmp_x.shape, preproc_san_sent.shape[1], input_vocab_size, target_vocab_size)\n",
        "encdec_model.fit(tmp_x, preproc_san_sent, batch_size=1024, epochs=20, validation_split=0.2)\n",
        "\n"
      ]
    },
    {
      "cell_type": "code",
      "execution_count": null,
      "metadata": {
        "id": "oi7GKeef8mEv"
      },
      "outputs": [],
      "source": [
        "print(\"batch 256,  learningrate 1e-2, 20 epochs accuracy 0.6787: \"+logits_to_text(encdec_model.predict(tmp_x[:1])[0], target_tokenizer))"
      ]
    },
    {
      "cell_type": "code",
      "execution_count": null,
      "metadata": {
        "id": "98EzwizA8mEv"
      },
      "outputs": [],
      "source": [
        "print(\"batch 256,  learningrate 3e-3, 30 epochs accuracy 0.8119: \"+logits_to_text(encdec_model.predict(tmp_x[:1])[0], target_tokenizer))"
      ]
    },
    {
      "cell_type": "code",
      "execution_count": null,
      "metadata": {
        "id": "0wgOp21u8mEw"
      },
      "outputs": [],
      "source": [
        "print(\"batch 256,  learningrate 3e-3, 50 epochs accuracy 0.8461: \"+logits_to_text(encdec_model.predict(tmp_x[:1])[0], target_tokenizer))"
      ]
    },
    {
      "cell_type": "code",
      "execution_count": null,
      "metadata": {
        "id": "PkUAdoLp8mEw"
      },
      "outputs": [],
      "source": [
        "print(\"batch 256,  LSTM, learningrate 3e-3, 20 epochs, batch size 512, accuracy 0.7114: \"+logits_to_text(encdec_model.predict(tmp_x[:1])[0], target_tokenizer))"
      ]
    },
    {
      "cell_type": "markdown",
      "metadata": {
        "id": "sZ_iNqmC8mEx"
      },
      "source": [
        "### Model 5: Bidirectional RNN with embeddings\n"
      ]
    },
    {
      "cell_type": "code",
      "execution_count": null,
      "metadata": {
        "id": "Nr93l1H78mEx"
      },
      "outputs": [],
      "source": [
        "def model_final(input_shape, output_sequence_length, input_vocab_size, target_vocab_size):\n",
        "    \"\"\"\n",
        "    Build and train a model that incorporates embedding, encoder-decoder, and bidirectional RNN on x and y\n",
        "    :param input_shape: Tuple of input shape\n",
        "    :param output_sequence_length: Length of output sequence\n",
        "    :param input_vocab_size: Number of unique input langauge words in the dataset\n",
        "    :param target_vocab_size: Number of unique target language words in the dataset\n",
        "    :return: Keras model built, but not trained\n",
        "    \"\"\"\n",
        "    units = 256\n",
        "    learning_rate = 6e-3\n",
        "    embedding=Embedding(input_vocab_size, units, input_length=input_shape[1])\n",
        "    rnn = LSTM(units)\n",
        "    rnn2 = LSTM(units, return_sequences=True)\n",
        "    #print(input_shape[1])\n",
        "    bidirectional=Bidirectional(rnn)\n",
        "    bidirectional2=Bidirectional(rnn2)\n",
        "    repeatVector=RepeatVector(output_sequence_length)\n",
        "    logits = TimeDistributed(Dense(target_vocab_size, activation='softmax'))\n",
        "\n",
        "    model = Sequential()\n",
        "    model.add(embedding)\n",
        "    model.add(bidirectional)\n",
        "    model.add(repeatVector)\n",
        "    model.add(rnn2)\n",
        "    model.add(logits)\n",
        "    model.compile(loss=sparse_categorical_crossentropy,\n",
        "                  optimizer=Adam(learning_rate),\n",
        "                  metrics=['accuracy'])\n",
        "    # TODO: Implement\n",
        "    print(model.summary())\n",
        "    #plot_model(model, to_file='model.png', show_shapes=True)\n",
        "    return model\n",
        "tests.test_model_final(model_final)\n",
        "\n",
        "\n",
        "print('Final Model Loaded')\n",
        "\n",
        "\n"
      ]
    },
    {
      "cell_type": "markdown",
      "metadata": {
        "id": "szc9hopX8mEx"
      },
      "source": [
        "## Prediction (IMPLEMENTATION)"
      ]
    },
    {
      "cell_type": "code",
      "execution_count": null,
      "metadata": {
        "id": "gRUYracf8mEx"
      },
      "outputs": [],
      "source": [
        "def final_predictions(x, y, x_tk, y_tk):\n",
        "    \"\"\"\n",
        "    Gets predictions using the final model\n",
        "    :param x: Preprocessed input data\n",
        "    :param y: Preprocessed target data\n",
        "    :param x_tk: input tokenizer\n",
        "    :param y_tk: target tokenizer\n",
        "    \"\"\"\n",
        "\n",
        "    # TODO: Train neural network using model_final\n",
        "    tmp_x = pad(preproc_input_sentences)\n",
        "    print(tmp_x.shape)\n",
        "    print(preproc_san_sent.shape[1])\n",
        "\n",
        "    model= model_final(tmp_x.shape, preproc_san_sent.shape[1], input_vocab_size, target_vocab_size)\n",
        "    model.fit(tmp_x, preproc_san_sent, batch_size=1024, epochs=10, validation_split=0.2)\n",
        "\n",
        "\n",
        "    ## DON'T EDIT ANYTHING BELOW THIS LINE\n",
        "    y_id_to_word = {value: key for key, value in y_tk.word_index.items()}\n",
        "    y_id_to_word[0] = '<PAD>'\n",
        "\n",
        "    sentence = [x_tk.word_index[word] for word in sentence.split()]\n",
        "    sentence = pad_sequences([sentence], maxlen=x.shape[-1], padding='post')\n",
        "    sentences = np.array([sentence[0], x[0]])\n",
        "    predictions = model.predict(sentences, len(sentences))\n",
        "\n",
        "    print('Sample 1:')\n",
        "    print(' '.join([y_id_to_word[np.argmax(x)] for x in predictions[0]]))\n",
        "    print('Sample 2:')\n",
        "    print(' '.join([y_id_to_word[np.argmax(x)] for x in predictions[1]]))\n",
        "    print(' '.join([y_id_to_word[np.max(x)] for x in y[0]]))\n",
        "\n",
        "\n",
        "final_predictions(preproc_input_sentences, preproc_san_sent, input_tokenizer, target_tokenizer)"
      ]
    }
  ],
  "metadata": {
    "kernelspec": {
      "display_name": "Python 3",
      "language": "python",
      "name": "python3"
    },
    "language_info": {
      "codemirror_mode": {
        "name": "ipython",
        "version": 3
      },
      "file_extension": ".py",
      "mimetype": "text/x-python",
      "name": "python",
      "nbconvert_exporter": "python",
      "pygments_lexer": "ipython3",
      "version": "3.6.3"
    },
    "colab": {
      "provenance": []
    }
  },
  "nbformat": 4,
  "nbformat_minor": 0
}